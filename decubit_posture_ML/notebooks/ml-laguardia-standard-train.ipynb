{
 "cells": [
  {
   "cell_type": "code",
   "execution_count": 106,
   "metadata": {},
   "outputs": [],
   "source": [
    "import json\n",
    "import numpy as np\n",
    "import pandas as pd\n",
    "import plotly.express as px\n",
    "import tensorflow as tf\n",
    "from sklearn.model_selection import KFold\n",
    "from sklearn.model_selection import train_test_split\n",
    "from tensorflow import keras\n",
    "from tensorflow.keras import layers"
   ]
  },
  {
   "cell_type": "markdown",
   "metadata": {},
   "source": [
    "---\n",
    "### Load the dataset and split train test split\n",
    "---"
   ]
  },
  {
   "cell_type": "code",
   "execution_count": 107,
   "metadata": {},
   "outputs": [
    {
     "data": {
      "text/html": [
       "<div>\n",
       "<style scoped>\n",
       "    .dataframe tbody tr th:only-of-type {\n",
       "        vertical-align: middle;\n",
       "    }\n",
       "\n",
       "    .dataframe tbody tr th {\n",
       "        vertical-align: top;\n",
       "    }\n",
       "\n",
       "    .dataframe thead th {\n",
       "        text-align: right;\n",
       "    }\n",
       "</style>\n",
       "<table border=\"1\" class=\"dataframe\">\n",
       "  <thead>\n",
       "    <tr style=\"text-align: right;\">\n",
       "      <th></th>\n",
       "      <th>posture</th>\n",
       "      <th>reading</th>\n",
       "    </tr>\n",
       "  </thead>\n",
       "  <tbody>\n",
       "    <tr>\n",
       "      <th>0</th>\n",
       "      <td>back</td>\n",
       "      <td>[[23.64, 23.91, 23.95, 23.82, 24.64, 24.24, 25...</td>\n",
       "    </tr>\n",
       "    <tr>\n",
       "      <th>1</th>\n",
       "      <td>back</td>\n",
       "      <td>[[24.09, 24.33, 24.21, 24.42, 25.24, 24.97, 25...</td>\n",
       "    </tr>\n",
       "    <tr>\n",
       "      <th>2</th>\n",
       "      <td>back</td>\n",
       "      <td>[[24.92, 24.97, 25.39, 25.1, 26.22, 26.13, 26....</td>\n",
       "    </tr>\n",
       "    <tr>\n",
       "      <th>3</th>\n",
       "      <td>back</td>\n",
       "      <td>[[26.39, 25.85, 26.58, 26.84, 27.47, 27.24, 27...</td>\n",
       "    </tr>\n",
       "    <tr>\n",
       "      <th>4</th>\n",
       "      <td>back</td>\n",
       "      <td>[[25.03, 24.98, 24.68, 24.7, 25.71, 25.73, 25....</td>\n",
       "    </tr>\n",
       "    <tr>\n",
       "      <th>...</th>\n",
       "      <td>...</td>\n",
       "      <td>...</td>\n",
       "    </tr>\n",
       "    <tr>\n",
       "      <th>130</th>\n",
       "      <td>right</td>\n",
       "      <td>[[27.13, 27.07, 26.8, 26.85, 27.21, 27.09, 27....</td>\n",
       "    </tr>\n",
       "    <tr>\n",
       "      <th>131</th>\n",
       "      <td>right</td>\n",
       "      <td>[[25.14, 24.98, 24.59, 24.21, 24.92, 24.76, 24...</td>\n",
       "    </tr>\n",
       "    <tr>\n",
       "      <th>132</th>\n",
       "      <td>right</td>\n",
       "      <td>[[26.7, 26.03, 26.56, 26.78, 27.44, 27.94, 29....</td>\n",
       "    </tr>\n",
       "    <tr>\n",
       "      <th>133</th>\n",
       "      <td>right</td>\n",
       "      <td>[[25.79, 25.46, 25.55, 25.45, 26.07, 26.3, 26....</td>\n",
       "    </tr>\n",
       "    <tr>\n",
       "      <th>134</th>\n",
       "      <td>right</td>\n",
       "      <td>[[25.75, 25.39, 25.08, 25.52, 26.28, 26.02, 26...</td>\n",
       "    </tr>\n",
       "  </tbody>\n",
       "</table>\n",
       "<p>135 rows × 2 columns</p>\n",
       "</div>"
      ],
      "text/plain": [
       "    posture                                            reading\n",
       "0      back  [[23.64, 23.91, 23.95, 23.82, 24.64, 24.24, 25...\n",
       "1      back  [[24.09, 24.33, 24.21, 24.42, 25.24, 24.97, 25...\n",
       "2      back  [[24.92, 24.97, 25.39, 25.1, 26.22, 26.13, 26....\n",
       "3      back  [[26.39, 25.85, 26.58, 26.84, 27.47, 27.24, 27...\n",
       "4      back  [[25.03, 24.98, 24.68, 24.7, 25.71, 25.73, 25....\n",
       "..      ...                                                ...\n",
       "130   right  [[27.13, 27.07, 26.8, 26.85, 27.21, 27.09, 27....\n",
       "131   right  [[25.14, 24.98, 24.59, 24.21, 24.92, 24.76, 24...\n",
       "132   right  [[26.7, 26.03, 26.56, 26.78, 27.44, 27.94, 29....\n",
       "133   right  [[25.79, 25.46, 25.55, 25.45, 26.07, 26.3, 26....\n",
       "134   right  [[25.75, 25.39, 25.08, 25.52, 26.28, 26.02, 26...\n",
       "\n",
       "[135 rows x 2 columns]"
      ]
     },
     "execution_count": 107,
     "metadata": {},
     "output_type": "execute_result"
    }
   ],
   "source": [
    "# Load the data\n",
    "with open('../data/curated-data-train.json') as f:\n",
    "    data_train = json.load(f)\n",
    "df_train = pd.DataFrame(data_train).T\n",
    "# Filter dataframe to only include the columns we want\n",
    "df_train = df_train[['back', 'left', 'right']]\n",
    "# Separate the three data into the same label\n",
    "for i in range(3):\n",
    "    for pose in ['back', 'left', 'right']:\n",
    "        df_train[f'{pose}_{i}'] = df_train[pose].apply(lambda x: x[i])\n",
    "# Drop the original columns\n",
    "df_train = df_train.drop(columns=['back', 'left', 'right'])\n",
    "# Expand the data into a single column\n",
    "df_train = df_train.melt()\n",
    "# Rename the 'variable' values to only include the pose\n",
    "df_train['variable'] = df_train['variable'].apply(lambda x: x.split('_')[0])\n",
    "# Rename the columns\n",
    "df_train.columns = ['posture', 'reading']\n",
    "df_train"
   ]
  },
  {
   "cell_type": "code",
   "execution_count": 108,
   "metadata": {},
   "outputs": [
    {
     "data": {
      "text/html": [
       "<div>\n",
       "<style scoped>\n",
       "    .dataframe tbody tr th:only-of-type {\n",
       "        vertical-align: middle;\n",
       "    }\n",
       "\n",
       "    .dataframe tbody tr th {\n",
       "        vertical-align: top;\n",
       "    }\n",
       "\n",
       "    .dataframe thead th {\n",
       "        text-align: right;\n",
       "    }\n",
       "</style>\n",
       "<table border=\"1\" class=\"dataframe\">\n",
       "  <thead>\n",
       "    <tr style=\"text-align: right;\">\n",
       "      <th></th>\n",
       "      <th>posture</th>\n",
       "      <th>reading</th>\n",
       "    </tr>\n",
       "  </thead>\n",
       "  <tbody>\n",
       "    <tr>\n",
       "      <th>0</th>\n",
       "      <td>back</td>\n",
       "      <td>[[24.34, 24.45, 24.23, 24.19, 24.62, 24.79, 25...</td>\n",
       "    </tr>\n",
       "    <tr>\n",
       "      <th>1</th>\n",
       "      <td>back</td>\n",
       "      <td>[[23.11, 23.47, 23.46, 23.26, 24.27, 24.1, 24....</td>\n",
       "    </tr>\n",
       "    <tr>\n",
       "      <th>2</th>\n",
       "      <td>back</td>\n",
       "      <td>[[23.27, 23.49, 23.71, 23.37, 24.37, 24.4, 25....</td>\n",
       "    </tr>\n",
       "    <tr>\n",
       "      <th>3</th>\n",
       "      <td>back</td>\n",
       "      <td>[[24.16, 23.52, 24.36, 23.67, 24.85, 24.1, 24....</td>\n",
       "    </tr>\n",
       "    <tr>\n",
       "      <th>4</th>\n",
       "      <td>back</td>\n",
       "      <td>[[23.32, 22.9, 23.3, 22.98, 23.96, 23.38, 24.0...</td>\n",
       "    </tr>\n",
       "    <tr>\n",
       "      <th>5</th>\n",
       "      <td>back</td>\n",
       "      <td>[[23.54, 23.49, 23.61, 23.61, 24.31, 24.02, 24...</td>\n",
       "    </tr>\n",
       "    <tr>\n",
       "      <th>6</th>\n",
       "      <td>left</td>\n",
       "      <td>[[24.7, 24.91, 24.82, 25.03, 25.87, 25.74, 26....</td>\n",
       "    </tr>\n",
       "    <tr>\n",
       "      <th>7</th>\n",
       "      <td>left</td>\n",
       "      <td>[[24.58, 24.69, 24.5, 24.67, 25.32, 25.48, 25....</td>\n",
       "    </tr>\n",
       "    <tr>\n",
       "      <th>8</th>\n",
       "      <td>left</td>\n",
       "      <td>[[24.24, 24.3, 24.77, 24.63, 25.62, 25.5, 25.7...</td>\n",
       "    </tr>\n",
       "    <tr>\n",
       "      <th>9</th>\n",
       "      <td>left</td>\n",
       "      <td>[[24.72, 24.98, 24.88, 24.58, 25.76, 25.67, 25...</td>\n",
       "    </tr>\n",
       "    <tr>\n",
       "      <th>10</th>\n",
       "      <td>left</td>\n",
       "      <td>[[24.4, 24.7, 24.73, 24.52, 25.5, 25.51, 26.13...</td>\n",
       "    </tr>\n",
       "    <tr>\n",
       "      <th>11</th>\n",
       "      <td>left</td>\n",
       "      <td>[[23.84, 24.19, 23.96, 23.72, 25.0, 24.78, 24....</td>\n",
       "    </tr>\n",
       "    <tr>\n",
       "      <th>12</th>\n",
       "      <td>right</td>\n",
       "      <td>[[24.95, 24.73, 24.88, 24.73, 24.96, 25.17, 25...</td>\n",
       "    </tr>\n",
       "    <tr>\n",
       "      <th>13</th>\n",
       "      <td>right</td>\n",
       "      <td>[[24.37, 24.54, 24.4, 24.23, 25.25, 24.78, 25....</td>\n",
       "    </tr>\n",
       "    <tr>\n",
       "      <th>14</th>\n",
       "      <td>right</td>\n",
       "      <td>[[24.2, 24.1, 24.47, 24.35, 25.23, 24.98, 25.5...</td>\n",
       "    </tr>\n",
       "    <tr>\n",
       "      <th>15</th>\n",
       "      <td>right</td>\n",
       "      <td>[[24.87, 25.18, 24.4, 25.02, 25.56, 25.49, 25....</td>\n",
       "    </tr>\n",
       "    <tr>\n",
       "      <th>16</th>\n",
       "      <td>right</td>\n",
       "      <td>[[24.27, 23.71, 24.39, 24.1, 24.93, 24.7, 25.4...</td>\n",
       "    </tr>\n",
       "    <tr>\n",
       "      <th>17</th>\n",
       "      <td>right</td>\n",
       "      <td>[[24.06, 23.52, 24.41, 23.77, 24.63, 24.56, 24...</td>\n",
       "    </tr>\n",
       "    <tr>\n",
       "      <th>18</th>\n",
       "      <td>back</td>\n",
       "      <td>[[24.81, 24.89, 25.08, 24.95, 25.19, 25.75, 25...</td>\n",
       "    </tr>\n",
       "    <tr>\n",
       "      <th>19</th>\n",
       "      <td>back</td>\n",
       "      <td>[[24.53, 24.54, 25.21, 24.33, 25.38, 25.42, 25...</td>\n",
       "    </tr>\n",
       "    <tr>\n",
       "      <th>20</th>\n",
       "      <td>back</td>\n",
       "      <td>[[24.63, 24.55, 24.8, 24.7, 25.29, 25.05, 25.4...</td>\n",
       "    </tr>\n",
       "    <tr>\n",
       "      <th>21</th>\n",
       "      <td>back</td>\n",
       "      <td>[[24.59, 25.01, 24.69, 25.15, 25.88, 25.67, 25...</td>\n",
       "    </tr>\n",
       "    <tr>\n",
       "      <th>22</th>\n",
       "      <td>back</td>\n",
       "      <td>[[24.43, 24.14, 24.51, 24.25, 24.96, 25.07, 25...</td>\n",
       "    </tr>\n",
       "    <tr>\n",
       "      <th>23</th>\n",
       "      <td>back</td>\n",
       "      <td>[[24.45, 24.51, 24.03, 24.27, 25.05, 24.65, 24...</td>\n",
       "    </tr>\n",
       "    <tr>\n",
       "      <th>24</th>\n",
       "      <td>left</td>\n",
       "      <td>[[25.33, 25.58, 25.72, 25.05, 25.97, 26.18, 26...</td>\n",
       "    </tr>\n",
       "    <tr>\n",
       "      <th>25</th>\n",
       "      <td>left</td>\n",
       "      <td>[[25.0, 25.53, 25.3, 25.26, 26.0, 25.82, 26.21...</td>\n",
       "    </tr>\n",
       "    <tr>\n",
       "      <th>26</th>\n",
       "      <td>left</td>\n",
       "      <td>[[25.45, 25.15, 25.2, 25.12, 26.03, 25.96, 26....</td>\n",
       "    </tr>\n",
       "    <tr>\n",
       "      <th>27</th>\n",
       "      <td>left</td>\n",
       "      <td>[[25.2, 25.39, 25.83, 25.39, 26.31, 25.94, 26....</td>\n",
       "    </tr>\n",
       "    <tr>\n",
       "      <th>28</th>\n",
       "      <td>left</td>\n",
       "      <td>[[25.49, 25.35, 25.64, 25.72, 26.84, 27.23, 28...</td>\n",
       "    </tr>\n",
       "    <tr>\n",
       "      <th>29</th>\n",
       "      <td>left</td>\n",
       "      <td>[[24.99, 24.72, 25.11, 25.21, 25.57, 25.69, 25...</td>\n",
       "    </tr>\n",
       "    <tr>\n",
       "      <th>30</th>\n",
       "      <td>right</td>\n",
       "      <td>[[25.54, 25.58, 25.19, 25.26, 25.68, 25.75, 25...</td>\n",
       "    </tr>\n",
       "    <tr>\n",
       "      <th>31</th>\n",
       "      <td>right</td>\n",
       "      <td>[[25.37, 24.95, 25.12, 24.62, 25.38, 25.59, 25...</td>\n",
       "    </tr>\n",
       "    <tr>\n",
       "      <th>32</th>\n",
       "      <td>right</td>\n",
       "      <td>[[25.39, 25.15, 25.06, 25.18, 25.78, 25.74, 25...</td>\n",
       "    </tr>\n",
       "    <tr>\n",
       "      <th>33</th>\n",
       "      <td>right</td>\n",
       "      <td>[[25.35, 25.17, 25.3, 25.62, 25.87, 26.02, 26....</td>\n",
       "    </tr>\n",
       "    <tr>\n",
       "      <th>34</th>\n",
       "      <td>right</td>\n",
       "      <td>[[24.56, 24.55, 24.97, 24.55, 25.13, 25.26, 25...</td>\n",
       "    </tr>\n",
       "    <tr>\n",
       "      <th>35</th>\n",
       "      <td>right</td>\n",
       "      <td>[[24.54, 24.76, 24.44, 24.41, 25.17, 25.15, 24...</td>\n",
       "    </tr>\n",
       "    <tr>\n",
       "      <th>36</th>\n",
       "      <td>back</td>\n",
       "      <td>[[25.3, 25.18, 25.42, 24.96, 25.91, 25.82, 25....</td>\n",
       "    </tr>\n",
       "    <tr>\n",
       "      <th>37</th>\n",
       "      <td>back</td>\n",
       "      <td>[[25.31, 25.15, 25.15, 25.21, 25.62, 25.68, 25...</td>\n",
       "    </tr>\n",
       "    <tr>\n",
       "      <th>38</th>\n",
       "      <td>back</td>\n",
       "      <td>[[25.22, 25.52, 25.26, 25.44, 25.88, 25.73, 26...</td>\n",
       "    </tr>\n",
       "    <tr>\n",
       "      <th>39</th>\n",
       "      <td>back</td>\n",
       "      <td>[[25.75, 25.37, 25.37, 25.36, 25.84, 26.0, 25....</td>\n",
       "    </tr>\n",
       "    <tr>\n",
       "      <th>40</th>\n",
       "      <td>back</td>\n",
       "      <td>[[25.36, 24.72, 24.84, 24.81, 25.09, 24.93, 25...</td>\n",
       "    </tr>\n",
       "    <tr>\n",
       "      <th>41</th>\n",
       "      <td>back</td>\n",
       "      <td>[[24.93, 24.97, 24.52, 24.32, 25.3, 24.65, 25....</td>\n",
       "    </tr>\n",
       "    <tr>\n",
       "      <th>42</th>\n",
       "      <td>left</td>\n",
       "      <td>[[25.9, 25.96, 25.42, 25.5, 26.43, 26.18, 26.6...</td>\n",
       "    </tr>\n",
       "    <tr>\n",
       "      <th>43</th>\n",
       "      <td>left</td>\n",
       "      <td>[[25.77, 25.79, 25.56, 25.43, 26.17, 26.54, 26...</td>\n",
       "    </tr>\n",
       "    <tr>\n",
       "      <th>44</th>\n",
       "      <td>left</td>\n",
       "      <td>[[25.95, 26.18, 25.71, 25.87, 26.8, 26.62, 26....</td>\n",
       "    </tr>\n",
       "    <tr>\n",
       "      <th>45</th>\n",
       "      <td>left</td>\n",
       "      <td>[[26.36, 25.96, 26.12, 25.74, 26.38, 26.38, 26...</td>\n",
       "    </tr>\n",
       "    <tr>\n",
       "      <th>46</th>\n",
       "      <td>left</td>\n",
       "      <td>[[25.35, 25.14, 25.43, 25.03, 26.13, 25.79, 26...</td>\n",
       "    </tr>\n",
       "    <tr>\n",
       "      <th>47</th>\n",
       "      <td>left</td>\n",
       "      <td>[[25.78, 25.35, 25.26, 25.41, 25.84, 25.67, 25...</td>\n",
       "    </tr>\n",
       "    <tr>\n",
       "      <th>48</th>\n",
       "      <td>right</td>\n",
       "      <td>[[25.72, 25.61, 25.48, 25.2, 25.83, 25.92, 26....</td>\n",
       "    </tr>\n",
       "    <tr>\n",
       "      <th>49</th>\n",
       "      <td>right</td>\n",
       "      <td>[[25.49, 25.76, 25.19, 24.9, 25.86, 25.6, 25.9...</td>\n",
       "    </tr>\n",
       "    <tr>\n",
       "      <th>50</th>\n",
       "      <td>right</td>\n",
       "      <td>[[25.46, 25.13, 25.56, 25.35, 26.02, 26.33, 26...</td>\n",
       "    </tr>\n",
       "    <tr>\n",
       "      <th>51</th>\n",
       "      <td>right</td>\n",
       "      <td>[[25.03, 25.41, 25.28, 24.75, 25.14, 25.01, 24...</td>\n",
       "    </tr>\n",
       "    <tr>\n",
       "      <th>52</th>\n",
       "      <td>right</td>\n",
       "      <td>[[25.27, 25.12, 25.09, 24.9, 25.37, 24.9, 25.2...</td>\n",
       "    </tr>\n",
       "    <tr>\n",
       "      <th>53</th>\n",
       "      <td>right</td>\n",
       "      <td>[[25.32, 24.75, 25.14, 25.3, 25.42, 25.27, 25....</td>\n",
       "    </tr>\n",
       "  </tbody>\n",
       "</table>\n",
       "</div>"
      ],
      "text/plain": [
       "   posture                                            reading\n",
       "0     back  [[24.34, 24.45, 24.23, 24.19, 24.62, 24.79, 25...\n",
       "1     back  [[23.11, 23.47, 23.46, 23.26, 24.27, 24.1, 24....\n",
       "2     back  [[23.27, 23.49, 23.71, 23.37, 24.37, 24.4, 25....\n",
       "3     back  [[24.16, 23.52, 24.36, 23.67, 24.85, 24.1, 24....\n",
       "4     back  [[23.32, 22.9, 23.3, 22.98, 23.96, 23.38, 24.0...\n",
       "5     back  [[23.54, 23.49, 23.61, 23.61, 24.31, 24.02, 24...\n",
       "6     left  [[24.7, 24.91, 24.82, 25.03, 25.87, 25.74, 26....\n",
       "7     left  [[24.58, 24.69, 24.5, 24.67, 25.32, 25.48, 25....\n",
       "8     left  [[24.24, 24.3, 24.77, 24.63, 25.62, 25.5, 25.7...\n",
       "9     left  [[24.72, 24.98, 24.88, 24.58, 25.76, 25.67, 25...\n",
       "10    left  [[24.4, 24.7, 24.73, 24.52, 25.5, 25.51, 26.13...\n",
       "11    left  [[23.84, 24.19, 23.96, 23.72, 25.0, 24.78, 24....\n",
       "12   right  [[24.95, 24.73, 24.88, 24.73, 24.96, 25.17, 25...\n",
       "13   right  [[24.37, 24.54, 24.4, 24.23, 25.25, 24.78, 25....\n",
       "14   right  [[24.2, 24.1, 24.47, 24.35, 25.23, 24.98, 25.5...\n",
       "15   right  [[24.87, 25.18, 24.4, 25.02, 25.56, 25.49, 25....\n",
       "16   right  [[24.27, 23.71, 24.39, 24.1, 24.93, 24.7, 25.4...\n",
       "17   right  [[24.06, 23.52, 24.41, 23.77, 24.63, 24.56, 24...\n",
       "18    back  [[24.81, 24.89, 25.08, 24.95, 25.19, 25.75, 25...\n",
       "19    back  [[24.53, 24.54, 25.21, 24.33, 25.38, 25.42, 25...\n",
       "20    back  [[24.63, 24.55, 24.8, 24.7, 25.29, 25.05, 25.4...\n",
       "21    back  [[24.59, 25.01, 24.69, 25.15, 25.88, 25.67, 25...\n",
       "22    back  [[24.43, 24.14, 24.51, 24.25, 24.96, 25.07, 25...\n",
       "23    back  [[24.45, 24.51, 24.03, 24.27, 25.05, 24.65, 24...\n",
       "24    left  [[25.33, 25.58, 25.72, 25.05, 25.97, 26.18, 26...\n",
       "25    left  [[25.0, 25.53, 25.3, 25.26, 26.0, 25.82, 26.21...\n",
       "26    left  [[25.45, 25.15, 25.2, 25.12, 26.03, 25.96, 26....\n",
       "27    left  [[25.2, 25.39, 25.83, 25.39, 26.31, 25.94, 26....\n",
       "28    left  [[25.49, 25.35, 25.64, 25.72, 26.84, 27.23, 28...\n",
       "29    left  [[24.99, 24.72, 25.11, 25.21, 25.57, 25.69, 25...\n",
       "30   right  [[25.54, 25.58, 25.19, 25.26, 25.68, 25.75, 25...\n",
       "31   right  [[25.37, 24.95, 25.12, 24.62, 25.38, 25.59, 25...\n",
       "32   right  [[25.39, 25.15, 25.06, 25.18, 25.78, 25.74, 25...\n",
       "33   right  [[25.35, 25.17, 25.3, 25.62, 25.87, 26.02, 26....\n",
       "34   right  [[24.56, 24.55, 24.97, 24.55, 25.13, 25.26, 25...\n",
       "35   right  [[24.54, 24.76, 24.44, 24.41, 25.17, 25.15, 24...\n",
       "36    back  [[25.3, 25.18, 25.42, 24.96, 25.91, 25.82, 25....\n",
       "37    back  [[25.31, 25.15, 25.15, 25.21, 25.62, 25.68, 25...\n",
       "38    back  [[25.22, 25.52, 25.26, 25.44, 25.88, 25.73, 26...\n",
       "39    back  [[25.75, 25.37, 25.37, 25.36, 25.84, 26.0, 25....\n",
       "40    back  [[25.36, 24.72, 24.84, 24.81, 25.09, 24.93, 25...\n",
       "41    back  [[24.93, 24.97, 24.52, 24.32, 25.3, 24.65, 25....\n",
       "42    left  [[25.9, 25.96, 25.42, 25.5, 26.43, 26.18, 26.6...\n",
       "43    left  [[25.77, 25.79, 25.56, 25.43, 26.17, 26.54, 26...\n",
       "44    left  [[25.95, 26.18, 25.71, 25.87, 26.8, 26.62, 26....\n",
       "45    left  [[26.36, 25.96, 26.12, 25.74, 26.38, 26.38, 26...\n",
       "46    left  [[25.35, 25.14, 25.43, 25.03, 26.13, 25.79, 26...\n",
       "47    left  [[25.78, 25.35, 25.26, 25.41, 25.84, 25.67, 25...\n",
       "48   right  [[25.72, 25.61, 25.48, 25.2, 25.83, 25.92, 26....\n",
       "49   right  [[25.49, 25.76, 25.19, 24.9, 25.86, 25.6, 25.9...\n",
       "50   right  [[25.46, 25.13, 25.56, 25.35, 26.02, 26.33, 26...\n",
       "51   right  [[25.03, 25.41, 25.28, 24.75, 25.14, 25.01, 24...\n",
       "52   right  [[25.27, 25.12, 25.09, 24.9, 25.37, 24.9, 25.2...\n",
       "53   right  [[25.32, 24.75, 25.14, 25.3, 25.42, 25.27, 25...."
      ]
     },
     "execution_count": 108,
     "metadata": {},
     "output_type": "execute_result"
    }
   ],
   "source": [
    "# Load the data\n",
    "with open('../data/curated-data-test.json') as f:\n",
    "    data_test = json.load(f)\n",
    "df_test = pd.DataFrame(data_test).T\n",
    "# Filter dataframe to only include the columns we want\n",
    "df_test = df_test[['back', 'left', 'right']]\n",
    "# Separate the three data into the same label\n",
    "for i in range(3):\n",
    "    for pose in ['back', 'left', 'right']:\n",
    "        df_test[f'{pose}_{i}'] = df_test[pose].apply(lambda x: x[i])\n",
    "# Drop the original columns\n",
    "df_test = df_test.drop(columns=['back', 'left', 'right'])\n",
    "# Expand the data into a single column\n",
    "df_test = df_test.melt()\n",
    "# Rename the 'variable' values to only include the pose\n",
    "df_test['variable'] = df_test['variable'].apply(lambda x: x.split('_')[0])\n",
    "# Rename the columns\n",
    "df_test.columns = ['posture', 'reading']\n",
    "df_test"
   ]
  },
  {
   "cell_type": "code",
   "execution_count": 109,
   "metadata": {},
   "outputs": [],
   "source": [
    "# Split the data into training and testing sets\n",
    "X_train = df_train['reading']\n",
    "y_train = df_train['posture']\n",
    "X_test = df_test['reading']\n",
    "y_test = df_test['posture']\n",
    "# One-hot encode the labels\n",
    "y_train = pd.get_dummies(y_train).values\n",
    "y_test = pd.get_dummies(y_test).values"
   ]
  },
  {
   "cell_type": "code",
   "execution_count": 110,
   "metadata": {},
   "outputs": [],
   "source": [
    "X_train = np.array([np.array(x) for x in X_train])\n",
    "X_train = np.expand_dims(X_train, -1)\n",
    "X_test = np.array([np.array(x) for x in X_test])\n",
    "X_test = np.expand_dims(X_test, -1)\n",
    "y_train = np.array([np.array(x) for x in y_train])\n",
    "y_test = np.array([np.array(x) for x in y_test])\n",
    "# Convert the data to tensors\n",
    "X_train = tf.convert_to_tensor(X_train)\n",
    "X_test = tf.convert_to_tensor(X_test)\n",
    "y_train = tf.convert_to_tensor(y_train)\n",
    "y_test = tf.convert_to_tensor(y_test)"
   ]
  },
  {
   "cell_type": "markdown",
   "metadata": {},
   "source": [
    "---\n",
    "### Traininig a generic CNN model\n",
    "---"
   ]
  },
  {
   "cell_type": "code",
   "execution_count": 111,
   "metadata": {},
   "outputs": [],
   "source": [
    "def create_model():\n",
    "    model = keras.Sequential(\n",
    "        [\n",
    "            layers.Conv2D(8, kernel_size=(3, 3), activation='relu', padding='same', input_shape=X_train.shape[1:]),\n",
    "            layers.MaxPooling2D(pool_size=(2, 2)),\n",
    "            layers.Conv2D(4, kernel_size=(3, 3), activation='relu', padding='same'),\n",
    "            layers.MaxPooling2D(pool_size=(2, 2)),\n",
    "            layers.Flatten(),  # Flatten the output of the CNN\n",
    "            layers.Dense(32, activation='relu'),\n",
    "            layers.Dense(16, activation='relu'),\n",
    "            layers.Dense(3, activation='softmax'),\n",
    "        ]\n",
    "    )\n",
    "    model.compile(\n",
    "        loss='categorical_crossentropy',\n",
    "        optimizer='adam',\n",
    "        metrics=['accuracy'],\n",
    "    )\n",
    "    return model"
   ]
  },
  {
   "cell_type": "code",
   "execution_count": 112,
   "metadata": {},
   "outputs": [],
   "source": [
    "early_stopping = keras.callbacks.EarlyStopping(\n",
    "    patience=100,\n",
    "    min_delta=0.001,\n",
    "    restore_best_weights=True,\n",
    ")\n",
    "reduce_lr = keras.callbacks.ReduceLROnPlateau(\n",
    "    patience=5\n",
    ")"
   ]
  },
  {
   "cell_type": "code",
   "execution_count": 113,
   "metadata": {},
   "outputs": [
    {
     "name": "stdout",
     "output_type": "stream",
     "text": [
      "Epoch 1/1000\n",
      "9/9 [==============================] - 2s 38ms/step - loss: 1.5476 - accuracy: 0.2519 - val_loss: 1.1491 - val_accuracy: 0.3333 - lr: 0.0010\n",
      "Epoch 2/1000\n",
      "9/9 [==============================] - 0s 10ms/step - loss: 1.1539 - accuracy: 0.3333 - val_loss: 1.0857 - val_accuracy: 0.2963 - lr: 0.0010\n",
      "Epoch 3/1000\n",
      "9/9 [==============================] - 0s 11ms/step - loss: 1.0910 - accuracy: 0.3630 - val_loss: 1.0786 - val_accuracy: 0.5000 - lr: 0.0010\n",
      "Epoch 4/1000\n",
      "9/9 [==============================] - 0s 10ms/step - loss: 1.0916 - accuracy: 0.3778 - val_loss: 1.0812 - val_accuracy: 0.5370 - lr: 0.0010\n",
      "Epoch 5/1000\n",
      "9/9 [==============================] - 0s 10ms/step - loss: 1.0826 - accuracy: 0.4667 - val_loss: 1.0645 - val_accuracy: 0.5370 - lr: 0.0010\n",
      "Epoch 6/1000\n",
      "9/9 [==============================] - 0s 10ms/step - loss: 1.0761 - accuracy: 0.4667 - val_loss: 1.0420 - val_accuracy: 0.6111 - lr: 0.0010\n",
      "Epoch 7/1000\n",
      "9/9 [==============================] - 0s 10ms/step - loss: 1.0742 - accuracy: 0.4519 - val_loss: 1.0335 - val_accuracy: 0.6852 - lr: 0.0010\n",
      "Epoch 8/1000\n",
      "9/9 [==============================] - 0s 10ms/step - loss: 1.1000 - accuracy: 0.3852 - val_loss: 1.1091 - val_accuracy: 0.3333 - lr: 0.0010\n",
      "Epoch 9/1000\n",
      "9/9 [==============================] - 0s 10ms/step - loss: 1.1148 - accuracy: 0.3333 - val_loss: 1.0550 - val_accuracy: 0.4815 - lr: 0.0010\n",
      "Epoch 10/1000\n",
      "9/9 [==============================] - 0s 18ms/step - loss: 1.0885 - accuracy: 0.3704 - val_loss: 1.0470 - val_accuracy: 0.3704 - lr: 0.0010\n",
      "Epoch 11/1000\n",
      "9/9 [==============================] - 0s 10ms/step - loss: 1.0565 - accuracy: 0.4370 - val_loss: 1.0442 - val_accuracy: 0.3889 - lr: 0.0010\n",
      "Epoch 12/1000\n",
      "9/9 [==============================] - 0s 10ms/step - loss: 1.0314 - accuracy: 0.4889 - val_loss: 1.0280 - val_accuracy: 0.6111 - lr: 0.0010\n",
      "Epoch 13/1000\n",
      "9/9 [==============================] - 0s 10ms/step - loss: 1.0278 - accuracy: 0.6000 - val_loss: 1.0110 - val_accuracy: 0.6667 - lr: 0.0010\n",
      "Epoch 14/1000\n",
      "9/9 [==============================] - 0s 10ms/step - loss: 1.0167 - accuracy: 0.4889 - val_loss: 1.0000 - val_accuracy: 0.7778 - lr: 0.0010\n",
      "Epoch 15/1000\n",
      "9/9 [==============================] - 0s 12ms/step - loss: 1.0099 - accuracy: 0.6593 - val_loss: 0.9909 - val_accuracy: 0.7593 - lr: 0.0010\n",
      "Epoch 16/1000\n",
      "9/9 [==============================] - 0s 10ms/step - loss: 0.9953 - accuracy: 0.6815 - val_loss: 0.9779 - val_accuracy: 0.7963 - lr: 0.0010\n",
      "Epoch 17/1000\n",
      "9/9 [==============================] - 0s 10ms/step - loss: 0.9816 - accuracy: 0.7111 - val_loss: 0.9659 - val_accuracy: 0.8148 - lr: 0.0010\n",
      "Epoch 18/1000\n",
      "9/9 [==============================] - 0s 10ms/step - loss: 0.9767 - accuracy: 0.6296 - val_loss: 0.9691 - val_accuracy: 0.5370 - lr: 0.0010\n",
      "Epoch 19/1000\n",
      "9/9 [==============================] - 0s 10ms/step - loss: 0.9775 - accuracy: 0.5185 - val_loss: 0.9702 - val_accuracy: 0.6667 - lr: 0.0010\n",
      "Epoch 20/1000\n",
      "9/9 [==============================] - 0s 10ms/step - loss: 0.9626 - accuracy: 0.6222 - val_loss: 0.9305 - val_accuracy: 0.6667 - lr: 0.0010\n",
      "Epoch 21/1000\n",
      "9/9 [==============================] - 0s 10ms/step - loss: 0.9595 - accuracy: 0.5556 - val_loss: 0.9147 - val_accuracy: 0.7037 - lr: 0.0010\n",
      "Epoch 22/1000\n",
      "9/9 [==============================] - 0s 10ms/step - loss: 0.9171 - accuracy: 0.7037 - val_loss: 0.8922 - val_accuracy: 0.8889 - lr: 0.0010\n",
      "Epoch 23/1000\n",
      "9/9 [==============================] - 0s 11ms/step - loss: 0.8897 - accuracy: 0.7407 - val_loss: 0.8763 - val_accuracy: 0.8148 - lr: 0.0010\n",
      "Epoch 24/1000\n",
      "9/9 [==============================] - 0s 10ms/step - loss: 0.8875 - accuracy: 0.7333 - val_loss: 0.8612 - val_accuracy: 0.6852 - lr: 0.0010\n",
      "Epoch 25/1000\n",
      "9/9 [==============================] - 0s 17ms/step - loss: 0.8661 - accuracy: 0.6074 - val_loss: 0.8521 - val_accuracy: 0.7037 - lr: 0.0010\n",
      "Epoch 26/1000\n",
      "9/9 [==============================] - 0s 10ms/step - loss: 0.8282 - accuracy: 0.7481 - val_loss: 0.8127 - val_accuracy: 0.8889 - lr: 0.0010\n",
      "Epoch 27/1000\n",
      "9/9 [==============================] - 0s 10ms/step - loss: 0.8299 - accuracy: 0.7481 - val_loss: 0.7897 - val_accuracy: 0.9074 - lr: 0.0010\n",
      "Epoch 28/1000\n",
      "9/9 [==============================] - 0s 11ms/step - loss: 0.8255 - accuracy: 0.6667 - val_loss: 0.7992 - val_accuracy: 0.5926 - lr: 0.0010\n",
      "Epoch 29/1000\n",
      "9/9 [==============================] - 0s 10ms/step - loss: 0.7893 - accuracy: 0.7259 - val_loss: 0.7661 - val_accuracy: 0.7222 - lr: 0.0010\n",
      "Epoch 30/1000\n",
      "9/9 [==============================] - 0s 18ms/step - loss: 0.7441 - accuracy: 0.7704 - val_loss: 0.7495 - val_accuracy: 0.7407 - lr: 0.0010\n",
      "Epoch 31/1000\n",
      "9/9 [==============================] - 0s 15ms/step - loss: 0.7556 - accuracy: 0.7111 - val_loss: 0.7632 - val_accuracy: 0.7593 - lr: 0.0010\n",
      "Epoch 32/1000\n",
      "9/9 [==============================] - 0s 11ms/step - loss: 0.7259 - accuracy: 0.7778 - val_loss: 0.7121 - val_accuracy: 0.8148 - lr: 0.0010\n",
      "Epoch 33/1000\n",
      "9/9 [==============================] - 0s 11ms/step - loss: 0.7167 - accuracy: 0.7704 - val_loss: 0.6772 - val_accuracy: 0.9074 - lr: 0.0010\n",
      "Epoch 34/1000\n",
      "9/9 [==============================] - 0s 10ms/step - loss: 0.6963 - accuracy: 0.7926 - val_loss: 0.6739 - val_accuracy: 0.8704 - lr: 0.0010\n",
      "Epoch 35/1000\n",
      "9/9 [==============================] - 0s 11ms/step - loss: 0.6832 - accuracy: 0.7704 - val_loss: 0.6431 - val_accuracy: 0.9074 - lr: 0.0010\n",
      "Epoch 36/1000\n",
      "9/9 [==============================] - 0s 22ms/step - loss: 0.6907 - accuracy: 0.7630 - val_loss: 0.6150 - val_accuracy: 0.9074 - lr: 0.0010\n",
      "Epoch 37/1000\n",
      "9/9 [==============================] - 0s 11ms/step - loss: 0.6769 - accuracy: 0.6963 - val_loss: 0.6230 - val_accuracy: 0.8889 - lr: 0.0010\n",
      "Epoch 38/1000\n",
      "9/9 [==============================] - 0s 10ms/step - loss: 0.6465 - accuracy: 0.8074 - val_loss: 0.5979 - val_accuracy: 0.8704 - lr: 0.0010\n",
      "Epoch 39/1000\n",
      "9/9 [==============================] - 0s 10ms/step - loss: 0.6213 - accuracy: 0.7852 - val_loss: 0.5765 - val_accuracy: 0.9074 - lr: 0.0010\n",
      "Epoch 40/1000\n",
      "9/9 [==============================] - 0s 10ms/step - loss: 0.5979 - accuracy: 0.8074 - val_loss: 0.5673 - val_accuracy: 0.9074 - lr: 0.0010\n",
      "Epoch 41/1000\n",
      "9/9 [==============================] - 0s 10ms/step - loss: 0.5523 - accuracy: 0.8444 - val_loss: 0.5797 - val_accuracy: 0.8148 - lr: 0.0010\n",
      "Epoch 42/1000\n",
      "9/9 [==============================] - 0s 10ms/step - loss: 0.5659 - accuracy: 0.8370 - val_loss: 0.5232 - val_accuracy: 0.9074 - lr: 0.0010\n",
      "Epoch 43/1000\n",
      "9/9 [==============================] - 0s 10ms/step - loss: 0.5506 - accuracy: 0.8222 - val_loss: 0.5649 - val_accuracy: 0.8333 - lr: 0.0010\n",
      "Epoch 44/1000\n",
      "9/9 [==============================] - 0s 10ms/step - loss: 0.6016 - accuracy: 0.8148 - val_loss: 0.4989 - val_accuracy: 0.9074 - lr: 0.0010\n",
      "Epoch 45/1000\n",
      "9/9 [==============================] - 0s 10ms/step - loss: 0.5232 - accuracy: 0.8222 - val_loss: 0.4817 - val_accuracy: 0.9074 - lr: 0.0010\n",
      "Epoch 46/1000\n",
      "9/9 [==============================] - 0s 10ms/step - loss: 0.5062 - accuracy: 0.8296 - val_loss: 0.4701 - val_accuracy: 0.9074 - lr: 0.0010\n",
      "Epoch 47/1000\n",
      "9/9 [==============================] - 0s 10ms/step - loss: 0.4907 - accuracy: 0.8444 - val_loss: 0.4858 - val_accuracy: 0.8519 - lr: 0.0010\n",
      "Epoch 48/1000\n",
      "9/9 [==============================] - 0s 10ms/step - loss: 0.5175 - accuracy: 0.8370 - val_loss: 0.4499 - val_accuracy: 0.9074 - lr: 0.0010\n",
      "Epoch 49/1000\n",
      "9/9 [==============================] - 0s 11ms/step - loss: 0.4976 - accuracy: 0.8444 - val_loss: 0.4669 - val_accuracy: 0.8889 - lr: 0.0010\n",
      "Epoch 50/1000\n",
      "9/9 [==============================] - 0s 19ms/step - loss: 0.5266 - accuracy: 0.8370 - val_loss: 0.5102 - val_accuracy: 0.8333 - lr: 0.0010\n",
      "Epoch 51/1000\n",
      "9/9 [==============================] - 0s 13ms/step - loss: 0.5059 - accuracy: 0.8444 - val_loss: 0.4535 - val_accuracy: 0.8889 - lr: 0.0010\n",
      "Epoch 52/1000\n",
      "9/9 [==============================] - 0s 15ms/step - loss: 0.5174 - accuracy: 0.8370 - val_loss: 0.4005 - val_accuracy: 0.9259 - lr: 0.0010\n",
      "Epoch 53/1000\n",
      "9/9 [==============================] - 0s 12ms/step - loss: 0.5046 - accuracy: 0.8148 - val_loss: 0.3906 - val_accuracy: 0.9259 - lr: 0.0010\n",
      "Epoch 54/1000\n",
      "9/9 [==============================] - 0s 12ms/step - loss: 0.4465 - accuracy: 0.8519 - val_loss: 0.3896 - val_accuracy: 0.9074 - lr: 0.0010\n",
      "Epoch 55/1000\n",
      "9/9 [==============================] - 0s 11ms/step - loss: 0.4630 - accuracy: 0.8667 - val_loss: 0.3852 - val_accuracy: 0.9259 - lr: 0.0010\n",
      "Epoch 56/1000\n",
      "9/9 [==============================] - 0s 10ms/step - loss: 0.4301 - accuracy: 0.8444 - val_loss: 0.4176 - val_accuracy: 0.8889 - lr: 0.0010\n",
      "Epoch 57/1000\n",
      "9/9 [==============================] - 0s 11ms/step - loss: 0.4503 - accuracy: 0.8370 - val_loss: 0.3564 - val_accuracy: 0.9259 - lr: 0.0010\n",
      "Epoch 58/1000\n",
      "9/9 [==============================] - 0s 11ms/step - loss: 0.4389 - accuracy: 0.8370 - val_loss: 0.3876 - val_accuracy: 0.8889 - lr: 0.0010\n",
      "Epoch 59/1000\n",
      "9/9 [==============================] - 0s 11ms/step - loss: 0.4248 - accuracy: 0.8444 - val_loss: 0.3512 - val_accuracy: 0.9259 - lr: 0.0010\n",
      "Epoch 60/1000\n",
      "9/9 [==============================] - 0s 10ms/step - loss: 0.4346 - accuracy: 0.8593 - val_loss: 0.3321 - val_accuracy: 0.9444 - lr: 0.0010\n",
      "Epoch 61/1000\n",
      "9/9 [==============================] - 0s 10ms/step - loss: 0.4141 - accuracy: 0.8667 - val_loss: 0.3438 - val_accuracy: 0.9444 - lr: 0.0010\n",
      "Epoch 62/1000\n",
      "9/9 [==============================] - 0s 26ms/step - loss: 0.4645 - accuracy: 0.8444 - val_loss: 0.3499 - val_accuracy: 0.8889 - lr: 0.0010\n",
      "Epoch 63/1000\n",
      "9/9 [==============================] - 0s 12ms/step - loss: 0.4512 - accuracy: 0.8444 - val_loss: 0.3758 - val_accuracy: 0.8889 - lr: 0.0010\n",
      "Epoch 64/1000\n",
      "9/9 [==============================] - 0s 14ms/step - loss: 0.4449 - accuracy: 0.8370 - val_loss: 0.3510 - val_accuracy: 0.9444 - lr: 0.0010\n",
      "Epoch 65/1000\n",
      "9/9 [==============================] - 0s 10ms/step - loss: 0.4471 - accuracy: 0.8593 - val_loss: 0.3379 - val_accuracy: 0.9444 - lr: 0.0010\n",
      "Epoch 66/1000\n",
      "9/9 [==============================] - 0s 23ms/step - loss: 0.3803 - accuracy: 0.8519 - val_loss: 0.3363 - val_accuracy: 0.9259 - lr: 1.0000e-04\n",
      "Epoch 67/1000\n",
      "9/9 [==============================] - 0s 10ms/step - loss: 0.3803 - accuracy: 0.8519 - val_loss: 0.3212 - val_accuracy: 0.9259 - lr: 1.0000e-04\n",
      "Epoch 68/1000\n",
      "9/9 [==============================] - 0s 11ms/step - loss: 0.3763 - accuracy: 0.8519 - val_loss: 0.3145 - val_accuracy: 0.9259 - lr: 1.0000e-04\n",
      "Epoch 69/1000\n",
      "9/9 [==============================] - 0s 11ms/step - loss: 0.3746 - accuracy: 0.8519 - val_loss: 0.3106 - val_accuracy: 0.9444 - lr: 1.0000e-04\n",
      "Epoch 70/1000\n",
      "9/9 [==============================] - 0s 11ms/step - loss: 0.3747 - accuracy: 0.8519 - val_loss: 0.3092 - val_accuracy: 0.9444 - lr: 1.0000e-04\n",
      "Epoch 71/1000\n",
      "9/9 [==============================] - 0s 11ms/step - loss: 0.3738 - accuracy: 0.8593 - val_loss: 0.3095 - val_accuracy: 0.9444 - lr: 1.0000e-04\n",
      "Epoch 72/1000\n",
      "9/9 [==============================] - 0s 10ms/step - loss: 0.3737 - accuracy: 0.8593 - val_loss: 0.3094 - val_accuracy: 0.9444 - lr: 1.0000e-04\n",
      "Epoch 73/1000\n",
      "9/9 [==============================] - 0s 10ms/step - loss: 0.3740 - accuracy: 0.8519 - val_loss: 0.3107 - val_accuracy: 0.9259 - lr: 1.0000e-04\n",
      "Epoch 74/1000\n",
      "9/9 [==============================] - 0s 10ms/step - loss: 0.3722 - accuracy: 0.8593 - val_loss: 0.3103 - val_accuracy: 0.9259 - lr: 1.0000e-04\n",
      "Epoch 75/1000\n",
      "9/9 [==============================] - 0s 24ms/step - loss: 0.3733 - accuracy: 0.8667 - val_loss: 0.3087 - val_accuracy: 0.9444 - lr: 1.0000e-04\n",
      "Epoch 76/1000\n",
      "9/9 [==============================] - 0s 11ms/step - loss: 0.3733 - accuracy: 0.8593 - val_loss: 0.3076 - val_accuracy: 0.9444 - lr: 1.0000e-04\n",
      "Epoch 77/1000\n",
      "9/9 [==============================] - 0s 9ms/step - loss: 0.3727 - accuracy: 0.8593 - val_loss: 0.3090 - val_accuracy: 0.9259 - lr: 1.0000e-04\n",
      "Epoch 78/1000\n",
      "9/9 [==============================] - 0s 9ms/step - loss: 0.3702 - accuracy: 0.8593 - val_loss: 0.3065 - val_accuracy: 0.9259 - lr: 1.0000e-04\n",
      "Epoch 79/1000\n",
      "9/9 [==============================] - 0s 9ms/step - loss: 0.3714 - accuracy: 0.8444 - val_loss: 0.3060 - val_accuracy: 0.9444 - lr: 1.0000e-04\n",
      "Epoch 80/1000\n",
      "9/9 [==============================] - 0s 9ms/step - loss: 0.3687 - accuracy: 0.8519 - val_loss: 0.3084 - val_accuracy: 0.9259 - lr: 1.0000e-04\n",
      "Epoch 81/1000\n",
      "9/9 [==============================] - 0s 9ms/step - loss: 0.3692 - accuracy: 0.8593 - val_loss: 0.3078 - val_accuracy: 0.9259 - lr: 1.0000e-04\n",
      "Epoch 82/1000\n",
      "9/9 [==============================] - 0s 9ms/step - loss: 0.3688 - accuracy: 0.8519 - val_loss: 0.3057 - val_accuracy: 0.9444 - lr: 1.0000e-04\n",
      "Epoch 83/1000\n",
      "9/9 [==============================] - 0s 9ms/step - loss: 0.3694 - accuracy: 0.8519 - val_loss: 0.3047 - val_accuracy: 0.9444 - lr: 1.0000e-04\n",
      "Epoch 84/1000\n",
      "9/9 [==============================] - 0s 9ms/step - loss: 0.3685 - accuracy: 0.8519 - val_loss: 0.3087 - val_accuracy: 0.9259 - lr: 1.0000e-04\n",
      "Epoch 85/1000\n",
      "9/9 [==============================] - 0s 9ms/step - loss: 0.3663 - accuracy: 0.8593 - val_loss: 0.3049 - val_accuracy: 0.9259 - lr: 1.0000e-04\n",
      "Epoch 86/1000\n",
      "9/9 [==============================] - 0s 9ms/step - loss: 0.3693 - accuracy: 0.8519 - val_loss: 0.3020 - val_accuracy: 0.9444 - lr: 1.0000e-04\n",
      "Epoch 87/1000\n",
      "9/9 [==============================] - 0s 9ms/step - loss: 0.3655 - accuracy: 0.8593 - val_loss: 0.3024 - val_accuracy: 0.9444 - lr: 1.0000e-04\n",
      "Epoch 88/1000\n",
      "9/9 [==============================] - 0s 21ms/step - loss: 0.3641 - accuracy: 0.8667 - val_loss: 0.3045 - val_accuracy: 0.9259 - lr: 1.0000e-04\n",
      "Epoch 89/1000\n",
      "9/9 [==============================] - 0s 9ms/step - loss: 0.3662 - accuracy: 0.8593 - val_loss: 0.3038 - val_accuracy: 0.9259 - lr: 1.0000e-04\n",
      "Epoch 90/1000\n",
      "9/9 [==============================] - 0s 9ms/step - loss: 0.3641 - accuracy: 0.8593 - val_loss: 0.3006 - val_accuracy: 0.9259 - lr: 1.0000e-04\n",
      "Epoch 91/1000\n",
      "9/9 [==============================] - 0s 10ms/step - loss: 0.3650 - accuracy: 0.8593 - val_loss: 0.2992 - val_accuracy: 0.9444 - lr: 1.0000e-04\n",
      "Epoch 92/1000\n",
      "9/9 [==============================] - 0s 14ms/step - loss: 0.3639 - accuracy: 0.8519 - val_loss: 0.2988 - val_accuracy: 0.9444 - lr: 1.0000e-04\n",
      "Epoch 93/1000\n",
      "9/9 [==============================] - 0s 12ms/step - loss: 0.3621 - accuracy: 0.8667 - val_loss: 0.2997 - val_accuracy: 0.9259 - lr: 1.0000e-04\n",
      "Epoch 94/1000\n",
      "9/9 [==============================] - 0s 11ms/step - loss: 0.3621 - accuracy: 0.8593 - val_loss: 0.3016 - val_accuracy: 0.9259 - lr: 1.0000e-04\n",
      "Epoch 95/1000\n",
      "9/9 [==============================] - 0s 10ms/step - loss: 0.3615 - accuracy: 0.8593 - val_loss: 0.2990 - val_accuracy: 0.9444 - lr: 1.0000e-04\n",
      "Epoch 96/1000\n",
      "9/9 [==============================] - 0s 9ms/step - loss: 0.3625 - accuracy: 0.8593 - val_loss: 0.3002 - val_accuracy: 0.9259 - lr: 1.0000e-04\n",
      "Epoch 97/1000\n",
      "9/9 [==============================] - 0s 9ms/step - loss: 0.3616 - accuracy: 0.8667 - val_loss: 0.2969 - val_accuracy: 0.9444 - lr: 1.0000e-04\n",
      "Epoch 98/1000\n",
      "9/9 [==============================] - 0s 9ms/step - loss: 0.3621 - accuracy: 0.8593 - val_loss: 0.2989 - val_accuracy: 0.9444 - lr: 1.0000e-04\n",
      "Epoch 99/1000\n",
      "9/9 [==============================] - 0s 9ms/step - loss: 0.3594 - accuracy: 0.8667 - val_loss: 0.2989 - val_accuracy: 0.9444 - lr: 1.0000e-04\n",
      "Epoch 100/1000\n",
      "9/9 [==============================] - 0s 19ms/step - loss: 0.3608 - accuracy: 0.8667 - val_loss: 0.2991 - val_accuracy: 0.9444 - lr: 1.0000e-04\n",
      "Epoch 101/1000\n",
      "9/9 [==============================] - 0s 16ms/step - loss: 0.3586 - accuracy: 0.8593 - val_loss: 0.2971 - val_accuracy: 0.9444 - lr: 1.0000e-04\n",
      "Epoch 102/1000\n",
      "9/9 [==============================] - 0s 10ms/step - loss: 0.3588 - accuracy: 0.8667 - val_loss: 0.2949 - val_accuracy: 0.9444 - lr: 1.0000e-04\n",
      "Epoch 103/1000\n",
      "9/9 [==============================] - 0s 10ms/step - loss: 0.3572 - accuracy: 0.8667 - val_loss: 0.2937 - val_accuracy: 0.9444 - lr: 1.0000e-04\n",
      "Epoch 104/1000\n",
      "9/9 [==============================] - 0s 10ms/step - loss: 0.3568 - accuracy: 0.8667 - val_loss: 0.2931 - val_accuracy: 0.9444 - lr: 1.0000e-04\n",
      "Epoch 105/1000\n",
      "9/9 [==============================] - 0s 10ms/step - loss: 0.3562 - accuracy: 0.8667 - val_loss: 0.2929 - val_accuracy: 0.9444 - lr: 1.0000e-04\n",
      "Epoch 106/1000\n",
      "9/9 [==============================] - 0s 12ms/step - loss: 0.3574 - accuracy: 0.8667 - val_loss: 0.2920 - val_accuracy: 0.9259 - lr: 1.0000e-04\n",
      "Epoch 107/1000\n",
      "9/9 [==============================] - 0s 16ms/step - loss: 0.3577 - accuracy: 0.8667 - val_loss: 0.2931 - val_accuracy: 0.9259 - lr: 1.0000e-04\n",
      "Epoch 108/1000\n",
      "9/9 [==============================] - 0s 12ms/step - loss: 0.3556 - accuracy: 0.8667 - val_loss: 0.2932 - val_accuracy: 0.9444 - lr: 1.0000e-04\n",
      "Epoch 109/1000\n",
      "9/9 [==============================] - 0s 12ms/step - loss: 0.3560 - accuracy: 0.8667 - val_loss: 0.2912 - val_accuracy: 0.9259 - lr: 1.0000e-04\n",
      "Epoch 110/1000\n",
      "9/9 [==============================] - 0s 11ms/step - loss: 0.3582 - accuracy: 0.8593 - val_loss: 0.2960 - val_accuracy: 0.9259 - lr: 1.0000e-04\n",
      "Epoch 111/1000\n",
      "9/9 [==============================] - 0s 31ms/step - loss: 0.3556 - accuracy: 0.8593 - val_loss: 0.2919 - val_accuracy: 0.9259 - lr: 1.0000e-04\n",
      "Epoch 112/1000\n",
      "9/9 [==============================] - 0s 16ms/step - loss: 0.3552 - accuracy: 0.8667 - val_loss: 0.2899 - val_accuracy: 0.9444 - lr: 1.0000e-04\n",
      "Epoch 113/1000\n",
      "9/9 [==============================] - 0s 14ms/step - loss: 0.3539 - accuracy: 0.8519 - val_loss: 0.2908 - val_accuracy: 0.9444 - lr: 1.0000e-04\n",
      "Epoch 114/1000\n",
      "9/9 [==============================] - 0s 14ms/step - loss: 0.3568 - accuracy: 0.8667 - val_loss: 0.2912 - val_accuracy: 0.9259 - lr: 1.0000e-04\n",
      "Epoch 115/1000\n",
      "9/9 [==============================] - 0s 16ms/step - loss: 0.3518 - accuracy: 0.8593 - val_loss: 0.2892 - val_accuracy: 0.9259 - lr: 1.0000e-04\n",
      "Epoch 116/1000\n",
      "9/9 [==============================] - 0s 15ms/step - loss: 0.3508 - accuracy: 0.8667 - val_loss: 0.2868 - val_accuracy: 0.9444 - lr: 1.0000e-04\n",
      "Epoch 117/1000\n",
      "9/9 [==============================] - 0s 15ms/step - loss: 0.3529 - accuracy: 0.8667 - val_loss: 0.2874 - val_accuracy: 0.9444 - lr: 1.0000e-04\n",
      "Epoch 118/1000\n",
      "9/9 [==============================] - 0s 34ms/step - loss: 0.3490 - accuracy: 0.8667 - val_loss: 0.2894 - val_accuracy: 0.9259 - lr: 1.0000e-04\n",
      "Epoch 119/1000\n",
      "9/9 [==============================] - 0s 16ms/step - loss: 0.3508 - accuracy: 0.8593 - val_loss: 0.2894 - val_accuracy: 0.9259 - lr: 1.0000e-04\n",
      "Epoch 120/1000\n",
      "9/9 [==============================] - 0s 13ms/step - loss: 0.3479 - accuracy: 0.8667 - val_loss: 0.2859 - val_accuracy: 0.9259 - lr: 1.0000e-04\n",
      "Epoch 121/1000\n",
      "9/9 [==============================] - 0s 15ms/step - loss: 0.3489 - accuracy: 0.8667 - val_loss: 0.2842 - val_accuracy: 0.9444 - lr: 1.0000e-04\n",
      "Epoch 122/1000\n",
      "9/9 [==============================] - 0s 11ms/step - loss: 0.3488 - accuracy: 0.8667 - val_loss: 0.2848 - val_accuracy: 0.9444 - lr: 1.0000e-04\n",
      "Epoch 123/1000\n",
      "9/9 [==============================] - 0s 10ms/step - loss: 0.3471 - accuracy: 0.8667 - val_loss: 0.2853 - val_accuracy: 0.9444 - lr: 1.0000e-04\n",
      "Epoch 124/1000\n",
      "9/9 [==============================] - 0s 10ms/step - loss: 0.3474 - accuracy: 0.8667 - val_loss: 0.2861 - val_accuracy: 0.9259 - lr: 1.0000e-04\n",
      "Epoch 125/1000\n",
      "9/9 [==============================] - 0s 13ms/step - loss: 0.3471 - accuracy: 0.8667 - val_loss: 0.2823 - val_accuracy: 0.9444 - lr: 1.0000e-04\n",
      "Epoch 126/1000\n",
      "9/9 [==============================] - 0s 16ms/step - loss: 0.3492 - accuracy: 0.8593 - val_loss: 0.2815 - val_accuracy: 0.9444 - lr: 1.0000e-04\n",
      "Epoch 127/1000\n",
      "9/9 [==============================] - 0s 28ms/step - loss: 0.3474 - accuracy: 0.8667 - val_loss: 0.2845 - val_accuracy: 0.9259 - lr: 1.0000e-04\n",
      "Epoch 128/1000\n",
      "9/9 [==============================] - 0s 10ms/step - loss: 0.3470 - accuracy: 0.8741 - val_loss: 0.2841 - val_accuracy: 0.9259 - lr: 1.0000e-04\n",
      "Epoch 129/1000\n",
      "9/9 [==============================] - 0s 10ms/step - loss: 0.3453 - accuracy: 0.8741 - val_loss: 0.2821 - val_accuracy: 0.9444 - lr: 1.0000e-04\n",
      "Epoch 130/1000\n",
      "9/9 [==============================] - 0s 16ms/step - loss: 0.3469 - accuracy: 0.8667 - val_loss: 0.2835 - val_accuracy: 0.9444 - lr: 1.0000e-04\n",
      "Epoch 131/1000\n",
      "9/9 [==============================] - 0s 10ms/step - loss: 0.3444 - accuracy: 0.8667 - val_loss: 0.2812 - val_accuracy: 0.9444 - lr: 1.0000e-04\n",
      "Epoch 132/1000\n",
      "9/9 [==============================] - 0s 10ms/step - loss: 0.3432 - accuracy: 0.8667 - val_loss: 0.2814 - val_accuracy: 0.9444 - lr: 1.0000e-04\n",
      "Epoch 133/1000\n",
      "9/9 [==============================] - 0s 10ms/step - loss: 0.3480 - accuracy: 0.8593 - val_loss: 0.2866 - val_accuracy: 0.9259 - lr: 1.0000e-04\n",
      "Epoch 134/1000\n",
      "9/9 [==============================] - 0s 10ms/step - loss: 0.3426 - accuracy: 0.8741 - val_loss: 0.2790 - val_accuracy: 0.9444 - lr: 1.0000e-04\n",
      "Epoch 135/1000\n",
      "9/9 [==============================] - 0s 10ms/step - loss: 0.3427 - accuracy: 0.8667 - val_loss: 0.2803 - val_accuracy: 0.9444 - lr: 1.0000e-04\n",
      "Epoch 136/1000\n",
      "9/9 [==============================] - 0s 10ms/step - loss: 0.3420 - accuracy: 0.8667 - val_loss: 0.2812 - val_accuracy: 0.9259 - lr: 1.0000e-04\n",
      "Epoch 137/1000\n",
      "9/9 [==============================] - 0s 9ms/step - loss: 0.3418 - accuracy: 0.8667 - val_loss: 0.2787 - val_accuracy: 0.9444 - lr: 1.0000e-04\n",
      "Epoch 138/1000\n",
      "9/9 [==============================] - 0s 10ms/step - loss: 0.3433 - accuracy: 0.8667 - val_loss: 0.2816 - val_accuracy: 0.9259 - lr: 1.0000e-04\n",
      "Epoch 139/1000\n",
      "9/9 [==============================] - 0s 32ms/step - loss: 0.3412 - accuracy: 0.8667 - val_loss: 0.2779 - val_accuracy: 0.9444 - lr: 1.0000e-04\n",
      "Epoch 140/1000\n",
      "9/9 [==============================] - 0s 14ms/step - loss: 0.3391 - accuracy: 0.8667 - val_loss: 0.2762 - val_accuracy: 0.9444 - lr: 1.0000e-04\n",
      "Epoch 141/1000\n",
      "9/9 [==============================] - 0s 13ms/step - loss: 0.3389 - accuracy: 0.8741 - val_loss: 0.2755 - val_accuracy: 0.9444 - lr: 1.0000e-04\n",
      "Epoch 142/1000\n",
      "9/9 [==============================] - 0s 13ms/step - loss: 0.3387 - accuracy: 0.8667 - val_loss: 0.2760 - val_accuracy: 0.9444 - lr: 1.0000e-04\n",
      "Epoch 143/1000\n",
      "9/9 [==============================] - 0s 12ms/step - loss: 0.3397 - accuracy: 0.8667 - val_loss: 0.2786 - val_accuracy: 0.9259 - lr: 1.0000e-04\n",
      "Epoch 144/1000\n",
      "9/9 [==============================] - 0s 10ms/step - loss: 0.3374 - accuracy: 0.8667 - val_loss: 0.2756 - val_accuracy: 0.9259 - lr: 1.0000e-04\n",
      "Epoch 145/1000\n",
      "9/9 [==============================] - 0s 12ms/step - loss: 0.3370 - accuracy: 0.8667 - val_loss: 0.2762 - val_accuracy: 0.9444 - lr: 1.0000e-04\n",
      "Epoch 146/1000\n",
      "9/9 [==============================] - 0s 14ms/step - loss: 0.3376 - accuracy: 0.8667 - val_loss: 0.2778 - val_accuracy: 0.9444 - lr: 1.0000e-04\n",
      "Epoch 147/1000\n",
      "9/9 [==============================] - 0s 13ms/step - loss: 0.3351 - accuracy: 0.8667 - val_loss: 0.2773 - val_accuracy: 0.9444 - lr: 1.0000e-05\n",
      "Epoch 148/1000\n",
      "9/9 [==============================] - 0s 29ms/step - loss: 0.3351 - accuracy: 0.8667 - val_loss: 0.2771 - val_accuracy: 0.9444 - lr: 1.0000e-05\n",
      "Epoch 149/1000\n",
      "9/9 [==============================] - 0s 13ms/step - loss: 0.3351 - accuracy: 0.8667 - val_loss: 0.2773 - val_accuracy: 0.9444 - lr: 1.0000e-05\n",
      "Epoch 150/1000\n",
      "9/9 [==============================] - 0s 14ms/step - loss: 0.3348 - accuracy: 0.8667 - val_loss: 0.2772 - val_accuracy: 0.9444 - lr: 1.0000e-05\n",
      "Epoch 151/1000\n",
      "9/9 [==============================] - 0s 14ms/step - loss: 0.3348 - accuracy: 0.8667 - val_loss: 0.2771 - val_accuracy: 0.9259 - lr: 1.0000e-05\n",
      "Epoch 152/1000\n",
      "9/9 [==============================] - 0s 12ms/step - loss: 0.3345 - accuracy: 0.8667 - val_loss: 0.2770 - val_accuracy: 0.9259 - lr: 1.0000e-06\n",
      "Epoch 153/1000\n",
      "9/9 [==============================] - 0s 14ms/step - loss: 0.3345 - accuracy: 0.8667 - val_loss: 0.2771 - val_accuracy: 0.9259 - lr: 1.0000e-06\n",
      "Epoch 154/1000\n",
      "9/9 [==============================] - 0s 13ms/step - loss: 0.3345 - accuracy: 0.8667 - val_loss: 0.2770 - val_accuracy: 0.9259 - lr: 1.0000e-06\n",
      "Epoch 155/1000\n",
      "9/9 [==============================] - 0s 15ms/step - loss: 0.3345 - accuracy: 0.8667 - val_loss: 0.2770 - val_accuracy: 0.9259 - lr: 1.0000e-06\n",
      "Epoch 156/1000\n",
      "9/9 [==============================] - 0s 13ms/step - loss: 0.3345 - accuracy: 0.8667 - val_loss: 0.2770 - val_accuracy: 0.9259 - lr: 1.0000e-06\n",
      "Epoch 157/1000\n",
      "9/9 [==============================] - 0s 31ms/step - loss: 0.3345 - accuracy: 0.8667 - val_loss: 0.2770 - val_accuracy: 0.9259 - lr: 1.0000e-07\n",
      "Epoch 158/1000\n",
      "9/9 [==============================] - 0s 15ms/step - loss: 0.3345 - accuracy: 0.8667 - val_loss: 0.2770 - val_accuracy: 0.9259 - lr: 1.0000e-07\n",
      "Epoch 159/1000\n",
      "9/9 [==============================] - 0s 14ms/step - loss: 0.3345 - accuracy: 0.8667 - val_loss: 0.2770 - val_accuracy: 0.9259 - lr: 1.0000e-07\n",
      "Epoch 160/1000\n",
      "9/9 [==============================] - 0s 14ms/step - loss: 0.3345 - accuracy: 0.8667 - val_loss: 0.2770 - val_accuracy: 0.9259 - lr: 1.0000e-07\n",
      "Epoch 161/1000\n",
      "9/9 [==============================] - 0s 13ms/step - loss: 0.3345 - accuracy: 0.8667 - val_loss: 0.2770 - val_accuracy: 0.9259 - lr: 1.0000e-07\n",
      "Epoch 162/1000\n",
      "9/9 [==============================] - 0s 13ms/step - loss: 0.3345 - accuracy: 0.8667 - val_loss: 0.2770 - val_accuracy: 0.9259 - lr: 1.0000e-08\n",
      "Epoch 163/1000\n",
      "9/9 [==============================] - 0s 13ms/step - loss: 0.3345 - accuracy: 0.8667 - val_loss: 0.2770 - val_accuracy: 0.9259 - lr: 1.0000e-08\n",
      "Epoch 164/1000\n",
      "9/9 [==============================] - 0s 15ms/step - loss: 0.3345 - accuracy: 0.8667 - val_loss: 0.2770 - val_accuracy: 0.9259 - lr: 1.0000e-08\n",
      "Epoch 165/1000\n",
      "9/9 [==============================] - 0s 27ms/step - loss: 0.3345 - accuracy: 0.8667 - val_loss: 0.2770 - val_accuracy: 0.9259 - lr: 1.0000e-08\n",
      "Epoch 166/1000\n",
      "9/9 [==============================] - 0s 14ms/step - loss: 0.3345 - accuracy: 0.8667 - val_loss: 0.2770 - val_accuracy: 0.9259 - lr: 1.0000e-08\n",
      "Epoch 167/1000\n",
      "9/9 [==============================] - 0s 14ms/step - loss: 0.3345 - accuracy: 0.8667 - val_loss: 0.2770 - val_accuracy: 0.9259 - lr: 1.0000e-09\n",
      "Epoch 168/1000\n",
      "9/9 [==============================] - 0s 15ms/step - loss: 0.3345 - accuracy: 0.8667 - val_loss: 0.2770 - val_accuracy: 0.9259 - lr: 1.0000e-09\n",
      "Epoch 169/1000\n",
      "9/9 [==============================] - 0s 13ms/step - loss: 0.3345 - accuracy: 0.8667 - val_loss: 0.2770 - val_accuracy: 0.9259 - lr: 1.0000e-09\n",
      "Epoch 170/1000\n",
      "9/9 [==============================] - 0s 12ms/step - loss: 0.3345 - accuracy: 0.8667 - val_loss: 0.2770 - val_accuracy: 0.9259 - lr: 1.0000e-09\n",
      "Epoch 171/1000\n",
      "9/9 [==============================] - 0s 13ms/step - loss: 0.3345 - accuracy: 0.8667 - val_loss: 0.2770 - val_accuracy: 0.9259 - lr: 1.0000e-09\n",
      "Epoch 172/1000\n",
      "9/9 [==============================] - 0s 13ms/step - loss: 0.3345 - accuracy: 0.8667 - val_loss: 0.2770 - val_accuracy: 0.9259 - lr: 1.0000e-10\n",
      "Epoch 173/1000\n",
      "9/9 [==============================] - 0s 28ms/step - loss: 0.3345 - accuracy: 0.8667 - val_loss: 0.2770 - val_accuracy: 0.9259 - lr: 1.0000e-10\n",
      "Epoch 174/1000\n",
      "9/9 [==============================] - 0s 17ms/step - loss: 0.3345 - accuracy: 0.8667 - val_loss: 0.2770 - val_accuracy: 0.9259 - lr: 1.0000e-10\n",
      "Epoch 175/1000\n",
      "9/9 [==============================] - 0s 13ms/step - loss: 0.3345 - accuracy: 0.8667 - val_loss: 0.2770 - val_accuracy: 0.9259 - lr: 1.0000e-10\n",
      "Epoch 176/1000\n",
      "9/9 [==============================] - 0s 12ms/step - loss: 0.3345 - accuracy: 0.8667 - val_loss: 0.2770 - val_accuracy: 0.9259 - lr: 1.0000e-10\n",
      "Epoch 177/1000\n",
      "9/9 [==============================] - 0s 14ms/step - loss: 0.3345 - accuracy: 0.8667 - val_loss: 0.2770 - val_accuracy: 0.9259 - lr: 1.0000e-11\n",
      "Epoch 178/1000\n",
      "9/9 [==============================] - 0s 13ms/step - loss: 0.3345 - accuracy: 0.8667 - val_loss: 0.2770 - val_accuracy: 0.9259 - lr: 1.0000e-11\n",
      "Epoch 179/1000\n",
      "9/9 [==============================] - 0s 11ms/step - loss: 0.3345 - accuracy: 0.8667 - val_loss: 0.2770 - val_accuracy: 0.9259 - lr: 1.0000e-11\n",
      "Epoch 180/1000\n",
      "9/9 [==============================] - 0s 10ms/step - loss: 0.3345 - accuracy: 0.8667 - val_loss: 0.2770 - val_accuracy: 0.9259 - lr: 1.0000e-11\n",
      "Epoch 181/1000\n",
      "9/9 [==============================] - 0s 10ms/step - loss: 0.3345 - accuracy: 0.8667 - val_loss: 0.2770 - val_accuracy: 0.9259 - lr: 1.0000e-11\n",
      "Epoch 182/1000\n",
      "9/9 [==============================] - 0s 10ms/step - loss: 0.3345 - accuracy: 0.8667 - val_loss: 0.2770 - val_accuracy: 0.9259 - lr: 1.0000e-12\n",
      "Epoch 183/1000\n",
      "9/9 [==============================] - 0s 25ms/step - loss: 0.3345 - accuracy: 0.8667 - val_loss: 0.2770 - val_accuracy: 0.9259 - lr: 1.0000e-12\n",
      "Epoch 184/1000\n",
      "9/9 [==============================] - 0s 16ms/step - loss: 0.3345 - accuracy: 0.8667 - val_loss: 0.2770 - val_accuracy: 0.9259 - lr: 1.0000e-12\n",
      "Epoch 185/1000\n",
      "9/9 [==============================] - 0s 15ms/step - loss: 0.3345 - accuracy: 0.8667 - val_loss: 0.2770 - val_accuracy: 0.9259 - lr: 1.0000e-12\n",
      "Epoch 186/1000\n",
      "9/9 [==============================] - 0s 11ms/step - loss: 0.3345 - accuracy: 0.8667 - val_loss: 0.2770 - val_accuracy: 0.9259 - lr: 1.0000e-12\n",
      "Epoch 187/1000\n",
      "9/9 [==============================] - 0s 10ms/step - loss: 0.3345 - accuracy: 0.8667 - val_loss: 0.2770 - val_accuracy: 0.9259 - lr: 1.0000e-13\n",
      "Epoch 188/1000\n",
      "9/9 [==============================] - 0s 11ms/step - loss: 0.3345 - accuracy: 0.8667 - val_loss: 0.2770 - val_accuracy: 0.9259 - lr: 1.0000e-13\n",
      "Epoch 189/1000\n",
      "9/9 [==============================] - 0s 11ms/step - loss: 0.3345 - accuracy: 0.8667 - val_loss: 0.2770 - val_accuracy: 0.9259 - lr: 1.0000e-13\n",
      "Epoch 190/1000\n",
      "9/9 [==============================] - 0s 13ms/step - loss: 0.3345 - accuracy: 0.8667 - val_loss: 0.2770 - val_accuracy: 0.9259 - lr: 1.0000e-13\n",
      "Epoch 191/1000\n",
      "9/9 [==============================] - 0s 11ms/step - loss: 0.3345 - accuracy: 0.8667 - val_loss: 0.2770 - val_accuracy: 0.9259 - lr: 1.0000e-13\n",
      "Epoch 192/1000\n",
      "9/9 [==============================] - 0s 25ms/step - loss: 0.3345 - accuracy: 0.8667 - val_loss: 0.2770 - val_accuracy: 0.9259 - lr: 1.0000e-14\n",
      "Epoch 193/1000\n",
      "9/9 [==============================] - 0s 12ms/step - loss: 0.3345 - accuracy: 0.8667 - val_loss: 0.2770 - val_accuracy: 0.9259 - lr: 1.0000e-14\n",
      "Epoch 194/1000\n",
      "9/9 [==============================] - 0s 10ms/step - loss: 0.3345 - accuracy: 0.8667 - val_loss: 0.2770 - val_accuracy: 0.9259 - lr: 1.0000e-14\n",
      "Epoch 195/1000\n",
      "9/9 [==============================] - 0s 9ms/step - loss: 0.3345 - accuracy: 0.8667 - val_loss: 0.2770 - val_accuracy: 0.9259 - lr: 1.0000e-14\n",
      "Epoch 196/1000\n",
      "9/9 [==============================] - 0s 9ms/step - loss: 0.3345 - accuracy: 0.8667 - val_loss: 0.2770 - val_accuracy: 0.9259 - lr: 1.0000e-14\n",
      "Epoch 197/1000\n",
      "9/9 [==============================] - 0s 9ms/step - loss: 0.3345 - accuracy: 0.8667 - val_loss: 0.2770 - val_accuracy: 0.9259 - lr: 1.0000e-15\n",
      "Epoch 198/1000\n",
      "9/9 [==============================] - 0s 15ms/step - loss: 0.3345 - accuracy: 0.8667 - val_loss: 0.2770 - val_accuracy: 0.9259 - lr: 1.0000e-15\n",
      "Epoch 199/1000\n",
      "9/9 [==============================] - 0s 12ms/step - loss: 0.3345 - accuracy: 0.8667 - val_loss: 0.2770 - val_accuracy: 0.9259 - lr: 1.0000e-15\n",
      "Epoch 200/1000\n",
      "9/9 [==============================] - 0s 10ms/step - loss: 0.3345 - accuracy: 0.8667 - val_loss: 0.2770 - val_accuracy: 0.9259 - lr: 1.0000e-15\n",
      "Epoch 201/1000\n",
      "9/9 [==============================] - 0s 26ms/step - loss: 0.3345 - accuracy: 0.8667 - val_loss: 0.2770 - val_accuracy: 0.9259 - lr: 1.0000e-15\n",
      "Epoch 202/1000\n",
      "9/9 [==============================] - 0s 10ms/step - loss: 0.3345 - accuracy: 0.8667 - val_loss: 0.2770 - val_accuracy: 0.9259 - lr: 1.0000e-16\n",
      "Epoch 203/1000\n",
      "9/9 [==============================] - 0s 10ms/step - loss: 0.3345 - accuracy: 0.8667 - val_loss: 0.2770 - val_accuracy: 0.9259 - lr: 1.0000e-16\n",
      "Epoch 204/1000\n",
      "9/9 [==============================] - 0s 10ms/step - loss: 0.3345 - accuracy: 0.8667 - val_loss: 0.2770 - val_accuracy: 0.9259 - lr: 1.0000e-16\n",
      "Epoch 205/1000\n",
      "9/9 [==============================] - 0s 10ms/step - loss: 0.3345 - accuracy: 0.8667 - val_loss: 0.2770 - val_accuracy: 0.9259 - lr: 1.0000e-16\n",
      "Epoch 206/1000\n",
      "9/9 [==============================] - 0s 10ms/step - loss: 0.3345 - accuracy: 0.8667 - val_loss: 0.2770 - val_accuracy: 0.9259 - lr: 1.0000e-16\n",
      "Epoch 207/1000\n",
      "9/9 [==============================] - 0s 11ms/step - loss: 0.3345 - accuracy: 0.8667 - val_loss: 0.2770 - val_accuracy: 0.9259 - lr: 1.0000e-17\n",
      "Epoch 208/1000\n",
      "9/9 [==============================] - 0s 13ms/step - loss: 0.3345 - accuracy: 0.8667 - val_loss: 0.2770 - val_accuracy: 0.9259 - lr: 1.0000e-17\n",
      "Epoch 209/1000\n",
      "9/9 [==============================] - 0s 11ms/step - loss: 0.3345 - accuracy: 0.8667 - val_loss: 0.2770 - val_accuracy: 0.9259 - lr: 1.0000e-17\n",
      "Epoch 210/1000\n",
      "9/9 [==============================] - 0s 10ms/step - loss: 0.3345 - accuracy: 0.8667 - val_loss: 0.2770 - val_accuracy: 0.9259 - lr: 1.0000e-17\n",
      "Epoch 211/1000\n",
      "9/9 [==============================] - 0s 10ms/step - loss: 0.3345 - accuracy: 0.8667 - val_loss: 0.2770 - val_accuracy: 0.9259 - lr: 1.0000e-17\n",
      "Epoch 212/1000\n",
      "9/9 [==============================] - 0s 10ms/step - loss: 0.3345 - accuracy: 0.8667 - val_loss: 0.2770 - val_accuracy: 0.9259 - lr: 1.0000e-18\n",
      "Epoch 213/1000\n",
      "9/9 [==============================] - 0s 11ms/step - loss: 0.3345 - accuracy: 0.8667 - val_loss: 0.2770 - val_accuracy: 0.9259 - lr: 1.0000e-18\n",
      "Epoch 214/1000\n",
      "9/9 [==============================] - 0s 16ms/step - loss: 0.3345 - accuracy: 0.8667 - val_loss: 0.2770 - val_accuracy: 0.9259 - lr: 1.0000e-18\n",
      "Epoch 215/1000\n",
      "9/9 [==============================] - 0s 19ms/step - loss: 0.3345 - accuracy: 0.8667 - val_loss: 0.2770 - val_accuracy: 0.9259 - lr: 1.0000e-18\n",
      "Epoch 216/1000\n",
      "9/9 [==============================] - 0s 13ms/step - loss: 0.3345 - accuracy: 0.8667 - val_loss: 0.2770 - val_accuracy: 0.9259 - lr: 1.0000e-18\n",
      "Epoch 217/1000\n",
      "9/9 [==============================] - 0s 11ms/step - loss: 0.3345 - accuracy: 0.8667 - val_loss: 0.2770 - val_accuracy: 0.9259 - lr: 1.0000e-19\n",
      "Epoch 218/1000\n",
      "9/9 [==============================] - 0s 10ms/step - loss: 0.3345 - accuracy: 0.8667 - val_loss: 0.2770 - val_accuracy: 0.9259 - lr: 1.0000e-19\n",
      "Epoch 219/1000\n",
      "9/9 [==============================] - 0s 10ms/step - loss: 0.3345 - accuracy: 0.8667 - val_loss: 0.2770 - val_accuracy: 0.9259 - lr: 1.0000e-19\n",
      "Epoch 220/1000\n",
      "9/9 [==============================] - 0s 11ms/step - loss: 0.3345 - accuracy: 0.8667 - val_loss: 0.2770 - val_accuracy: 0.9259 - lr: 1.0000e-19\n",
      "Epoch 221/1000\n",
      "9/9 [==============================] - 0s 10ms/step - loss: 0.3345 - accuracy: 0.8667 - val_loss: 0.2770 - val_accuracy: 0.9259 - lr: 1.0000e-19\n",
      "Epoch 222/1000\n",
      "9/9 [==============================] - 0s 9ms/step - loss: 0.3345 - accuracy: 0.8667 - val_loss: 0.2770 - val_accuracy: 0.9259 - lr: 1.0000e-20\n",
      "Epoch 223/1000\n",
      "9/9 [==============================] - 0s 9ms/step - loss: 0.3345 - accuracy: 0.8667 - val_loss: 0.2770 - val_accuracy: 0.9259 - lr: 1.0000e-20\n",
      "Epoch 224/1000\n",
      "9/9 [==============================] - 0s 9ms/step - loss: 0.3345 - accuracy: 0.8667 - val_loss: 0.2770 - val_accuracy: 0.9259 - lr: 1.0000e-20\n",
      "Epoch 225/1000\n",
      "9/9 [==============================] - 0s 9ms/step - loss: 0.3345 - accuracy: 0.8667 - val_loss: 0.2770 - val_accuracy: 0.9259 - lr: 1.0000e-20\n",
      "Epoch 226/1000\n",
      "9/9 [==============================] - 0s 9ms/step - loss: 0.3345 - accuracy: 0.8667 - val_loss: 0.2770 - val_accuracy: 0.9259 - lr: 1.0000e-20\n",
      "Epoch 227/1000\n",
      "9/9 [==============================] - 0s 9ms/step - loss: 0.3345 - accuracy: 0.8667 - val_loss: 0.2770 - val_accuracy: 0.9259 - lr: 1.0000e-21\n",
      "Epoch 228/1000\n",
      "9/9 [==============================] - 0s 21ms/step - loss: 0.3345 - accuracy: 0.8667 - val_loss: 0.2770 - val_accuracy: 0.9259 - lr: 1.0000e-21\n",
      "Epoch 229/1000\n",
      "9/9 [==============================] - 0s 15ms/step - loss: 0.3345 - accuracy: 0.8667 - val_loss: 0.2770 - val_accuracy: 0.9259 - lr: 1.0000e-21\n",
      "Epoch 230/1000\n",
      "9/9 [==============================] - 0s 12ms/step - loss: 0.3345 - accuracy: 0.8667 - val_loss: 0.2770 - val_accuracy: 0.9259 - lr: 1.0000e-21\n",
      "Epoch 231/1000\n",
      "9/9 [==============================] - 0s 9ms/step - loss: 0.3345 - accuracy: 0.8667 - val_loss: 0.2770 - val_accuracy: 0.9259 - lr: 1.0000e-21\n",
      "Epoch 232/1000\n",
      "9/9 [==============================] - 0s 9ms/step - loss: 0.3345 - accuracy: 0.8667 - val_loss: 0.2770 - val_accuracy: 0.9259 - lr: 1.0000e-22\n",
      "Epoch 233/1000\n",
      "9/9 [==============================] - 0s 9ms/step - loss: 0.3345 - accuracy: 0.8667 - val_loss: 0.2770 - val_accuracy: 0.9259 - lr: 1.0000e-22\n",
      "Epoch 234/1000\n",
      "9/9 [==============================] - 0s 9ms/step - loss: 0.3345 - accuracy: 0.8667 - val_loss: 0.2770 - val_accuracy: 0.9259 - lr: 1.0000e-22\n",
      "Epoch 235/1000\n",
      "9/9 [==============================] - 0s 10ms/step - loss: 0.3345 - accuracy: 0.8667 - val_loss: 0.2770 - val_accuracy: 0.9259 - lr: 1.0000e-22\n",
      "Epoch 236/1000\n",
      "9/9 [==============================] - 0s 9ms/step - loss: 0.3345 - accuracy: 0.8667 - val_loss: 0.2770 - val_accuracy: 0.9259 - lr: 1.0000e-22\n",
      "Epoch 237/1000\n",
      "9/9 [==============================] - 0s 9ms/step - loss: 0.3345 - accuracy: 0.8667 - val_loss: 0.2770 - val_accuracy: 0.9259 - lr: 1.0000e-23\n",
      "Epoch 238/1000\n",
      "9/9 [==============================] - 0s 11ms/step - loss: 0.3345 - accuracy: 0.8667 - val_loss: 0.2770 - val_accuracy: 0.9259 - lr: 1.0000e-23\n",
      "Epoch 239/1000\n",
      "9/9 [==============================] - 0s 17ms/step - loss: 0.3345 - accuracy: 0.8667 - val_loss: 0.2770 - val_accuracy: 0.9259 - lr: 1.0000e-23\n",
      "Epoch 240/1000\n",
      "9/9 [==============================] - 0s 20ms/step - loss: 0.3345 - accuracy: 0.8667 - val_loss: 0.2770 - val_accuracy: 0.9259 - lr: 1.0000e-23\n"
     ]
    }
   ],
   "source": [
    "model = create_model()\n",
    "hist = model.fit(\n",
    "    X_train,\n",
    "    y_train, \n",
    "    epochs=1000, \n",
    "    batch_size=16, \n",
    "    validation_data=(X_test, y_test),\n",
    "    callbacks=[early_stopping, reduce_lr]\n",
    ")"
   ]
  },
  {
   "cell_type": "code",
   "execution_count": 114,
   "metadata": {},
   "outputs": [
    {
     "data": {
      "application/vnd.plotly.v1+json": {
       "config": {
        "plotlyServerURL": "https://plot.ly"
       },
       "data": [
        {
         "hovertemplate": "variable=accuracy<br>epoch=%{x}<br>accuracy=%{y}<extra></extra>",
         "legendgroup": "accuracy",
         "line": {
          "color": "#636efa",
          "dash": "solid"
         },
         "marker": {
          "symbol": "circle"
         },
         "mode": "lines",
         "name": "accuracy",
         "orientation": "v",
         "showlegend": true,
         "type": "scatter",
         "x": [
          0,
          1,
          2,
          3,
          4,
          5,
          6,
          7,
          8,
          9,
          10,
          11,
          12,
          13,
          14,
          15,
          16,
          17,
          18,
          19,
          20,
          21,
          22,
          23,
          24,
          25,
          26,
          27,
          28,
          29,
          30,
          31,
          32,
          33,
          34,
          35,
          36,
          37,
          38,
          39,
          40,
          41,
          42,
          43,
          44,
          45,
          46,
          47,
          48,
          49,
          50,
          51,
          52,
          53,
          54,
          55,
          56,
          57,
          58,
          59,
          60,
          61,
          62,
          63,
          64,
          65,
          66,
          67,
          68,
          69,
          70,
          71,
          72,
          73,
          74,
          75,
          76,
          77,
          78,
          79,
          80,
          81,
          82,
          83,
          84,
          85,
          86,
          87,
          88,
          89,
          90,
          91,
          92,
          93,
          94,
          95,
          96,
          97,
          98,
          99,
          100,
          101,
          102,
          103,
          104,
          105,
          106,
          107,
          108,
          109,
          110,
          111,
          112,
          113,
          114,
          115,
          116,
          117,
          118,
          119,
          120,
          121,
          122,
          123,
          124,
          125,
          126,
          127,
          128,
          129,
          130,
          131,
          132,
          133,
          134,
          135,
          136,
          137,
          138,
          139,
          140,
          141,
          142,
          143,
          144,
          145,
          146,
          147,
          148,
          149,
          150,
          151,
          152,
          153,
          154,
          155,
          156,
          157,
          158,
          159,
          160,
          161,
          162,
          163,
          164,
          165,
          166,
          167,
          168,
          169,
          170,
          171,
          172,
          173,
          174,
          175,
          176,
          177,
          178,
          179,
          180,
          181,
          182,
          183,
          184,
          185,
          186,
          187,
          188,
          189,
          190,
          191,
          192,
          193,
          194,
          195,
          196,
          197,
          198,
          199,
          200,
          201,
          202,
          203,
          204,
          205,
          206,
          207,
          208,
          209,
          210,
          211,
          212,
          213,
          214,
          215,
          216,
          217,
          218,
          219,
          220,
          221,
          222,
          223,
          224,
          225,
          226,
          227,
          228,
          229,
          230,
          231,
          232,
          233,
          234,
          235,
          236,
          237,
          238,
          239
         ],
         "xaxis": "x",
         "y": [
          0.2518518567085266,
          0.3333333432674408,
          0.3629629611968994,
          0.3777777850627899,
          0.46666666865348816,
          0.46666666865348816,
          0.45185184478759766,
          0.385185182094574,
          0.3333333432674408,
          0.37037035822868347,
          0.43703705072402954,
          0.4888888895511627,
          0.6000000238418579,
          0.4888888895511627,
          0.6592592597007751,
          0.6814814805984497,
          0.7111111283302307,
          0.6296296119689941,
          0.5185185074806213,
          0.6222222447395325,
          0.5555555820465088,
          0.7037037014961243,
          0.7407407164573669,
          0.7333333492279053,
          0.6074073910713196,
          0.7481481432914734,
          0.7481481432914734,
          0.6666666865348816,
          0.7259259223937988,
          0.770370364189148,
          0.7111111283302307,
          0.7777777910232544,
          0.770370364189148,
          0.7925925850868225,
          0.770370364189148,
          0.7629629373550415,
          0.6962962746620178,
          0.8074073791503906,
          0.7851851582527161,
          0.8074073791503906,
          0.8444444537162781,
          0.8370370268821716,
          0.8222222328186035,
          0.8148148059844971,
          0.8222222328186035,
          0.8296296000480652,
          0.8444444537162781,
          0.8370370268821716,
          0.8444444537162781,
          0.8370370268821716,
          0.8444444537162781,
          0.8370370268821716,
          0.8148148059844971,
          0.8518518805503845,
          0.8666666746139526,
          0.8444444537162781,
          0.8370370268821716,
          0.8370370268821716,
          0.8444444537162781,
          0.8592592477798462,
          0.8666666746139526,
          0.8444444537162781,
          0.8444444537162781,
          0.8370370268821716,
          0.8592592477798462,
          0.8518518805503845,
          0.8518518805503845,
          0.8518518805503845,
          0.8518518805503845,
          0.8518518805503845,
          0.8592592477798462,
          0.8592592477798462,
          0.8518518805503845,
          0.8592592477798462,
          0.8666666746139526,
          0.8592592477798462,
          0.8592592477798462,
          0.8592592477798462,
          0.8444444537162781,
          0.8518518805503845,
          0.8592592477798462,
          0.8518518805503845,
          0.8518518805503845,
          0.8518518805503845,
          0.8592592477798462,
          0.8518518805503845,
          0.8592592477798462,
          0.8666666746139526,
          0.8592592477798462,
          0.8592592477798462,
          0.8592592477798462,
          0.8518518805503845,
          0.8666666746139526,
          0.8592592477798462,
          0.8592592477798462,
          0.8592592477798462,
          0.8666666746139526,
          0.8592592477798462,
          0.8666666746139526,
          0.8666666746139526,
          0.8592592477798462,
          0.8666666746139526,
          0.8666666746139526,
          0.8666666746139526,
          0.8666666746139526,
          0.8666666746139526,
          0.8666666746139526,
          0.8666666746139526,
          0.8666666746139526,
          0.8592592477798462,
          0.8592592477798462,
          0.8666666746139526,
          0.8518518805503845,
          0.8666666746139526,
          0.8592592477798462,
          0.8666666746139526,
          0.8666666746139526,
          0.8666666746139526,
          0.8592592477798462,
          0.8666666746139526,
          0.8666666746139526,
          0.8666666746139526,
          0.8666666746139526,
          0.8666666746139526,
          0.8666666746139526,
          0.8592592477798462,
          0.8666666746139526,
          0.8740741014480591,
          0.8740741014480591,
          0.8666666746139526,
          0.8666666746139526,
          0.8666666746139526,
          0.8592592477798462,
          0.8740741014480591,
          0.8666666746139526,
          0.8666666746139526,
          0.8666666746139526,
          0.8666666746139526,
          0.8666666746139526,
          0.8666666746139526,
          0.8740741014480591,
          0.8666666746139526,
          0.8666666746139526,
          0.8666666746139526,
          0.8666666746139526,
          0.8666666746139526,
          0.8666666746139526,
          0.8666666746139526,
          0.8666666746139526,
          0.8666666746139526,
          0.8666666746139526,
          0.8666666746139526,
          0.8666666746139526,
          0.8666666746139526,
          0.8666666746139526,
          0.8666666746139526,
          0.8666666746139526,
          0.8666666746139526,
          0.8666666746139526,
          0.8666666746139526,
          0.8666666746139526,
          0.8666666746139526,
          0.8666666746139526,
          0.8666666746139526,
          0.8666666746139526,
          0.8666666746139526,
          0.8666666746139526,
          0.8666666746139526,
          0.8666666746139526,
          0.8666666746139526,
          0.8666666746139526,
          0.8666666746139526,
          0.8666666746139526,
          0.8666666746139526,
          0.8666666746139526,
          0.8666666746139526,
          0.8666666746139526,
          0.8666666746139526,
          0.8666666746139526,
          0.8666666746139526,
          0.8666666746139526,
          0.8666666746139526,
          0.8666666746139526,
          0.8666666746139526,
          0.8666666746139526,
          0.8666666746139526,
          0.8666666746139526,
          0.8666666746139526,
          0.8666666746139526,
          0.8666666746139526,
          0.8666666746139526,
          0.8666666746139526,
          0.8666666746139526,
          0.8666666746139526,
          0.8666666746139526,
          0.8666666746139526,
          0.8666666746139526,
          0.8666666746139526,
          0.8666666746139526,
          0.8666666746139526,
          0.8666666746139526,
          0.8666666746139526,
          0.8666666746139526,
          0.8666666746139526,
          0.8666666746139526,
          0.8666666746139526,
          0.8666666746139526,
          0.8666666746139526,
          0.8666666746139526,
          0.8666666746139526,
          0.8666666746139526,
          0.8666666746139526,
          0.8666666746139526,
          0.8666666746139526,
          0.8666666746139526,
          0.8666666746139526,
          0.8666666746139526,
          0.8666666746139526,
          0.8666666746139526,
          0.8666666746139526,
          0.8666666746139526,
          0.8666666746139526,
          0.8666666746139526,
          0.8666666746139526,
          0.8666666746139526,
          0.8666666746139526,
          0.8666666746139526,
          0.8666666746139526,
          0.8666666746139526,
          0.8666666746139526,
          0.8666666746139526,
          0.8666666746139526,
          0.8666666746139526,
          0.8666666746139526,
          0.8666666746139526,
          0.8666666746139526,
          0.8666666746139526,
          0.8666666746139526,
          0.8666666746139526,
          0.8666666746139526
         ],
         "yaxis": "y"
        },
        {
         "hovertemplate": "variable=val_accuracy<br>epoch=%{x}<br>accuracy=%{y}<extra></extra>",
         "legendgroup": "val_accuracy",
         "line": {
          "color": "#EF553B",
          "dash": "solid"
         },
         "marker": {
          "symbol": "circle"
         },
         "mode": "lines",
         "name": "val_accuracy",
         "orientation": "v",
         "showlegend": true,
         "type": "scatter",
         "x": [
          0,
          1,
          2,
          3,
          4,
          5,
          6,
          7,
          8,
          9,
          10,
          11,
          12,
          13,
          14,
          15,
          16,
          17,
          18,
          19,
          20,
          21,
          22,
          23,
          24,
          25,
          26,
          27,
          28,
          29,
          30,
          31,
          32,
          33,
          34,
          35,
          36,
          37,
          38,
          39,
          40,
          41,
          42,
          43,
          44,
          45,
          46,
          47,
          48,
          49,
          50,
          51,
          52,
          53,
          54,
          55,
          56,
          57,
          58,
          59,
          60,
          61,
          62,
          63,
          64,
          65,
          66,
          67,
          68,
          69,
          70,
          71,
          72,
          73,
          74,
          75,
          76,
          77,
          78,
          79,
          80,
          81,
          82,
          83,
          84,
          85,
          86,
          87,
          88,
          89,
          90,
          91,
          92,
          93,
          94,
          95,
          96,
          97,
          98,
          99,
          100,
          101,
          102,
          103,
          104,
          105,
          106,
          107,
          108,
          109,
          110,
          111,
          112,
          113,
          114,
          115,
          116,
          117,
          118,
          119,
          120,
          121,
          122,
          123,
          124,
          125,
          126,
          127,
          128,
          129,
          130,
          131,
          132,
          133,
          134,
          135,
          136,
          137,
          138,
          139,
          140,
          141,
          142,
          143,
          144,
          145,
          146,
          147,
          148,
          149,
          150,
          151,
          152,
          153,
          154,
          155,
          156,
          157,
          158,
          159,
          160,
          161,
          162,
          163,
          164,
          165,
          166,
          167,
          168,
          169,
          170,
          171,
          172,
          173,
          174,
          175,
          176,
          177,
          178,
          179,
          180,
          181,
          182,
          183,
          184,
          185,
          186,
          187,
          188,
          189,
          190,
          191,
          192,
          193,
          194,
          195,
          196,
          197,
          198,
          199,
          200,
          201,
          202,
          203,
          204,
          205,
          206,
          207,
          208,
          209,
          210,
          211,
          212,
          213,
          214,
          215,
          216,
          217,
          218,
          219,
          220,
          221,
          222,
          223,
          224,
          225,
          226,
          227,
          228,
          229,
          230,
          231,
          232,
          233,
          234,
          235,
          236,
          237,
          238,
          239
         ],
         "xaxis": "x",
         "y": [
          0.3333333432674408,
          0.29629629850387573,
          0.5,
          0.5370370149612427,
          0.5370370149612427,
          0.6111111044883728,
          0.6851851940155029,
          0.3333333432674408,
          0.48148149251937866,
          0.37037035822868347,
          0.3888888955116272,
          0.6111111044883728,
          0.6666666865348816,
          0.7777777910232544,
          0.7592592835426331,
          0.7962962985038757,
          0.8148148059844971,
          0.5370370149612427,
          0.6666666865348816,
          0.6666666865348816,
          0.7037037014961243,
          0.8888888955116272,
          0.8148148059844971,
          0.6851851940155029,
          0.7037037014961243,
          0.8888888955116272,
          0.9074074029922485,
          0.5925925970077515,
          0.7222222089767456,
          0.7407407164573669,
          0.7592592835426331,
          0.8148148059844971,
          0.9074074029922485,
          0.8703703880310059,
          0.9074074029922485,
          0.9074074029922485,
          0.8888888955116272,
          0.8703703880310059,
          0.9074074029922485,
          0.9074074029922485,
          0.8148148059844971,
          0.9074074029922485,
          0.8333333134651184,
          0.9074074029922485,
          0.9074074029922485,
          0.9074074029922485,
          0.8518518805503845,
          0.9074074029922485,
          0.8888888955116272,
          0.8333333134651184,
          0.8888888955116272,
          0.9259259104728699,
          0.9259259104728699,
          0.9074074029922485,
          0.9259259104728699,
          0.8888888955116272,
          0.9259259104728699,
          0.8888888955116272,
          0.9259259104728699,
          0.9444444179534912,
          0.9444444179534912,
          0.8888888955116272,
          0.8888888955116272,
          0.9444444179534912,
          0.9444444179534912,
          0.9259259104728699,
          0.9259259104728699,
          0.9259259104728699,
          0.9444444179534912,
          0.9444444179534912,
          0.9444444179534912,
          0.9444444179534912,
          0.9259259104728699,
          0.9259259104728699,
          0.9444444179534912,
          0.9444444179534912,
          0.9259259104728699,
          0.9259259104728699,
          0.9444444179534912,
          0.9259259104728699,
          0.9259259104728699,
          0.9444444179534912,
          0.9444444179534912,
          0.9259259104728699,
          0.9259259104728699,
          0.9444444179534912,
          0.9444444179534912,
          0.9259259104728699,
          0.9259259104728699,
          0.9259259104728699,
          0.9444444179534912,
          0.9444444179534912,
          0.9259259104728699,
          0.9259259104728699,
          0.9444444179534912,
          0.9259259104728699,
          0.9444444179534912,
          0.9444444179534912,
          0.9444444179534912,
          0.9444444179534912,
          0.9444444179534912,
          0.9444444179534912,
          0.9444444179534912,
          0.9444444179534912,
          0.9444444179534912,
          0.9259259104728699,
          0.9259259104728699,
          0.9444444179534912,
          0.9259259104728699,
          0.9259259104728699,
          0.9259259104728699,
          0.9444444179534912,
          0.9444444179534912,
          0.9259259104728699,
          0.9259259104728699,
          0.9444444179534912,
          0.9444444179534912,
          0.9259259104728699,
          0.9259259104728699,
          0.9259259104728699,
          0.9444444179534912,
          0.9444444179534912,
          0.9444444179534912,
          0.9259259104728699,
          0.9444444179534912,
          0.9444444179534912,
          0.9259259104728699,
          0.9259259104728699,
          0.9444444179534912,
          0.9444444179534912,
          0.9444444179534912,
          0.9444444179534912,
          0.9259259104728699,
          0.9444444179534912,
          0.9444444179534912,
          0.9259259104728699,
          0.9444444179534912,
          0.9259259104728699,
          0.9444444179534912,
          0.9444444179534912,
          0.9444444179534912,
          0.9444444179534912,
          0.9259259104728699,
          0.9259259104728699,
          0.9444444179534912,
          0.9444444179534912,
          0.9444444179534912,
          0.9444444179534912,
          0.9444444179534912,
          0.9444444179534912,
          0.9259259104728699,
          0.9259259104728699,
          0.9259259104728699,
          0.9259259104728699,
          0.9259259104728699,
          0.9259259104728699,
          0.9259259104728699,
          0.9259259104728699,
          0.9259259104728699,
          0.9259259104728699,
          0.9259259104728699,
          0.9259259104728699,
          0.9259259104728699,
          0.9259259104728699,
          0.9259259104728699,
          0.9259259104728699,
          0.9259259104728699,
          0.9259259104728699,
          0.9259259104728699,
          0.9259259104728699,
          0.9259259104728699,
          0.9259259104728699,
          0.9259259104728699,
          0.9259259104728699,
          0.9259259104728699,
          0.9259259104728699,
          0.9259259104728699,
          0.9259259104728699,
          0.9259259104728699,
          0.9259259104728699,
          0.9259259104728699,
          0.9259259104728699,
          0.9259259104728699,
          0.9259259104728699,
          0.9259259104728699,
          0.9259259104728699,
          0.9259259104728699,
          0.9259259104728699,
          0.9259259104728699,
          0.9259259104728699,
          0.9259259104728699,
          0.9259259104728699,
          0.9259259104728699,
          0.9259259104728699,
          0.9259259104728699,
          0.9259259104728699,
          0.9259259104728699,
          0.9259259104728699,
          0.9259259104728699,
          0.9259259104728699,
          0.9259259104728699,
          0.9259259104728699,
          0.9259259104728699,
          0.9259259104728699,
          0.9259259104728699,
          0.9259259104728699,
          0.9259259104728699,
          0.9259259104728699,
          0.9259259104728699,
          0.9259259104728699,
          0.9259259104728699,
          0.9259259104728699,
          0.9259259104728699,
          0.9259259104728699,
          0.9259259104728699,
          0.9259259104728699,
          0.9259259104728699,
          0.9259259104728699,
          0.9259259104728699,
          0.9259259104728699,
          0.9259259104728699,
          0.9259259104728699,
          0.9259259104728699,
          0.9259259104728699,
          0.9259259104728699,
          0.9259259104728699,
          0.9259259104728699,
          0.9259259104728699,
          0.9259259104728699,
          0.9259259104728699,
          0.9259259104728699,
          0.9259259104728699,
          0.9259259104728699,
          0.9259259104728699,
          0.9259259104728699,
          0.9259259104728699,
          0.9259259104728699,
          0.9259259104728699,
          0.9259259104728699,
          0.9259259104728699
         ],
         "yaxis": "y"
        }
       ],
       "layout": {
        "legend": {
         "title": {
          "text": "variable"
         },
         "tracegroupgap": 0
        },
        "margin": {
         "t": 60
        },
        "template": {
         "data": {
          "bar": [
           {
            "error_x": {
             "color": "#2a3f5f"
            },
            "error_y": {
             "color": "#2a3f5f"
            },
            "marker": {
             "line": {
              "color": "#E5ECF6",
              "width": 0.5
             },
             "pattern": {
              "fillmode": "overlay",
              "size": 10,
              "solidity": 0.2
             }
            },
            "type": "bar"
           }
          ],
          "barpolar": [
           {
            "marker": {
             "line": {
              "color": "#E5ECF6",
              "width": 0.5
             },
             "pattern": {
              "fillmode": "overlay",
              "size": 10,
              "solidity": 0.2
             }
            },
            "type": "barpolar"
           }
          ],
          "carpet": [
           {
            "aaxis": {
             "endlinecolor": "#2a3f5f",
             "gridcolor": "white",
             "linecolor": "white",
             "minorgridcolor": "white",
             "startlinecolor": "#2a3f5f"
            },
            "baxis": {
             "endlinecolor": "#2a3f5f",
             "gridcolor": "white",
             "linecolor": "white",
             "minorgridcolor": "white",
             "startlinecolor": "#2a3f5f"
            },
            "type": "carpet"
           }
          ],
          "choropleth": [
           {
            "colorbar": {
             "outlinewidth": 0,
             "ticks": ""
            },
            "type": "choropleth"
           }
          ],
          "contour": [
           {
            "colorbar": {
             "outlinewidth": 0,
             "ticks": ""
            },
            "colorscale": [
             [
              0,
              "#0d0887"
             ],
             [
              0.1111111111111111,
              "#46039f"
             ],
             [
              0.2222222222222222,
              "#7201a8"
             ],
             [
              0.3333333333333333,
              "#9c179e"
             ],
             [
              0.4444444444444444,
              "#bd3786"
             ],
             [
              0.5555555555555556,
              "#d8576b"
             ],
             [
              0.6666666666666666,
              "#ed7953"
             ],
             [
              0.7777777777777778,
              "#fb9f3a"
             ],
             [
              0.8888888888888888,
              "#fdca26"
             ],
             [
              1,
              "#f0f921"
             ]
            ],
            "type": "contour"
           }
          ],
          "contourcarpet": [
           {
            "colorbar": {
             "outlinewidth": 0,
             "ticks": ""
            },
            "type": "contourcarpet"
           }
          ],
          "heatmap": [
           {
            "colorbar": {
             "outlinewidth": 0,
             "ticks": ""
            },
            "colorscale": [
             [
              0,
              "#0d0887"
             ],
             [
              0.1111111111111111,
              "#46039f"
             ],
             [
              0.2222222222222222,
              "#7201a8"
             ],
             [
              0.3333333333333333,
              "#9c179e"
             ],
             [
              0.4444444444444444,
              "#bd3786"
             ],
             [
              0.5555555555555556,
              "#d8576b"
             ],
             [
              0.6666666666666666,
              "#ed7953"
             ],
             [
              0.7777777777777778,
              "#fb9f3a"
             ],
             [
              0.8888888888888888,
              "#fdca26"
             ],
             [
              1,
              "#f0f921"
             ]
            ],
            "type": "heatmap"
           }
          ],
          "heatmapgl": [
           {
            "colorbar": {
             "outlinewidth": 0,
             "ticks": ""
            },
            "colorscale": [
             [
              0,
              "#0d0887"
             ],
             [
              0.1111111111111111,
              "#46039f"
             ],
             [
              0.2222222222222222,
              "#7201a8"
             ],
             [
              0.3333333333333333,
              "#9c179e"
             ],
             [
              0.4444444444444444,
              "#bd3786"
             ],
             [
              0.5555555555555556,
              "#d8576b"
             ],
             [
              0.6666666666666666,
              "#ed7953"
             ],
             [
              0.7777777777777778,
              "#fb9f3a"
             ],
             [
              0.8888888888888888,
              "#fdca26"
             ],
             [
              1,
              "#f0f921"
             ]
            ],
            "type": "heatmapgl"
           }
          ],
          "histogram": [
           {
            "marker": {
             "pattern": {
              "fillmode": "overlay",
              "size": 10,
              "solidity": 0.2
             }
            },
            "type": "histogram"
           }
          ],
          "histogram2d": [
           {
            "colorbar": {
             "outlinewidth": 0,
             "ticks": ""
            },
            "colorscale": [
             [
              0,
              "#0d0887"
             ],
             [
              0.1111111111111111,
              "#46039f"
             ],
             [
              0.2222222222222222,
              "#7201a8"
             ],
             [
              0.3333333333333333,
              "#9c179e"
             ],
             [
              0.4444444444444444,
              "#bd3786"
             ],
             [
              0.5555555555555556,
              "#d8576b"
             ],
             [
              0.6666666666666666,
              "#ed7953"
             ],
             [
              0.7777777777777778,
              "#fb9f3a"
             ],
             [
              0.8888888888888888,
              "#fdca26"
             ],
             [
              1,
              "#f0f921"
             ]
            ],
            "type": "histogram2d"
           }
          ],
          "histogram2dcontour": [
           {
            "colorbar": {
             "outlinewidth": 0,
             "ticks": ""
            },
            "colorscale": [
             [
              0,
              "#0d0887"
             ],
             [
              0.1111111111111111,
              "#46039f"
             ],
             [
              0.2222222222222222,
              "#7201a8"
             ],
             [
              0.3333333333333333,
              "#9c179e"
             ],
             [
              0.4444444444444444,
              "#bd3786"
             ],
             [
              0.5555555555555556,
              "#d8576b"
             ],
             [
              0.6666666666666666,
              "#ed7953"
             ],
             [
              0.7777777777777778,
              "#fb9f3a"
             ],
             [
              0.8888888888888888,
              "#fdca26"
             ],
             [
              1,
              "#f0f921"
             ]
            ],
            "type": "histogram2dcontour"
           }
          ],
          "mesh3d": [
           {
            "colorbar": {
             "outlinewidth": 0,
             "ticks": ""
            },
            "type": "mesh3d"
           }
          ],
          "parcoords": [
           {
            "line": {
             "colorbar": {
              "outlinewidth": 0,
              "ticks": ""
             }
            },
            "type": "parcoords"
           }
          ],
          "pie": [
           {
            "automargin": true,
            "type": "pie"
           }
          ],
          "scatter": [
           {
            "fillpattern": {
             "fillmode": "overlay",
             "size": 10,
             "solidity": 0.2
            },
            "type": "scatter"
           }
          ],
          "scatter3d": [
           {
            "line": {
             "colorbar": {
              "outlinewidth": 0,
              "ticks": ""
             }
            },
            "marker": {
             "colorbar": {
              "outlinewidth": 0,
              "ticks": ""
             }
            },
            "type": "scatter3d"
           }
          ],
          "scattercarpet": [
           {
            "marker": {
             "colorbar": {
              "outlinewidth": 0,
              "ticks": ""
             }
            },
            "type": "scattercarpet"
           }
          ],
          "scattergeo": [
           {
            "marker": {
             "colorbar": {
              "outlinewidth": 0,
              "ticks": ""
             }
            },
            "type": "scattergeo"
           }
          ],
          "scattergl": [
           {
            "marker": {
             "colorbar": {
              "outlinewidth": 0,
              "ticks": ""
             }
            },
            "type": "scattergl"
           }
          ],
          "scattermapbox": [
           {
            "marker": {
             "colorbar": {
              "outlinewidth": 0,
              "ticks": ""
             }
            },
            "type": "scattermapbox"
           }
          ],
          "scatterpolar": [
           {
            "marker": {
             "colorbar": {
              "outlinewidth": 0,
              "ticks": ""
             }
            },
            "type": "scatterpolar"
           }
          ],
          "scatterpolargl": [
           {
            "marker": {
             "colorbar": {
              "outlinewidth": 0,
              "ticks": ""
             }
            },
            "type": "scatterpolargl"
           }
          ],
          "scatterternary": [
           {
            "marker": {
             "colorbar": {
              "outlinewidth": 0,
              "ticks": ""
             }
            },
            "type": "scatterternary"
           }
          ],
          "surface": [
           {
            "colorbar": {
             "outlinewidth": 0,
             "ticks": ""
            },
            "colorscale": [
             [
              0,
              "#0d0887"
             ],
             [
              0.1111111111111111,
              "#46039f"
             ],
             [
              0.2222222222222222,
              "#7201a8"
             ],
             [
              0.3333333333333333,
              "#9c179e"
             ],
             [
              0.4444444444444444,
              "#bd3786"
             ],
             [
              0.5555555555555556,
              "#d8576b"
             ],
             [
              0.6666666666666666,
              "#ed7953"
             ],
             [
              0.7777777777777778,
              "#fb9f3a"
             ],
             [
              0.8888888888888888,
              "#fdca26"
             ],
             [
              1,
              "#f0f921"
             ]
            ],
            "type": "surface"
           }
          ],
          "table": [
           {
            "cells": {
             "fill": {
              "color": "#EBF0F8"
             },
             "line": {
              "color": "white"
             }
            },
            "header": {
             "fill": {
              "color": "#C8D4E3"
             },
             "line": {
              "color": "white"
             }
            },
            "type": "table"
           }
          ]
         },
         "layout": {
          "annotationdefaults": {
           "arrowcolor": "#2a3f5f",
           "arrowhead": 0,
           "arrowwidth": 1
          },
          "autotypenumbers": "strict",
          "coloraxis": {
           "colorbar": {
            "outlinewidth": 0,
            "ticks": ""
           }
          },
          "colorscale": {
           "diverging": [
            [
             0,
             "#8e0152"
            ],
            [
             0.1,
             "#c51b7d"
            ],
            [
             0.2,
             "#de77ae"
            ],
            [
             0.3,
             "#f1b6da"
            ],
            [
             0.4,
             "#fde0ef"
            ],
            [
             0.5,
             "#f7f7f7"
            ],
            [
             0.6,
             "#e6f5d0"
            ],
            [
             0.7,
             "#b8e186"
            ],
            [
             0.8,
             "#7fbc41"
            ],
            [
             0.9,
             "#4d9221"
            ],
            [
             1,
             "#276419"
            ]
           ],
           "sequential": [
            [
             0,
             "#0d0887"
            ],
            [
             0.1111111111111111,
             "#46039f"
            ],
            [
             0.2222222222222222,
             "#7201a8"
            ],
            [
             0.3333333333333333,
             "#9c179e"
            ],
            [
             0.4444444444444444,
             "#bd3786"
            ],
            [
             0.5555555555555556,
             "#d8576b"
            ],
            [
             0.6666666666666666,
             "#ed7953"
            ],
            [
             0.7777777777777778,
             "#fb9f3a"
            ],
            [
             0.8888888888888888,
             "#fdca26"
            ],
            [
             1,
             "#f0f921"
            ]
           ],
           "sequentialminus": [
            [
             0,
             "#0d0887"
            ],
            [
             0.1111111111111111,
             "#46039f"
            ],
            [
             0.2222222222222222,
             "#7201a8"
            ],
            [
             0.3333333333333333,
             "#9c179e"
            ],
            [
             0.4444444444444444,
             "#bd3786"
            ],
            [
             0.5555555555555556,
             "#d8576b"
            ],
            [
             0.6666666666666666,
             "#ed7953"
            ],
            [
             0.7777777777777778,
             "#fb9f3a"
            ],
            [
             0.8888888888888888,
             "#fdca26"
            ],
            [
             1,
             "#f0f921"
            ]
           ]
          },
          "colorway": [
           "#636efa",
           "#EF553B",
           "#00cc96",
           "#ab63fa",
           "#FFA15A",
           "#19d3f3",
           "#FF6692",
           "#B6E880",
           "#FF97FF",
           "#FECB52"
          ],
          "font": {
           "color": "#2a3f5f"
          },
          "geo": {
           "bgcolor": "white",
           "lakecolor": "white",
           "landcolor": "#E5ECF6",
           "showlakes": true,
           "showland": true,
           "subunitcolor": "white"
          },
          "hoverlabel": {
           "align": "left"
          },
          "hovermode": "closest",
          "mapbox": {
           "style": "light"
          },
          "paper_bgcolor": "white",
          "plot_bgcolor": "#E5ECF6",
          "polar": {
           "angularaxis": {
            "gridcolor": "white",
            "linecolor": "white",
            "ticks": ""
           },
           "bgcolor": "#E5ECF6",
           "radialaxis": {
            "gridcolor": "white",
            "linecolor": "white",
            "ticks": ""
           }
          },
          "scene": {
           "xaxis": {
            "backgroundcolor": "#E5ECF6",
            "gridcolor": "white",
            "gridwidth": 2,
            "linecolor": "white",
            "showbackground": true,
            "ticks": "",
            "zerolinecolor": "white"
           },
           "yaxis": {
            "backgroundcolor": "#E5ECF6",
            "gridcolor": "white",
            "gridwidth": 2,
            "linecolor": "white",
            "showbackground": true,
            "ticks": "",
            "zerolinecolor": "white"
           },
           "zaxis": {
            "backgroundcolor": "#E5ECF6",
            "gridcolor": "white",
            "gridwidth": 2,
            "linecolor": "white",
            "showbackground": true,
            "ticks": "",
            "zerolinecolor": "white"
           }
          },
          "shapedefaults": {
           "line": {
            "color": "#2a3f5f"
           }
          },
          "ternary": {
           "aaxis": {
            "gridcolor": "white",
            "linecolor": "white",
            "ticks": ""
           },
           "baxis": {
            "gridcolor": "white",
            "linecolor": "white",
            "ticks": ""
           },
           "bgcolor": "#E5ECF6",
           "caxis": {
            "gridcolor": "white",
            "linecolor": "white",
            "ticks": ""
           }
          },
          "title": {
           "x": 0.05
          },
          "xaxis": {
           "automargin": true,
           "gridcolor": "white",
           "linecolor": "white",
           "ticks": "",
           "title": {
            "standoff": 15
           },
           "zerolinecolor": "white",
           "zerolinewidth": 2
          },
          "yaxis": {
           "automargin": true,
           "gridcolor": "white",
           "linecolor": "white",
           "ticks": "",
           "title": {
            "standoff": 15
           },
           "zerolinecolor": "white",
           "zerolinewidth": 2
          }
         }
        },
        "xaxis": {
         "anchor": "y",
         "domain": [
          0,
          1
         ],
         "title": {
          "text": "epoch"
         }
        },
        "yaxis": {
         "anchor": "x",
         "domain": [
          0,
          1
         ],
         "title": {
          "text": "accuracy"
         }
        }
       }
      }
     },
     "metadata": {},
     "output_type": "display_data"
    }
   ],
   "source": [
    "px.line(hist.history, y=['accuracy', 'val_accuracy'], labels={'index': 'epoch', 'value': 'accuracy'})"
   ]
  },
  {
   "cell_type": "code",
   "execution_count": 115,
   "metadata": {},
   "outputs": [
    {
     "name": "stdout",
     "output_type": "stream",
     "text": [
      "2/2 [==============================] - 0s 6ms/step\n"
     ]
    },
    {
     "data": {
      "application/vnd.plotly.v1+json": {
       "config": {
        "plotlyServerURL": "https://plot.ly"
       },
       "data": [
        {
         "coloraxis": "coloraxis",
         "hovertemplate": "x: %{x}<br>y: %{y}<br>color: %{z}<extra></extra>",
         "name": "0",
         "type": "heatmap",
         "x": [
          "back",
          "left",
          "right"
         ],
         "xaxis": "x",
         "y": [
          "back",
          "left",
          "right"
         ],
         "yaxis": "y",
         "z": [
          [
           17,
           0,
           1
          ],
          [
           0,
           18,
           0
          ],
          [
           2,
           0,
           16
          ]
         ]
        }
       ],
       "layout": {
        "coloraxis": {
         "colorscale": [
          [
           0,
           "rgb(247,251,255)"
          ],
          [
           0.125,
           "rgb(222,235,247)"
          ],
          [
           0.25,
           "rgb(198,219,239)"
          ],
          [
           0.375,
           "rgb(158,202,225)"
          ],
          [
           0.5,
           "rgb(107,174,214)"
          ],
          [
           0.625,
           "rgb(66,146,198)"
          ],
          [
           0.75,
           "rgb(33,113,181)"
          ],
          [
           0.875,
           "rgb(8,81,156)"
          ],
          [
           1,
           "rgb(8,48,107)"
          ]
         ]
        },
        "margin": {
         "t": 60
        },
        "template": {
         "data": {
          "bar": [
           {
            "error_x": {
             "color": "#2a3f5f"
            },
            "error_y": {
             "color": "#2a3f5f"
            },
            "marker": {
             "line": {
              "color": "#E5ECF6",
              "width": 0.5
             },
             "pattern": {
              "fillmode": "overlay",
              "size": 10,
              "solidity": 0.2
             }
            },
            "type": "bar"
           }
          ],
          "barpolar": [
           {
            "marker": {
             "line": {
              "color": "#E5ECF6",
              "width": 0.5
             },
             "pattern": {
              "fillmode": "overlay",
              "size": 10,
              "solidity": 0.2
             }
            },
            "type": "barpolar"
           }
          ],
          "carpet": [
           {
            "aaxis": {
             "endlinecolor": "#2a3f5f",
             "gridcolor": "white",
             "linecolor": "white",
             "minorgridcolor": "white",
             "startlinecolor": "#2a3f5f"
            },
            "baxis": {
             "endlinecolor": "#2a3f5f",
             "gridcolor": "white",
             "linecolor": "white",
             "minorgridcolor": "white",
             "startlinecolor": "#2a3f5f"
            },
            "type": "carpet"
           }
          ],
          "choropleth": [
           {
            "colorbar": {
             "outlinewidth": 0,
             "ticks": ""
            },
            "type": "choropleth"
           }
          ],
          "contour": [
           {
            "colorbar": {
             "outlinewidth": 0,
             "ticks": ""
            },
            "colorscale": [
             [
              0,
              "#0d0887"
             ],
             [
              0.1111111111111111,
              "#46039f"
             ],
             [
              0.2222222222222222,
              "#7201a8"
             ],
             [
              0.3333333333333333,
              "#9c179e"
             ],
             [
              0.4444444444444444,
              "#bd3786"
             ],
             [
              0.5555555555555556,
              "#d8576b"
             ],
             [
              0.6666666666666666,
              "#ed7953"
             ],
             [
              0.7777777777777778,
              "#fb9f3a"
             ],
             [
              0.8888888888888888,
              "#fdca26"
             ],
             [
              1,
              "#f0f921"
             ]
            ],
            "type": "contour"
           }
          ],
          "contourcarpet": [
           {
            "colorbar": {
             "outlinewidth": 0,
             "ticks": ""
            },
            "type": "contourcarpet"
           }
          ],
          "heatmap": [
           {
            "colorbar": {
             "outlinewidth": 0,
             "ticks": ""
            },
            "colorscale": [
             [
              0,
              "#0d0887"
             ],
             [
              0.1111111111111111,
              "#46039f"
             ],
             [
              0.2222222222222222,
              "#7201a8"
             ],
             [
              0.3333333333333333,
              "#9c179e"
             ],
             [
              0.4444444444444444,
              "#bd3786"
             ],
             [
              0.5555555555555556,
              "#d8576b"
             ],
             [
              0.6666666666666666,
              "#ed7953"
             ],
             [
              0.7777777777777778,
              "#fb9f3a"
             ],
             [
              0.8888888888888888,
              "#fdca26"
             ],
             [
              1,
              "#f0f921"
             ]
            ],
            "type": "heatmap"
           }
          ],
          "heatmapgl": [
           {
            "colorbar": {
             "outlinewidth": 0,
             "ticks": ""
            },
            "colorscale": [
             [
              0,
              "#0d0887"
             ],
             [
              0.1111111111111111,
              "#46039f"
             ],
             [
              0.2222222222222222,
              "#7201a8"
             ],
             [
              0.3333333333333333,
              "#9c179e"
             ],
             [
              0.4444444444444444,
              "#bd3786"
             ],
             [
              0.5555555555555556,
              "#d8576b"
             ],
             [
              0.6666666666666666,
              "#ed7953"
             ],
             [
              0.7777777777777778,
              "#fb9f3a"
             ],
             [
              0.8888888888888888,
              "#fdca26"
             ],
             [
              1,
              "#f0f921"
             ]
            ],
            "type": "heatmapgl"
           }
          ],
          "histogram": [
           {
            "marker": {
             "pattern": {
              "fillmode": "overlay",
              "size": 10,
              "solidity": 0.2
             }
            },
            "type": "histogram"
           }
          ],
          "histogram2d": [
           {
            "colorbar": {
             "outlinewidth": 0,
             "ticks": ""
            },
            "colorscale": [
             [
              0,
              "#0d0887"
             ],
             [
              0.1111111111111111,
              "#46039f"
             ],
             [
              0.2222222222222222,
              "#7201a8"
             ],
             [
              0.3333333333333333,
              "#9c179e"
             ],
             [
              0.4444444444444444,
              "#bd3786"
             ],
             [
              0.5555555555555556,
              "#d8576b"
             ],
             [
              0.6666666666666666,
              "#ed7953"
             ],
             [
              0.7777777777777778,
              "#fb9f3a"
             ],
             [
              0.8888888888888888,
              "#fdca26"
             ],
             [
              1,
              "#f0f921"
             ]
            ],
            "type": "histogram2d"
           }
          ],
          "histogram2dcontour": [
           {
            "colorbar": {
             "outlinewidth": 0,
             "ticks": ""
            },
            "colorscale": [
             [
              0,
              "#0d0887"
             ],
             [
              0.1111111111111111,
              "#46039f"
             ],
             [
              0.2222222222222222,
              "#7201a8"
             ],
             [
              0.3333333333333333,
              "#9c179e"
             ],
             [
              0.4444444444444444,
              "#bd3786"
             ],
             [
              0.5555555555555556,
              "#d8576b"
             ],
             [
              0.6666666666666666,
              "#ed7953"
             ],
             [
              0.7777777777777778,
              "#fb9f3a"
             ],
             [
              0.8888888888888888,
              "#fdca26"
             ],
             [
              1,
              "#f0f921"
             ]
            ],
            "type": "histogram2dcontour"
           }
          ],
          "mesh3d": [
           {
            "colorbar": {
             "outlinewidth": 0,
             "ticks": ""
            },
            "type": "mesh3d"
           }
          ],
          "parcoords": [
           {
            "line": {
             "colorbar": {
              "outlinewidth": 0,
              "ticks": ""
             }
            },
            "type": "parcoords"
           }
          ],
          "pie": [
           {
            "automargin": true,
            "type": "pie"
           }
          ],
          "scatter": [
           {
            "fillpattern": {
             "fillmode": "overlay",
             "size": 10,
             "solidity": 0.2
            },
            "type": "scatter"
           }
          ],
          "scatter3d": [
           {
            "line": {
             "colorbar": {
              "outlinewidth": 0,
              "ticks": ""
             }
            },
            "marker": {
             "colorbar": {
              "outlinewidth": 0,
              "ticks": ""
             }
            },
            "type": "scatter3d"
           }
          ],
          "scattercarpet": [
           {
            "marker": {
             "colorbar": {
              "outlinewidth": 0,
              "ticks": ""
             }
            },
            "type": "scattercarpet"
           }
          ],
          "scattergeo": [
           {
            "marker": {
             "colorbar": {
              "outlinewidth": 0,
              "ticks": ""
             }
            },
            "type": "scattergeo"
           }
          ],
          "scattergl": [
           {
            "marker": {
             "colorbar": {
              "outlinewidth": 0,
              "ticks": ""
             }
            },
            "type": "scattergl"
           }
          ],
          "scattermapbox": [
           {
            "marker": {
             "colorbar": {
              "outlinewidth": 0,
              "ticks": ""
             }
            },
            "type": "scattermapbox"
           }
          ],
          "scatterpolar": [
           {
            "marker": {
             "colorbar": {
              "outlinewidth": 0,
              "ticks": ""
             }
            },
            "type": "scatterpolar"
           }
          ],
          "scatterpolargl": [
           {
            "marker": {
             "colorbar": {
              "outlinewidth": 0,
              "ticks": ""
             }
            },
            "type": "scatterpolargl"
           }
          ],
          "scatterternary": [
           {
            "marker": {
             "colorbar": {
              "outlinewidth": 0,
              "ticks": ""
             }
            },
            "type": "scatterternary"
           }
          ],
          "surface": [
           {
            "colorbar": {
             "outlinewidth": 0,
             "ticks": ""
            },
            "colorscale": [
             [
              0,
              "#0d0887"
             ],
             [
              0.1111111111111111,
              "#46039f"
             ],
             [
              0.2222222222222222,
              "#7201a8"
             ],
             [
              0.3333333333333333,
              "#9c179e"
             ],
             [
              0.4444444444444444,
              "#bd3786"
             ],
             [
              0.5555555555555556,
              "#d8576b"
             ],
             [
              0.6666666666666666,
              "#ed7953"
             ],
             [
              0.7777777777777778,
              "#fb9f3a"
             ],
             [
              0.8888888888888888,
              "#fdca26"
             ],
             [
              1,
              "#f0f921"
             ]
            ],
            "type": "surface"
           }
          ],
          "table": [
           {
            "cells": {
             "fill": {
              "color": "#EBF0F8"
             },
             "line": {
              "color": "white"
             }
            },
            "header": {
             "fill": {
              "color": "#C8D4E3"
             },
             "line": {
              "color": "white"
             }
            },
            "type": "table"
           }
          ]
         },
         "layout": {
          "annotationdefaults": {
           "arrowcolor": "#2a3f5f",
           "arrowhead": 0,
           "arrowwidth": 1
          },
          "autotypenumbers": "strict",
          "coloraxis": {
           "colorbar": {
            "outlinewidth": 0,
            "ticks": ""
           }
          },
          "colorscale": {
           "diverging": [
            [
             0,
             "#8e0152"
            ],
            [
             0.1,
             "#c51b7d"
            ],
            [
             0.2,
             "#de77ae"
            ],
            [
             0.3,
             "#f1b6da"
            ],
            [
             0.4,
             "#fde0ef"
            ],
            [
             0.5,
             "#f7f7f7"
            ],
            [
             0.6,
             "#e6f5d0"
            ],
            [
             0.7,
             "#b8e186"
            ],
            [
             0.8,
             "#7fbc41"
            ],
            [
             0.9,
             "#4d9221"
            ],
            [
             1,
             "#276419"
            ]
           ],
           "sequential": [
            [
             0,
             "#0d0887"
            ],
            [
             0.1111111111111111,
             "#46039f"
            ],
            [
             0.2222222222222222,
             "#7201a8"
            ],
            [
             0.3333333333333333,
             "#9c179e"
            ],
            [
             0.4444444444444444,
             "#bd3786"
            ],
            [
             0.5555555555555556,
             "#d8576b"
            ],
            [
             0.6666666666666666,
             "#ed7953"
            ],
            [
             0.7777777777777778,
             "#fb9f3a"
            ],
            [
             0.8888888888888888,
             "#fdca26"
            ],
            [
             1,
             "#f0f921"
            ]
           ],
           "sequentialminus": [
            [
             0,
             "#0d0887"
            ],
            [
             0.1111111111111111,
             "#46039f"
            ],
            [
             0.2222222222222222,
             "#7201a8"
            ],
            [
             0.3333333333333333,
             "#9c179e"
            ],
            [
             0.4444444444444444,
             "#bd3786"
            ],
            [
             0.5555555555555556,
             "#d8576b"
            ],
            [
             0.6666666666666666,
             "#ed7953"
            ],
            [
             0.7777777777777778,
             "#fb9f3a"
            ],
            [
             0.8888888888888888,
             "#fdca26"
            ],
            [
             1,
             "#f0f921"
            ]
           ]
          },
          "colorway": [
           "#636efa",
           "#EF553B",
           "#00cc96",
           "#ab63fa",
           "#FFA15A",
           "#19d3f3",
           "#FF6692",
           "#B6E880",
           "#FF97FF",
           "#FECB52"
          ],
          "font": {
           "color": "#2a3f5f"
          },
          "geo": {
           "bgcolor": "white",
           "lakecolor": "white",
           "landcolor": "#E5ECF6",
           "showlakes": true,
           "showland": true,
           "subunitcolor": "white"
          },
          "hoverlabel": {
           "align": "left"
          },
          "hovermode": "closest",
          "mapbox": {
           "style": "light"
          },
          "paper_bgcolor": "white",
          "plot_bgcolor": "#E5ECF6",
          "polar": {
           "angularaxis": {
            "gridcolor": "white",
            "linecolor": "white",
            "ticks": ""
           },
           "bgcolor": "#E5ECF6",
           "radialaxis": {
            "gridcolor": "white",
            "linecolor": "white",
            "ticks": ""
           }
          },
          "scene": {
           "xaxis": {
            "backgroundcolor": "#E5ECF6",
            "gridcolor": "white",
            "gridwidth": 2,
            "linecolor": "white",
            "showbackground": true,
            "ticks": "",
            "zerolinecolor": "white"
           },
           "yaxis": {
            "backgroundcolor": "#E5ECF6",
            "gridcolor": "white",
            "gridwidth": 2,
            "linecolor": "white",
            "showbackground": true,
            "ticks": "",
            "zerolinecolor": "white"
           },
           "zaxis": {
            "backgroundcolor": "#E5ECF6",
            "gridcolor": "white",
            "gridwidth": 2,
            "linecolor": "white",
            "showbackground": true,
            "ticks": "",
            "zerolinecolor": "white"
           }
          },
          "shapedefaults": {
           "line": {
            "color": "#2a3f5f"
           }
          },
          "ternary": {
           "aaxis": {
            "gridcolor": "white",
            "linecolor": "white",
            "ticks": ""
           },
           "baxis": {
            "gridcolor": "white",
            "linecolor": "white",
            "ticks": ""
           },
           "bgcolor": "#E5ECF6",
           "caxis": {
            "gridcolor": "white",
            "linecolor": "white",
            "ticks": ""
           }
          },
          "title": {
           "x": 0.05
          },
          "xaxis": {
           "automargin": true,
           "gridcolor": "white",
           "linecolor": "white",
           "ticks": "",
           "title": {
            "standoff": 15
           },
           "zerolinecolor": "white",
           "zerolinewidth": 2
          },
          "yaxis": {
           "automargin": true,
           "gridcolor": "white",
           "linecolor": "white",
           "ticks": "",
           "title": {
            "standoff": 15
           },
           "zerolinecolor": "white",
           "zerolinewidth": 2
          }
         }
        },
        "xaxis": {
         "anchor": "y",
         "constrain": "domain",
         "domain": [
          0,
          1
         ],
         "scaleanchor": "y"
        },
        "yaxis": {
         "anchor": "x",
         "autorange": "reversed",
         "constrain": "domain",
         "domain": [
          0,
          1
         ]
        }
       }
      }
     },
     "metadata": {},
     "output_type": "display_data"
    }
   ],
   "source": [
    "preds = model.predict(X_test)\n",
    "preds = np.argmax(preds, axis=1)\n",
    "y_test_max = np.argmax(y_test, axis=1)\n",
    "# Create a confusion matrix\n",
    "confusion_matrix = tf.math.confusion_matrix(labels=y_test_max, predictions=preds).numpy()\n",
    "# Create a dataframe from the confusion matrix\n",
    "confusion_matrix = pd.DataFrame(confusion_matrix, index=['back', 'left', 'right'], columns=['back', 'left', 'right'])\n",
    "# Plot the confusion matrix\n",
    "px.imshow(confusion_matrix, color_continuous_scale='Blues')"
   ]
  },
  {
   "cell_type": "code",
   "execution_count": 116,
   "metadata": {},
   "outputs": [
    {
     "data": {
      "application/vnd.plotly.v1+json": {
       "config": {
        "plotlyServerURL": "https://plot.ly"
       },
       "data": [
        {
         "coloraxis": "coloraxis",
         "hovertemplate": "x: %{x}<br>y: %{y}<br>color: %{z}<extra></extra>",
         "name": "0",
         "type": "heatmap",
         "xaxis": "x",
         "yaxis": "y",
         "z": [
          [
           24.27,
           23.71,
           24.39,
           24.1,
           24.93,
           24.7,
           25.4,
           25.67,
           26.94,
           27.48,
           30.32,
           31.4,
           32.78,
           33.02,
           32.73,
           32.51,
           32.54,
           31.81,
           28.08,
           26.67,
           25.51,
           25.03,
           24.64,
           24.19,
           23.94,
           23.82,
           23.84,
           23.94,
           23.75,
           23.4,
           22.6,
           20.87
          ],
          [
           24.13,
           24.27,
           24.49,
           24.59,
           24.55,
           24.93,
           25.87,
           25.9,
           27.65,
           28.71,
           31.62,
           32.35,
           32.54,
           33.11,
           32.9,
           32.74,
           32.87,
           32.6,
           28.85,
           27.52,
           25.69,
           25.33,
           24.71,
           24.43,
           24.35,
           23.88,
           23.58,
           23.69,
           23.7,
           23.62,
           22.96,
           22.62
          ],
          [
           24.03,
           24.3,
           24.2,
           24.42,
           25.32,
           24.83,
           26.37,
           27.11,
           29.51,
           30.35,
           32.3,
           31.88,
           31.86,
           32.69,
           32.46,
           31.85,
           32.61,
           32.42,
           30.07,
           28.44,
           25.92,
           25.35,
           24.79,
           24.38,
           24.32,
           23.91,
           23.75,
           23.56,
           23.62,
           23.16,
           23.86,
           22.83
          ],
          [
           23.84,
           24.08,
           24.51,
           24.58,
           25.02,
           25.2,
           26.56,
           27.8,
           29.75,
           30.67,
           32.12,
           31.74,
           31.69,
           32.61,
           32.19,
           32.3,
           32.33,
           32.14,
           30.45,
           28.68,
           26,
           25.65,
           24.76,
           24.51,
           24.03,
           23.89,
           23.86,
           23.72,
           23.62,
           23.48,
           23.08,
           23.14
          ],
          [
           24.39,
           24.12,
           24.39,
           24.57,
           25.25,
           25.45,
           27.2,
           27.97,
           29.57,
           30.4,
           32.46,
           32.28,
           32.21,
           32.37,
           32.31,
           32.38,
           31.99,
           31.61,
           30.31,
           28.65,
           26.17,
           25.33,
           24.69,
           24.65,
           24.34,
           23.93,
           23.71,
           23.65,
           23.74,
           23.17,
           23.15,
           23.36
          ],
          [
           24.04,
           23.89,
           24.52,
           24.57,
           25.25,
           25.53,
           26.91,
           28.03,
           29.27,
           30.09,
           31.91,
           32.74,
           32.45,
           32.52,
           32.25,
           32.36,
           31.96,
           31.68,
           30.38,
           28.88,
           25.93,
           25.5,
           24.66,
           24.52,
           24.21,
           23.9,
           23.69,
           23.77,
           23.55,
           23.28,
           23.27,
           23.57
          ],
          [
           24.39,
           24.25,
           24.53,
           24.57,
           25.48,
           25.76,
           27.7,
           28.52,
           29.64,
           29.7,
           31.79,
           32.68,
           33.03,
           32.99,
           32.52,
           32.24,
           32.13,
           32.02,
           30.35,
           28.26,
           25.69,
           25.2,
           24.79,
           24.64,
           24.2,
           23.99,
           23.74,
           23.64,
           23.52,
           23.19,
           23.26,
           23.36
          ],
          [
           24.06,
           24.05,
           24.78,
           24.82,
           25.71,
           26.2,
           28.19,
           28.99,
           29.77,
           30.2,
           31.76,
           32.61,
           33.1,
           33.13,
           32.75,
           32.65,
           32.28,
           32.28,
           29.72,
           28.03,
           25.87,
           25.47,
           24.97,
           24.74,
           24.08,
           24.3,
           23.84,
           23.9,
           23.49,
           23.43,
           23.18,
           22.94
          ],
          [
           24.43,
           24.3,
           25.02,
           25.16,
           26.83,
           27.65,
           29.41,
           29.75,
           29.91,
           30.25,
           31.34,
           31.97,
           33.06,
           33.08,
           33.02,
           32.54,
           32.14,
           31.65,
           29.05,
           27.81,
           26.57,
           26.02,
           25.06,
           24.94,
           24.43,
           24.09,
           24.08,
           24.01,
           23.64,
           23.42,
           23.6,
           22.98
          ],
          [
           24.41,
           24.25,
           24.85,
           25.79,
           27.52,
           28.75,
           29.35,
           29.51,
           30.07,
           30.18,
           30.84,
           31.47,
           32.32,
           32.91,
           32.53,
           32.07,
           31.34,
           31.17,
           29.34,
           28.66,
           27.29,
           26.74,
           25.23,
           24.92,
           24.42,
           24.27,
           23.8,
           23.98,
           23.62,
           23.5,
           23.2,
           23.45
          ],
          [
           24.36,
           24.69,
           25.56,
           26.07,
           28.91,
           29.47,
           29.59,
           29.35,
           29.74,
           29.82,
           29.91,
           30.17,
           30.65,
           30.64,
           30.62,
           30.53,
           30.32,
           30.1,
           29.38,
           28.94,
           27.84,
           27.24,
           25.98,
           25.37,
           24.46,
           24.15,
           24.01,
           23.8,
           23.91,
           23.43,
           23.36,
           23.21
          ],
          [
           24.33,
           24.48,
           25.65,
           26.43,
           29.13,
           29.65,
           29.77,
           29.53,
           29.64,
           29.59,
           29.52,
           29.82,
           30.29,
           30.11,
           30.02,
           30.36,
           29.97,
           29.82,
           29.24,
           29,
           27.18,
           26.73,
           25.74,
           25.35,
           24.44,
           24.2,
           23.97,
           24.01,
           23.73,
           23.8,
           23.44,
           23.51
          ],
          [
           24.5,
           24.23,
           25.4,
           26.06,
           28.97,
           29.57,
           29.62,
           29.54,
           29.34,
           29.29,
           29.14,
           29.13,
           29.61,
           29.11,
           29.73,
           29.84,
           29.71,
           29.89,
           29.28,
           28.77,
           26.55,
           25.64,
           24.87,
           24.65,
           24.35,
           24.2,
           23.87,
           23.81,
           23.41,
           23.42,
           23.26,
           23.18
          ],
          [
           24.16,
           24.61,
           24.97,
           25.91,
           28.75,
           29.57,
           29.82,
           29.84,
           29.35,
           29.27,
           29.05,
           29.57,
           29.36,
           29.26,
           29.81,
           30.01,
           29.55,
           29.55,
           29.44,
           29.46,
           26.63,
           25.79,
           24.63,
           24.61,
           24.2,
           24.14,
           23.93,
           23.9,
           23.38,
           23.62,
           23.52,
           23.25
          ],
          [
           24.47,
           24.3,
           25.01,
           25.53,
           28.33,
           29.07,
           29.66,
           29.96,
           29.83,
           29.58,
           29.61,
           29.35,
           29.95,
           29.82,
           29.82,
           29.8,
           29.78,
           29.8,
           29.91,
           29.63,
           27.3,
           26,
           24.77,
           24.79,
           24.28,
           24.17,
           23.57,
           23.88,
           23.55,
           23.29,
           23.26,
           23.27
          ],
          [
           24.42,
           24.52,
           25.23,
           25.5,
           27.99,
           28.95,
           29.46,
           30.08,
           30.06,
           29.89,
           29.35,
           29.38,
           29.9,
           29.83,
           29.42,
           29.5,
           29.55,
           29.98,
           29.92,
           29.39,
           27.3,
           26.34,
           25.03,
           24.96,
           24.12,
           24.32,
           24.12,
           23.93,
           23.33,
           23.48,
           23.5,
           23.35
          ],
          [
           24.18,
           24.41,
           24.68,
           25.07,
           27.67,
           28.36,
           29.47,
           29.79,
           30.23,
           30.2,
           29.38,
           29.33,
           29.78,
           29.8,
           29.46,
           29.6,
           29.92,
           30.24,
           30.24,
           29.84,
           27.73,
           26.76,
           25.07,
           24.52,
           24.4,
           23.95,
           23.68,
           23.9,
           23.63,
           23.5,
           23.1,
           23.49
          ],
          [
           24.13,
           24.49,
           24.76,
           25.16,
           26.94,
           28.11,
           29.16,
           29.51,
           30.18,
           30.13,
           29.32,
           29.37,
           29.09,
           29.28,
           29.75,
           30.17,
           30.23,
           30.45,
           30.1,
           30.16,
           27.44,
           26.42,
           24.58,
           24.57,
           24.22,
           23.86,
           23.73,
           23.83,
           23.72,
           23.84,
           23.7,
           23.56
          ],
          [
           24.04,
           24.4,
           24.83,
           24.86,
           26.31,
           27.2,
           29.9,
           30.34,
           30.66,
           30.62,
           29.42,
           28.51,
           26.14,
           26.46,
           28.53,
           29.27,
           31.27,
           30.77,
           30.53,
           30.03,
           26.64,
           25.81,
           24.53,
           24.47,
           24.03,
           24.16,
           24.58,
           24.67,
           23.77,
           24.07,
           24.1,
           23.83
          ],
          [
           23.97,
           24.15,
           24.47,
           24.65,
           25.64,
           26.92,
           29.95,
           30.42,
           30.84,
           30.8,
           29.46,
           27.74,
           26.13,
           26.43,
           27.98,
           28.94,
           30.71,
           30.66,
           30.1,
           29.43,
           26.1,
           25.42,
           24.22,
           24.51,
           24.21,
           24.43,
           24.93,
           24.59,
           24.01,
           23.77,
           23.41,
           23.64
          ],
          [
           24.01,
           24.06,
           24.53,
           24.53,
           24.83,
           25.45,
           28.83,
           29.78,
           30.58,
           30.51,
           29.17,
           27.73,
           26.87,
           26.98,
           28.31,
           28.99,
           30.05,
           29.9,
           27.61,
           27.07,
           25.06,
           24.8,
           24.19,
           24.13,
           24.05,
           24.21,
           24.58,
           24.21,
           23.86,
           23.45,
           23.32,
           23.32
          ],
          [
           23.74,
           24.1,
           24.27,
           24.62,
           24.94,
           25.08,
           28.1,
           29.64,
           30.6,
           30.72,
           29.55,
           28.54,
           27.09,
           27.07,
           28.22,
           29.04,
           29.31,
           28.9,
           26.52,
           26.09,
           24.54,
           24.33,
           24.09,
           24.03,
           23.98,
           23.79,
           23.86,
           24.12,
           23.59,
           23.45,
           23.14,
           22.99
          ],
          [
           24.28,
           23.94,
           24.27,
           24.49,
           24.62,
           24.66,
           26.85,
           28.7,
           30.3,
           30.53,
           30.55,
           30.21,
           28.33,
           28.08,
           28.15,
           28.36,
           28.06,
           27.38,
           25.7,
           25.44,
           24.57,
           24.04,
           24.04,
           24.04,
           23.6,
           23.46,
           23.51,
           23.57,
           23.52,
           23.06,
           22.21,
           21.69
          ],
          [
           23.98,
           24.17,
           24.16,
           24.42,
           24.39,
           24.72,
           26.69,
           28.35,
           29.76,
           30.22,
           30.28,
           29.97,
           28.51,
           28.34,
           27.83,
           28.06,
           27.75,
           26.52,
           25.27,
           25.26,
           24.35,
           24.03,
           23.78,
           24.21,
           23.64,
           23.77,
           23.55,
           23.63,
           23.33,
           22.93,
           21.77,
           22.15
          ]
         ]
        }
       ],
       "layout": {
        "coloraxis": {
         "colorscale": [
          [
           0,
           "#0d0887"
          ],
          [
           0.1111111111111111,
           "#46039f"
          ],
          [
           0.2222222222222222,
           "#7201a8"
          ],
          [
           0.3333333333333333,
           "#9c179e"
          ],
          [
           0.4444444444444444,
           "#bd3786"
          ],
          [
           0.5555555555555556,
           "#d8576b"
          ],
          [
           0.6666666666666666,
           "#ed7953"
          ],
          [
           0.7777777777777778,
           "#fb9f3a"
          ],
          [
           0.8888888888888888,
           "#fdca26"
          ],
          [
           1,
           "#f0f921"
          ]
         ]
        },
        "margin": {
         "t": 60
        },
        "template": {
         "data": {
          "bar": [
           {
            "error_x": {
             "color": "#2a3f5f"
            },
            "error_y": {
             "color": "#2a3f5f"
            },
            "marker": {
             "line": {
              "color": "#E5ECF6",
              "width": 0.5
             },
             "pattern": {
              "fillmode": "overlay",
              "size": 10,
              "solidity": 0.2
             }
            },
            "type": "bar"
           }
          ],
          "barpolar": [
           {
            "marker": {
             "line": {
              "color": "#E5ECF6",
              "width": 0.5
             },
             "pattern": {
              "fillmode": "overlay",
              "size": 10,
              "solidity": 0.2
             }
            },
            "type": "barpolar"
           }
          ],
          "carpet": [
           {
            "aaxis": {
             "endlinecolor": "#2a3f5f",
             "gridcolor": "white",
             "linecolor": "white",
             "minorgridcolor": "white",
             "startlinecolor": "#2a3f5f"
            },
            "baxis": {
             "endlinecolor": "#2a3f5f",
             "gridcolor": "white",
             "linecolor": "white",
             "minorgridcolor": "white",
             "startlinecolor": "#2a3f5f"
            },
            "type": "carpet"
           }
          ],
          "choropleth": [
           {
            "colorbar": {
             "outlinewidth": 0,
             "ticks": ""
            },
            "type": "choropleth"
           }
          ],
          "contour": [
           {
            "colorbar": {
             "outlinewidth": 0,
             "ticks": ""
            },
            "colorscale": [
             [
              0,
              "#0d0887"
             ],
             [
              0.1111111111111111,
              "#46039f"
             ],
             [
              0.2222222222222222,
              "#7201a8"
             ],
             [
              0.3333333333333333,
              "#9c179e"
             ],
             [
              0.4444444444444444,
              "#bd3786"
             ],
             [
              0.5555555555555556,
              "#d8576b"
             ],
             [
              0.6666666666666666,
              "#ed7953"
             ],
             [
              0.7777777777777778,
              "#fb9f3a"
             ],
             [
              0.8888888888888888,
              "#fdca26"
             ],
             [
              1,
              "#f0f921"
             ]
            ],
            "type": "contour"
           }
          ],
          "contourcarpet": [
           {
            "colorbar": {
             "outlinewidth": 0,
             "ticks": ""
            },
            "type": "contourcarpet"
           }
          ],
          "heatmap": [
           {
            "colorbar": {
             "outlinewidth": 0,
             "ticks": ""
            },
            "colorscale": [
             [
              0,
              "#0d0887"
             ],
             [
              0.1111111111111111,
              "#46039f"
             ],
             [
              0.2222222222222222,
              "#7201a8"
             ],
             [
              0.3333333333333333,
              "#9c179e"
             ],
             [
              0.4444444444444444,
              "#bd3786"
             ],
             [
              0.5555555555555556,
              "#d8576b"
             ],
             [
              0.6666666666666666,
              "#ed7953"
             ],
             [
              0.7777777777777778,
              "#fb9f3a"
             ],
             [
              0.8888888888888888,
              "#fdca26"
             ],
             [
              1,
              "#f0f921"
             ]
            ],
            "type": "heatmap"
           }
          ],
          "heatmapgl": [
           {
            "colorbar": {
             "outlinewidth": 0,
             "ticks": ""
            },
            "colorscale": [
             [
              0,
              "#0d0887"
             ],
             [
              0.1111111111111111,
              "#46039f"
             ],
             [
              0.2222222222222222,
              "#7201a8"
             ],
             [
              0.3333333333333333,
              "#9c179e"
             ],
             [
              0.4444444444444444,
              "#bd3786"
             ],
             [
              0.5555555555555556,
              "#d8576b"
             ],
             [
              0.6666666666666666,
              "#ed7953"
             ],
             [
              0.7777777777777778,
              "#fb9f3a"
             ],
             [
              0.8888888888888888,
              "#fdca26"
             ],
             [
              1,
              "#f0f921"
             ]
            ],
            "type": "heatmapgl"
           }
          ],
          "histogram": [
           {
            "marker": {
             "pattern": {
              "fillmode": "overlay",
              "size": 10,
              "solidity": 0.2
             }
            },
            "type": "histogram"
           }
          ],
          "histogram2d": [
           {
            "colorbar": {
             "outlinewidth": 0,
             "ticks": ""
            },
            "colorscale": [
             [
              0,
              "#0d0887"
             ],
             [
              0.1111111111111111,
              "#46039f"
             ],
             [
              0.2222222222222222,
              "#7201a8"
             ],
             [
              0.3333333333333333,
              "#9c179e"
             ],
             [
              0.4444444444444444,
              "#bd3786"
             ],
             [
              0.5555555555555556,
              "#d8576b"
             ],
             [
              0.6666666666666666,
              "#ed7953"
             ],
             [
              0.7777777777777778,
              "#fb9f3a"
             ],
             [
              0.8888888888888888,
              "#fdca26"
             ],
             [
              1,
              "#f0f921"
             ]
            ],
            "type": "histogram2d"
           }
          ],
          "histogram2dcontour": [
           {
            "colorbar": {
             "outlinewidth": 0,
             "ticks": ""
            },
            "colorscale": [
             [
              0,
              "#0d0887"
             ],
             [
              0.1111111111111111,
              "#46039f"
             ],
             [
              0.2222222222222222,
              "#7201a8"
             ],
             [
              0.3333333333333333,
              "#9c179e"
             ],
             [
              0.4444444444444444,
              "#bd3786"
             ],
             [
              0.5555555555555556,
              "#d8576b"
             ],
             [
              0.6666666666666666,
              "#ed7953"
             ],
             [
              0.7777777777777778,
              "#fb9f3a"
             ],
             [
              0.8888888888888888,
              "#fdca26"
             ],
             [
              1,
              "#f0f921"
             ]
            ],
            "type": "histogram2dcontour"
           }
          ],
          "mesh3d": [
           {
            "colorbar": {
             "outlinewidth": 0,
             "ticks": ""
            },
            "type": "mesh3d"
           }
          ],
          "parcoords": [
           {
            "line": {
             "colorbar": {
              "outlinewidth": 0,
              "ticks": ""
             }
            },
            "type": "parcoords"
           }
          ],
          "pie": [
           {
            "automargin": true,
            "type": "pie"
           }
          ],
          "scatter": [
           {
            "fillpattern": {
             "fillmode": "overlay",
             "size": 10,
             "solidity": 0.2
            },
            "type": "scatter"
           }
          ],
          "scatter3d": [
           {
            "line": {
             "colorbar": {
              "outlinewidth": 0,
              "ticks": ""
             }
            },
            "marker": {
             "colorbar": {
              "outlinewidth": 0,
              "ticks": ""
             }
            },
            "type": "scatter3d"
           }
          ],
          "scattercarpet": [
           {
            "marker": {
             "colorbar": {
              "outlinewidth": 0,
              "ticks": ""
             }
            },
            "type": "scattercarpet"
           }
          ],
          "scattergeo": [
           {
            "marker": {
             "colorbar": {
              "outlinewidth": 0,
              "ticks": ""
             }
            },
            "type": "scattergeo"
           }
          ],
          "scattergl": [
           {
            "marker": {
             "colorbar": {
              "outlinewidth": 0,
              "ticks": ""
             }
            },
            "type": "scattergl"
           }
          ],
          "scattermapbox": [
           {
            "marker": {
             "colorbar": {
              "outlinewidth": 0,
              "ticks": ""
             }
            },
            "type": "scattermapbox"
           }
          ],
          "scatterpolar": [
           {
            "marker": {
             "colorbar": {
              "outlinewidth": 0,
              "ticks": ""
             }
            },
            "type": "scatterpolar"
           }
          ],
          "scatterpolargl": [
           {
            "marker": {
             "colorbar": {
              "outlinewidth": 0,
              "ticks": ""
             }
            },
            "type": "scatterpolargl"
           }
          ],
          "scatterternary": [
           {
            "marker": {
             "colorbar": {
              "outlinewidth": 0,
              "ticks": ""
             }
            },
            "type": "scatterternary"
           }
          ],
          "surface": [
           {
            "colorbar": {
             "outlinewidth": 0,
             "ticks": ""
            },
            "colorscale": [
             [
              0,
              "#0d0887"
             ],
             [
              0.1111111111111111,
              "#46039f"
             ],
             [
              0.2222222222222222,
              "#7201a8"
             ],
             [
              0.3333333333333333,
              "#9c179e"
             ],
             [
              0.4444444444444444,
              "#bd3786"
             ],
             [
              0.5555555555555556,
              "#d8576b"
             ],
             [
              0.6666666666666666,
              "#ed7953"
             ],
             [
              0.7777777777777778,
              "#fb9f3a"
             ],
             [
              0.8888888888888888,
              "#fdca26"
             ],
             [
              1,
              "#f0f921"
             ]
            ],
            "type": "surface"
           }
          ],
          "table": [
           {
            "cells": {
             "fill": {
              "color": "#EBF0F8"
             },
             "line": {
              "color": "white"
             }
            },
            "header": {
             "fill": {
              "color": "#C8D4E3"
             },
             "line": {
              "color": "white"
             }
            },
            "type": "table"
           }
          ]
         },
         "layout": {
          "annotationdefaults": {
           "arrowcolor": "#2a3f5f",
           "arrowhead": 0,
           "arrowwidth": 1
          },
          "autotypenumbers": "strict",
          "coloraxis": {
           "colorbar": {
            "outlinewidth": 0,
            "ticks": ""
           }
          },
          "colorscale": {
           "diverging": [
            [
             0,
             "#8e0152"
            ],
            [
             0.1,
             "#c51b7d"
            ],
            [
             0.2,
             "#de77ae"
            ],
            [
             0.3,
             "#f1b6da"
            ],
            [
             0.4,
             "#fde0ef"
            ],
            [
             0.5,
             "#f7f7f7"
            ],
            [
             0.6,
             "#e6f5d0"
            ],
            [
             0.7,
             "#b8e186"
            ],
            [
             0.8,
             "#7fbc41"
            ],
            [
             0.9,
             "#4d9221"
            ],
            [
             1,
             "#276419"
            ]
           ],
           "sequential": [
            [
             0,
             "#0d0887"
            ],
            [
             0.1111111111111111,
             "#46039f"
            ],
            [
             0.2222222222222222,
             "#7201a8"
            ],
            [
             0.3333333333333333,
             "#9c179e"
            ],
            [
             0.4444444444444444,
             "#bd3786"
            ],
            [
             0.5555555555555556,
             "#d8576b"
            ],
            [
             0.6666666666666666,
             "#ed7953"
            ],
            [
             0.7777777777777778,
             "#fb9f3a"
            ],
            [
             0.8888888888888888,
             "#fdca26"
            ],
            [
             1,
             "#f0f921"
            ]
           ],
           "sequentialminus": [
            [
             0,
             "#0d0887"
            ],
            [
             0.1111111111111111,
             "#46039f"
            ],
            [
             0.2222222222222222,
             "#7201a8"
            ],
            [
             0.3333333333333333,
             "#9c179e"
            ],
            [
             0.4444444444444444,
             "#bd3786"
            ],
            [
             0.5555555555555556,
             "#d8576b"
            ],
            [
             0.6666666666666666,
             "#ed7953"
            ],
            [
             0.7777777777777778,
             "#fb9f3a"
            ],
            [
             0.8888888888888888,
             "#fdca26"
            ],
            [
             1,
             "#f0f921"
            ]
           ]
          },
          "colorway": [
           "#636efa",
           "#EF553B",
           "#00cc96",
           "#ab63fa",
           "#FFA15A",
           "#19d3f3",
           "#FF6692",
           "#B6E880",
           "#FF97FF",
           "#FECB52"
          ],
          "font": {
           "color": "#2a3f5f"
          },
          "geo": {
           "bgcolor": "white",
           "lakecolor": "white",
           "landcolor": "#E5ECF6",
           "showlakes": true,
           "showland": true,
           "subunitcolor": "white"
          },
          "hoverlabel": {
           "align": "left"
          },
          "hovermode": "closest",
          "mapbox": {
           "style": "light"
          },
          "paper_bgcolor": "white",
          "plot_bgcolor": "#E5ECF6",
          "polar": {
           "angularaxis": {
            "gridcolor": "white",
            "linecolor": "white",
            "ticks": ""
           },
           "bgcolor": "#E5ECF6",
           "radialaxis": {
            "gridcolor": "white",
            "linecolor": "white",
            "ticks": ""
           }
          },
          "scene": {
           "xaxis": {
            "backgroundcolor": "#E5ECF6",
            "gridcolor": "white",
            "gridwidth": 2,
            "linecolor": "white",
            "showbackground": true,
            "ticks": "",
            "zerolinecolor": "white"
           },
           "yaxis": {
            "backgroundcolor": "#E5ECF6",
            "gridcolor": "white",
            "gridwidth": 2,
            "linecolor": "white",
            "showbackground": true,
            "ticks": "",
            "zerolinecolor": "white"
           },
           "zaxis": {
            "backgroundcolor": "#E5ECF6",
            "gridcolor": "white",
            "gridwidth": 2,
            "linecolor": "white",
            "showbackground": true,
            "ticks": "",
            "zerolinecolor": "white"
           }
          },
          "shapedefaults": {
           "line": {
            "color": "#2a3f5f"
           }
          },
          "ternary": {
           "aaxis": {
            "gridcolor": "white",
            "linecolor": "white",
            "ticks": ""
           },
           "baxis": {
            "gridcolor": "white",
            "linecolor": "white",
            "ticks": ""
           },
           "bgcolor": "#E5ECF6",
           "caxis": {
            "gridcolor": "white",
            "linecolor": "white",
            "ticks": ""
           }
          },
          "title": {
           "x": 0.05
          },
          "xaxis": {
           "automargin": true,
           "gridcolor": "white",
           "linecolor": "white",
           "ticks": "",
           "title": {
            "standoff": 15
           },
           "zerolinecolor": "white",
           "zerolinewidth": 2
          },
          "yaxis": {
           "automargin": true,
           "gridcolor": "white",
           "linecolor": "white",
           "ticks": "",
           "title": {
            "standoff": 15
           },
           "zerolinecolor": "white",
           "zerolinewidth": 2
          }
         }
        },
        "title": {
         "text": "Predicted: back, Actual: right"
        },
        "xaxis": {
         "anchor": "y",
         "constrain": "domain",
         "domain": [
          0,
          1
         ],
         "scaleanchor": "y"
        },
        "yaxis": {
         "anchor": "x",
         "autorange": "reversed",
         "constrain": "domain",
         "domain": [
          0,
          1
         ]
        }
       }
      }
     },
     "metadata": {},
     "output_type": "display_data"
    },
    {
     "data": {
      "application/vnd.plotly.v1+json": {
       "config": {
        "plotlyServerURL": "https://plot.ly"
       },
       "data": [
        {
         "coloraxis": "coloraxis",
         "hovertemplate": "x: %{x}<br>y: %{y}<br>color: %{z}<extra></extra>",
         "name": "0",
         "type": "heatmap",
         "xaxis": "x",
         "yaxis": "y",
         "z": [
          [
           24.93,
           24.97,
           24.52,
           24.32,
           25.3,
           24.65,
           25.12,
           24.87,
           25.41,
           25.66,
           25.36,
           25.44,
           26.06,
           26.28,
           26.62,
           26.67,
           27.09,
           27.35,
           27.32,
           27.31,
           26.68,
           26.58,
           26.02,
           25.71,
           25.19,
           25.53,
           25.15,
           25.05,
           25.06,
           24.85,
           24.47,
           23.59
          ],
          [
           24.93,
           24.54,
           24.49,
           24.83,
           25.27,
           25.22,
           25.37,
           25.3,
           25.82,
           25.61,
           25.59,
           25.67,
           26.04,
           26.46,
           26.92,
           26.84,
           27.49,
           27.62,
           27.94,
           27.83,
           27.5,
           26.63,
           25.97,
           25.8,
           25.76,
           25.29,
           25.07,
           24.97,
           25.22,
           24.9,
           24.6,
           24.45
          ],
          [
           24.61,
           24.56,
           24.54,
           24.5,
           24.82,
           25.15,
           25.31,
           25.24,
           25.87,
           25.76,
           26.01,
           25.83,
           26.51,
           26.77,
           27.47,
           27.79,
           28.73,
           29.18,
           29.57,
           29.27,
           28.59,
           27.8,
           26.64,
           25.97,
           25.56,
           25.55,
           24.7,
           24.64,
           24.33,
           24.75,
           24.62,
           23.81
          ],
          [
           24.63,
           24.74,
           24.4,
           24.85,
           25.03,
           24.86,
           25.33,
           25.66,
           26.01,
           25.96,
           25.89,
           26.18,
           27.06,
           27.29,
           27.95,
           28.79,
           29.91,
           30.14,
           30.52,
           30.57,
           29.53,
           28.31,
           26.85,
           26.46,
           26.23,
           25.27,
           24.98,
           24.66,
           25.06,
           24.55,
           24.55,
           24.23
          ],
          [
           24.39,
           24.72,
           24.29,
           24.71,
           24.95,
           25.13,
           25.47,
           25.75,
           26.24,
           26.3,
           26.32,
           26.29,
           27.52,
           27.93,
           30.25,
           31.22,
           32.57,
           32.67,
           32.98,
           32.5,
           31.17,
           29.99,
           27.14,
           26.76,
           25.92,
           25.49,
           25.06,
           25.14,
           24.29,
           24.64,
           24.17,
           24.5
          ],
          [
           24.42,
           24,
           24.62,
           24.86,
           25.14,
           24.97,
           25.47,
           25.63,
           26.04,
           26.04,
           26.63,
           26.59,
           27.82,
           28.68,
           31.47,
           32.44,
           33.31,
           33.59,
           33.41,
           33.05,
           31.88,
           29.91,
           27.55,
           26.73,
           26.04,
           25.47,
           24.92,
           24.95,
           24.9,
           24.26,
           24.47,
           24.14
          ],
          [
           24.25,
           24.63,
           24.46,
           24.31,
           25.17,
           25.51,
           25.54,
           25.82,
           26.42,
           26.39,
           26.67,
           26.8,
           28.44,
           29.75,
           32.9,
           32.74,
           33.28,
           33.35,
           33.09,
           32.93,
           31.6,
           30.5,
           27.34,
           26.77,
           25.83,
           25.84,
           25.03,
           24.9,
           24.46,
           24.88,
           24.33,
           24.4
          ],
          [
           24.6,
           24.28,
           24.59,
           24.84,
           25.16,
           25.24,
           25.44,
           25.94,
           26.43,
           26.45,
           26.87,
           26.97,
           28.41,
           29.78,
           32.73,
           33,
           33.27,
           32.76,
           32.64,
           33.04,
           32,
           29.75,
           27.3,
           26.85,
           25.94,
           25.55,
           25.14,
           25.15,
           24.73,
           24.15,
           24.44,
           24.33
          ],
          [
           24.36,
           24.27,
           24.67,
           24.61,
           25.4,
           25.73,
           25.92,
           26.38,
           27.02,
           27.15,
           27.34,
           27.64,
           28.81,
           29.79,
           32.6,
           32.53,
           32.03,
           30.39,
           30.92,
           31.87,
           30.83,
           29.57,
           27.31,
           26.88,
           26.09,
           25.85,
           25.03,
           24.91,
           24.62,
           24.56,
           24.56,
           24.07
          ],
          [
           24.33,
           24.25,
           24.38,
           25.01,
           25.38,
           25.46,
           26.03,
           26.46,
           27.4,
           27.41,
           27.69,
           28.24,
           29.22,
           30.08,
           32.37,
           32.63,
           31.48,
           29.91,
           30.6,
           31.66,
           30.98,
           29.24,
           27.36,
           27.05,
           26.41,
           25.69,
           25.27,
           25.14,
           24.9,
           24.49,
           24.34,
           24.36
          ],
          [
           24.22,
           24.62,
           24.73,
           24.58,
           25.09,
           25.52,
           26.46,
           26.95,
           28.12,
           29,
           29.96,
           30.35,
           31.19,
           31.28,
           32.51,
           32.67,
           31.8,
           31.58,
           31.85,
           32.37,
           31.32,
           30.29,
           28.21,
           27.6,
           26.57,
           26.14,
           25.6,
           25.26,
           24.68,
           24.72,
           24.36,
           24.34
          ],
          [
           24.33,
           23.94,
           24.7,
           24.93,
           25.3,
           25.35,
           26.12,
           26.92,
           28.49,
           29.05,
           30.88,
           31.35,
           32,
           31.99,
           32.72,
           32.97,
           32.51,
           32.12,
           32.29,
           32.67,
           32.08,
           31.07,
           29.42,
           28.46,
           27.1,
           26.09,
           25.2,
           25.44,
           25.05,
           24.8,
           24.6,
           24.78
          ],
          [
           24.52,
           24.45,
           24.53,
           24.96,
           25.16,
           25.61,
           25.79,
           26.33,
           29.17,
           30.39,
           31.01,
           31.02,
           31.74,
           32.08,
           32.84,
           32.54,
           31.6,
           31.53,
           31.5,
           31.92,
           32.2,
           32.43,
           31.74,
           31.02,
           27.56,
           26.76,
           25.59,
           25.4,
           24.57,
           24.56,
           24.56,
           24.13
          ],
          [
           24.16,
           24.35,
           24.64,
           25.16,
           25.48,
           25.31,
           26.16,
           26.91,
           30.12,
           30.45,
           30.82,
           31.01,
           31.57,
           31.73,
           32.35,
           32.47,
           31.6,
           31.27,
           31.32,
           31.75,
           32.29,
           32.15,
           31.54,
           31.49,
           28.5,
           26.81,
           25.52,
           25.47,
           24.83,
           24.59,
           23.98,
           24.85
          ],
          [
           24.45,
           24.62,
           24.66,
           24.74,
           25.19,
           25.77,
           27.12,
           28.27,
           30.71,
           30.86,
           30.77,
           30.54,
           31.22,
           31.36,
           31.62,
           31.94,
           31.49,
           31.44,
           31.44,
           31.67,
           32.09,
           32.12,
           31.47,
           31.07,
           28.5,
           27.41,
           25.76,
           25.31,
           24.86,
           25,
           24.56,
           24.71
          ],
          [
           24.51,
           24.02,
           24.59,
           25.06,
           25.63,
           25.57,
           27.5,
           29.16,
           30.81,
           30.77,
           30.31,
           30.54,
           31.24,
           31.36,
           31.47,
           31.96,
           31.84,
           31.51,
           31.62,
           31.86,
           32.12,
           31.95,
           31.26,
           30.98,
           28.82,
           27.21,
           25.56,
           25.33,
           24.91,
           24.55,
           24.62,
           24.58
          ],
          [
           24.53,
           24.82,
           24.66,
           24.93,
           25.28,
           26.1,
           28.78,
           29.91,
           30.36,
           30.25,
           29.91,
           30.07,
           30.08,
           30.05,
           30.98,
           31.56,
           31.77,
           31.73,
           31.2,
           31.24,
           31.69,
           31.79,
           30.71,
           30.31,
           28.37,
           27.23,
           25.87,
           25.42,
           24.86,
           25.03,
           24.52,
           24.32
          ],
          [
           24.59,
           24.72,
           24.55,
           24.83,
           25.59,
           26.01,
           29.29,
           30.22,
           30.17,
           29.65,
           29.72,
           30.08,
           29.99,
           30.22,
           30.99,
           31.33,
           30.75,
           30.76,
           30.85,
           31.08,
           31.02,
           31.12,
           29.97,
           30,
           28.45,
           27.26,
           25.52,
           25.32,
           25.23,
           24.7,
           24.58,
           24.71
          ],
          [
           25.3,
           24.99,
           25.07,
           25.18,
           25.37,
           26.03,
           28.87,
           29.97,
           30.14,
           30.01,
           30.05,
           30.13,
           29.64,
           29.64,
           29.52,
           29.33,
           29.15,
           29.16,
           29.54,
           29.35,
           29.87,
           30.33,
           29.82,
           29.85,
           28.46,
           27.36,
           25.48,
           25.12,
           24.74,
           25.01,
           24.68,
           24.55
          ],
          [
           26.62,
           25.58,
           24.97,
           25.05,
           25.4,
           25.38,
           27.54,
           29.05,
           29.61,
           29.69,
           29.56,
           30.04,
           29.76,
           29.43,
           29.03,
           28.93,
           28.95,
           28.83,
           29.14,
           29.24,
           29.77,
           30.01,
           29.7,
           29.85,
           28.3,
           26.99,
           25.22,
           25.26,
           25.13,
           24.68,
           24.71,
           24.46
          ],
          [
           25.56,
           25.62,
           24.74,
           24.96,
           24.66,
           25.34,
           25.66,
           25.65,
           26.39,
           26.8,
           28.09,
           28.96,
           29.9,
           29.6,
           29.26,
           29.47,
           29.57,
           29.61,
           29.38,
           29.48,
           29.62,
           29.32,
           28.46,
           27.96,
           26.35,
           25.97,
           25.21,
           24.8,
           24.7,
           24.8,
           24.49,
           24.32
          ],
          [
           25.05,
           24.87,
           24.91,
           24.98,
           25.15,
           25.04,
           24.99,
           25.37,
           25.55,
           25.73,
           27.25,
           28.61,
           30.24,
           29.91,
           29.89,
           30.08,
           30,
           29.79,
           29.9,
           30.14,
           29.4,
           28.45,
           27.29,
           26.61,
           25.85,
           25.22,
           25.07,
           24.96,
           24.95,
           24.37,
           24.9,
           24.6
          ],
          [
           24.82,
           24.76,
           24.93,
           24.89,
           24.79,
           24.71,
           24.87,
           24.8,
           25.55,
           26.09,
           27.36,
           28.48,
           30.6,
           30.83,
           30.55,
           30.54,
           30.22,
           30.81,
           30.59,
           30.5,
           28.3,
           27.13,
           25.79,
           25.8,
           25.42,
           25.28,
           24.79,
           25.34,
           24.98,
           25.12,
           25.02,
           24.26
          ],
          [
           24.75,
           24.47,
           24.58,
           24.72,
           24.99,
           24.53,
           24.7,
           25.06,
           25.84,
           25.82,
           27.81,
           28.56,
           30.9,
           30.74,
           30.59,
           30.57,
           30.39,
           30.24,
           30.26,
           30.04,
           27.58,
           26.88,
           25.51,
           25.63,
           25.28,
           25.41,
           25.13,
           24.81,
           25.36,
           24.2,
           24.28,
           25.24
          ]
         ]
        }
       ],
       "layout": {
        "coloraxis": {
         "colorscale": [
          [
           0,
           "#0d0887"
          ],
          [
           0.1111111111111111,
           "#46039f"
          ],
          [
           0.2222222222222222,
           "#7201a8"
          ],
          [
           0.3333333333333333,
           "#9c179e"
          ],
          [
           0.4444444444444444,
           "#bd3786"
          ],
          [
           0.5555555555555556,
           "#d8576b"
          ],
          [
           0.6666666666666666,
           "#ed7953"
          ],
          [
           0.7777777777777778,
           "#fb9f3a"
          ],
          [
           0.8888888888888888,
           "#fdca26"
          ],
          [
           1,
           "#f0f921"
          ]
         ]
        },
        "margin": {
         "t": 60
        },
        "template": {
         "data": {
          "bar": [
           {
            "error_x": {
             "color": "#2a3f5f"
            },
            "error_y": {
             "color": "#2a3f5f"
            },
            "marker": {
             "line": {
              "color": "#E5ECF6",
              "width": 0.5
             },
             "pattern": {
              "fillmode": "overlay",
              "size": 10,
              "solidity": 0.2
             }
            },
            "type": "bar"
           }
          ],
          "barpolar": [
           {
            "marker": {
             "line": {
              "color": "#E5ECF6",
              "width": 0.5
             },
             "pattern": {
              "fillmode": "overlay",
              "size": 10,
              "solidity": 0.2
             }
            },
            "type": "barpolar"
           }
          ],
          "carpet": [
           {
            "aaxis": {
             "endlinecolor": "#2a3f5f",
             "gridcolor": "white",
             "linecolor": "white",
             "minorgridcolor": "white",
             "startlinecolor": "#2a3f5f"
            },
            "baxis": {
             "endlinecolor": "#2a3f5f",
             "gridcolor": "white",
             "linecolor": "white",
             "minorgridcolor": "white",
             "startlinecolor": "#2a3f5f"
            },
            "type": "carpet"
           }
          ],
          "choropleth": [
           {
            "colorbar": {
             "outlinewidth": 0,
             "ticks": ""
            },
            "type": "choropleth"
           }
          ],
          "contour": [
           {
            "colorbar": {
             "outlinewidth": 0,
             "ticks": ""
            },
            "colorscale": [
             [
              0,
              "#0d0887"
             ],
             [
              0.1111111111111111,
              "#46039f"
             ],
             [
              0.2222222222222222,
              "#7201a8"
             ],
             [
              0.3333333333333333,
              "#9c179e"
             ],
             [
              0.4444444444444444,
              "#bd3786"
             ],
             [
              0.5555555555555556,
              "#d8576b"
             ],
             [
              0.6666666666666666,
              "#ed7953"
             ],
             [
              0.7777777777777778,
              "#fb9f3a"
             ],
             [
              0.8888888888888888,
              "#fdca26"
             ],
             [
              1,
              "#f0f921"
             ]
            ],
            "type": "contour"
           }
          ],
          "contourcarpet": [
           {
            "colorbar": {
             "outlinewidth": 0,
             "ticks": ""
            },
            "type": "contourcarpet"
           }
          ],
          "heatmap": [
           {
            "colorbar": {
             "outlinewidth": 0,
             "ticks": ""
            },
            "colorscale": [
             [
              0,
              "#0d0887"
             ],
             [
              0.1111111111111111,
              "#46039f"
             ],
             [
              0.2222222222222222,
              "#7201a8"
             ],
             [
              0.3333333333333333,
              "#9c179e"
             ],
             [
              0.4444444444444444,
              "#bd3786"
             ],
             [
              0.5555555555555556,
              "#d8576b"
             ],
             [
              0.6666666666666666,
              "#ed7953"
             ],
             [
              0.7777777777777778,
              "#fb9f3a"
             ],
             [
              0.8888888888888888,
              "#fdca26"
             ],
             [
              1,
              "#f0f921"
             ]
            ],
            "type": "heatmap"
           }
          ],
          "heatmapgl": [
           {
            "colorbar": {
             "outlinewidth": 0,
             "ticks": ""
            },
            "colorscale": [
             [
              0,
              "#0d0887"
             ],
             [
              0.1111111111111111,
              "#46039f"
             ],
             [
              0.2222222222222222,
              "#7201a8"
             ],
             [
              0.3333333333333333,
              "#9c179e"
             ],
             [
              0.4444444444444444,
              "#bd3786"
             ],
             [
              0.5555555555555556,
              "#d8576b"
             ],
             [
              0.6666666666666666,
              "#ed7953"
             ],
             [
              0.7777777777777778,
              "#fb9f3a"
             ],
             [
              0.8888888888888888,
              "#fdca26"
             ],
             [
              1,
              "#f0f921"
             ]
            ],
            "type": "heatmapgl"
           }
          ],
          "histogram": [
           {
            "marker": {
             "pattern": {
              "fillmode": "overlay",
              "size": 10,
              "solidity": 0.2
             }
            },
            "type": "histogram"
           }
          ],
          "histogram2d": [
           {
            "colorbar": {
             "outlinewidth": 0,
             "ticks": ""
            },
            "colorscale": [
             [
              0,
              "#0d0887"
             ],
             [
              0.1111111111111111,
              "#46039f"
             ],
             [
              0.2222222222222222,
              "#7201a8"
             ],
             [
              0.3333333333333333,
              "#9c179e"
             ],
             [
              0.4444444444444444,
              "#bd3786"
             ],
             [
              0.5555555555555556,
              "#d8576b"
             ],
             [
              0.6666666666666666,
              "#ed7953"
             ],
             [
              0.7777777777777778,
              "#fb9f3a"
             ],
             [
              0.8888888888888888,
              "#fdca26"
             ],
             [
              1,
              "#f0f921"
             ]
            ],
            "type": "histogram2d"
           }
          ],
          "histogram2dcontour": [
           {
            "colorbar": {
             "outlinewidth": 0,
             "ticks": ""
            },
            "colorscale": [
             [
              0,
              "#0d0887"
             ],
             [
              0.1111111111111111,
              "#46039f"
             ],
             [
              0.2222222222222222,
              "#7201a8"
             ],
             [
              0.3333333333333333,
              "#9c179e"
             ],
             [
              0.4444444444444444,
              "#bd3786"
             ],
             [
              0.5555555555555556,
              "#d8576b"
             ],
             [
              0.6666666666666666,
              "#ed7953"
             ],
             [
              0.7777777777777778,
              "#fb9f3a"
             ],
             [
              0.8888888888888888,
              "#fdca26"
             ],
             [
              1,
              "#f0f921"
             ]
            ],
            "type": "histogram2dcontour"
           }
          ],
          "mesh3d": [
           {
            "colorbar": {
             "outlinewidth": 0,
             "ticks": ""
            },
            "type": "mesh3d"
           }
          ],
          "parcoords": [
           {
            "line": {
             "colorbar": {
              "outlinewidth": 0,
              "ticks": ""
             }
            },
            "type": "parcoords"
           }
          ],
          "pie": [
           {
            "automargin": true,
            "type": "pie"
           }
          ],
          "scatter": [
           {
            "fillpattern": {
             "fillmode": "overlay",
             "size": 10,
             "solidity": 0.2
            },
            "type": "scatter"
           }
          ],
          "scatter3d": [
           {
            "line": {
             "colorbar": {
              "outlinewidth": 0,
              "ticks": ""
             }
            },
            "marker": {
             "colorbar": {
              "outlinewidth": 0,
              "ticks": ""
             }
            },
            "type": "scatter3d"
           }
          ],
          "scattercarpet": [
           {
            "marker": {
             "colorbar": {
              "outlinewidth": 0,
              "ticks": ""
             }
            },
            "type": "scattercarpet"
           }
          ],
          "scattergeo": [
           {
            "marker": {
             "colorbar": {
              "outlinewidth": 0,
              "ticks": ""
             }
            },
            "type": "scattergeo"
           }
          ],
          "scattergl": [
           {
            "marker": {
             "colorbar": {
              "outlinewidth": 0,
              "ticks": ""
             }
            },
            "type": "scattergl"
           }
          ],
          "scattermapbox": [
           {
            "marker": {
             "colorbar": {
              "outlinewidth": 0,
              "ticks": ""
             }
            },
            "type": "scattermapbox"
           }
          ],
          "scatterpolar": [
           {
            "marker": {
             "colorbar": {
              "outlinewidth": 0,
              "ticks": ""
             }
            },
            "type": "scatterpolar"
           }
          ],
          "scatterpolargl": [
           {
            "marker": {
             "colorbar": {
              "outlinewidth": 0,
              "ticks": ""
             }
            },
            "type": "scatterpolargl"
           }
          ],
          "scatterternary": [
           {
            "marker": {
             "colorbar": {
              "outlinewidth": 0,
              "ticks": ""
             }
            },
            "type": "scatterternary"
           }
          ],
          "surface": [
           {
            "colorbar": {
             "outlinewidth": 0,
             "ticks": ""
            },
            "colorscale": [
             [
              0,
              "#0d0887"
             ],
             [
              0.1111111111111111,
              "#46039f"
             ],
             [
              0.2222222222222222,
              "#7201a8"
             ],
             [
              0.3333333333333333,
              "#9c179e"
             ],
             [
              0.4444444444444444,
              "#bd3786"
             ],
             [
              0.5555555555555556,
              "#d8576b"
             ],
             [
              0.6666666666666666,
              "#ed7953"
             ],
             [
              0.7777777777777778,
              "#fb9f3a"
             ],
             [
              0.8888888888888888,
              "#fdca26"
             ],
             [
              1,
              "#f0f921"
             ]
            ],
            "type": "surface"
           }
          ],
          "table": [
           {
            "cells": {
             "fill": {
              "color": "#EBF0F8"
             },
             "line": {
              "color": "white"
             }
            },
            "header": {
             "fill": {
              "color": "#C8D4E3"
             },
             "line": {
              "color": "white"
             }
            },
            "type": "table"
           }
          ]
         },
         "layout": {
          "annotationdefaults": {
           "arrowcolor": "#2a3f5f",
           "arrowhead": 0,
           "arrowwidth": 1
          },
          "autotypenumbers": "strict",
          "coloraxis": {
           "colorbar": {
            "outlinewidth": 0,
            "ticks": ""
           }
          },
          "colorscale": {
           "diverging": [
            [
             0,
             "#8e0152"
            ],
            [
             0.1,
             "#c51b7d"
            ],
            [
             0.2,
             "#de77ae"
            ],
            [
             0.3,
             "#f1b6da"
            ],
            [
             0.4,
             "#fde0ef"
            ],
            [
             0.5,
             "#f7f7f7"
            ],
            [
             0.6,
             "#e6f5d0"
            ],
            [
             0.7,
             "#b8e186"
            ],
            [
             0.8,
             "#7fbc41"
            ],
            [
             0.9,
             "#4d9221"
            ],
            [
             1,
             "#276419"
            ]
           ],
           "sequential": [
            [
             0,
             "#0d0887"
            ],
            [
             0.1111111111111111,
             "#46039f"
            ],
            [
             0.2222222222222222,
             "#7201a8"
            ],
            [
             0.3333333333333333,
             "#9c179e"
            ],
            [
             0.4444444444444444,
             "#bd3786"
            ],
            [
             0.5555555555555556,
             "#d8576b"
            ],
            [
             0.6666666666666666,
             "#ed7953"
            ],
            [
             0.7777777777777778,
             "#fb9f3a"
            ],
            [
             0.8888888888888888,
             "#fdca26"
            ],
            [
             1,
             "#f0f921"
            ]
           ],
           "sequentialminus": [
            [
             0,
             "#0d0887"
            ],
            [
             0.1111111111111111,
             "#46039f"
            ],
            [
             0.2222222222222222,
             "#7201a8"
            ],
            [
             0.3333333333333333,
             "#9c179e"
            ],
            [
             0.4444444444444444,
             "#bd3786"
            ],
            [
             0.5555555555555556,
             "#d8576b"
            ],
            [
             0.6666666666666666,
             "#ed7953"
            ],
            [
             0.7777777777777778,
             "#fb9f3a"
            ],
            [
             0.8888888888888888,
             "#fdca26"
            ],
            [
             1,
             "#f0f921"
            ]
           ]
          },
          "colorway": [
           "#636efa",
           "#EF553B",
           "#00cc96",
           "#ab63fa",
           "#FFA15A",
           "#19d3f3",
           "#FF6692",
           "#B6E880",
           "#FF97FF",
           "#FECB52"
          ],
          "font": {
           "color": "#2a3f5f"
          },
          "geo": {
           "bgcolor": "white",
           "lakecolor": "white",
           "landcolor": "#E5ECF6",
           "showlakes": true,
           "showland": true,
           "subunitcolor": "white"
          },
          "hoverlabel": {
           "align": "left"
          },
          "hovermode": "closest",
          "mapbox": {
           "style": "light"
          },
          "paper_bgcolor": "white",
          "plot_bgcolor": "#E5ECF6",
          "polar": {
           "angularaxis": {
            "gridcolor": "white",
            "linecolor": "white",
            "ticks": ""
           },
           "bgcolor": "#E5ECF6",
           "radialaxis": {
            "gridcolor": "white",
            "linecolor": "white",
            "ticks": ""
           }
          },
          "scene": {
           "xaxis": {
            "backgroundcolor": "#E5ECF6",
            "gridcolor": "white",
            "gridwidth": 2,
            "linecolor": "white",
            "showbackground": true,
            "ticks": "",
            "zerolinecolor": "white"
           },
           "yaxis": {
            "backgroundcolor": "#E5ECF6",
            "gridcolor": "white",
            "gridwidth": 2,
            "linecolor": "white",
            "showbackground": true,
            "ticks": "",
            "zerolinecolor": "white"
           },
           "zaxis": {
            "backgroundcolor": "#E5ECF6",
            "gridcolor": "white",
            "gridwidth": 2,
            "linecolor": "white",
            "showbackground": true,
            "ticks": "",
            "zerolinecolor": "white"
           }
          },
          "shapedefaults": {
           "line": {
            "color": "#2a3f5f"
           }
          },
          "ternary": {
           "aaxis": {
            "gridcolor": "white",
            "linecolor": "white",
            "ticks": ""
           },
           "baxis": {
            "gridcolor": "white",
            "linecolor": "white",
            "ticks": ""
           },
           "bgcolor": "#E5ECF6",
           "caxis": {
            "gridcolor": "white",
            "linecolor": "white",
            "ticks": ""
           }
          },
          "title": {
           "x": 0.05
          },
          "xaxis": {
           "automargin": true,
           "gridcolor": "white",
           "linecolor": "white",
           "ticks": "",
           "title": {
            "standoff": 15
           },
           "zerolinecolor": "white",
           "zerolinewidth": 2
          },
          "yaxis": {
           "automargin": true,
           "gridcolor": "white",
           "linecolor": "white",
           "ticks": "",
           "title": {
            "standoff": 15
           },
           "zerolinecolor": "white",
           "zerolinewidth": 2
          }
         }
        },
        "title": {
         "text": "Predicted: right, Actual: back"
        },
        "xaxis": {
         "anchor": "y",
         "constrain": "domain",
         "domain": [
          0,
          1
         ],
         "scaleanchor": "y"
        },
        "yaxis": {
         "anchor": "x",
         "autorange": "reversed",
         "constrain": "domain",
         "domain": [
          0,
          1
         ]
        }
       }
      }
     },
     "metadata": {},
     "output_type": "display_data"
    },
    {
     "data": {
      "application/vnd.plotly.v1+json": {
       "config": {
        "plotlyServerURL": "https://plot.ly"
       },
       "data": [
        {
         "coloraxis": "coloraxis",
         "hovertemplate": "x: %{x}<br>y: %{y}<br>color: %{z}<extra></extra>",
         "name": "0",
         "type": "heatmap",
         "xaxis": "x",
         "yaxis": "y",
         "z": [
          [
           25.72,
           25.61,
           25.48,
           25.2,
           25.83,
           25.92,
           26.24,
           26.32,
           27.61,
           28.17,
           28.9,
           29.23,
           30.68,
           30.97,
           31.65,
           32.14,
           32.69,
           33.07,
           30.35,
           29.38,
           27.24,
           26.99,
           26.16,
           26.1,
           25.74,
           25.4,
           24.89,
           25.22,
           24.99,
           24.94,
           24.31,
           24.94
          ],
          [
           25.48,
           25.03,
           25.14,
           25.2,
           26,
           25.71,
           26.53,
           26.64,
           27.89,
           28.38,
           29.23,
           29.54,
           30.94,
           31.33,
           32.32,
           32.44,
           33.45,
           33.47,
           31.29,
           29.77,
           27.74,
           27.21,
           26.04,
           25.93,
           26.05,
           25.52,
           25.39,
           25,
           25.44,
           24.97,
           25.29,
           24.87
          ],
          [
           25.44,
           25.26,
           25.19,
           25.42,
           25.88,
           26.01,
           26.37,
           27,
           28.41,
           28.92,
           29.51,
           30.34,
           31.41,
           31.76,
           31.97,
           32.8,
           33.51,
           33.24,
           31.86,
           30.59,
           27.94,
           27.39,
           26.48,
           26.24,
           25.84,
           25.77,
           25.09,
           24.98,
           24.78,
           24.63,
           24.44,
           24.57
          ],
          [
           25.3,
           25.32,
           25.28,
           25.47,
           26.14,
           26.04,
           26.68,
           27.44,
           28.78,
           28.87,
           29.82,
           30.08,
           31.57,
           31.48,
           32.6,
           33.11,
           33.3,
           33.04,
           32.7,
           31.19,
           28.19,
           27.39,
           26.64,
           26.28,
           26.02,
           25.69,
           25.26,
           24.89,
           25.21,
           25.04,
           25.01,
           24.72
          ],
          [
           24.85,
           25.28,
           24.86,
           25.21,
           25.89,
           26.41,
           26.82,
           27.5,
           28.72,
           29,
           29.59,
           30.15,
           31.54,
           31.84,
           33.35,
           33.58,
           33.08,
           33,
           32.35,
           31.48,
           28.57,
           27.66,
           26.46,
           26.2,
           26.03,
           25.64,
           25.13,
           25.29,
           24.68,
           24.91,
           24.33,
           24.27
          ],
          [
           25.27,
           25.1,
           25.08,
           25.52,
           25.97,
           26,
           27.2,
           27.5,
           28.97,
           28.97,
           29.67,
           30.04,
           31.9,
           31.89,
           33.38,
           33.49,
           33.12,
           32.75,
           32.27,
           31.9,
           28.5,
           27.77,
           26.36,
           26.44,
           26.08,
           25.54,
           25.33,
           25.24,
           25,
           24.55,
           24.85,
           24.57
          ],
          [
           25.09,
           25.19,
           25.34,
           25.56,
           26.17,
           26.68,
           27.44,
           27.88,
           28.94,
           29.03,
           29.81,
           30.9,
           33.03,
           33.48,
           33.53,
           33.78,
           33.19,
           32.67,
           32.02,
           31.47,
           28.09,
           27.64,
           26.67,
           26.35,
           25.86,
           25.84,
           25.16,
           24.93,
           24.82,
           24.83,
           24.25,
           24.24
          ],
          [
           25.15,
           24.85,
           25.5,
           25.53,
           26.3,
           26.66,
           28.04,
           28.55,
           28.85,
           28.89,
           30.02,
           31.33,
           33.68,
           33.77,
           34.18,
           34.04,
           33.4,
           32.88,
           32.42,
           31.34,
           28.31,
           27.35,
           26.58,
           26.13,
           26.14,
           25.32,
           25.58,
           25.06,
           24.61,
           24.58,
           24.56,
           24.34
          ],
          [
           25.11,
           25.37,
           25.27,
           25.54,
           26.11,
           26.85,
           28.32,
           28.8,
           29.08,
           29.3,
           30.48,
           32.03,
           34.18,
           34.34,
           34.2,
           34.3,
           33.45,
           32.89,
           31.31,
           30.08,
           28.07,
           27.67,
           26.51,
           26.75,
           26.17,
           25.64,
           25.27,
           25.19,
           24.94,
           24.74,
           24.65,
           24.59
          ],
          [
           25.08,
           24.9,
           25.11,
           25.68,
           26.09,
           26.82,
           28.12,
           28.45,
           29.44,
           29.09,
           30.56,
           31.54,
           34.04,
           34.36,
           34.47,
           34.23,
           32.82,
           31.82,
           29.68,
           29.26,
           28.16,
           27.73,
           26.99,
           26.71,
           25.94,
           25.61,
           25.55,
           25.28,
           25.08,
           24.81,
           24.62,
           24.33
          ],
          [
           25.06,
           25.36,
           25.23,
           25.69,
           25.96,
           26.38,
           27.15,
           27.85,
           29.1,
           29.61,
           30.08,
           30.29,
           31.51,
           32.11,
           33.09,
           32.74,
           31.43,
           30.68,
           28.58,
           28.4,
           28.15,
           28,
           27.31,
           26.84,
           26.15,
           25.8,
           25.42,
           25.48,
           24.84,
           25.07,
           24.55,
           24.75
          ],
          [
           24.99,
           24.98,
           25.2,
           25.37,
           25.79,
           25.96,
           26.91,
           27.29,
           28.99,
           29.29,
           30.05,
           30.18,
           30.38,
           30.46,
           31.57,
           31.67,
           31.4,
           30.9,
           28.71,
           28.34,
           28.5,
           28.3,
           27.56,
           27.19,
           26.48,
           26.08,
           25.64,
           25.49,
           25.34,
           25.29,
           24.77,
           24.47
          ],
          [
           24.89,
           25.03,
           24.98,
           25.68,
           25.59,
           26,
           26.32,
           27.02,
           28.42,
           29.37,
           30.14,
           30.46,
           30.47,
           30.5,
           29.59,
           29.77,
           30.42,
           30.84,
           30.28,
           29.18,
           28.67,
           29.16,
           29.34,
           29.36,
           27.39,
           26.83,
           25.66,
           25.53,
           25.25,
           25.2,
           24.85,
           25.05
          ],
          [
           24.97,
           25.05,
           25.1,
           25.2,
           25.78,
           26.13,
           26.67,
           26.94,
           29.08,
           29.51,
           30.45,
           30.58,
           30.62,
           30.55,
           29.7,
           29.39,
           29.38,
           29.72,
           30.52,
           30.16,
           28.91,
           29.09,
           29.9,
           30.27,
           28.32,
           27.21,
           25.81,
           25.83,
           25.51,
           25.21,
           25.09,
           24.65
          ],
          [
           24.78,
           25.12,
           25.12,
           25.41,
           25.55,
           26.33,
           26.87,
           27.83,
           29.39,
           30.31,
           30.4,
           30.42,
           29.89,
           30.13,
           29.64,
           29.41,
           28.9,
           28.84,
           29.48,
           30.06,
           29.44,
           29.63,
           29.76,
           30.05,
           28.93,
           27.58,
           25.76,
           25.5,
           25.54,
           25.25,
           24.84,
           24.69
          ],
          [
           24.77,
           24.79,
           25.02,
           25.28,
           25.96,
           25.98,
           26.8,
           27.64,
           29.41,
           29.95,
           30.52,
           30.28,
           30.03,
           29.64,
           29.43,
           29.41,
           29.03,
           28.75,
           28.87,
           29.37,
           29.29,
           29.48,
           29.79,
           29.88,
           28.54,
           27.43,
           25.78,
           25.31,
           25.1,
           25.2,
           25.21,
           24.83
          ],
          [
           24.86,
           25.1,
           24.89,
           25.33,
           25.78,
           26.04,
           26.76,
           27.5,
           28.96,
           29.8,
           30.66,
           30.22,
           29.58,
           29.64,
           28.88,
           29,
           28.84,
           28.62,
           28.14,
           28.57,
           29.29,
           29.5,
           29.8,
           29.35,
           27.72,
           27.02,
           25.73,
           25.34,
           25.04,
           25.03,
           24.49,
           25.44
          ],
          [
           24.86,
           24.96,
           25.01,
           25.02,
           25.66,
           25.89,
           26.86,
           27.28,
           28.71,
           29.14,
           30.24,
           30.26,
           30.08,
           29.66,
           29.08,
           28.9,
           29.05,
           29,
           28.32,
           28.2,
           29.12,
           29.23,
           29.3,
           29.25,
           27.6,
           26.87,
           25.72,
           25.17,
           25.03,
           24.94,
           24.86,
           24.8
          ],
          [
           24.75,
           25.2,
           24.92,
           25.31,
           25.6,
           26.01,
           25.99,
           26.69,
           27.59,
           28.04,
           29.49,
           29.9,
           30.38,
           30.24,
           29.62,
           29.42,
           29.67,
           30.13,
           29.31,
           28.84,
           29.25,
           29.52,
           29.86,
           29.71,
           27.85,
           26.8,
           25.35,
           25.36,
           25.05,
           25.07,
           24.74,
           24.91
          ],
          [
           24.91,
           25.07,
           24.91,
           24.91,
           25.56,
           25.55,
           26.18,
           26.41,
           27.24,
           27.46,
           29.22,
           29.72,
           30.43,
           30.46,
           30.12,
           29.9,
           29.89,
           30.15,
           29.65,
           29.22,
           29.35,
           29.42,
           29.77,
           29.83,
           28.09,
           26.96,
           25.45,
           25.09,
           25.03,
           24.65,
           24.89,
           24.43
          ],
          [
           24.89,
           25.07,
           24.8,
           24.94,
           25.29,
           25.75,
           25.94,
           26.18,
           26.78,
           27.26,
           27.76,
           28.81,
           30.17,
           30.15,
           29.78,
           30.24,
           29.87,
           30.09,
           29.73,
           30.05,
           30.36,
           30.58,
           30.22,
           30.57,
           27.8,
           26.58,
           25.27,
           25.58,
           24.92,
           24.74,
           24.31,
           24.91
          ],
          [
           25.23,
           24.93,
           25.2,
           25.16,
           25.56,
           25.5,
           25.83,
           26.16,
           26.94,
           26.81,
           27.98,
           28.67,
           29.9,
           29.74,
           29.84,
           29.82,
           29.88,
           29.64,
           29.75,
           30.07,
           31.11,
           30.58,
           30.77,
           30.36,
           27.68,
           26.46,
           25.52,
           25.15,
           25.27,
           24.76,
           24.6,
           25.26
          ],
          [
           24.42,
           24.74,
           24.76,
           25.23,
           25.27,
           25.4,
           25.39,
           25.84,
           26.54,
           27.07,
           28.23,
           28.69,
           29.66,
           29.62,
           28.61,
           29.2,
           29.34,
           29.61,
           29.44,
           30.03,
           30.62,
           31,
           29.99,
           28.92,
           26.52,
           25.88,
           25.17,
           25.28,
           25.03,
           25.07,
           25.02,
           25.04
          ],
          [
           25.61,
           25.37,
           25.06,
           25.12,
           25.21,
           25.48,
           26.03,
           25.99,
           26.46,
           26.87,
           28.49,
           28.78,
           29.44,
           28.96,
           28.48,
           28.41,
           29,
           29.24,
           29.8,
           29.65,
           30.79,
           30.37,
           29.05,
           28.16,
           26.45,
           25.75,
           25.42,
           24.97,
           25.45,
           24.85,
           25.52,
           24.9
          ]
         ]
        }
       ],
       "layout": {
        "coloraxis": {
         "colorscale": [
          [
           0,
           "#0d0887"
          ],
          [
           0.1111111111111111,
           "#46039f"
          ],
          [
           0.2222222222222222,
           "#7201a8"
          ],
          [
           0.3333333333333333,
           "#9c179e"
          ],
          [
           0.4444444444444444,
           "#bd3786"
          ],
          [
           0.5555555555555556,
           "#d8576b"
          ],
          [
           0.6666666666666666,
           "#ed7953"
          ],
          [
           0.7777777777777778,
           "#fb9f3a"
          ],
          [
           0.8888888888888888,
           "#fdca26"
          ],
          [
           1,
           "#f0f921"
          ]
         ]
        },
        "margin": {
         "t": 60
        },
        "template": {
         "data": {
          "bar": [
           {
            "error_x": {
             "color": "#2a3f5f"
            },
            "error_y": {
             "color": "#2a3f5f"
            },
            "marker": {
             "line": {
              "color": "#E5ECF6",
              "width": 0.5
             },
             "pattern": {
              "fillmode": "overlay",
              "size": 10,
              "solidity": 0.2
             }
            },
            "type": "bar"
           }
          ],
          "barpolar": [
           {
            "marker": {
             "line": {
              "color": "#E5ECF6",
              "width": 0.5
             },
             "pattern": {
              "fillmode": "overlay",
              "size": 10,
              "solidity": 0.2
             }
            },
            "type": "barpolar"
           }
          ],
          "carpet": [
           {
            "aaxis": {
             "endlinecolor": "#2a3f5f",
             "gridcolor": "white",
             "linecolor": "white",
             "minorgridcolor": "white",
             "startlinecolor": "#2a3f5f"
            },
            "baxis": {
             "endlinecolor": "#2a3f5f",
             "gridcolor": "white",
             "linecolor": "white",
             "minorgridcolor": "white",
             "startlinecolor": "#2a3f5f"
            },
            "type": "carpet"
           }
          ],
          "choropleth": [
           {
            "colorbar": {
             "outlinewidth": 0,
             "ticks": ""
            },
            "type": "choropleth"
           }
          ],
          "contour": [
           {
            "colorbar": {
             "outlinewidth": 0,
             "ticks": ""
            },
            "colorscale": [
             [
              0,
              "#0d0887"
             ],
             [
              0.1111111111111111,
              "#46039f"
             ],
             [
              0.2222222222222222,
              "#7201a8"
             ],
             [
              0.3333333333333333,
              "#9c179e"
             ],
             [
              0.4444444444444444,
              "#bd3786"
             ],
             [
              0.5555555555555556,
              "#d8576b"
             ],
             [
              0.6666666666666666,
              "#ed7953"
             ],
             [
              0.7777777777777778,
              "#fb9f3a"
             ],
             [
              0.8888888888888888,
              "#fdca26"
             ],
             [
              1,
              "#f0f921"
             ]
            ],
            "type": "contour"
           }
          ],
          "contourcarpet": [
           {
            "colorbar": {
             "outlinewidth": 0,
             "ticks": ""
            },
            "type": "contourcarpet"
           }
          ],
          "heatmap": [
           {
            "colorbar": {
             "outlinewidth": 0,
             "ticks": ""
            },
            "colorscale": [
             [
              0,
              "#0d0887"
             ],
             [
              0.1111111111111111,
              "#46039f"
             ],
             [
              0.2222222222222222,
              "#7201a8"
             ],
             [
              0.3333333333333333,
              "#9c179e"
             ],
             [
              0.4444444444444444,
              "#bd3786"
             ],
             [
              0.5555555555555556,
              "#d8576b"
             ],
             [
              0.6666666666666666,
              "#ed7953"
             ],
             [
              0.7777777777777778,
              "#fb9f3a"
             ],
             [
              0.8888888888888888,
              "#fdca26"
             ],
             [
              1,
              "#f0f921"
             ]
            ],
            "type": "heatmap"
           }
          ],
          "heatmapgl": [
           {
            "colorbar": {
             "outlinewidth": 0,
             "ticks": ""
            },
            "colorscale": [
             [
              0,
              "#0d0887"
             ],
             [
              0.1111111111111111,
              "#46039f"
             ],
             [
              0.2222222222222222,
              "#7201a8"
             ],
             [
              0.3333333333333333,
              "#9c179e"
             ],
             [
              0.4444444444444444,
              "#bd3786"
             ],
             [
              0.5555555555555556,
              "#d8576b"
             ],
             [
              0.6666666666666666,
              "#ed7953"
             ],
             [
              0.7777777777777778,
              "#fb9f3a"
             ],
             [
              0.8888888888888888,
              "#fdca26"
             ],
             [
              1,
              "#f0f921"
             ]
            ],
            "type": "heatmapgl"
           }
          ],
          "histogram": [
           {
            "marker": {
             "pattern": {
              "fillmode": "overlay",
              "size": 10,
              "solidity": 0.2
             }
            },
            "type": "histogram"
           }
          ],
          "histogram2d": [
           {
            "colorbar": {
             "outlinewidth": 0,
             "ticks": ""
            },
            "colorscale": [
             [
              0,
              "#0d0887"
             ],
             [
              0.1111111111111111,
              "#46039f"
             ],
             [
              0.2222222222222222,
              "#7201a8"
             ],
             [
              0.3333333333333333,
              "#9c179e"
             ],
             [
              0.4444444444444444,
              "#bd3786"
             ],
             [
              0.5555555555555556,
              "#d8576b"
             ],
             [
              0.6666666666666666,
              "#ed7953"
             ],
             [
              0.7777777777777778,
              "#fb9f3a"
             ],
             [
              0.8888888888888888,
              "#fdca26"
             ],
             [
              1,
              "#f0f921"
             ]
            ],
            "type": "histogram2d"
           }
          ],
          "histogram2dcontour": [
           {
            "colorbar": {
             "outlinewidth": 0,
             "ticks": ""
            },
            "colorscale": [
             [
              0,
              "#0d0887"
             ],
             [
              0.1111111111111111,
              "#46039f"
             ],
             [
              0.2222222222222222,
              "#7201a8"
             ],
             [
              0.3333333333333333,
              "#9c179e"
             ],
             [
              0.4444444444444444,
              "#bd3786"
             ],
             [
              0.5555555555555556,
              "#d8576b"
             ],
             [
              0.6666666666666666,
              "#ed7953"
             ],
             [
              0.7777777777777778,
              "#fb9f3a"
             ],
             [
              0.8888888888888888,
              "#fdca26"
             ],
             [
              1,
              "#f0f921"
             ]
            ],
            "type": "histogram2dcontour"
           }
          ],
          "mesh3d": [
           {
            "colorbar": {
             "outlinewidth": 0,
             "ticks": ""
            },
            "type": "mesh3d"
           }
          ],
          "parcoords": [
           {
            "line": {
             "colorbar": {
              "outlinewidth": 0,
              "ticks": ""
             }
            },
            "type": "parcoords"
           }
          ],
          "pie": [
           {
            "automargin": true,
            "type": "pie"
           }
          ],
          "scatter": [
           {
            "fillpattern": {
             "fillmode": "overlay",
             "size": 10,
             "solidity": 0.2
            },
            "type": "scatter"
           }
          ],
          "scatter3d": [
           {
            "line": {
             "colorbar": {
              "outlinewidth": 0,
              "ticks": ""
             }
            },
            "marker": {
             "colorbar": {
              "outlinewidth": 0,
              "ticks": ""
             }
            },
            "type": "scatter3d"
           }
          ],
          "scattercarpet": [
           {
            "marker": {
             "colorbar": {
              "outlinewidth": 0,
              "ticks": ""
             }
            },
            "type": "scattercarpet"
           }
          ],
          "scattergeo": [
           {
            "marker": {
             "colorbar": {
              "outlinewidth": 0,
              "ticks": ""
             }
            },
            "type": "scattergeo"
           }
          ],
          "scattergl": [
           {
            "marker": {
             "colorbar": {
              "outlinewidth": 0,
              "ticks": ""
             }
            },
            "type": "scattergl"
           }
          ],
          "scattermapbox": [
           {
            "marker": {
             "colorbar": {
              "outlinewidth": 0,
              "ticks": ""
             }
            },
            "type": "scattermapbox"
           }
          ],
          "scatterpolar": [
           {
            "marker": {
             "colorbar": {
              "outlinewidth": 0,
              "ticks": ""
             }
            },
            "type": "scatterpolar"
           }
          ],
          "scatterpolargl": [
           {
            "marker": {
             "colorbar": {
              "outlinewidth": 0,
              "ticks": ""
             }
            },
            "type": "scatterpolargl"
           }
          ],
          "scatterternary": [
           {
            "marker": {
             "colorbar": {
              "outlinewidth": 0,
              "ticks": ""
             }
            },
            "type": "scatterternary"
           }
          ],
          "surface": [
           {
            "colorbar": {
             "outlinewidth": 0,
             "ticks": ""
            },
            "colorscale": [
             [
              0,
              "#0d0887"
             ],
             [
              0.1111111111111111,
              "#46039f"
             ],
             [
              0.2222222222222222,
              "#7201a8"
             ],
             [
              0.3333333333333333,
              "#9c179e"
             ],
             [
              0.4444444444444444,
              "#bd3786"
             ],
             [
              0.5555555555555556,
              "#d8576b"
             ],
             [
              0.6666666666666666,
              "#ed7953"
             ],
             [
              0.7777777777777778,
              "#fb9f3a"
             ],
             [
              0.8888888888888888,
              "#fdca26"
             ],
             [
              1,
              "#f0f921"
             ]
            ],
            "type": "surface"
           }
          ],
          "table": [
           {
            "cells": {
             "fill": {
              "color": "#EBF0F8"
             },
             "line": {
              "color": "white"
             }
            },
            "header": {
             "fill": {
              "color": "#C8D4E3"
             },
             "line": {
              "color": "white"
             }
            },
            "type": "table"
           }
          ]
         },
         "layout": {
          "annotationdefaults": {
           "arrowcolor": "#2a3f5f",
           "arrowhead": 0,
           "arrowwidth": 1
          },
          "autotypenumbers": "strict",
          "coloraxis": {
           "colorbar": {
            "outlinewidth": 0,
            "ticks": ""
           }
          },
          "colorscale": {
           "diverging": [
            [
             0,
             "#8e0152"
            ],
            [
             0.1,
             "#c51b7d"
            ],
            [
             0.2,
             "#de77ae"
            ],
            [
             0.3,
             "#f1b6da"
            ],
            [
             0.4,
             "#fde0ef"
            ],
            [
             0.5,
             "#f7f7f7"
            ],
            [
             0.6,
             "#e6f5d0"
            ],
            [
             0.7,
             "#b8e186"
            ],
            [
             0.8,
             "#7fbc41"
            ],
            [
             0.9,
             "#4d9221"
            ],
            [
             1,
             "#276419"
            ]
           ],
           "sequential": [
            [
             0,
             "#0d0887"
            ],
            [
             0.1111111111111111,
             "#46039f"
            ],
            [
             0.2222222222222222,
             "#7201a8"
            ],
            [
             0.3333333333333333,
             "#9c179e"
            ],
            [
             0.4444444444444444,
             "#bd3786"
            ],
            [
             0.5555555555555556,
             "#d8576b"
            ],
            [
             0.6666666666666666,
             "#ed7953"
            ],
            [
             0.7777777777777778,
             "#fb9f3a"
            ],
            [
             0.8888888888888888,
             "#fdca26"
            ],
            [
             1,
             "#f0f921"
            ]
           ],
           "sequentialminus": [
            [
             0,
             "#0d0887"
            ],
            [
             0.1111111111111111,
             "#46039f"
            ],
            [
             0.2222222222222222,
             "#7201a8"
            ],
            [
             0.3333333333333333,
             "#9c179e"
            ],
            [
             0.4444444444444444,
             "#bd3786"
            ],
            [
             0.5555555555555556,
             "#d8576b"
            ],
            [
             0.6666666666666666,
             "#ed7953"
            ],
            [
             0.7777777777777778,
             "#fb9f3a"
            ],
            [
             0.8888888888888888,
             "#fdca26"
            ],
            [
             1,
             "#f0f921"
            ]
           ]
          },
          "colorway": [
           "#636efa",
           "#EF553B",
           "#00cc96",
           "#ab63fa",
           "#FFA15A",
           "#19d3f3",
           "#FF6692",
           "#B6E880",
           "#FF97FF",
           "#FECB52"
          ],
          "font": {
           "color": "#2a3f5f"
          },
          "geo": {
           "bgcolor": "white",
           "lakecolor": "white",
           "landcolor": "#E5ECF6",
           "showlakes": true,
           "showland": true,
           "subunitcolor": "white"
          },
          "hoverlabel": {
           "align": "left"
          },
          "hovermode": "closest",
          "mapbox": {
           "style": "light"
          },
          "paper_bgcolor": "white",
          "plot_bgcolor": "#E5ECF6",
          "polar": {
           "angularaxis": {
            "gridcolor": "white",
            "linecolor": "white",
            "ticks": ""
           },
           "bgcolor": "#E5ECF6",
           "radialaxis": {
            "gridcolor": "white",
            "linecolor": "white",
            "ticks": ""
           }
          },
          "scene": {
           "xaxis": {
            "backgroundcolor": "#E5ECF6",
            "gridcolor": "white",
            "gridwidth": 2,
            "linecolor": "white",
            "showbackground": true,
            "ticks": "",
            "zerolinecolor": "white"
           },
           "yaxis": {
            "backgroundcolor": "#E5ECF6",
            "gridcolor": "white",
            "gridwidth": 2,
            "linecolor": "white",
            "showbackground": true,
            "ticks": "",
            "zerolinecolor": "white"
           },
           "zaxis": {
            "backgroundcolor": "#E5ECF6",
            "gridcolor": "white",
            "gridwidth": 2,
            "linecolor": "white",
            "showbackground": true,
            "ticks": "",
            "zerolinecolor": "white"
           }
          },
          "shapedefaults": {
           "line": {
            "color": "#2a3f5f"
           }
          },
          "ternary": {
           "aaxis": {
            "gridcolor": "white",
            "linecolor": "white",
            "ticks": ""
           },
           "baxis": {
            "gridcolor": "white",
            "linecolor": "white",
            "ticks": ""
           },
           "bgcolor": "#E5ECF6",
           "caxis": {
            "gridcolor": "white",
            "linecolor": "white",
            "ticks": ""
           }
          },
          "title": {
           "x": 0.05
          },
          "xaxis": {
           "automargin": true,
           "gridcolor": "white",
           "linecolor": "white",
           "ticks": "",
           "title": {
            "standoff": 15
           },
           "zerolinecolor": "white",
           "zerolinewidth": 2
          },
          "yaxis": {
           "automargin": true,
           "gridcolor": "white",
           "linecolor": "white",
           "ticks": "",
           "title": {
            "standoff": 15
           },
           "zerolinecolor": "white",
           "zerolinewidth": 2
          }
         }
        },
        "title": {
         "text": "Predicted: back, Actual: right"
        },
        "xaxis": {
         "anchor": "y",
         "constrain": "domain",
         "domain": [
          0,
          1
         ],
         "scaleanchor": "y"
        },
        "yaxis": {
         "anchor": "x",
         "autorange": "reversed",
         "constrain": "domain",
         "domain": [
          0,
          1
         ]
        }
       }
      }
     },
     "metadata": {},
     "output_type": "display_data"
    }
   ],
   "source": [
    "values = {\n",
    "    0: 'back',\n",
    "    1: 'left',\n",
    "    2: 'right',\n",
    "}\n",
    "\n",
    "# Get the X inputs that were misclassified\n",
    "misclassified = X_test[y_test_max != preds]\n",
    "# Get the y inputs that were misclassified\n",
    "real_labels = y_test_max[y_test_max != preds]\n",
    "pred_labels = preds[y_test_max != preds]\n",
    "# Plot the misclassified inputs\n",
    "for i in range(len(misclassified)):\n",
    "    fig = px.imshow(\n",
    "        img = misclassified[i, :, :, 0]\n",
    "    )\n",
    "    fig.update_layout(\n",
    "        title=f'Predicted: {values[pred_labels[i]]}, '\n",
    "        f'Actual: {values[real_labels[i]]}'\n",
    "    )\n",
    "    fig.show()"
   ]
  },
  {
   "cell_type": "markdown",
   "metadata": {},
   "source": [
    "---\n",
    "### Predicting for whole data\n",
    "---"
   ]
  },
  {
   "cell_type": "code",
   "execution_count": 117,
   "metadata": {},
   "outputs": [],
   "source": [
    "X = np.concatenate([X_train, X_test])\n",
    "y = np.concatenate([y_train, y_test])"
   ]
  },
  {
   "cell_type": "code",
   "execution_count": 118,
   "metadata": {},
   "outputs": [],
   "source": [
    "X_total = tf.convert_to_tensor(X)\n",
    "y_total = tf.convert_to_tensor(y)"
   ]
  },
  {
   "cell_type": "code",
   "execution_count": 119,
   "metadata": {},
   "outputs": [
    {
     "name": "stdout",
     "output_type": "stream",
     "text": [
      "6/6 [==============================] - 0s 5ms/step\n"
     ]
    }
   ],
   "source": [
    "y_pred = model.predict(X_total)\n",
    "y_pred_max = np.argmax(y_pred, axis=1)\n",
    "y_total_max = np.argmax(y_total, axis=1)"
   ]
  },
  {
   "cell_type": "code",
   "execution_count": 120,
   "metadata": {},
   "outputs": [
    {
     "data": {
      "application/vnd.plotly.v1+json": {
       "config": {
        "plotlyServerURL": "https://plot.ly"
       },
       "data": [
        {
         "coloraxis": "coloraxis",
         "hovertemplate": "x: %{x}<br>y: %{y}<br>color: %{z}<extra></extra>",
         "name": "0",
         "type": "heatmap",
         "x": [
          "back",
          "left",
          "right"
         ],
         "xaxis": "x",
         "y": [
          "back",
          "left",
          "right"
         ],
         "yaxis": "y",
         "z": [
          [
           57,
           3,
           3
          ],
          [
           6,
           56,
           1
          ],
          [
           5,
           2,
           56
          ]
         ]
        }
       ],
       "layout": {
        "coloraxis": {
         "colorscale": [
          [
           0,
           "rgb(247,251,255)"
          ],
          [
           0.125,
           "rgb(222,235,247)"
          ],
          [
           0.25,
           "rgb(198,219,239)"
          ],
          [
           0.375,
           "rgb(158,202,225)"
          ],
          [
           0.5,
           "rgb(107,174,214)"
          ],
          [
           0.625,
           "rgb(66,146,198)"
          ],
          [
           0.75,
           "rgb(33,113,181)"
          ],
          [
           0.875,
           "rgb(8,81,156)"
          ],
          [
           1,
           "rgb(8,48,107)"
          ]
         ]
        },
        "margin": {
         "t": 60
        },
        "template": {
         "data": {
          "bar": [
           {
            "error_x": {
             "color": "#2a3f5f"
            },
            "error_y": {
             "color": "#2a3f5f"
            },
            "marker": {
             "line": {
              "color": "#E5ECF6",
              "width": 0.5
             },
             "pattern": {
              "fillmode": "overlay",
              "size": 10,
              "solidity": 0.2
             }
            },
            "type": "bar"
           }
          ],
          "barpolar": [
           {
            "marker": {
             "line": {
              "color": "#E5ECF6",
              "width": 0.5
             },
             "pattern": {
              "fillmode": "overlay",
              "size": 10,
              "solidity": 0.2
             }
            },
            "type": "barpolar"
           }
          ],
          "carpet": [
           {
            "aaxis": {
             "endlinecolor": "#2a3f5f",
             "gridcolor": "white",
             "linecolor": "white",
             "minorgridcolor": "white",
             "startlinecolor": "#2a3f5f"
            },
            "baxis": {
             "endlinecolor": "#2a3f5f",
             "gridcolor": "white",
             "linecolor": "white",
             "minorgridcolor": "white",
             "startlinecolor": "#2a3f5f"
            },
            "type": "carpet"
           }
          ],
          "choropleth": [
           {
            "colorbar": {
             "outlinewidth": 0,
             "ticks": ""
            },
            "type": "choropleth"
           }
          ],
          "contour": [
           {
            "colorbar": {
             "outlinewidth": 0,
             "ticks": ""
            },
            "colorscale": [
             [
              0,
              "#0d0887"
             ],
             [
              0.1111111111111111,
              "#46039f"
             ],
             [
              0.2222222222222222,
              "#7201a8"
             ],
             [
              0.3333333333333333,
              "#9c179e"
             ],
             [
              0.4444444444444444,
              "#bd3786"
             ],
             [
              0.5555555555555556,
              "#d8576b"
             ],
             [
              0.6666666666666666,
              "#ed7953"
             ],
             [
              0.7777777777777778,
              "#fb9f3a"
             ],
             [
              0.8888888888888888,
              "#fdca26"
             ],
             [
              1,
              "#f0f921"
             ]
            ],
            "type": "contour"
           }
          ],
          "contourcarpet": [
           {
            "colorbar": {
             "outlinewidth": 0,
             "ticks": ""
            },
            "type": "contourcarpet"
           }
          ],
          "heatmap": [
           {
            "colorbar": {
             "outlinewidth": 0,
             "ticks": ""
            },
            "colorscale": [
             [
              0,
              "#0d0887"
             ],
             [
              0.1111111111111111,
              "#46039f"
             ],
             [
              0.2222222222222222,
              "#7201a8"
             ],
             [
              0.3333333333333333,
              "#9c179e"
             ],
             [
              0.4444444444444444,
              "#bd3786"
             ],
             [
              0.5555555555555556,
              "#d8576b"
             ],
             [
              0.6666666666666666,
              "#ed7953"
             ],
             [
              0.7777777777777778,
              "#fb9f3a"
             ],
             [
              0.8888888888888888,
              "#fdca26"
             ],
             [
              1,
              "#f0f921"
             ]
            ],
            "type": "heatmap"
           }
          ],
          "heatmapgl": [
           {
            "colorbar": {
             "outlinewidth": 0,
             "ticks": ""
            },
            "colorscale": [
             [
              0,
              "#0d0887"
             ],
             [
              0.1111111111111111,
              "#46039f"
             ],
             [
              0.2222222222222222,
              "#7201a8"
             ],
             [
              0.3333333333333333,
              "#9c179e"
             ],
             [
              0.4444444444444444,
              "#bd3786"
             ],
             [
              0.5555555555555556,
              "#d8576b"
             ],
             [
              0.6666666666666666,
              "#ed7953"
             ],
             [
              0.7777777777777778,
              "#fb9f3a"
             ],
             [
              0.8888888888888888,
              "#fdca26"
             ],
             [
              1,
              "#f0f921"
             ]
            ],
            "type": "heatmapgl"
           }
          ],
          "histogram": [
           {
            "marker": {
             "pattern": {
              "fillmode": "overlay",
              "size": 10,
              "solidity": 0.2
             }
            },
            "type": "histogram"
           }
          ],
          "histogram2d": [
           {
            "colorbar": {
             "outlinewidth": 0,
             "ticks": ""
            },
            "colorscale": [
             [
              0,
              "#0d0887"
             ],
             [
              0.1111111111111111,
              "#46039f"
             ],
             [
              0.2222222222222222,
              "#7201a8"
             ],
             [
              0.3333333333333333,
              "#9c179e"
             ],
             [
              0.4444444444444444,
              "#bd3786"
             ],
             [
              0.5555555555555556,
              "#d8576b"
             ],
             [
              0.6666666666666666,
              "#ed7953"
             ],
             [
              0.7777777777777778,
              "#fb9f3a"
             ],
             [
              0.8888888888888888,
              "#fdca26"
             ],
             [
              1,
              "#f0f921"
             ]
            ],
            "type": "histogram2d"
           }
          ],
          "histogram2dcontour": [
           {
            "colorbar": {
             "outlinewidth": 0,
             "ticks": ""
            },
            "colorscale": [
             [
              0,
              "#0d0887"
             ],
             [
              0.1111111111111111,
              "#46039f"
             ],
             [
              0.2222222222222222,
              "#7201a8"
             ],
             [
              0.3333333333333333,
              "#9c179e"
             ],
             [
              0.4444444444444444,
              "#bd3786"
             ],
             [
              0.5555555555555556,
              "#d8576b"
             ],
             [
              0.6666666666666666,
              "#ed7953"
             ],
             [
              0.7777777777777778,
              "#fb9f3a"
             ],
             [
              0.8888888888888888,
              "#fdca26"
             ],
             [
              1,
              "#f0f921"
             ]
            ],
            "type": "histogram2dcontour"
           }
          ],
          "mesh3d": [
           {
            "colorbar": {
             "outlinewidth": 0,
             "ticks": ""
            },
            "type": "mesh3d"
           }
          ],
          "parcoords": [
           {
            "line": {
             "colorbar": {
              "outlinewidth": 0,
              "ticks": ""
             }
            },
            "type": "parcoords"
           }
          ],
          "pie": [
           {
            "automargin": true,
            "type": "pie"
           }
          ],
          "scatter": [
           {
            "fillpattern": {
             "fillmode": "overlay",
             "size": 10,
             "solidity": 0.2
            },
            "type": "scatter"
           }
          ],
          "scatter3d": [
           {
            "line": {
             "colorbar": {
              "outlinewidth": 0,
              "ticks": ""
             }
            },
            "marker": {
             "colorbar": {
              "outlinewidth": 0,
              "ticks": ""
             }
            },
            "type": "scatter3d"
           }
          ],
          "scattercarpet": [
           {
            "marker": {
             "colorbar": {
              "outlinewidth": 0,
              "ticks": ""
             }
            },
            "type": "scattercarpet"
           }
          ],
          "scattergeo": [
           {
            "marker": {
             "colorbar": {
              "outlinewidth": 0,
              "ticks": ""
             }
            },
            "type": "scattergeo"
           }
          ],
          "scattergl": [
           {
            "marker": {
             "colorbar": {
              "outlinewidth": 0,
              "ticks": ""
             }
            },
            "type": "scattergl"
           }
          ],
          "scattermapbox": [
           {
            "marker": {
             "colorbar": {
              "outlinewidth": 0,
              "ticks": ""
             }
            },
            "type": "scattermapbox"
           }
          ],
          "scatterpolar": [
           {
            "marker": {
             "colorbar": {
              "outlinewidth": 0,
              "ticks": ""
             }
            },
            "type": "scatterpolar"
           }
          ],
          "scatterpolargl": [
           {
            "marker": {
             "colorbar": {
              "outlinewidth": 0,
              "ticks": ""
             }
            },
            "type": "scatterpolargl"
           }
          ],
          "scatterternary": [
           {
            "marker": {
             "colorbar": {
              "outlinewidth": 0,
              "ticks": ""
             }
            },
            "type": "scatterternary"
           }
          ],
          "surface": [
           {
            "colorbar": {
             "outlinewidth": 0,
             "ticks": ""
            },
            "colorscale": [
             [
              0,
              "#0d0887"
             ],
             [
              0.1111111111111111,
              "#46039f"
             ],
             [
              0.2222222222222222,
              "#7201a8"
             ],
             [
              0.3333333333333333,
              "#9c179e"
             ],
             [
              0.4444444444444444,
              "#bd3786"
             ],
             [
              0.5555555555555556,
              "#d8576b"
             ],
             [
              0.6666666666666666,
              "#ed7953"
             ],
             [
              0.7777777777777778,
              "#fb9f3a"
             ],
             [
              0.8888888888888888,
              "#fdca26"
             ],
             [
              1,
              "#f0f921"
             ]
            ],
            "type": "surface"
           }
          ],
          "table": [
           {
            "cells": {
             "fill": {
              "color": "#EBF0F8"
             },
             "line": {
              "color": "white"
             }
            },
            "header": {
             "fill": {
              "color": "#C8D4E3"
             },
             "line": {
              "color": "white"
             }
            },
            "type": "table"
           }
          ]
         },
         "layout": {
          "annotationdefaults": {
           "arrowcolor": "#2a3f5f",
           "arrowhead": 0,
           "arrowwidth": 1
          },
          "autotypenumbers": "strict",
          "coloraxis": {
           "colorbar": {
            "outlinewidth": 0,
            "ticks": ""
           }
          },
          "colorscale": {
           "diverging": [
            [
             0,
             "#8e0152"
            ],
            [
             0.1,
             "#c51b7d"
            ],
            [
             0.2,
             "#de77ae"
            ],
            [
             0.3,
             "#f1b6da"
            ],
            [
             0.4,
             "#fde0ef"
            ],
            [
             0.5,
             "#f7f7f7"
            ],
            [
             0.6,
             "#e6f5d0"
            ],
            [
             0.7,
             "#b8e186"
            ],
            [
             0.8,
             "#7fbc41"
            ],
            [
             0.9,
             "#4d9221"
            ],
            [
             1,
             "#276419"
            ]
           ],
           "sequential": [
            [
             0,
             "#0d0887"
            ],
            [
             0.1111111111111111,
             "#46039f"
            ],
            [
             0.2222222222222222,
             "#7201a8"
            ],
            [
             0.3333333333333333,
             "#9c179e"
            ],
            [
             0.4444444444444444,
             "#bd3786"
            ],
            [
             0.5555555555555556,
             "#d8576b"
            ],
            [
             0.6666666666666666,
             "#ed7953"
            ],
            [
             0.7777777777777778,
             "#fb9f3a"
            ],
            [
             0.8888888888888888,
             "#fdca26"
            ],
            [
             1,
             "#f0f921"
            ]
           ],
           "sequentialminus": [
            [
             0,
             "#0d0887"
            ],
            [
             0.1111111111111111,
             "#46039f"
            ],
            [
             0.2222222222222222,
             "#7201a8"
            ],
            [
             0.3333333333333333,
             "#9c179e"
            ],
            [
             0.4444444444444444,
             "#bd3786"
            ],
            [
             0.5555555555555556,
             "#d8576b"
            ],
            [
             0.6666666666666666,
             "#ed7953"
            ],
            [
             0.7777777777777778,
             "#fb9f3a"
            ],
            [
             0.8888888888888888,
             "#fdca26"
            ],
            [
             1,
             "#f0f921"
            ]
           ]
          },
          "colorway": [
           "#636efa",
           "#EF553B",
           "#00cc96",
           "#ab63fa",
           "#FFA15A",
           "#19d3f3",
           "#FF6692",
           "#B6E880",
           "#FF97FF",
           "#FECB52"
          ],
          "font": {
           "color": "#2a3f5f"
          },
          "geo": {
           "bgcolor": "white",
           "lakecolor": "white",
           "landcolor": "#E5ECF6",
           "showlakes": true,
           "showland": true,
           "subunitcolor": "white"
          },
          "hoverlabel": {
           "align": "left"
          },
          "hovermode": "closest",
          "mapbox": {
           "style": "light"
          },
          "paper_bgcolor": "white",
          "plot_bgcolor": "#E5ECF6",
          "polar": {
           "angularaxis": {
            "gridcolor": "white",
            "linecolor": "white",
            "ticks": ""
           },
           "bgcolor": "#E5ECF6",
           "radialaxis": {
            "gridcolor": "white",
            "linecolor": "white",
            "ticks": ""
           }
          },
          "scene": {
           "xaxis": {
            "backgroundcolor": "#E5ECF6",
            "gridcolor": "white",
            "gridwidth": 2,
            "linecolor": "white",
            "showbackground": true,
            "ticks": "",
            "zerolinecolor": "white"
           },
           "yaxis": {
            "backgroundcolor": "#E5ECF6",
            "gridcolor": "white",
            "gridwidth": 2,
            "linecolor": "white",
            "showbackground": true,
            "ticks": "",
            "zerolinecolor": "white"
           },
           "zaxis": {
            "backgroundcolor": "#E5ECF6",
            "gridcolor": "white",
            "gridwidth": 2,
            "linecolor": "white",
            "showbackground": true,
            "ticks": "",
            "zerolinecolor": "white"
           }
          },
          "shapedefaults": {
           "line": {
            "color": "#2a3f5f"
           }
          },
          "ternary": {
           "aaxis": {
            "gridcolor": "white",
            "linecolor": "white",
            "ticks": ""
           },
           "baxis": {
            "gridcolor": "white",
            "linecolor": "white",
            "ticks": ""
           },
           "bgcolor": "#E5ECF6",
           "caxis": {
            "gridcolor": "white",
            "linecolor": "white",
            "ticks": ""
           }
          },
          "title": {
           "x": 0.05
          },
          "xaxis": {
           "automargin": true,
           "gridcolor": "white",
           "linecolor": "white",
           "ticks": "",
           "title": {
            "standoff": 15
           },
           "zerolinecolor": "white",
           "zerolinewidth": 2
          },
          "yaxis": {
           "automargin": true,
           "gridcolor": "white",
           "linecolor": "white",
           "ticks": "",
           "title": {
            "standoff": 15
           },
           "zerolinecolor": "white",
           "zerolinewidth": 2
          }
         }
        },
        "title": {
         "text": "Confusion Matrix for CNN"
        },
        "xaxis": {
         "anchor": "y",
         "constrain": "domain",
         "domain": [
          0,
          1
         ],
         "scaleanchor": "y",
         "title": {
          "text": "Predicted"
         }
        },
        "yaxis": {
         "anchor": "x",
         "autorange": "reversed",
         "constrain": "domain",
         "domain": [
          0,
          1
         ],
         "title": {
          "text": "Actual"
         }
        }
       }
      }
     },
     "metadata": {},
     "output_type": "display_data"
    }
   ],
   "source": [
    "# Create a confusion matrix\n",
    "confusion_matrix = tf.math.confusion_matrix(labels=y_total_max, predictions=y_pred_max).numpy()\n",
    "# Create a dataframe from the confusion matrix\n",
    "confusion_matrix = pd.DataFrame(confusion_matrix, index=['back', 'left', 'right'], columns=['back', 'left', 'right'])\n",
    "# Plot the confusion matrix\n",
    "fig = px.imshow(confusion_matrix, color_continuous_scale='Blues')\n",
    "fig.update_layout(\n",
    "    title='Confusion Matrix for CNN',\n",
    "    xaxis_title='Predicted',\n",
    "    yaxis_title='Actual',\n",
    ")"
   ]
  },
  {
   "cell_type": "code",
   "execution_count": 121,
   "metadata": {},
   "outputs": [
    {
     "name": "stdout",
     "output_type": "stream",
     "text": [
      "Accuracy: 0.8941798941798942\n"
     ]
    }
   ],
   "source": [
    "print(f'Accuracy: {np.sum(y_pred_max == y_total_max) / len(y_total_max)}')"
   ]
  },
  {
   "cell_type": "code",
   "execution_count": 122,
   "metadata": {},
   "outputs": [],
   "source": [
    "# model.save_weights('./checkpoints/my_checkpoint')\n",
    "# model.save('posture_classifer.keras')"
   ]
  }
 ],
 "metadata": {
  "kernelspec": {
   "display_name": "Python 3",
   "language": "python",
   "name": "python3"
  },
  "language_info": {
   "codemirror_mode": {
    "name": "ipython",
    "version": 3
   },
   "file_extension": ".py",
   "mimetype": "text/x-python",
   "name": "python",
   "nbconvert_exporter": "python",
   "pygments_lexer": "ipython3",
   "version": "3.11.1"
  }
 },
 "nbformat": 4,
 "nbformat_minor": 2
}
