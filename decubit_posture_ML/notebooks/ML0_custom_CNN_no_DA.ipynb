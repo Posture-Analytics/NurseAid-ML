{
 "cells": [
  {
   "cell_type": "code",
   "execution_count": 1,
   "metadata": {},
   "outputs": [],
   "source": [
    "import json\n",
    "import keras_tuner as kt\n",
    "import numpy as np\n",
    "import pandas as pd\n",
    "import plotly.express as px\n",
    "import tensorflow as tf\n",
    "from sklearn.model_selection import KFold\n",
    "from sklearn.model_selection import train_test_split\n",
    "from tensorflow import keras\n",
    "from tensorflow.keras import layers"
   ]
  },
  {
   "cell_type": "markdown",
   "metadata": {},
   "source": [
    "---\n",
    "### Data Reading\n",
    "---"
   ]
  },
  {
   "cell_type": "code",
   "execution_count": 2,
   "metadata": {},
   "outputs": [],
   "source": [
    "data = np.load('../data/training_data.npz', allow_pickle=True)\n",
    "\n",
    "train_set = data['train_set']\n",
    "test_set = data['test_set']\n",
    "val_set = data['val_set']"
   ]
  },
  {
   "cell_type": "code",
   "execution_count": 3,
   "metadata": {},
   "outputs": [],
   "source": [
    "def create_dataframe(set):\n",
    "    df_ = pd.DataFrame([], columns=['x', 'y'])\t\n",
    "    for i in range(len(set)):\n",
    "        df_ = pd.concat([df_, pd.DataFrame(\n",
    "            {'reading': [set[i]['x']],\n",
    "            'posture': set[i]['y']}\n",
    "        )])\n",
    "    return df_"
   ]
  },
  {
   "cell_type": "code",
   "execution_count": 4,
   "metadata": {},
   "outputs": [
    {
     "name": "stdout",
     "output_type": "stream",
     "text": [
      "(108, 4) (54, 4) (27, 4)\n"
     ]
    }
   ],
   "source": [
    "df_train = create_dataframe(train_set)\n",
    "df_test = create_dataframe(test_set)\n",
    "df_val = create_dataframe(val_set)\n",
    "\n",
    "print(df_train.shape, df_test.shape, df_val.shape)"
   ]
  },
  {
   "cell_type": "code",
   "execution_count": 5,
   "metadata": {},
   "outputs": [
    {
     "data": {
      "text/plain": [
       "(24, 32)"
      ]
     },
     "execution_count": 5,
     "metadata": {},
     "output_type": "execute_result"
    }
   ],
   "source": [
    "df_train['reading'].iat[0].shape"
   ]
  },
  {
   "cell_type": "code",
   "execution_count": 6,
   "metadata": {},
   "outputs": [],
   "source": [
    "X_train = df_train['reading']\n",
    "y_train = df_train['posture']\n",
    "X_val = df_val['reading']\n",
    "y_val = df_val['posture']\n",
    "X_test = df_test['reading']\n",
    "y_test = df_test['posture']\n",
    "# One-hot encode the labels\n",
    "y_train = pd.get_dummies(y_train).values\n",
    "y_val = pd.get_dummies(y_val).values\n",
    "y_test = pd.get_dummies(y_test).values"
   ]
  },
  {
   "cell_type": "code",
   "execution_count": 7,
   "metadata": {},
   "outputs": [],
   "source": [
    "X_train = np.array([np.array(x) for x in X_train])\n",
    "X_train = np.expand_dims(X_train, -1)\n",
    "X_val = np.array([np.array(x) for x in X_val])\n",
    "X_val = np.expand_dims(X_val, -1)\n",
    "X_test = np.array([np.array(x) for x in X_test])\n",
    "X_test = np.expand_dims(X_test, -1)\n",
    "y_train = np.array([np.array(x) for x in y_train])\n",
    "y_test = np.array([np.array(x) for x in y_test])\n",
    "y_val = np.array([np.array(x) for x in y_val])\n",
    "# Convert the data to tensors\n",
    "X_train = tf.convert_to_tensor(X_train)\n",
    "X_val = tf.convert_to_tensor(X_val)\n",
    "X_test = tf.convert_to_tensor(X_test)\n",
    "y_train = tf.convert_to_tensor(y_train)\n",
    "y_val = tf.convert_to_tensor(y_val)\n",
    "y_test = tf.convert_to_tensor(y_test)"
   ]
  },
  {
   "cell_type": "markdown",
   "metadata": {},
   "source": [
    "---\n",
    "### Model Definition\n",
    "---"
   ]
  },
  {
   "cell_type": "code",
   "execution_count": 8,
   "metadata": {},
   "outputs": [],
   "source": [
    "def model_builder(hp):\n",
    "    hp_channels_1 = hp.Int('channels_1', min_value=4, max_value=16, step=4)\n",
    "    hp_channels_2 = hp.Int('channels_2', min_value=4, max_value=8, step=4)\n",
    "    hp_dense_1 = hp.Int('dense_1', min_value=16, max_value=64, step=16)\n",
    "    hp_dense_2 = hp.Int('dense_2', min_value=16, max_value=32, step=16)\n",
    "    model = keras.Sequential(\n",
    "        [\n",
    "            layers.Conv2D(hp_channels_1, kernel_size=(3, 3), activation='relu', padding='same', input_shape=X_train.shape[1:]),\n",
    "            layers.MaxPooling2D(pool_size=(2, 2)),\n",
    "            layers.Conv2D(hp_channels_2, kernel_size=(3, 3), activation='relu', padding='same'),\n",
    "            layers.MaxPooling2D(pool_size=(2, 2)),\n",
    "            layers.Flatten(),  # Flatten the output of the CNN\n",
    "            layers.Dense(hp_dense_1, activation='relu'),\n",
    "            layers.Dense(hp_dense_2, activation='relu'),\n",
    "            layers.Dense(3, activation='softmax'),\n",
    "        ]\n",
    "    )\n",
    "    model.compile(\n",
    "        loss='categorical_crossentropy',\n",
    "        optimizer='adam',\n",
    "        metrics=['accuracy'],\n",
    "    )\n",
    "    return model"
   ]
  },
  {
   "cell_type": "code",
   "execution_count": 9,
   "metadata": {},
   "outputs": [],
   "source": [
    "early_stopping = keras.callbacks.EarlyStopping(\n",
    "    patience=20,\n",
    "    min_delta=0.001,\n",
    "    restore_best_weights=True,\n",
    ")\n",
    "reduce_lr = keras.callbacks.ReduceLROnPlateau(\n",
    "    patience=5\n",
    ")"
   ]
  },
  {
   "cell_type": "code",
   "execution_count": 10,
   "metadata": {},
   "outputs": [],
   "source": [
    "tuner = kt.GridSearch(\n",
    "    model_builder,\n",
    "    objective='val_loss',\n",
    "    max_retries_per_trial=5,\n",
    "    overwrite=True,\n",
    "    directory='gridsearch-laguardia-no-DA',\n",
    "    project_name='posture',\n",
    ")"
   ]
  },
  {
   "cell_type": "markdown",
   "metadata": {},
   "source": [
    "---\n",
    "### Model Training\n",
    "---"
   ]
  },
  {
   "cell_type": "code",
   "execution_count": 11,
   "metadata": {},
   "outputs": [
    {
     "name": "stdout",
     "output_type": "stream",
     "text": [
      "Trial 64 Complete [00h 00m 02s]\n",
      "val_accuracy: 0.9629629850387573\n",
      "\n",
      "Best val_accuracy So Far: 1.0\n",
      "Total elapsed time: 00h 04m 00s\n"
     ]
    }
   ],
   "source": [
    "tuner.search(X_train, y_train, validation_data=(X_val, y_val), callbacks=[early_stopping, reduce_lr], epochs=500, batch_size=32)"
   ]
  },
  {
   "cell_type": "code",
   "execution_count": 12,
   "metadata": {},
   "outputs": [
    {
     "name": "stdout",
     "output_type": "stream",
     "text": [
      "Results summary\n",
      "Results in gridsearch-laguardia-no-DA/posture\n",
      "Showing 10 best trials\n",
      "Objective(name=\"val_accuracy\", direction=\"max\")\n",
      "\n",
      "Trial 0005 summary\n",
      "Hyperparameters:\n",
      "channels_1: 4\n",
      "channels_2: 4\n",
      "dense_1: 48\n",
      "dense_2: 32\n",
      "Score: 1.0\n",
      "\n",
      "Trial 0014 summary\n",
      "Hyperparameters:\n",
      "channels_1: 4\n",
      "channels_2: 8\n",
      "dense_1: 64\n",
      "dense_2: 16\n",
      "Score: 1.0\n",
      "\n",
      "Trial 0017 summary\n",
      "Hyperparameters:\n",
      "channels_1: 8\n",
      "channels_2: 4\n",
      "dense_1: 16\n",
      "dense_2: 32\n",
      "Score: 1.0\n",
      "\n",
      "Trial 0021 summary\n",
      "Hyperparameters:\n",
      "channels_1: 8\n",
      "channels_2: 4\n",
      "dense_1: 48\n",
      "dense_2: 32\n",
      "Score: 1.0\n",
      "\n",
      "Trial 0031 summary\n",
      "Hyperparameters:\n",
      "channels_1: 8\n",
      "channels_2: 8\n",
      "dense_1: 64\n",
      "dense_2: 32\n",
      "Score: 1.0\n",
      "\n",
      "Trial 0037 summary\n",
      "Hyperparameters:\n",
      "channels_1: 12\n",
      "channels_2: 4\n",
      "dense_1: 48\n",
      "dense_2: 32\n",
      "Score: 1.0\n",
      "\n",
      "Trial 0046 summary\n",
      "Hyperparameters:\n",
      "channels_1: 12\n",
      "channels_2: 8\n",
      "dense_1: 64\n",
      "dense_2: 16\n",
      "Score: 1.0\n",
      "\n",
      "Trial 0060 summary\n",
      "Hyperparameters:\n",
      "channels_1: 16\n",
      "channels_2: 8\n",
      "dense_1: 48\n",
      "dense_2: 16\n",
      "Score: 1.0\n",
      "\n",
      "Trial 0002 summary\n",
      "Hyperparameters:\n",
      "channels_1: 4\n",
      "channels_2: 4\n",
      "dense_1: 32\n",
      "dense_2: 16\n",
      "Score: 0.9629629850387573\n",
      "\n",
      "Trial 0003 summary\n",
      "Hyperparameters:\n",
      "channels_1: 4\n",
      "channels_2: 4\n",
      "dense_1: 32\n",
      "dense_2: 32\n",
      "Score: 0.9629629850387573\n"
     ]
    }
   ],
   "source": [
    "tuner.results_summary()"
   ]
  },
  {
   "cell_type": "markdown",
   "metadata": {},
   "source": [
    "---\n",
    "### Model Evaluation\n",
    "---"
   ]
  },
  {
   "cell_type": "code",
   "execution_count": 19,
   "metadata": {},
   "outputs": [
    {
     "name": "stdout",
     "output_type": "stream",
     "text": [
      "2/2 [==============================] - 0s 4ms/step - loss: 0.9353 - accuracy: 0.7222\n",
      "0 [0.9352877736091614, 0.7222222089767456]\n",
      "2/2 [==============================] - 0s 2ms/step - loss: 0.5176 - accuracy: 0.8889\n",
      "1 [0.5176371335983276, 0.8888888955116272]\n",
      "2/2 [==============================] - 0s 2ms/step - loss: 0.5796 - accuracy: 0.7222\n",
      "2 [0.5796219706535339, 0.7222222089767456]\n",
      "2/2 [==============================] - 0s 3ms/step - loss: 0.8575 - accuracy: 0.7778\n",
      "3 [0.8574866652488708, 0.7777777910232544]\n",
      "2/2 [==============================] - 0s 2ms/step - loss: 0.8888 - accuracy: 0.7963\n",
      "4 [0.8888003826141357, 0.7962962985038757]\n",
      "2/2 [==============================] - 0s 2ms/step - loss: 0.4332 - accuracy: 0.8704\n",
      "5 [0.4331575930118561, 0.8703703880310059]\n",
      "2/2 [==============================] - 0s 2ms/step - loss: 0.5937 - accuracy: 0.7778\n",
      "6 [0.593673050403595, 0.7777777910232544]\n",
      "2/2 [==============================] - 0s 2ms/step - loss: 0.4092 - accuracy: 0.8889\n",
      "7 [0.4091537296772003, 0.8888888955116272]\n",
      "2/2 [==============================] - 0s 2ms/step - loss: 0.6316 - accuracy: 0.8519\n",
      "8 [0.6316468715667725, 0.8518518805503845]\n",
      "2/2 [==============================] - 0s 2ms/step - loss: 0.7985 - accuracy: 0.8148\n",
      "9 [0.7984921336174011, 0.8148148059844971]\n"
     ]
    }
   ],
   "source": [
    "tf.get_logger().setLevel('ERROR')\n",
    "best_models = tuner.get_best_models(num_models=10)\n",
    "\n",
    "for i, model in enumerate(best_models):\n",
    "    print(i, model.evaluate(X_test, y_test))"
   ]
  },
  {
   "cell_type": "code",
   "execution_count": 21,
   "metadata": {},
   "outputs": [],
   "source": [
    "best_model = tuner.get_best_models(10)[7]\n",
    "best_model.save('best_cmodel_no_DA.keras')"
   ]
  },
  {
   "cell_type": "code",
   "execution_count": 22,
   "metadata": {},
   "outputs": [
    {
     "name": "stdout",
     "output_type": "stream",
     "text": [
      "2/2 [==============================] - 0s 4ms/step - loss: 0.4092 - accuracy: 0.8889\n"
     ]
    },
    {
     "data": {
      "text/plain": [
       "[0.4091537296772003, 0.8888888955116272]"
      ]
     },
     "execution_count": 22,
     "metadata": {},
     "output_type": "execute_result"
    }
   ],
   "source": [
    "best_model.evaluate(X_test, y_test)"
   ]
  }
 ],
 "metadata": {
  "kernelspec": {
   "display_name": "Python 3",
   "language": "python",
   "name": "python3"
  },
  "language_info": {
   "codemirror_mode": {
    "name": "ipython",
    "version": 3
   },
   "file_extension": ".py",
   "mimetype": "text/x-python",
   "name": "python",
   "nbconvert_exporter": "python",
   "pygments_lexer": "ipython3",
   "version": "3.11.7"
  }
 },
 "nbformat": 4,
 "nbformat_minor": 2
}
