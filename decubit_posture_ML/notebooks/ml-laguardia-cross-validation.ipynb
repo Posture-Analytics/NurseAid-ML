{
 "cells": [
  {
   "cell_type": "code",
   "execution_count": 30,
   "metadata": {},
   "outputs": [],
   "source": [
    "import json\n",
    "import numpy as np\n",
    "import pandas as pd\n",
    "import plotly.express as px\n",
    "import tensorflow as tf\n",
    "from sklearn.model_selection import KFold\n",
    "from sklearn.model_selection import train_test_split\n",
    "from tensorflow import keras\n",
    "from tensorflow.keras import layers"
   ]
  },
  {
   "cell_type": "markdown",
   "metadata": {},
   "source": [
    "---\n",
    "### Load the dataset and split train test split\n",
    "---"
   ]
  },
  {
   "cell_type": "code",
   "execution_count": 31,
   "metadata": {},
   "outputs": [
    {
     "data": {
      "text/html": [
       "<div>\n",
       "<style scoped>\n",
       "    .dataframe tbody tr th:only-of-type {\n",
       "        vertical-align: middle;\n",
       "    }\n",
       "\n",
       "    .dataframe tbody tr th {\n",
       "        vertical-align: top;\n",
       "    }\n",
       "\n",
       "    .dataframe thead th {\n",
       "        text-align: right;\n",
       "    }\n",
       "</style>\n",
       "<table border=\"1\" class=\"dataframe\">\n",
       "  <thead>\n",
       "    <tr style=\"text-align: right;\">\n",
       "      <th></th>\n",
       "      <th>posture</th>\n",
       "      <th>reading</th>\n",
       "    </tr>\n",
       "  </thead>\n",
       "  <tbody>\n",
       "    <tr>\n",
       "      <th>0</th>\n",
       "      <td>back</td>\n",
       "      <td>[[23.64, 23.91, 23.95, 23.82, 24.64, 24.24, 25...</td>\n",
       "    </tr>\n",
       "    <tr>\n",
       "      <th>1</th>\n",
       "      <td>back</td>\n",
       "      <td>[[24.09, 24.33, 24.21, 24.42, 25.24, 24.97, 25...</td>\n",
       "    </tr>\n",
       "    <tr>\n",
       "      <th>2</th>\n",
       "      <td>back</td>\n",
       "      <td>[[24.92, 24.97, 25.39, 25.1, 26.22, 26.13, 26....</td>\n",
       "    </tr>\n",
       "    <tr>\n",
       "      <th>3</th>\n",
       "      <td>back</td>\n",
       "      <td>[[26.39, 25.85, 26.58, 26.84, 27.47, 27.24, 27...</td>\n",
       "    </tr>\n",
       "    <tr>\n",
       "      <th>4</th>\n",
       "      <td>back</td>\n",
       "      <td>[[25.03, 24.98, 24.68, 24.7, 25.71, 25.73, 25....</td>\n",
       "    </tr>\n",
       "  </tbody>\n",
       "</table>\n",
       "</div>"
      ],
      "text/plain": [
       "  posture                                            reading\n",
       "0    back  [[23.64, 23.91, 23.95, 23.82, 24.64, 24.24, 25...\n",
       "1    back  [[24.09, 24.33, 24.21, 24.42, 25.24, 24.97, 25...\n",
       "2    back  [[24.92, 24.97, 25.39, 25.1, 26.22, 26.13, 26....\n",
       "3    back  [[26.39, 25.85, 26.58, 26.84, 27.47, 27.24, 27...\n",
       "4    back  [[25.03, 24.98, 24.68, 24.7, 25.71, 25.73, 25...."
      ]
     },
     "execution_count": 31,
     "metadata": {},
     "output_type": "execute_result"
    }
   ],
   "source": [
    "# Load the data\n",
    "with open('../data/curated-data-train.json') as f:\n",
    "    data_train = json.load(f)\n",
    "df_train = pd.DataFrame(data_train).T\n",
    "# Filter dataframe to only include the columns we want\n",
    "df_train = df_train[['back', 'left', 'right']]\n",
    "# Separate the three data into the same label\n",
    "for i in range(3):\n",
    "    for pose in ['back', 'left', 'right']:\n",
    "        df_train[f'{pose}_{i}'] = df_train[pose].apply(lambda x: x[i])\n",
    "# Drop the original columns\n",
    "df_train = df_train.drop(columns=['back', 'left', 'right'])\n",
    "# Expand the data into a single column\n",
    "df_train = df_train.melt()\n",
    "# Rename the 'variable' values to only include the pose\n",
    "df_train['variable'] = df_train['variable'].apply(lambda x: x.split('_')[0])\n",
    "# Rename the columns\n",
    "df_train.columns = ['posture', 'reading']\n",
    "df_train.head()"
   ]
  },
  {
   "cell_type": "code",
   "execution_count": 32,
   "metadata": {},
   "outputs": [
    {
     "data": {
      "text/html": [
       "<div>\n",
       "<style scoped>\n",
       "    .dataframe tbody tr th:only-of-type {\n",
       "        vertical-align: middle;\n",
       "    }\n",
       "\n",
       "    .dataframe tbody tr th {\n",
       "        vertical-align: top;\n",
       "    }\n",
       "\n",
       "    .dataframe thead th {\n",
       "        text-align: right;\n",
       "    }\n",
       "</style>\n",
       "<table border=\"1\" class=\"dataframe\">\n",
       "  <thead>\n",
       "    <tr style=\"text-align: right;\">\n",
       "      <th></th>\n",
       "      <th>posture</th>\n",
       "      <th>reading</th>\n",
       "    </tr>\n",
       "  </thead>\n",
       "  <tbody>\n",
       "    <tr>\n",
       "      <th>0</th>\n",
       "      <td>back</td>\n",
       "      <td>[[24.34, 24.45, 24.23, 24.19, 24.62, 24.79, 25...</td>\n",
       "    </tr>\n",
       "    <tr>\n",
       "      <th>1</th>\n",
       "      <td>back</td>\n",
       "      <td>[[23.11, 23.47, 23.46, 23.26, 24.27, 24.1, 24....</td>\n",
       "    </tr>\n",
       "    <tr>\n",
       "      <th>2</th>\n",
       "      <td>back</td>\n",
       "      <td>[[23.27, 23.49, 23.71, 23.37, 24.37, 24.4, 25....</td>\n",
       "    </tr>\n",
       "    <tr>\n",
       "      <th>3</th>\n",
       "      <td>back</td>\n",
       "      <td>[[24.16, 23.52, 24.36, 23.67, 24.85, 24.1, 24....</td>\n",
       "    </tr>\n",
       "    <tr>\n",
       "      <th>4</th>\n",
       "      <td>back</td>\n",
       "      <td>[[23.32, 22.9, 23.3, 22.98, 23.96, 23.38, 24.0...</td>\n",
       "    </tr>\n",
       "  </tbody>\n",
       "</table>\n",
       "</div>"
      ],
      "text/plain": [
       "  posture                                            reading\n",
       "0    back  [[24.34, 24.45, 24.23, 24.19, 24.62, 24.79, 25...\n",
       "1    back  [[23.11, 23.47, 23.46, 23.26, 24.27, 24.1, 24....\n",
       "2    back  [[23.27, 23.49, 23.71, 23.37, 24.37, 24.4, 25....\n",
       "3    back  [[24.16, 23.52, 24.36, 23.67, 24.85, 24.1, 24....\n",
       "4    back  [[23.32, 22.9, 23.3, 22.98, 23.96, 23.38, 24.0..."
      ]
     },
     "execution_count": 32,
     "metadata": {},
     "output_type": "execute_result"
    }
   ],
   "source": [
    "# Load the data\n",
    "with open('../data/curated-data-test.json') as f:\n",
    "    data_test = json.load(f)\n",
    "df_test = pd.DataFrame(data_test).T\n",
    "# Filter dataframe to only include the columns we want\n",
    "df_test = df_test[['back', 'left', 'right']]\n",
    "# Separate the three data into the same label\n",
    "for i in range(3):\n",
    "    for pose in ['back', 'left', 'right']:\n",
    "        df_test[f'{pose}_{i}'] = df_test[pose].apply(lambda x: x[i])\n",
    "# Drop the original columns\n",
    "df_test = df_test.drop(columns=['back', 'left', 'right'])\n",
    "# Expand the data into a single column\n",
    "df_test = df_test.melt()\n",
    "# Rename the 'variable' values to only include the pose\n",
    "df_test['variable'] = df_test['variable'].apply(lambda x: x.split('_')[0])\n",
    "# Rename the columns\n",
    "df_test.columns = ['posture', 'reading']\n",
    "df_test.head()"
   ]
  },
  {
   "cell_type": "code",
   "execution_count": 33,
   "metadata": {},
   "outputs": [],
   "source": [
    "# Split the data into training and testing sets\n",
    "X_train = df_train['reading']\n",
    "y_train = df_train['posture']\n",
    "X_test = df_test['reading']\n",
    "y_test = df_test['posture']\n",
    "# One-hot encode the labels\n",
    "y_train = pd.get_dummies(y_train).values\n",
    "y_test = pd.get_dummies(y_test).values"
   ]
  },
  {
   "cell_type": "code",
   "execution_count": 34,
   "metadata": {},
   "outputs": [],
   "source": [
    "X_train = np.array([np.array(x) for x in X_train])\n",
    "X_train = np.expand_dims(X_train, -1)\n",
    "X_test = np.array([np.array(x) for x in X_test])\n",
    "X_test = np.expand_dims(X_test, -1)\n",
    "y_train = np.array([np.array(x) for x in y_train])\n",
    "y_test = np.array([np.array(x) for x in y_test])\n",
    "# Convert the data to tensors\n",
    "X_train = tf.convert_to_tensor(X_train)\n",
    "X_test = tf.convert_to_tensor(X_test)\n",
    "y_train = tf.convert_to_tensor(y_train)\n",
    "y_test = tf.convert_to_tensor(y_test)"
   ]
  },
  {
   "cell_type": "markdown",
   "metadata": {},
   "source": [
    "---\n",
    "### Traininig a generic CNN model\n",
    "---"
   ]
  },
  {
   "cell_type": "code",
   "execution_count": 35,
   "metadata": {},
   "outputs": [],
   "source": [
    "def create_model():\n",
    "    model = keras.Sequential(\n",
    "        [\n",
    "            layers.Conv2D(8, kernel_size=(3, 3), activation='relu', padding='same', input_shape=X_train.shape[1:]),\n",
    "            layers.MaxPooling2D(pool_size=(2, 2)),\n",
    "            layers.Conv2D(4, kernel_size=(3, 3), activation='relu', padding='same'),\n",
    "            layers.MaxPooling2D(pool_size=(2, 2)),\n",
    "            layers.Flatten(),  # Flatten the output of the CNN\n",
    "            layers.Dense(32, activation='relu'),\n",
    "            layers.Dense(16, activation='relu'),\n",
    "            layers.Dense(3, activation='softmax'),\n",
    "        ]\n",
    "    )\n",
    "    model.compile(\n",
    "        loss='categorical_crossentropy',\n",
    "        optimizer='adam',\n",
    "        metrics=['accuracy'],\n",
    "    )\n",
    "    return model"
   ]
  },
  {
   "cell_type": "code",
   "execution_count": 36,
   "metadata": {},
   "outputs": [],
   "source": [
    "early_stopping = keras.callbacks.EarlyStopping(\n",
    "    patience=20,\n",
    "    min_delta=0.001,\n",
    "    restore_best_weights=True,\n",
    ")\n",
    "reduce_lr = keras.callbacks.ReduceLROnPlateau(\n",
    "    patience=5\n",
    ")"
   ]
  },
  {
   "cell_type": "code",
   "execution_count": 37,
   "metadata": {},
   "outputs": [
    {
     "name": "stdout",
     "output_type": "stream",
     "text": [
      "1/1 [==============================] - 0s 29ms/step - loss: 1.0043 - accuracy: 0.6667\n",
      "[1.0043184757232666, 0.6666666865348816]\n",
      "1/1 [==============================] - 0s 30ms/step - loss: 1.0803 - accuracy: 0.4444\n",
      "[1.0802910327911377, 0.4444444477558136]\n",
      "1/1 [==============================] - 0s 30ms/step - loss: 0.7287 - accuracy: 0.7778\n",
      "[0.728689968585968, 0.7777777910232544]\n",
      "1/1 [==============================] - 0s 31ms/step - loss: 0.4120 - accuracy: 0.9259\n",
      "[0.411985844373703, 0.9259259104728699]\n",
      "1/1 [==============================] - 0s 31ms/step - loss: 0.8544 - accuracy: 0.7407\n",
      "[0.8543956875801086, 0.7407407164573669]\n",
      "[0.6666666865348816, 0.4444444477558136, 0.7777777910232544, 0.9259259104728699, 0.7407407164573669]\n"
     ]
    }
   ],
   "source": [
    "# Cross-validation\n",
    "kf = KFold(n_splits=5, shuffle=True)\n",
    "scores = []\n",
    "models = []\n",
    "for train_index, test_index in kf.split(X_train):\n",
    "    X_train_cv, X_test_cv = tf.gather(X_train, train_index), tf.gather(X_train, test_index)\n",
    "    y_train_cv, y_test_cv = tf.gather(y_train, train_index), tf.gather(y_train, test_index)\n",
    "    model = create_model()\n",
    "    model.fit(\n",
    "        X_train_cv,\n",
    "        y_train_cv,\n",
    "        validation_data=(X_test_cv, y_test_cv),\n",
    "        epochs=1000,\n",
    "        batch_size=16,\n",
    "        callbacks=[early_stopping, reduce_lr],\n",
    "        verbose=0,\n",
    "    )\n",
    "    score = model.evaluate(X_test_cv, y_test_cv)\n",
    "    scores.append(score[1])\n",
    "    models.append(model)\n",
    "    print(score)\n",
    "# Print the scores\n",
    "print(scores)"
   ]
  },
  {
   "cell_type": "code",
   "execution_count": 38,
   "metadata": {},
   "outputs": [
    {
     "name": "stdout",
     "output_type": "stream",
     "text": [
      "Epoch 1/100\n",
      "9/9 [==============================] - 0s 19ms/step - loss: 0.4640 - accuracy: 0.8148 - val_loss: 0.3764 - val_accuracy: 0.9074\n",
      "Epoch 2/100\n",
      "9/9 [==============================] - 0s 11ms/step - loss: 0.4573 - accuracy: 0.8444 - val_loss: 0.3631 - val_accuracy: 0.9259\n",
      "Epoch 3/100\n",
      "9/9 [==============================] - 0s 12ms/step - loss: 0.4865 - accuracy: 0.8370 - val_loss: 0.4812 - val_accuracy: 0.8704\n",
      "Epoch 4/100\n",
      "9/9 [==============================] - 0s 12ms/step - loss: 0.4463 - accuracy: 0.8667 - val_loss: 0.3599 - val_accuracy: 0.9074\n",
      "Epoch 5/100\n",
      "9/9 [==============================] - 0s 11ms/step - loss: 0.4858 - accuracy: 0.8074 - val_loss: 0.4428 - val_accuracy: 0.8704\n",
      "Epoch 6/100\n",
      "9/9 [==============================] - 0s 13ms/step - loss: 0.4798 - accuracy: 0.8148 - val_loss: 0.3775 - val_accuracy: 0.9074\n",
      "Epoch 7/100\n",
      "9/9 [==============================] - 0s 12ms/step - loss: 0.4503 - accuracy: 0.8222 - val_loss: 0.3297 - val_accuracy: 0.9259\n",
      "Epoch 8/100\n",
      "9/9 [==============================] - 0s 13ms/step - loss: 0.4110 - accuracy: 0.8370 - val_loss: 0.3164 - val_accuracy: 0.9259\n",
      "Epoch 9/100\n",
      "9/9 [==============================] - 0s 28ms/step - loss: 0.4169 - accuracy: 0.8667 - val_loss: 0.3411 - val_accuracy: 0.9074\n",
      "Epoch 10/100\n",
      "9/9 [==============================] - 0s 11ms/step - loss: 0.4304 - accuracy: 0.8370 - val_loss: 0.3069 - val_accuracy: 0.9259\n",
      "Epoch 11/100\n",
      "9/9 [==============================] - 0s 12ms/step - loss: 0.4140 - accuracy: 0.8519 - val_loss: 0.3944 - val_accuracy: 0.8889\n",
      "Epoch 12/100\n",
      "9/9 [==============================] - 0s 13ms/step - loss: 0.4788 - accuracy: 0.8296 - val_loss: 0.3343 - val_accuracy: 0.9074\n",
      "Epoch 13/100\n",
      "9/9 [==============================] - 0s 13ms/step - loss: 0.4788 - accuracy: 0.8370 - val_loss: 0.3271 - val_accuracy: 0.9259\n",
      "Epoch 14/100\n",
      "9/9 [==============================] - 0s 12ms/step - loss: 0.4326 - accuracy: 0.8370 - val_loss: 0.3856 - val_accuracy: 0.8704\n",
      "Epoch 15/100\n",
      "9/9 [==============================] - 0s 13ms/step - loss: 0.4526 - accuracy: 0.8296 - val_loss: 0.3796 - val_accuracy: 0.8704\n",
      "Epoch 16/100\n",
      "9/9 [==============================] - 0s 13ms/step - loss: 0.3834 - accuracy: 0.8667 - val_loss: 0.3257 - val_accuracy: 0.8704\n",
      "Epoch 17/100\n",
      "9/9 [==============================] - 0s 12ms/step - loss: 0.3887 - accuracy: 0.8593 - val_loss: 0.3000 - val_accuracy: 0.9074\n",
      "Epoch 18/100\n",
      "9/9 [==============================] - 0s 13ms/step - loss: 0.3826 - accuracy: 0.8741 - val_loss: 0.2653 - val_accuracy: 0.9259\n",
      "Epoch 19/100\n",
      "9/9 [==============================] - 0s 16ms/step - loss: 0.3800 - accuracy: 0.8889 - val_loss: 0.2666 - val_accuracy: 0.9259\n",
      "Epoch 20/100\n",
      "9/9 [==============================] - 0s 14ms/step - loss: 0.3626 - accuracy: 0.8815 - val_loss: 0.2645 - val_accuracy: 0.9259\n",
      "Epoch 21/100\n",
      "9/9 [==============================] - 0s 11ms/step - loss: 0.3289 - accuracy: 0.8889 - val_loss: 0.2729 - val_accuracy: 0.9259\n",
      "Epoch 22/100\n",
      "9/9 [==============================] - 0s 12ms/step - loss: 0.3361 - accuracy: 0.8593 - val_loss: 0.2645 - val_accuracy: 0.9444\n",
      "Epoch 23/100\n",
      "9/9 [==============================] - 0s 10ms/step - loss: 0.3592 - accuracy: 0.8741 - val_loss: 0.2451 - val_accuracy: 0.9444\n",
      "Epoch 24/100\n",
      "9/9 [==============================] - 0s 13ms/step - loss: 0.3293 - accuracy: 0.8667 - val_loss: 0.2537 - val_accuracy: 0.9259\n",
      "Epoch 25/100\n",
      "9/9 [==============================] - 0s 17ms/step - loss: 0.3724 - accuracy: 0.8741 - val_loss: 0.2505 - val_accuracy: 0.9259\n",
      "Epoch 26/100\n",
      "9/9 [==============================] - 0s 14ms/step - loss: 0.3575 - accuracy: 0.8741 - val_loss: 0.2631 - val_accuracy: 0.9444\n",
      "Epoch 27/100\n",
      "9/9 [==============================] - 0s 17ms/step - loss: 0.3783 - accuracy: 0.8593 - val_loss: 0.2658 - val_accuracy: 0.9259\n",
      "Epoch 28/100\n",
      "9/9 [==============================] - 0s 11ms/step - loss: 0.3432 - accuracy: 0.8741 - val_loss: 0.2633 - val_accuracy: 0.9074\n",
      "Epoch 29/100\n",
      "9/9 [==============================] - 0s 16ms/step - loss: 0.3227 - accuracy: 0.8963 - val_loss: 0.2599 - val_accuracy: 0.9259\n",
      "Epoch 30/100\n",
      "9/9 [==============================] - 0s 21ms/step - loss: 0.2937 - accuracy: 0.8889 - val_loss: 0.2478 - val_accuracy: 0.9444\n",
      "Epoch 31/100\n",
      "9/9 [==============================] - 0s 36ms/step - loss: 0.2862 - accuracy: 0.8963 - val_loss: 0.2438 - val_accuracy: 0.9444\n",
      "Epoch 32/100\n",
      "9/9 [==============================] - 0s 13ms/step - loss: 0.3065 - accuracy: 0.8963 - val_loss: 0.2803 - val_accuracy: 0.9444\n",
      "Epoch 33/100\n",
      "9/9 [==============================] - 0s 12ms/step - loss: 0.3269 - accuracy: 0.8519 - val_loss: 0.2224 - val_accuracy: 0.9259\n",
      "Epoch 34/100\n",
      "9/9 [==============================] - 0s 16ms/step - loss: 0.3158 - accuracy: 0.8667 - val_loss: 0.3360 - val_accuracy: 0.8889\n",
      "Epoch 35/100\n",
      "9/9 [==============================] - 0s 15ms/step - loss: 0.3121 - accuracy: 0.9037 - val_loss: 0.2342 - val_accuracy: 0.9259\n",
      "Epoch 36/100\n",
      "9/9 [==============================] - 0s 13ms/step - loss: 0.2855 - accuracy: 0.8963 - val_loss: 0.2943 - val_accuracy: 0.9074\n",
      "Epoch 37/100\n",
      "9/9 [==============================] - 0s 17ms/step - loss: 0.3056 - accuracy: 0.8889 - val_loss: 0.2251 - val_accuracy: 0.9074\n",
      "Epoch 38/100\n",
      "9/9 [==============================] - 0s 15ms/step - loss: 0.2899 - accuracy: 0.8963 - val_loss: 0.2381 - val_accuracy: 0.9259\n",
      "Epoch 39/100\n",
      "9/9 [==============================] - 0s 21ms/step - loss: 0.2922 - accuracy: 0.8963 - val_loss: 0.2427 - val_accuracy: 0.9259\n",
      "Epoch 40/100\n",
      "9/9 [==============================] - 0s 17ms/step - loss: 0.2832 - accuracy: 0.9111 - val_loss: 0.2234 - val_accuracy: 0.9259\n",
      "Epoch 41/100\n",
      "9/9 [==============================] - 0s 18ms/step - loss: 0.2608 - accuracy: 0.9037 - val_loss: 0.2136 - val_accuracy: 0.9074\n",
      "Epoch 42/100\n",
      "9/9 [==============================] - 0s 16ms/step - loss: 0.2656 - accuracy: 0.9111 - val_loss: 0.2282 - val_accuracy: 0.9444\n",
      "Epoch 43/100\n",
      "9/9 [==============================] - 0s 15ms/step - loss: 0.2892 - accuracy: 0.8889 - val_loss: 0.2218 - val_accuracy: 0.9259\n",
      "Epoch 44/100\n",
      "9/9 [==============================] - 0s 14ms/step - loss: 0.2356 - accuracy: 0.9185 - val_loss: 0.2003 - val_accuracy: 0.9259\n",
      "Epoch 45/100\n",
      "9/9 [==============================] - 0s 12ms/step - loss: 0.2387 - accuracy: 0.9185 - val_loss: 0.2053 - val_accuracy: 0.9259\n",
      "Epoch 46/100\n",
      "9/9 [==============================] - 0s 17ms/step - loss: 0.2264 - accuracy: 0.9333 - val_loss: 0.1991 - val_accuracy: 0.9444\n",
      "Epoch 47/100\n",
      "9/9 [==============================] - 0s 29ms/step - loss: 0.2281 - accuracy: 0.9259 - val_loss: 0.1924 - val_accuracy: 0.9259\n",
      "Epoch 48/100\n",
      "9/9 [==============================] - 0s 12ms/step - loss: 0.2613 - accuracy: 0.9185 - val_loss: 0.2376 - val_accuracy: 0.9074\n",
      "Epoch 49/100\n",
      "9/9 [==============================] - 0s 13ms/step - loss: 0.2435 - accuracy: 0.9185 - val_loss: 0.2013 - val_accuracy: 0.9259\n",
      "Epoch 50/100\n",
      "9/9 [==============================] - 0s 12ms/step - loss: 0.2431 - accuracy: 0.9259 - val_loss: 0.1960 - val_accuracy: 0.9444\n",
      "Epoch 51/100\n",
      "9/9 [==============================] - 0s 14ms/step - loss: 0.2616 - accuracy: 0.9111 - val_loss: 0.2541 - val_accuracy: 0.9074\n",
      "Epoch 52/100\n",
      "9/9 [==============================] - 0s 11ms/step - loss: 0.2232 - accuracy: 0.9333 - val_loss: 0.2023 - val_accuracy: 0.9259\n",
      "Epoch 53/100\n",
      "9/9 [==============================] - 0s 12ms/step - loss: 0.2237 - accuracy: 0.9185 - val_loss: 0.2248 - val_accuracy: 0.9259\n",
      "Epoch 54/100\n",
      "9/9 [==============================] - 0s 11ms/step - loss: 0.2103 - accuracy: 0.9333 - val_loss: 0.1957 - val_accuracy: 0.9259\n",
      "Epoch 55/100\n",
      "9/9 [==============================] - 0s 13ms/step - loss: 0.2044 - accuracy: 0.9333 - val_loss: 0.1981 - val_accuracy: 0.9259\n",
      "Epoch 56/100\n",
      "9/9 [==============================] - 0s 13ms/step - loss: 0.2341 - accuracy: 0.9111 - val_loss: 0.1938 - val_accuracy: 0.9259\n",
      "Epoch 57/100\n",
      "9/9 [==============================] - 0s 13ms/step - loss: 0.2375 - accuracy: 0.9111 - val_loss: 0.2782 - val_accuracy: 0.9074\n",
      "Epoch 58/100\n",
      "9/9 [==============================] - 0s 13ms/step - loss: 0.2077 - accuracy: 0.9481 - val_loss: 0.1843 - val_accuracy: 0.9259\n",
      "Epoch 59/100\n",
      "9/9 [==============================] - 0s 13ms/step - loss: 0.2011 - accuracy: 0.9407 - val_loss: 0.2773 - val_accuracy: 0.8889\n",
      "Epoch 60/100\n",
      "9/9 [==============================] - 0s 13ms/step - loss: 0.2441 - accuracy: 0.9037 - val_loss: 0.2470 - val_accuracy: 0.8889\n",
      "Epoch 61/100\n",
      "9/9 [==============================] - 0s 14ms/step - loss: 0.2287 - accuracy: 0.9481 - val_loss: 0.1926 - val_accuracy: 0.9259\n",
      "Epoch 62/100\n",
      "9/9 [==============================] - 0s 13ms/step - loss: 0.1984 - accuracy: 0.9481 - val_loss: 0.2351 - val_accuracy: 0.9074\n",
      "Epoch 63/100\n",
      "9/9 [==============================] - 0s 17ms/step - loss: 0.1924 - accuracy: 0.9481 - val_loss: 0.1896 - val_accuracy: 0.9259\n",
      "Epoch 64/100\n",
      "9/9 [==============================] - 0s 15ms/step - loss: 0.1885 - accuracy: 0.9407 - val_loss: 0.1939 - val_accuracy: 0.9259\n",
      "Epoch 65/100\n",
      "9/9 [==============================] - 0s 14ms/step - loss: 0.1829 - accuracy: 0.9481 - val_loss: 0.2450 - val_accuracy: 0.8889\n",
      "Epoch 66/100\n",
      "9/9 [==============================] - 0s 14ms/step - loss: 0.1830 - accuracy: 0.9481 - val_loss: 0.1958 - val_accuracy: 0.9630\n",
      "Epoch 67/100\n",
      "9/9 [==============================] - 0s 12ms/step - loss: 0.1961 - accuracy: 0.9407 - val_loss: 0.2498 - val_accuracy: 0.8889\n",
      "Epoch 68/100\n",
      "9/9 [==============================] - 0s 13ms/step - loss: 0.1835 - accuracy: 0.9556 - val_loss: 0.2180 - val_accuracy: 0.9259\n",
      "Epoch 69/100\n",
      "9/9 [==============================] - 0s 24ms/step - loss: 0.1694 - accuracy: 0.9556 - val_loss: 0.1892 - val_accuracy: 0.9259\n",
      "Epoch 70/100\n",
      "9/9 [==============================] - 0s 11ms/step - loss: 0.1896 - accuracy: 0.9407 - val_loss: 0.1930 - val_accuracy: 0.9259\n",
      "Epoch 71/100\n",
      "9/9 [==============================] - 0s 13ms/step - loss: 0.1836 - accuracy: 0.9556 - val_loss: 0.2484 - val_accuracy: 0.8889\n",
      "Epoch 72/100\n",
      "9/9 [==============================] - 0s 13ms/step - loss: 0.1702 - accuracy: 0.9556 - val_loss: 0.2037 - val_accuracy: 0.9259\n",
      "Epoch 73/100\n",
      "9/9 [==============================] - 0s 13ms/step - loss: 0.1616 - accuracy: 0.9630 - val_loss: 0.2203 - val_accuracy: 0.9259\n",
      "Epoch 74/100\n",
      "9/9 [==============================] - 0s 11ms/step - loss: 0.1755 - accuracy: 0.9407 - val_loss: 0.2212 - val_accuracy: 0.9259\n",
      "Epoch 75/100\n",
      "9/9 [==============================] - 0s 12ms/step - loss: 0.1906 - accuracy: 0.9407 - val_loss: 0.1903 - val_accuracy: 0.9259\n",
      "Epoch 76/100\n",
      "9/9 [==============================] - 0s 13ms/step - loss: 0.1508 - accuracy: 0.9630 - val_loss: 0.2329 - val_accuracy: 0.9259\n",
      "Epoch 77/100\n",
      "9/9 [==============================] - 0s 11ms/step - loss: 0.1515 - accuracy: 0.9630 - val_loss: 0.1788 - val_accuracy: 0.9444\n",
      "Epoch 78/100\n",
      "9/9 [==============================] - 0s 11ms/step - loss: 0.1808 - accuracy: 0.9481 - val_loss: 0.2510 - val_accuracy: 0.8889\n",
      "Epoch 79/100\n",
      "9/9 [==============================] - 0s 13ms/step - loss: 0.1439 - accuracy: 0.9704 - val_loss: 0.1819 - val_accuracy: 0.9259\n",
      "Epoch 80/100\n",
      "9/9 [==============================] - 0s 13ms/step - loss: 0.1498 - accuracy: 0.9556 - val_loss: 0.1947 - val_accuracy: 0.9259\n",
      "Epoch 81/100\n",
      "9/9 [==============================] - 0s 19ms/step - loss: 0.1428 - accuracy: 0.9630 - val_loss: 0.2137 - val_accuracy: 0.9259\n",
      "Epoch 82/100\n",
      "9/9 [==============================] - 0s 14ms/step - loss: 0.1470 - accuracy: 0.9481 - val_loss: 0.1847 - val_accuracy: 0.9259\n",
      "Epoch 83/100\n",
      "9/9 [==============================] - 0s 12ms/step - loss: 0.1398 - accuracy: 0.9704 - val_loss: 0.3017 - val_accuracy: 0.8889\n",
      "Epoch 84/100\n",
      "9/9 [==============================] - 0s 13ms/step - loss: 0.1859 - accuracy: 0.9481 - val_loss: 0.2206 - val_accuracy: 0.9630\n",
      "Epoch 85/100\n",
      "9/9 [==============================] - 0s 14ms/step - loss: 0.1827 - accuracy: 0.9481 - val_loss: 0.2614 - val_accuracy: 0.8889\n",
      "Epoch 86/100\n",
      "9/9 [==============================] - 0s 11ms/step - loss: 0.1652 - accuracy: 0.9556 - val_loss: 0.2508 - val_accuracy: 0.8889\n",
      "Epoch 87/100\n",
      "9/9 [==============================] - 0s 12ms/step - loss: 0.1961 - accuracy: 0.9333 - val_loss: 0.1931 - val_accuracy: 0.9444\n",
      "Epoch 88/100\n",
      "9/9 [==============================] - 0s 13ms/step - loss: 0.1683 - accuracy: 0.9407 - val_loss: 0.2786 - val_accuracy: 0.8889\n",
      "Epoch 89/100\n",
      "9/9 [==============================] - 0s 13ms/step - loss: 0.1520 - accuracy: 0.9556 - val_loss: 0.1778 - val_accuracy: 0.9630\n",
      "Epoch 90/100\n",
      "9/9 [==============================] - 0s 28ms/step - loss: 0.1428 - accuracy: 0.9704 - val_loss: 0.2611 - val_accuracy: 0.8889\n",
      "Epoch 91/100\n",
      "9/9 [==============================] - 0s 11ms/step - loss: 0.1450 - accuracy: 0.9556 - val_loss: 0.1744 - val_accuracy: 0.9444\n",
      "Epoch 92/100\n",
      "9/9 [==============================] - 0s 12ms/step - loss: 0.1330 - accuracy: 0.9704 - val_loss: 0.1982 - val_accuracy: 0.9074\n",
      "Epoch 93/100\n",
      "9/9 [==============================] - 0s 13ms/step - loss: 0.1294 - accuracy: 0.9630 - val_loss: 0.1876 - val_accuracy: 0.9259\n",
      "Epoch 94/100\n",
      "9/9 [==============================] - 0s 13ms/step - loss: 0.1289 - accuracy: 0.9630 - val_loss: 0.2822 - val_accuracy: 0.8889\n",
      "Epoch 95/100\n",
      "9/9 [==============================] - 0s 12ms/step - loss: 0.1309 - accuracy: 0.9630 - val_loss: 0.1850 - val_accuracy: 0.9259\n",
      "Epoch 96/100\n",
      "9/9 [==============================] - 0s 12ms/step - loss: 0.1300 - accuracy: 0.9630 - val_loss: 0.3033 - val_accuracy: 0.8889\n",
      "Epoch 97/100\n",
      "9/9 [==============================] - 0s 12ms/step - loss: 0.1500 - accuracy: 0.9630 - val_loss: 0.2289 - val_accuracy: 0.9074\n",
      "Epoch 98/100\n",
      "9/9 [==============================] - 0s 19ms/step - loss: 0.1548 - accuracy: 0.9556 - val_loss: 0.2199 - val_accuracy: 0.9259\n",
      "Epoch 99/100\n",
      "9/9 [==============================] - 0s 12ms/step - loss: 0.1228 - accuracy: 0.9704 - val_loss: 0.1914 - val_accuracy: 0.9259\n",
      "Epoch 100/100\n",
      "9/9 [==============================] - 0s 13ms/step - loss: 0.1232 - accuracy: 0.9630 - val_loss: 0.2109 - val_accuracy: 0.9259\n",
      "2/2 [==============================] - 0s 10ms/step - loss: 0.2109 - accuracy: 0.9259\n",
      "0.9259259104728699\n"
     ]
    }
   ],
   "source": [
    "# Select the best model\n",
    "best_model = models[np.argmax([score for score in scores])]\n",
    "# Reset learning rate\n",
    "best_model.optimizer.lr = 0.001\n",
    "# Train the best model on the entire training set\n",
    "hist = best_model.fit(\n",
    "    X_train,\n",
    "    y_train,\n",
    "    validation_data=(X_test, y_test),\n",
    "    epochs=100,\n",
    "    batch_size=16,\n",
    ")\n",
    "# Evaluate the model\n",
    "best_loss, best_score = best_model.evaluate(X_test, y_test)\n",
    "print(best_score)"
   ]
  },
  {
   "cell_type": "code",
   "execution_count": 39,
   "metadata": {},
   "outputs": [
    {
     "data": {
      "application/vnd.plotly.v1+json": {
       "config": {
        "plotlyServerURL": "https://plot.ly"
       },
       "data": [
        {
         "hovertemplate": "variable=loss<br>epoch=%{x}<br>loss=%{y}<extra></extra>",
         "legendgroup": "loss",
         "line": {
          "color": "#636efa",
          "dash": "solid"
         },
         "marker": {
          "symbol": "circle"
         },
         "mode": "lines",
         "name": "loss",
         "orientation": "v",
         "showlegend": true,
         "type": "scatter",
         "x": [
          0,
          1,
          2,
          3,
          4,
          5,
          6,
          7,
          8,
          9,
          10,
          11,
          12,
          13,
          14,
          15,
          16,
          17,
          18,
          19,
          20,
          21,
          22,
          23,
          24,
          25,
          26,
          27,
          28,
          29,
          30,
          31,
          32,
          33,
          34,
          35,
          36,
          37,
          38,
          39,
          40,
          41,
          42,
          43,
          44,
          45,
          46,
          47,
          48,
          49,
          50,
          51,
          52,
          53,
          54,
          55,
          56,
          57,
          58,
          59,
          60,
          61,
          62,
          63,
          64,
          65,
          66,
          67,
          68,
          69,
          70,
          71,
          72,
          73,
          74,
          75,
          76,
          77,
          78,
          79,
          80,
          81,
          82,
          83,
          84,
          85,
          86,
          87,
          88,
          89,
          90,
          91,
          92,
          93,
          94,
          95,
          96,
          97,
          98,
          99
         ],
         "xaxis": "x",
         "y": [
          0.46396130323410034,
          0.45728248357772827,
          0.48646602034568787,
          0.44627833366394043,
          0.4858410358428955,
          0.4798385500907898,
          0.4503430724143982,
          0.4109526574611664,
          0.41694504022598267,
          0.43040552735328674,
          0.4140455722808838,
          0.4788188338279724,
          0.47875478863716125,
          0.4326043725013733,
          0.45261266827583313,
          0.38338834047317505,
          0.38866233825683594,
          0.3825559616088867,
          0.37996891140937805,
          0.3626357316970825,
          0.3288608491420746,
          0.33605560660362244,
          0.3592364490032196,
          0.3292917311191559,
          0.37241029739379883,
          0.35752034187316895,
          0.37830832600593567,
          0.343248575925827,
          0.32270610332489014,
          0.29374903440475464,
          0.2862260639667511,
          0.30646976828575134,
          0.3269491195678711,
          0.3158007860183716,
          0.3121243119239807,
          0.2855280935764313,
          0.3056085407733917,
          0.28988853096961975,
          0.29221415519714355,
          0.28319603204727173,
          0.26082494854927063,
          0.26556167006492615,
          0.2892105281352997,
          0.23558948934078217,
          0.2386881560087204,
          0.22643694281578064,
          0.22807319462299347,
          0.26131492853164673,
          0.24352775514125824,
          0.24314264953136444,
          0.26159584522247314,
          0.2232436239719391,
          0.22366775572299957,
          0.21033068001270294,
          0.2044360339641571,
          0.2341308742761612,
          0.23753735423088074,
          0.20769812166690826,
          0.2011115550994873,
          0.24412968754768372,
          0.22874519228935242,
          0.19838230311870575,
          0.1923929750919342,
          0.18850113451480865,
          0.18285784125328064,
          0.1830233633518219,
          0.19614125788211823,
          0.18354451656341553,
          0.16939696669578552,
          0.18955974280834198,
          0.18364888429641724,
          0.1702095866203308,
          0.1616324782371521,
          0.17552129924297333,
          0.1905612200498581,
          0.15077410638332367,
          0.151497945189476,
          0.18081897497177124,
          0.14393556118011475,
          0.14976975321769714,
          0.14280878007411957,
          0.14697222411632538,
          0.13983261585235596,
          0.18592526018619537,
          0.18267054855823517,
          0.16515126824378967,
          0.19607336819171906,
          0.16831748187541962,
          0.15197189152240753,
          0.1428479105234146,
          0.14502745866775513,
          0.13297387957572937,
          0.129417285323143,
          0.1288604885339737,
          0.1308729499578476,
          0.1300494521856308,
          0.14996127784252167,
          0.154763326048851,
          0.12281758338212967,
          0.12315590679645538
         ],
         "yaxis": "y"
        },
        {
         "hovertemplate": "variable=val_loss<br>epoch=%{x}<br>loss=%{y}<extra></extra>",
         "legendgroup": "val_loss",
         "line": {
          "color": "#EF553B",
          "dash": "solid"
         },
         "marker": {
          "symbol": "circle"
         },
         "mode": "lines",
         "name": "val_loss",
         "orientation": "v",
         "showlegend": true,
         "type": "scatter",
         "x": [
          0,
          1,
          2,
          3,
          4,
          5,
          6,
          7,
          8,
          9,
          10,
          11,
          12,
          13,
          14,
          15,
          16,
          17,
          18,
          19,
          20,
          21,
          22,
          23,
          24,
          25,
          26,
          27,
          28,
          29,
          30,
          31,
          32,
          33,
          34,
          35,
          36,
          37,
          38,
          39,
          40,
          41,
          42,
          43,
          44,
          45,
          46,
          47,
          48,
          49,
          50,
          51,
          52,
          53,
          54,
          55,
          56,
          57,
          58,
          59,
          60,
          61,
          62,
          63,
          64,
          65,
          66,
          67,
          68,
          69,
          70,
          71,
          72,
          73,
          74,
          75,
          76,
          77,
          78,
          79,
          80,
          81,
          82,
          83,
          84,
          85,
          86,
          87,
          88,
          89,
          90,
          91,
          92,
          93,
          94,
          95,
          96,
          97,
          98,
          99
         ],
         "xaxis": "x",
         "y": [
          0.37639808654785156,
          0.3631429076194763,
          0.48121997714042664,
          0.3598845899105072,
          0.44275879859924316,
          0.37747880816459656,
          0.32973191142082214,
          0.31636887788772583,
          0.34105587005615234,
          0.30690139532089233,
          0.39440399408340454,
          0.334309846162796,
          0.3271416127681732,
          0.38557788729667664,
          0.37962496280670166,
          0.32567188143730164,
          0.2999879717826843,
          0.26529428362846375,
          0.2665664553642273,
          0.2645460069179535,
          0.2728748023509979,
          0.264506071805954,
          0.245101198554039,
          0.253733366727829,
          0.25051388144493103,
          0.2630857229232788,
          0.26577645540237427,
          0.26328614354133606,
          0.2599249482154846,
          0.24781863391399384,
          0.2437906265258789,
          0.2802703082561493,
          0.22238729894161224,
          0.3359513580799103,
          0.23423141241073608,
          0.2943051755428314,
          0.22509044408798218,
          0.2380559742450714,
          0.24271276593208313,
          0.2234487533569336,
          0.21363794803619385,
          0.22819554805755615,
          0.22181719541549683,
          0.20025621354579926,
          0.2053341567516327,
          0.19912897050380707,
          0.19240052998065948,
          0.23758520185947418,
          0.20133349299430847,
          0.19604463875293732,
          0.2541484832763672,
          0.20231790840625763,
          0.22476720809936523,
          0.19570568203926086,
          0.19810067117214203,
          0.19376617670059204,
          0.2782404124736786,
          0.18433786928653717,
          0.2773100435733795,
          0.24702224135398865,
          0.19256354868412018,
          0.23514150083065033,
          0.18963901698589325,
          0.19389446079730988,
          0.24502480030059814,
          0.1957685649394989,
          0.2498050034046173,
          0.21804262697696686,
          0.18915697932243347,
          0.1929844468832016,
          0.24842815101146698,
          0.2036956548690796,
          0.22034238278865814,
          0.2211906760931015,
          0.1903296262025833,
          0.23290130496025085,
          0.178815558552742,
          0.2509975731372833,
          0.1819196492433548,
          0.19466179609298706,
          0.21367225050926208,
          0.18467724323272705,
          0.30168935656547546,
          0.2206422984600067,
          0.261369526386261,
          0.25078949332237244,
          0.19312289357185364,
          0.2785560190677643,
          0.17783673107624054,
          0.2610519230365753,
          0.17442812025547028,
          0.19819362461566925,
          0.18762506544589996,
          0.28217655420303345,
          0.1850498914718628,
          0.3033479154109955,
          0.22894500195980072,
          0.21991541981697083,
          0.19144503772258759,
          0.2109387069940567
         ],
         "yaxis": "y"
        }
       ],
       "layout": {
        "legend": {
         "title": {
          "text": "variable"
         },
         "tracegroupgap": 0
        },
        "template": {
         "data": {
          "bar": [
           {
            "error_x": {
             "color": "#2a3f5f"
            },
            "error_y": {
             "color": "#2a3f5f"
            },
            "marker": {
             "line": {
              "color": "#E5ECF6",
              "width": 0.5
             },
             "pattern": {
              "fillmode": "overlay",
              "size": 10,
              "solidity": 0.2
             }
            },
            "type": "bar"
           }
          ],
          "barpolar": [
           {
            "marker": {
             "line": {
              "color": "#E5ECF6",
              "width": 0.5
             },
             "pattern": {
              "fillmode": "overlay",
              "size": 10,
              "solidity": 0.2
             }
            },
            "type": "barpolar"
           }
          ],
          "carpet": [
           {
            "aaxis": {
             "endlinecolor": "#2a3f5f",
             "gridcolor": "white",
             "linecolor": "white",
             "minorgridcolor": "white",
             "startlinecolor": "#2a3f5f"
            },
            "baxis": {
             "endlinecolor": "#2a3f5f",
             "gridcolor": "white",
             "linecolor": "white",
             "minorgridcolor": "white",
             "startlinecolor": "#2a3f5f"
            },
            "type": "carpet"
           }
          ],
          "choropleth": [
           {
            "colorbar": {
             "outlinewidth": 0,
             "ticks": ""
            },
            "type": "choropleth"
           }
          ],
          "contour": [
           {
            "colorbar": {
             "outlinewidth": 0,
             "ticks": ""
            },
            "colorscale": [
             [
              0,
              "#0d0887"
             ],
             [
              0.1111111111111111,
              "#46039f"
             ],
             [
              0.2222222222222222,
              "#7201a8"
             ],
             [
              0.3333333333333333,
              "#9c179e"
             ],
             [
              0.4444444444444444,
              "#bd3786"
             ],
             [
              0.5555555555555556,
              "#d8576b"
             ],
             [
              0.6666666666666666,
              "#ed7953"
             ],
             [
              0.7777777777777778,
              "#fb9f3a"
             ],
             [
              0.8888888888888888,
              "#fdca26"
             ],
             [
              1,
              "#f0f921"
             ]
            ],
            "type": "contour"
           }
          ],
          "contourcarpet": [
           {
            "colorbar": {
             "outlinewidth": 0,
             "ticks": ""
            },
            "type": "contourcarpet"
           }
          ],
          "heatmap": [
           {
            "colorbar": {
             "outlinewidth": 0,
             "ticks": ""
            },
            "colorscale": [
             [
              0,
              "#0d0887"
             ],
             [
              0.1111111111111111,
              "#46039f"
             ],
             [
              0.2222222222222222,
              "#7201a8"
             ],
             [
              0.3333333333333333,
              "#9c179e"
             ],
             [
              0.4444444444444444,
              "#bd3786"
             ],
             [
              0.5555555555555556,
              "#d8576b"
             ],
             [
              0.6666666666666666,
              "#ed7953"
             ],
             [
              0.7777777777777778,
              "#fb9f3a"
             ],
             [
              0.8888888888888888,
              "#fdca26"
             ],
             [
              1,
              "#f0f921"
             ]
            ],
            "type": "heatmap"
           }
          ],
          "heatmapgl": [
           {
            "colorbar": {
             "outlinewidth": 0,
             "ticks": ""
            },
            "colorscale": [
             [
              0,
              "#0d0887"
             ],
             [
              0.1111111111111111,
              "#46039f"
             ],
             [
              0.2222222222222222,
              "#7201a8"
             ],
             [
              0.3333333333333333,
              "#9c179e"
             ],
             [
              0.4444444444444444,
              "#bd3786"
             ],
             [
              0.5555555555555556,
              "#d8576b"
             ],
             [
              0.6666666666666666,
              "#ed7953"
             ],
             [
              0.7777777777777778,
              "#fb9f3a"
             ],
             [
              0.8888888888888888,
              "#fdca26"
             ],
             [
              1,
              "#f0f921"
             ]
            ],
            "type": "heatmapgl"
           }
          ],
          "histogram": [
           {
            "marker": {
             "pattern": {
              "fillmode": "overlay",
              "size": 10,
              "solidity": 0.2
             }
            },
            "type": "histogram"
           }
          ],
          "histogram2d": [
           {
            "colorbar": {
             "outlinewidth": 0,
             "ticks": ""
            },
            "colorscale": [
             [
              0,
              "#0d0887"
             ],
             [
              0.1111111111111111,
              "#46039f"
             ],
             [
              0.2222222222222222,
              "#7201a8"
             ],
             [
              0.3333333333333333,
              "#9c179e"
             ],
             [
              0.4444444444444444,
              "#bd3786"
             ],
             [
              0.5555555555555556,
              "#d8576b"
             ],
             [
              0.6666666666666666,
              "#ed7953"
             ],
             [
              0.7777777777777778,
              "#fb9f3a"
             ],
             [
              0.8888888888888888,
              "#fdca26"
             ],
             [
              1,
              "#f0f921"
             ]
            ],
            "type": "histogram2d"
           }
          ],
          "histogram2dcontour": [
           {
            "colorbar": {
             "outlinewidth": 0,
             "ticks": ""
            },
            "colorscale": [
             [
              0,
              "#0d0887"
             ],
             [
              0.1111111111111111,
              "#46039f"
             ],
             [
              0.2222222222222222,
              "#7201a8"
             ],
             [
              0.3333333333333333,
              "#9c179e"
             ],
             [
              0.4444444444444444,
              "#bd3786"
             ],
             [
              0.5555555555555556,
              "#d8576b"
             ],
             [
              0.6666666666666666,
              "#ed7953"
             ],
             [
              0.7777777777777778,
              "#fb9f3a"
             ],
             [
              0.8888888888888888,
              "#fdca26"
             ],
             [
              1,
              "#f0f921"
             ]
            ],
            "type": "histogram2dcontour"
           }
          ],
          "mesh3d": [
           {
            "colorbar": {
             "outlinewidth": 0,
             "ticks": ""
            },
            "type": "mesh3d"
           }
          ],
          "parcoords": [
           {
            "line": {
             "colorbar": {
              "outlinewidth": 0,
              "ticks": ""
             }
            },
            "type": "parcoords"
           }
          ],
          "pie": [
           {
            "automargin": true,
            "type": "pie"
           }
          ],
          "scatter": [
           {
            "fillpattern": {
             "fillmode": "overlay",
             "size": 10,
             "solidity": 0.2
            },
            "type": "scatter"
           }
          ],
          "scatter3d": [
           {
            "line": {
             "colorbar": {
              "outlinewidth": 0,
              "ticks": ""
             }
            },
            "marker": {
             "colorbar": {
              "outlinewidth": 0,
              "ticks": ""
             }
            },
            "type": "scatter3d"
           }
          ],
          "scattercarpet": [
           {
            "marker": {
             "colorbar": {
              "outlinewidth": 0,
              "ticks": ""
             }
            },
            "type": "scattercarpet"
           }
          ],
          "scattergeo": [
           {
            "marker": {
             "colorbar": {
              "outlinewidth": 0,
              "ticks": ""
             }
            },
            "type": "scattergeo"
           }
          ],
          "scattergl": [
           {
            "marker": {
             "colorbar": {
              "outlinewidth": 0,
              "ticks": ""
             }
            },
            "type": "scattergl"
           }
          ],
          "scattermapbox": [
           {
            "marker": {
             "colorbar": {
              "outlinewidth": 0,
              "ticks": ""
             }
            },
            "type": "scattermapbox"
           }
          ],
          "scatterpolar": [
           {
            "marker": {
             "colorbar": {
              "outlinewidth": 0,
              "ticks": ""
             }
            },
            "type": "scatterpolar"
           }
          ],
          "scatterpolargl": [
           {
            "marker": {
             "colorbar": {
              "outlinewidth": 0,
              "ticks": ""
             }
            },
            "type": "scatterpolargl"
           }
          ],
          "scatterternary": [
           {
            "marker": {
             "colorbar": {
              "outlinewidth": 0,
              "ticks": ""
             }
            },
            "type": "scatterternary"
           }
          ],
          "surface": [
           {
            "colorbar": {
             "outlinewidth": 0,
             "ticks": ""
            },
            "colorscale": [
             [
              0,
              "#0d0887"
             ],
             [
              0.1111111111111111,
              "#46039f"
             ],
             [
              0.2222222222222222,
              "#7201a8"
             ],
             [
              0.3333333333333333,
              "#9c179e"
             ],
             [
              0.4444444444444444,
              "#bd3786"
             ],
             [
              0.5555555555555556,
              "#d8576b"
             ],
             [
              0.6666666666666666,
              "#ed7953"
             ],
             [
              0.7777777777777778,
              "#fb9f3a"
             ],
             [
              0.8888888888888888,
              "#fdca26"
             ],
             [
              1,
              "#f0f921"
             ]
            ],
            "type": "surface"
           }
          ],
          "table": [
           {
            "cells": {
             "fill": {
              "color": "#EBF0F8"
             },
             "line": {
              "color": "white"
             }
            },
            "header": {
             "fill": {
              "color": "#C8D4E3"
             },
             "line": {
              "color": "white"
             }
            },
            "type": "table"
           }
          ]
         },
         "layout": {
          "annotationdefaults": {
           "arrowcolor": "#2a3f5f",
           "arrowhead": 0,
           "arrowwidth": 1
          },
          "autotypenumbers": "strict",
          "coloraxis": {
           "colorbar": {
            "outlinewidth": 0,
            "ticks": ""
           }
          },
          "colorscale": {
           "diverging": [
            [
             0,
             "#8e0152"
            ],
            [
             0.1,
             "#c51b7d"
            ],
            [
             0.2,
             "#de77ae"
            ],
            [
             0.3,
             "#f1b6da"
            ],
            [
             0.4,
             "#fde0ef"
            ],
            [
             0.5,
             "#f7f7f7"
            ],
            [
             0.6,
             "#e6f5d0"
            ],
            [
             0.7,
             "#b8e186"
            ],
            [
             0.8,
             "#7fbc41"
            ],
            [
             0.9,
             "#4d9221"
            ],
            [
             1,
             "#276419"
            ]
           ],
           "sequential": [
            [
             0,
             "#0d0887"
            ],
            [
             0.1111111111111111,
             "#46039f"
            ],
            [
             0.2222222222222222,
             "#7201a8"
            ],
            [
             0.3333333333333333,
             "#9c179e"
            ],
            [
             0.4444444444444444,
             "#bd3786"
            ],
            [
             0.5555555555555556,
             "#d8576b"
            ],
            [
             0.6666666666666666,
             "#ed7953"
            ],
            [
             0.7777777777777778,
             "#fb9f3a"
            ],
            [
             0.8888888888888888,
             "#fdca26"
            ],
            [
             1,
             "#f0f921"
            ]
           ],
           "sequentialminus": [
            [
             0,
             "#0d0887"
            ],
            [
             0.1111111111111111,
             "#46039f"
            ],
            [
             0.2222222222222222,
             "#7201a8"
            ],
            [
             0.3333333333333333,
             "#9c179e"
            ],
            [
             0.4444444444444444,
             "#bd3786"
            ],
            [
             0.5555555555555556,
             "#d8576b"
            ],
            [
             0.6666666666666666,
             "#ed7953"
            ],
            [
             0.7777777777777778,
             "#fb9f3a"
            ],
            [
             0.8888888888888888,
             "#fdca26"
            ],
            [
             1,
             "#f0f921"
            ]
           ]
          },
          "colorway": [
           "#636efa",
           "#EF553B",
           "#00cc96",
           "#ab63fa",
           "#FFA15A",
           "#19d3f3",
           "#FF6692",
           "#B6E880",
           "#FF97FF",
           "#FECB52"
          ],
          "font": {
           "color": "#2a3f5f"
          },
          "geo": {
           "bgcolor": "white",
           "lakecolor": "white",
           "landcolor": "#E5ECF6",
           "showlakes": true,
           "showland": true,
           "subunitcolor": "white"
          },
          "hoverlabel": {
           "align": "left"
          },
          "hovermode": "closest",
          "mapbox": {
           "style": "light"
          },
          "paper_bgcolor": "white",
          "plot_bgcolor": "#E5ECF6",
          "polar": {
           "angularaxis": {
            "gridcolor": "white",
            "linecolor": "white",
            "ticks": ""
           },
           "bgcolor": "#E5ECF6",
           "radialaxis": {
            "gridcolor": "white",
            "linecolor": "white",
            "ticks": ""
           }
          },
          "scene": {
           "xaxis": {
            "backgroundcolor": "#E5ECF6",
            "gridcolor": "white",
            "gridwidth": 2,
            "linecolor": "white",
            "showbackground": true,
            "ticks": "",
            "zerolinecolor": "white"
           },
           "yaxis": {
            "backgroundcolor": "#E5ECF6",
            "gridcolor": "white",
            "gridwidth": 2,
            "linecolor": "white",
            "showbackground": true,
            "ticks": "",
            "zerolinecolor": "white"
           },
           "zaxis": {
            "backgroundcolor": "#E5ECF6",
            "gridcolor": "white",
            "gridwidth": 2,
            "linecolor": "white",
            "showbackground": true,
            "ticks": "",
            "zerolinecolor": "white"
           }
          },
          "shapedefaults": {
           "line": {
            "color": "#2a3f5f"
           }
          },
          "ternary": {
           "aaxis": {
            "gridcolor": "white",
            "linecolor": "white",
            "ticks": ""
           },
           "baxis": {
            "gridcolor": "white",
            "linecolor": "white",
            "ticks": ""
           },
           "bgcolor": "#E5ECF6",
           "caxis": {
            "gridcolor": "white",
            "linecolor": "white",
            "ticks": ""
           }
          },
          "title": {
           "x": 0.05
          },
          "xaxis": {
           "automargin": true,
           "gridcolor": "white",
           "linecolor": "white",
           "ticks": "",
           "title": {
            "standoff": 15
           },
           "zerolinecolor": "white",
           "zerolinewidth": 2
          },
          "yaxis": {
           "automargin": true,
           "gridcolor": "white",
           "linecolor": "white",
           "ticks": "",
           "title": {
            "standoff": 15
           },
           "zerolinecolor": "white",
           "zerolinewidth": 2
          }
         }
        },
        "title": {
         "text": "Loss over time"
        },
        "xaxis": {
         "anchor": "y",
         "domain": [
          0,
          1
         ],
         "title": {
          "text": "epoch"
         }
        },
        "yaxis": {
         "anchor": "x",
         "domain": [
          0,
          1
         ],
         "title": {
          "text": "loss"
         }
        }
       }
      }
     },
     "metadata": {},
     "output_type": "display_data"
    }
   ],
   "source": [
    "px.line(\n",
    "    pd.DataFrame(hist.history),\n",
    "    y=['loss', 'val_loss'],\n",
    "    labels={'index': 'epoch', 'value': 'loss'},\n",
    "    title='Loss over time',\n",
    ").show()"
   ]
  },
  {
   "cell_type": "code",
   "execution_count": 40,
   "metadata": {},
   "outputs": [
    {
     "name": "stdout",
     "output_type": "stream",
     "text": [
      "2/2 [==============================] - 0s 5ms/step\n"
     ]
    },
    {
     "data": {
      "application/vnd.plotly.v1+json": {
       "config": {
        "plotlyServerURL": "https://plot.ly"
       },
       "data": [
        {
         "coloraxis": "coloraxis",
         "hovertemplate": "x: %{x}<br>y: %{y}<br>color: %{z}<extra></extra>",
         "name": "0",
         "type": "heatmap",
         "x": [
          "back",
          "left",
          "right"
         ],
         "xaxis": "x",
         "y": [
          "back",
          "left",
          "right"
         ],
         "yaxis": "y",
         "z": [
          [
           11,
           1,
           6
          ],
          [
           0,
           18,
           0
          ],
          [
           6,
           0,
           12
          ]
         ]
        }
       ],
       "layout": {
        "coloraxis": {
         "colorscale": [
          [
           0,
           "rgb(247,251,255)"
          ],
          [
           0.125,
           "rgb(222,235,247)"
          ],
          [
           0.25,
           "rgb(198,219,239)"
          ],
          [
           0.375,
           "rgb(158,202,225)"
          ],
          [
           0.5,
           "rgb(107,174,214)"
          ],
          [
           0.625,
           "rgb(66,146,198)"
          ],
          [
           0.75,
           "rgb(33,113,181)"
          ],
          [
           0.875,
           "rgb(8,81,156)"
          ],
          [
           1,
           "rgb(8,48,107)"
          ]
         ]
        },
        "margin": {
         "t": 60
        },
        "template": {
         "data": {
          "bar": [
           {
            "error_x": {
             "color": "#2a3f5f"
            },
            "error_y": {
             "color": "#2a3f5f"
            },
            "marker": {
             "line": {
              "color": "#E5ECF6",
              "width": 0.5
             },
             "pattern": {
              "fillmode": "overlay",
              "size": 10,
              "solidity": 0.2
             }
            },
            "type": "bar"
           }
          ],
          "barpolar": [
           {
            "marker": {
             "line": {
              "color": "#E5ECF6",
              "width": 0.5
             },
             "pattern": {
              "fillmode": "overlay",
              "size": 10,
              "solidity": 0.2
             }
            },
            "type": "barpolar"
           }
          ],
          "carpet": [
           {
            "aaxis": {
             "endlinecolor": "#2a3f5f",
             "gridcolor": "white",
             "linecolor": "white",
             "minorgridcolor": "white",
             "startlinecolor": "#2a3f5f"
            },
            "baxis": {
             "endlinecolor": "#2a3f5f",
             "gridcolor": "white",
             "linecolor": "white",
             "minorgridcolor": "white",
             "startlinecolor": "#2a3f5f"
            },
            "type": "carpet"
           }
          ],
          "choropleth": [
           {
            "colorbar": {
             "outlinewidth": 0,
             "ticks": ""
            },
            "type": "choropleth"
           }
          ],
          "contour": [
           {
            "colorbar": {
             "outlinewidth": 0,
             "ticks": ""
            },
            "colorscale": [
             [
              0,
              "#0d0887"
             ],
             [
              0.1111111111111111,
              "#46039f"
             ],
             [
              0.2222222222222222,
              "#7201a8"
             ],
             [
              0.3333333333333333,
              "#9c179e"
             ],
             [
              0.4444444444444444,
              "#bd3786"
             ],
             [
              0.5555555555555556,
              "#d8576b"
             ],
             [
              0.6666666666666666,
              "#ed7953"
             ],
             [
              0.7777777777777778,
              "#fb9f3a"
             ],
             [
              0.8888888888888888,
              "#fdca26"
             ],
             [
              1,
              "#f0f921"
             ]
            ],
            "type": "contour"
           }
          ],
          "contourcarpet": [
           {
            "colorbar": {
             "outlinewidth": 0,
             "ticks": ""
            },
            "type": "contourcarpet"
           }
          ],
          "heatmap": [
           {
            "colorbar": {
             "outlinewidth": 0,
             "ticks": ""
            },
            "colorscale": [
             [
              0,
              "#0d0887"
             ],
             [
              0.1111111111111111,
              "#46039f"
             ],
             [
              0.2222222222222222,
              "#7201a8"
             ],
             [
              0.3333333333333333,
              "#9c179e"
             ],
             [
              0.4444444444444444,
              "#bd3786"
             ],
             [
              0.5555555555555556,
              "#d8576b"
             ],
             [
              0.6666666666666666,
              "#ed7953"
             ],
             [
              0.7777777777777778,
              "#fb9f3a"
             ],
             [
              0.8888888888888888,
              "#fdca26"
             ],
             [
              1,
              "#f0f921"
             ]
            ],
            "type": "heatmap"
           }
          ],
          "heatmapgl": [
           {
            "colorbar": {
             "outlinewidth": 0,
             "ticks": ""
            },
            "colorscale": [
             [
              0,
              "#0d0887"
             ],
             [
              0.1111111111111111,
              "#46039f"
             ],
             [
              0.2222222222222222,
              "#7201a8"
             ],
             [
              0.3333333333333333,
              "#9c179e"
             ],
             [
              0.4444444444444444,
              "#bd3786"
             ],
             [
              0.5555555555555556,
              "#d8576b"
             ],
             [
              0.6666666666666666,
              "#ed7953"
             ],
             [
              0.7777777777777778,
              "#fb9f3a"
             ],
             [
              0.8888888888888888,
              "#fdca26"
             ],
             [
              1,
              "#f0f921"
             ]
            ],
            "type": "heatmapgl"
           }
          ],
          "histogram": [
           {
            "marker": {
             "pattern": {
              "fillmode": "overlay",
              "size": 10,
              "solidity": 0.2
             }
            },
            "type": "histogram"
           }
          ],
          "histogram2d": [
           {
            "colorbar": {
             "outlinewidth": 0,
             "ticks": ""
            },
            "colorscale": [
             [
              0,
              "#0d0887"
             ],
             [
              0.1111111111111111,
              "#46039f"
             ],
             [
              0.2222222222222222,
              "#7201a8"
             ],
             [
              0.3333333333333333,
              "#9c179e"
             ],
             [
              0.4444444444444444,
              "#bd3786"
             ],
             [
              0.5555555555555556,
              "#d8576b"
             ],
             [
              0.6666666666666666,
              "#ed7953"
             ],
             [
              0.7777777777777778,
              "#fb9f3a"
             ],
             [
              0.8888888888888888,
              "#fdca26"
             ],
             [
              1,
              "#f0f921"
             ]
            ],
            "type": "histogram2d"
           }
          ],
          "histogram2dcontour": [
           {
            "colorbar": {
             "outlinewidth": 0,
             "ticks": ""
            },
            "colorscale": [
             [
              0,
              "#0d0887"
             ],
             [
              0.1111111111111111,
              "#46039f"
             ],
             [
              0.2222222222222222,
              "#7201a8"
             ],
             [
              0.3333333333333333,
              "#9c179e"
             ],
             [
              0.4444444444444444,
              "#bd3786"
             ],
             [
              0.5555555555555556,
              "#d8576b"
             ],
             [
              0.6666666666666666,
              "#ed7953"
             ],
             [
              0.7777777777777778,
              "#fb9f3a"
             ],
             [
              0.8888888888888888,
              "#fdca26"
             ],
             [
              1,
              "#f0f921"
             ]
            ],
            "type": "histogram2dcontour"
           }
          ],
          "mesh3d": [
           {
            "colorbar": {
             "outlinewidth": 0,
             "ticks": ""
            },
            "type": "mesh3d"
           }
          ],
          "parcoords": [
           {
            "line": {
             "colorbar": {
              "outlinewidth": 0,
              "ticks": ""
             }
            },
            "type": "parcoords"
           }
          ],
          "pie": [
           {
            "automargin": true,
            "type": "pie"
           }
          ],
          "scatter": [
           {
            "fillpattern": {
             "fillmode": "overlay",
             "size": 10,
             "solidity": 0.2
            },
            "type": "scatter"
           }
          ],
          "scatter3d": [
           {
            "line": {
             "colorbar": {
              "outlinewidth": 0,
              "ticks": ""
             }
            },
            "marker": {
             "colorbar": {
              "outlinewidth": 0,
              "ticks": ""
             }
            },
            "type": "scatter3d"
           }
          ],
          "scattercarpet": [
           {
            "marker": {
             "colorbar": {
              "outlinewidth": 0,
              "ticks": ""
             }
            },
            "type": "scattercarpet"
           }
          ],
          "scattergeo": [
           {
            "marker": {
             "colorbar": {
              "outlinewidth": 0,
              "ticks": ""
             }
            },
            "type": "scattergeo"
           }
          ],
          "scattergl": [
           {
            "marker": {
             "colorbar": {
              "outlinewidth": 0,
              "ticks": ""
             }
            },
            "type": "scattergl"
           }
          ],
          "scattermapbox": [
           {
            "marker": {
             "colorbar": {
              "outlinewidth": 0,
              "ticks": ""
             }
            },
            "type": "scattermapbox"
           }
          ],
          "scatterpolar": [
           {
            "marker": {
             "colorbar": {
              "outlinewidth": 0,
              "ticks": ""
             }
            },
            "type": "scatterpolar"
           }
          ],
          "scatterpolargl": [
           {
            "marker": {
             "colorbar": {
              "outlinewidth": 0,
              "ticks": ""
             }
            },
            "type": "scatterpolargl"
           }
          ],
          "scatterternary": [
           {
            "marker": {
             "colorbar": {
              "outlinewidth": 0,
              "ticks": ""
             }
            },
            "type": "scatterternary"
           }
          ],
          "surface": [
           {
            "colorbar": {
             "outlinewidth": 0,
             "ticks": ""
            },
            "colorscale": [
             [
              0,
              "#0d0887"
             ],
             [
              0.1111111111111111,
              "#46039f"
             ],
             [
              0.2222222222222222,
              "#7201a8"
             ],
             [
              0.3333333333333333,
              "#9c179e"
             ],
             [
              0.4444444444444444,
              "#bd3786"
             ],
             [
              0.5555555555555556,
              "#d8576b"
             ],
             [
              0.6666666666666666,
              "#ed7953"
             ],
             [
              0.7777777777777778,
              "#fb9f3a"
             ],
             [
              0.8888888888888888,
              "#fdca26"
             ],
             [
              1,
              "#f0f921"
             ]
            ],
            "type": "surface"
           }
          ],
          "table": [
           {
            "cells": {
             "fill": {
              "color": "#EBF0F8"
             },
             "line": {
              "color": "white"
             }
            },
            "header": {
             "fill": {
              "color": "#C8D4E3"
             },
             "line": {
              "color": "white"
             }
            },
            "type": "table"
           }
          ]
         },
         "layout": {
          "annotationdefaults": {
           "arrowcolor": "#2a3f5f",
           "arrowhead": 0,
           "arrowwidth": 1
          },
          "autotypenumbers": "strict",
          "coloraxis": {
           "colorbar": {
            "outlinewidth": 0,
            "ticks": ""
           }
          },
          "colorscale": {
           "diverging": [
            [
             0,
             "#8e0152"
            ],
            [
             0.1,
             "#c51b7d"
            ],
            [
             0.2,
             "#de77ae"
            ],
            [
             0.3,
             "#f1b6da"
            ],
            [
             0.4,
             "#fde0ef"
            ],
            [
             0.5,
             "#f7f7f7"
            ],
            [
             0.6,
             "#e6f5d0"
            ],
            [
             0.7,
             "#b8e186"
            ],
            [
             0.8,
             "#7fbc41"
            ],
            [
             0.9,
             "#4d9221"
            ],
            [
             1,
             "#276419"
            ]
           ],
           "sequential": [
            [
             0,
             "#0d0887"
            ],
            [
             0.1111111111111111,
             "#46039f"
            ],
            [
             0.2222222222222222,
             "#7201a8"
            ],
            [
             0.3333333333333333,
             "#9c179e"
            ],
            [
             0.4444444444444444,
             "#bd3786"
            ],
            [
             0.5555555555555556,
             "#d8576b"
            ],
            [
             0.6666666666666666,
             "#ed7953"
            ],
            [
             0.7777777777777778,
             "#fb9f3a"
            ],
            [
             0.8888888888888888,
             "#fdca26"
            ],
            [
             1,
             "#f0f921"
            ]
           ],
           "sequentialminus": [
            [
             0,
             "#0d0887"
            ],
            [
             0.1111111111111111,
             "#46039f"
            ],
            [
             0.2222222222222222,
             "#7201a8"
            ],
            [
             0.3333333333333333,
             "#9c179e"
            ],
            [
             0.4444444444444444,
             "#bd3786"
            ],
            [
             0.5555555555555556,
             "#d8576b"
            ],
            [
             0.6666666666666666,
             "#ed7953"
            ],
            [
             0.7777777777777778,
             "#fb9f3a"
            ],
            [
             0.8888888888888888,
             "#fdca26"
            ],
            [
             1,
             "#f0f921"
            ]
           ]
          },
          "colorway": [
           "#636efa",
           "#EF553B",
           "#00cc96",
           "#ab63fa",
           "#FFA15A",
           "#19d3f3",
           "#FF6692",
           "#B6E880",
           "#FF97FF",
           "#FECB52"
          ],
          "font": {
           "color": "#2a3f5f"
          },
          "geo": {
           "bgcolor": "white",
           "lakecolor": "white",
           "landcolor": "#E5ECF6",
           "showlakes": true,
           "showland": true,
           "subunitcolor": "white"
          },
          "hoverlabel": {
           "align": "left"
          },
          "hovermode": "closest",
          "mapbox": {
           "style": "light"
          },
          "paper_bgcolor": "white",
          "plot_bgcolor": "#E5ECF6",
          "polar": {
           "angularaxis": {
            "gridcolor": "white",
            "linecolor": "white",
            "ticks": ""
           },
           "bgcolor": "#E5ECF6",
           "radialaxis": {
            "gridcolor": "white",
            "linecolor": "white",
            "ticks": ""
           }
          },
          "scene": {
           "xaxis": {
            "backgroundcolor": "#E5ECF6",
            "gridcolor": "white",
            "gridwidth": 2,
            "linecolor": "white",
            "showbackground": true,
            "ticks": "",
            "zerolinecolor": "white"
           },
           "yaxis": {
            "backgroundcolor": "#E5ECF6",
            "gridcolor": "white",
            "gridwidth": 2,
            "linecolor": "white",
            "showbackground": true,
            "ticks": "",
            "zerolinecolor": "white"
           },
           "zaxis": {
            "backgroundcolor": "#E5ECF6",
            "gridcolor": "white",
            "gridwidth": 2,
            "linecolor": "white",
            "showbackground": true,
            "ticks": "",
            "zerolinecolor": "white"
           }
          },
          "shapedefaults": {
           "line": {
            "color": "#2a3f5f"
           }
          },
          "ternary": {
           "aaxis": {
            "gridcolor": "white",
            "linecolor": "white",
            "ticks": ""
           },
           "baxis": {
            "gridcolor": "white",
            "linecolor": "white",
            "ticks": ""
           },
           "bgcolor": "#E5ECF6",
           "caxis": {
            "gridcolor": "white",
            "linecolor": "white",
            "ticks": ""
           }
          },
          "title": {
           "x": 0.05
          },
          "xaxis": {
           "automargin": true,
           "gridcolor": "white",
           "linecolor": "white",
           "ticks": "",
           "title": {
            "standoff": 15
           },
           "zerolinecolor": "white",
           "zerolinewidth": 2
          },
          "yaxis": {
           "automargin": true,
           "gridcolor": "white",
           "linecolor": "white",
           "ticks": "",
           "title": {
            "standoff": 15
           },
           "zerolinecolor": "white",
           "zerolinewidth": 2
          }
         }
        },
        "xaxis": {
         "anchor": "y",
         "constrain": "domain",
         "domain": [
          0,
          1
         ],
         "scaleanchor": "y"
        },
        "yaxis": {
         "anchor": "x",
         "autorange": "reversed",
         "constrain": "domain",
         "domain": [
          0,
          1
         ]
        }
       }
      }
     },
     "metadata": {},
     "output_type": "display_data"
    }
   ],
   "source": [
    "preds = model.predict(X_test)\n",
    "preds = np.argmax(preds, axis=1)\n",
    "y_test_max = np.argmax(y_test, axis=1)\n",
    "# Create a confusion matrix\n",
    "confusion_matrix = tf.math.confusion_matrix(labels=y_test_max, predictions=preds).numpy()\n",
    "# Create a dataframe from the confusion matrix\n",
    "confusion_matrix = pd.DataFrame(confusion_matrix, index=['back', 'left', 'right'], columns=['back', 'left', 'right'])\n",
    "# Plot the confusion matrix\n",
    "px.imshow(confusion_matrix, color_continuous_scale='Blues')"
   ]
  },
  {
   "cell_type": "code",
   "execution_count": 41,
   "metadata": {},
   "outputs": [
    {
     "data": {
      "application/vnd.plotly.v1+json": {
       "config": {
        "plotlyServerURL": "https://plot.ly"
       },
       "data": [
        {
         "coloraxis": "coloraxis",
         "hovertemplate": "x: %{x}<br>y: %{y}<br>color: %{z}<extra></extra>",
         "name": "0",
         "type": "heatmap",
         "xaxis": "x",
         "yaxis": "y",
         "z": [
          [
           23.54,
           23.49,
           23.61,
           23.61,
           24.31,
           24.02,
           24.31,
           24.12,
           24.9,
           24.98,
           24.97,
           25.71,
           26.45,
           26.82,
           27.13,
           28.24,
           28.54,
           29.17,
           27.97,
           27.64,
           26.75,
           25.76,
           25.06,
           24.75,
           24.67,
           24.08,
           23.56,
           23.8,
           23.79,
           23.2,
           21.61,
           20.87
          ],
          [
           23.29,
           23.31,
           23.65,
           23.47,
           23.88,
           24.14,
           24.06,
           24.54,
           24.96,
           25.03,
           25.5,
           25.77,
           26.82,
           27.28,
           29.13,
           28.45,
           30.75,
           29.91,
           29.62,
           28.8,
           26.62,
           26.42,
           25.2,
           24.98,
           24.27,
           24.61,
           23.91,
           23.77,
           23.25,
           23.48,
           22.71,
           22
          ],
          [
           23.46,
           23.09,
           23.25,
           23.74,
           24.37,
           24.14,
           24.13,
           24.5,
           25.32,
           25.59,
           26.36,
           26.77,
           27.86,
           29.37,
           30.44,
           32.04,
           32.31,
           32.44,
           31.2,
           30.36,
           28.18,
           26.3,
           25.2,
           24.81,
           24.73,
           24.2,
           23.87,
           23.66,
           23.39,
           23.22,
           22.68,
           22.77
          ],
          [
           23,
           23.12,
           23.51,
           23.63,
           24.05,
           23.98,
           24.47,
           24.77,
           25.52,
           25.64,
           26.72,
           26.83,
           29.55,
           29.55,
           32.37,
           32.08,
           33.1,
           32.84,
           31.84,
           31.45,
           27.3,
           27.24,
           25.37,
           24.92,
           24.28,
           24.44,
           23.93,
           23.69,
           23.48,
           23.41,
           23.06,
           22.65
          ],
          [
           23.26,
           23.29,
           23.29,
           23.44,
           24.44,
           24.23,
           24.6,
           24.82,
           25.78,
           26.02,
           26.81,
           27.87,
           30.25,
           32.24,
           32.13,
           32.4,
           32.76,
           32.03,
           31.96,
           31.19,
           28.47,
           26.45,
           25.22,
           25.09,
           24.66,
           24.53,
           23.88,
           23.81,
           23.59,
           23.18,
           22.75,
           22.72
          ],
          [
           23.2,
           23.11,
           23.39,
           23.77,
           24.15,
           24.2,
           24.91,
           24.81,
           25.86,
           26.07,
           27.56,
           27.81,
           31.65,
           32.09,
           32.26,
           32.27,
           31.71,
           32.43,
           32.09,
           31.82,
           27.27,
           27,
           25.39,
           25.18,
           24.87,
           24.37,
           24.08,
           23.96,
           23.68,
           23.33,
           22.98,
           23
          ],
          [
           23.44,
           23.42,
           23.44,
           23.73,
           24.29,
           24.45,
           24.88,
           25.08,
           25.97,
           26.19,
           27.59,
           28.3,
           31.15,
           32.28,
           31.53,
           29.98,
           30.26,
           31.22,
           31.77,
           29.92,
           27.52,
           26.29,
           25.45,
           24.9,
           24.82,
           24.61,
           24.11,
           23.9,
           23.66,
           23.47,
           23.02,
           23.07
          ],
          [
           23.23,
           23.42,
           23.67,
           23.61,
           24.14,
           24.42,
           24.96,
           25.18,
           25.95,
           26.43,
           27.72,
           28.15,
           31.52,
           31.79,
           31.27,
           30.06,
           30.27,
           30.86,
           31.23,
           30.39,
           26.9,
           26.52,
           25.51,
           25.2,
           24.91,
           24.56,
           24.17,
           24.03,
           23.43,
           23.59,
           23.41,
           23.09
          ],
          [
           23.64,
           23.16,
           23.54,
           23.94,
           24.44,
           24.6,
           25.23,
           25.74,
           26.65,
           26.85,
           27.93,
           28.62,
           31.23,
           32.21,
           31.38,
           31.33,
           30.91,
           31.93,
           31,
           29.62,
           27.52,
           26.82,
           25.75,
           25.66,
           25.19,
           24.76,
           24.4,
           24.09,
           23.59,
           23.62,
           23.16,
           23.19
          ],
          [
           23.26,
           23.62,
           24.02,
           23.95,
           24.3,
           25.15,
           25.73,
           26.13,
           27.81,
           28.03,
           28.62,
           29.18,
           31.86,
           32.26,
           31.65,
           31.41,
           32.02,
           32.09,
           31.28,
           29.91,
           28.33,
           27.69,
           26.5,
           26.03,
           25.39,
           25.05,
           24.34,
           24.08,
           23.82,
           23.73,
           23.03,
           22.86
          ],
          [
           23.41,
           23.56,
           23.71,
           24.1,
           24.22,
           24.64,
           26.49,
           27.75,
           29.49,
           29.65,
           29.78,
           30.63,
           32.47,
           32.15,
           31.24,
           30.92,
           31.36,
           31.35,
           30.72,
           30.54,
           29.71,
           29.55,
           27.96,
           27.03,
           25.63,
           25,
           24.3,
           24.12,
           23.96,
           23.48,
           23.55,
           23.23
          ],
          [
           23.35,
           23.39,
           23.78,
           23.98,
           24.56,
           24.83,
           26.78,
           27.92,
           29.49,
           29.77,
           30.35,
           30.68,
           31.39,
           31.85,
           31,
           30.72,
           30.97,
           30.64,
           30.6,
           29.91,
           29.79,
           29.69,
           28.23,
           27.1,
           25.39,
           25.06,
           24.49,
           24.48,
           23.76,
           23.59,
           23.26,
           23.25
          ],
          [
           23.71,
           23.4,
           23.81,
           24.09,
           24.49,
           24.63,
           26.88,
           28.34,
           29.19,
           29.13,
           29.63,
           29.85,
           30.03,
           29.81,
           29.47,
           29.6,
           30.19,
           30.39,
           29.63,
           29.48,
           29.46,
           29.33,
           28.74,
           27.51,
           25.29,
           24.75,
           24.29,
           24.24,
           23.62,
           23.32,
           23.32,
           23.03
          ],
          [
           23.48,
           23.67,
           23.75,
           23.96,
           24.22,
           25.05,
           27.69,
           28.33,
           29.02,
           29.29,
           29.74,
           29.59,
           29.9,
           30.1,
           29.75,
           29.84,
           30.46,
           30.27,
           29.81,
           29.22,
           29.02,
           29.13,
           28.73,
           27.69,
           25.16,
           24.81,
           24.47,
           24.35,
           23.85,
           23.56,
           23.19,
           23
          ],
          [
           23.68,
           23.47,
           23.54,
           24.06,
           24.57,
           25.65,
           28.44,
           29.05,
           28.63,
           28.87,
           28.08,
           28.46,
           29.47,
           29.27,
           30.14,
           30.3,
           30.54,
           30.58,
           29.93,
           29.69,
           28.89,
           28.76,
           28.73,
           28.17,
           25.39,
           24.96,
           24.14,
           24.33,
           24.05,
           23.83,
           22.98,
           23.31
          ],
          [
           23.75,
           23.58,
           24,
           24.05,
           25.03,
           25.96,
           28.86,
           28.97,
           28.87,
           28.5,
           28.19,
           28.03,
           28.49,
           29.6,
           30.28,
           30.26,
           30.68,
           30.75,
           30.32,
           29.71,
           28.85,
           28.94,
           28.84,
           27.88,
           25.26,
           24.79,
           24.31,
           23.91,
           23.83,
           23.77,
           23.35,
           22.77
          ],
          [
           23.56,
           23.58,
           23.88,
           24.37,
           25.52,
           27.43,
           28.98,
           28.98,
           28.63,
           28.82,
           28,
           28.15,
           29.05,
           28.82,
           28.98,
           29.65,
           30.14,
           30.75,
           30.04,
           29.66,
           29.17,
           28.8,
           28.41,
           27.3,
           24.78,
           24.45,
           24.19,
           24.14,
           23.77,
           23.46,
           22.86,
           23.02
          ],
          [
           23.47,
           23.7,
           23.93,
           23.95,
           25.49,
           27.07,
           29.54,
           28.92,
           29.08,
           28.52,
           28.61,
           28.36,
           28.75,
           29.19,
           29.39,
           28.74,
           30.05,
           29.81,
           30.02,
           29.71,
           29.22,
           29.01,
           28.43,
           27.21,
           24.86,
           24.75,
           24.24,
           23.98,
           23.52,
           23.7,
           23.23,
           23.56
          ],
          [
           24.65,
           24.08,
           23.75,
           24.03,
           24.6,
           25.36,
           27.04,
           26.96,
           26.81,
           27.12,
           28.89,
           29.15,
           29.37,
           29.39,
           28.54,
           29.02,
           29.16,
           29.12,
           29.72,
           29.41,
           29.53,
           29.42,
           28.79,
           27.74,
           25.48,
           24.86,
           23.79,
           23.99,
           23.65,
           23.41,
           23.35,
           23.19
          ],
          [
           25.44,
           24.75,
           24.24,
           23.72,
           24.15,
           24.28,
           24.88,
           25.01,
           25.52,
           26.59,
           28.96,
           29.12,
           29.66,
           29.45,
           29.26,
           28.41,
           28.57,
           29.27,
           29,
           29.7,
           29.62,
           29.69,
           28.49,
           27.33,
           24.81,
           24.55,
           23.97,
           23.8,
           23.53,
           23.35,
           23.55,
           23.32
          ],
          [
           24.75,
           24.32,
           23.43,
           23.54,
           23.9,
           23.77,
           23.7,
           23.73,
           24.44,
           25.06,
           29.01,
           29.06,
           29.7,
           29.33,
           28.72,
           29.09,
           29.14,
           28.79,
           29.51,
           29.09,
           29.4,
           28.72,
           27.79,
           25.71,
           24.36,
           24.23,
           23.8,
           23.7,
           23.63,
           23.18,
           22.59,
           22.72
          ],
          [
           23.88,
           23.34,
           23.44,
           23.85,
           23.82,
           23.71,
           23.46,
           23.8,
           24.14,
           24.65,
           28.42,
           29.06,
           29.59,
           29.29,
           29.08,
           28.85,
           28.72,
           29.16,
           28.95,
           28.99,
           27.68,
           27.74,
           25.56,
           25.45,
           24.01,
           24.01,
           23.66,
           23.35,
           23.14,
           23.09,
           23.03,
           22.33
          ],
          [
           23.32,
           23.31,
           23.32,
           23.49,
           23.85,
           23.36,
           23.2,
           23.34,
           23.9,
           24.29,
           27.35,
           28.82,
           29.17,
           29.35,
           28.82,
           28.9,
           29.11,
           28.88,
           28.69,
           28.11,
           25.47,
           24.81,
           24.22,
           24.19,
           23.9,
           23.89,
           23.25,
           23.44,
           23.59,
           23.28,
           21.93,
           20.39
          ],
          [
           22.9,
           23.65,
           23.51,
           23.3,
           23.56,
           23.79,
           23.51,
           23.58,
           23.96,
           24.23,
           27.36,
           28.69,
           28.92,
           28.99,
           28.78,
           28.67,
           29.1,
           28.83,
           28.39,
           27.34,
           24.76,
           24.48,
           23.82,
           24,
           23.78,
           23.97,
           23.6,
           23.78,
           23.36,
           23.19,
           20.49,
           21.71
          ]
         ]
        }
       ],
       "layout": {
        "coloraxis": {
         "colorscale": [
          [
           0,
           "#0d0887"
          ],
          [
           0.1111111111111111,
           "#46039f"
          ],
          [
           0.2222222222222222,
           "#7201a8"
          ],
          [
           0.3333333333333333,
           "#9c179e"
          ],
          [
           0.4444444444444444,
           "#bd3786"
          ],
          [
           0.5555555555555556,
           "#d8576b"
          ],
          [
           0.6666666666666666,
           "#ed7953"
          ],
          [
           0.7777777777777778,
           "#fb9f3a"
          ],
          [
           0.8888888888888888,
           "#fdca26"
          ],
          [
           1,
           "#f0f921"
          ]
         ]
        },
        "margin": {
         "t": 60
        },
        "template": {
         "data": {
          "bar": [
           {
            "error_x": {
             "color": "#2a3f5f"
            },
            "error_y": {
             "color": "#2a3f5f"
            },
            "marker": {
             "line": {
              "color": "#E5ECF6",
              "width": 0.5
             },
             "pattern": {
              "fillmode": "overlay",
              "size": 10,
              "solidity": 0.2
             }
            },
            "type": "bar"
           }
          ],
          "barpolar": [
           {
            "marker": {
             "line": {
              "color": "#E5ECF6",
              "width": 0.5
             },
             "pattern": {
              "fillmode": "overlay",
              "size": 10,
              "solidity": 0.2
             }
            },
            "type": "barpolar"
           }
          ],
          "carpet": [
           {
            "aaxis": {
             "endlinecolor": "#2a3f5f",
             "gridcolor": "white",
             "linecolor": "white",
             "minorgridcolor": "white",
             "startlinecolor": "#2a3f5f"
            },
            "baxis": {
             "endlinecolor": "#2a3f5f",
             "gridcolor": "white",
             "linecolor": "white",
             "minorgridcolor": "white",
             "startlinecolor": "#2a3f5f"
            },
            "type": "carpet"
           }
          ],
          "choropleth": [
           {
            "colorbar": {
             "outlinewidth": 0,
             "ticks": ""
            },
            "type": "choropleth"
           }
          ],
          "contour": [
           {
            "colorbar": {
             "outlinewidth": 0,
             "ticks": ""
            },
            "colorscale": [
             [
              0,
              "#0d0887"
             ],
             [
              0.1111111111111111,
              "#46039f"
             ],
             [
              0.2222222222222222,
              "#7201a8"
             ],
             [
              0.3333333333333333,
              "#9c179e"
             ],
             [
              0.4444444444444444,
              "#bd3786"
             ],
             [
              0.5555555555555556,
              "#d8576b"
             ],
             [
              0.6666666666666666,
              "#ed7953"
             ],
             [
              0.7777777777777778,
              "#fb9f3a"
             ],
             [
              0.8888888888888888,
              "#fdca26"
             ],
             [
              1,
              "#f0f921"
             ]
            ],
            "type": "contour"
           }
          ],
          "contourcarpet": [
           {
            "colorbar": {
             "outlinewidth": 0,
             "ticks": ""
            },
            "type": "contourcarpet"
           }
          ],
          "heatmap": [
           {
            "colorbar": {
             "outlinewidth": 0,
             "ticks": ""
            },
            "colorscale": [
             [
              0,
              "#0d0887"
             ],
             [
              0.1111111111111111,
              "#46039f"
             ],
             [
              0.2222222222222222,
              "#7201a8"
             ],
             [
              0.3333333333333333,
              "#9c179e"
             ],
             [
              0.4444444444444444,
              "#bd3786"
             ],
             [
              0.5555555555555556,
              "#d8576b"
             ],
             [
              0.6666666666666666,
              "#ed7953"
             ],
             [
              0.7777777777777778,
              "#fb9f3a"
             ],
             [
              0.8888888888888888,
              "#fdca26"
             ],
             [
              1,
              "#f0f921"
             ]
            ],
            "type": "heatmap"
           }
          ],
          "heatmapgl": [
           {
            "colorbar": {
             "outlinewidth": 0,
             "ticks": ""
            },
            "colorscale": [
             [
              0,
              "#0d0887"
             ],
             [
              0.1111111111111111,
              "#46039f"
             ],
             [
              0.2222222222222222,
              "#7201a8"
             ],
             [
              0.3333333333333333,
              "#9c179e"
             ],
             [
              0.4444444444444444,
              "#bd3786"
             ],
             [
              0.5555555555555556,
              "#d8576b"
             ],
             [
              0.6666666666666666,
              "#ed7953"
             ],
             [
              0.7777777777777778,
              "#fb9f3a"
             ],
             [
              0.8888888888888888,
              "#fdca26"
             ],
             [
              1,
              "#f0f921"
             ]
            ],
            "type": "heatmapgl"
           }
          ],
          "histogram": [
           {
            "marker": {
             "pattern": {
              "fillmode": "overlay",
              "size": 10,
              "solidity": 0.2
             }
            },
            "type": "histogram"
           }
          ],
          "histogram2d": [
           {
            "colorbar": {
             "outlinewidth": 0,
             "ticks": ""
            },
            "colorscale": [
             [
              0,
              "#0d0887"
             ],
             [
              0.1111111111111111,
              "#46039f"
             ],
             [
              0.2222222222222222,
              "#7201a8"
             ],
             [
              0.3333333333333333,
              "#9c179e"
             ],
             [
              0.4444444444444444,
              "#bd3786"
             ],
             [
              0.5555555555555556,
              "#d8576b"
             ],
             [
              0.6666666666666666,
              "#ed7953"
             ],
             [
              0.7777777777777778,
              "#fb9f3a"
             ],
             [
              0.8888888888888888,
              "#fdca26"
             ],
             [
              1,
              "#f0f921"
             ]
            ],
            "type": "histogram2d"
           }
          ],
          "histogram2dcontour": [
           {
            "colorbar": {
             "outlinewidth": 0,
             "ticks": ""
            },
            "colorscale": [
             [
              0,
              "#0d0887"
             ],
             [
              0.1111111111111111,
              "#46039f"
             ],
             [
              0.2222222222222222,
              "#7201a8"
             ],
             [
              0.3333333333333333,
              "#9c179e"
             ],
             [
              0.4444444444444444,
              "#bd3786"
             ],
             [
              0.5555555555555556,
              "#d8576b"
             ],
             [
              0.6666666666666666,
              "#ed7953"
             ],
             [
              0.7777777777777778,
              "#fb9f3a"
             ],
             [
              0.8888888888888888,
              "#fdca26"
             ],
             [
              1,
              "#f0f921"
             ]
            ],
            "type": "histogram2dcontour"
           }
          ],
          "mesh3d": [
           {
            "colorbar": {
             "outlinewidth": 0,
             "ticks": ""
            },
            "type": "mesh3d"
           }
          ],
          "parcoords": [
           {
            "line": {
             "colorbar": {
              "outlinewidth": 0,
              "ticks": ""
             }
            },
            "type": "parcoords"
           }
          ],
          "pie": [
           {
            "automargin": true,
            "type": "pie"
           }
          ],
          "scatter": [
           {
            "fillpattern": {
             "fillmode": "overlay",
             "size": 10,
             "solidity": 0.2
            },
            "type": "scatter"
           }
          ],
          "scatter3d": [
           {
            "line": {
             "colorbar": {
              "outlinewidth": 0,
              "ticks": ""
             }
            },
            "marker": {
             "colorbar": {
              "outlinewidth": 0,
              "ticks": ""
             }
            },
            "type": "scatter3d"
           }
          ],
          "scattercarpet": [
           {
            "marker": {
             "colorbar": {
              "outlinewidth": 0,
              "ticks": ""
             }
            },
            "type": "scattercarpet"
           }
          ],
          "scattergeo": [
           {
            "marker": {
             "colorbar": {
              "outlinewidth": 0,
              "ticks": ""
             }
            },
            "type": "scattergeo"
           }
          ],
          "scattergl": [
           {
            "marker": {
             "colorbar": {
              "outlinewidth": 0,
              "ticks": ""
             }
            },
            "type": "scattergl"
           }
          ],
          "scattermapbox": [
           {
            "marker": {
             "colorbar": {
              "outlinewidth": 0,
              "ticks": ""
             }
            },
            "type": "scattermapbox"
           }
          ],
          "scatterpolar": [
           {
            "marker": {
             "colorbar": {
              "outlinewidth": 0,
              "ticks": ""
             }
            },
            "type": "scatterpolar"
           }
          ],
          "scatterpolargl": [
           {
            "marker": {
             "colorbar": {
              "outlinewidth": 0,
              "ticks": ""
             }
            },
            "type": "scatterpolargl"
           }
          ],
          "scatterternary": [
           {
            "marker": {
             "colorbar": {
              "outlinewidth": 0,
              "ticks": ""
             }
            },
            "type": "scatterternary"
           }
          ],
          "surface": [
           {
            "colorbar": {
             "outlinewidth": 0,
             "ticks": ""
            },
            "colorscale": [
             [
              0,
              "#0d0887"
             ],
             [
              0.1111111111111111,
              "#46039f"
             ],
             [
              0.2222222222222222,
              "#7201a8"
             ],
             [
              0.3333333333333333,
              "#9c179e"
             ],
             [
              0.4444444444444444,
              "#bd3786"
             ],
             [
              0.5555555555555556,
              "#d8576b"
             ],
             [
              0.6666666666666666,
              "#ed7953"
             ],
             [
              0.7777777777777778,
              "#fb9f3a"
             ],
             [
              0.8888888888888888,
              "#fdca26"
             ],
             [
              1,
              "#f0f921"
             ]
            ],
            "type": "surface"
           }
          ],
          "table": [
           {
            "cells": {
             "fill": {
              "color": "#EBF0F8"
             },
             "line": {
              "color": "white"
             }
            },
            "header": {
             "fill": {
              "color": "#C8D4E3"
             },
             "line": {
              "color": "white"
             }
            },
            "type": "table"
           }
          ]
         },
         "layout": {
          "annotationdefaults": {
           "arrowcolor": "#2a3f5f",
           "arrowhead": 0,
           "arrowwidth": 1
          },
          "autotypenumbers": "strict",
          "coloraxis": {
           "colorbar": {
            "outlinewidth": 0,
            "ticks": ""
           }
          },
          "colorscale": {
           "diverging": [
            [
             0,
             "#8e0152"
            ],
            [
             0.1,
             "#c51b7d"
            ],
            [
             0.2,
             "#de77ae"
            ],
            [
             0.3,
             "#f1b6da"
            ],
            [
             0.4,
             "#fde0ef"
            ],
            [
             0.5,
             "#f7f7f7"
            ],
            [
             0.6,
             "#e6f5d0"
            ],
            [
             0.7,
             "#b8e186"
            ],
            [
             0.8,
             "#7fbc41"
            ],
            [
             0.9,
             "#4d9221"
            ],
            [
             1,
             "#276419"
            ]
           ],
           "sequential": [
            [
             0,
             "#0d0887"
            ],
            [
             0.1111111111111111,
             "#46039f"
            ],
            [
             0.2222222222222222,
             "#7201a8"
            ],
            [
             0.3333333333333333,
             "#9c179e"
            ],
            [
             0.4444444444444444,
             "#bd3786"
            ],
            [
             0.5555555555555556,
             "#d8576b"
            ],
            [
             0.6666666666666666,
             "#ed7953"
            ],
            [
             0.7777777777777778,
             "#fb9f3a"
            ],
            [
             0.8888888888888888,
             "#fdca26"
            ],
            [
             1,
             "#f0f921"
            ]
           ],
           "sequentialminus": [
            [
             0,
             "#0d0887"
            ],
            [
             0.1111111111111111,
             "#46039f"
            ],
            [
             0.2222222222222222,
             "#7201a8"
            ],
            [
             0.3333333333333333,
             "#9c179e"
            ],
            [
             0.4444444444444444,
             "#bd3786"
            ],
            [
             0.5555555555555556,
             "#d8576b"
            ],
            [
             0.6666666666666666,
             "#ed7953"
            ],
            [
             0.7777777777777778,
             "#fb9f3a"
            ],
            [
             0.8888888888888888,
             "#fdca26"
            ],
            [
             1,
             "#f0f921"
            ]
           ]
          },
          "colorway": [
           "#636efa",
           "#EF553B",
           "#00cc96",
           "#ab63fa",
           "#FFA15A",
           "#19d3f3",
           "#FF6692",
           "#B6E880",
           "#FF97FF",
           "#FECB52"
          ],
          "font": {
           "color": "#2a3f5f"
          },
          "geo": {
           "bgcolor": "white",
           "lakecolor": "white",
           "landcolor": "#E5ECF6",
           "showlakes": true,
           "showland": true,
           "subunitcolor": "white"
          },
          "hoverlabel": {
           "align": "left"
          },
          "hovermode": "closest",
          "mapbox": {
           "style": "light"
          },
          "paper_bgcolor": "white",
          "plot_bgcolor": "#E5ECF6",
          "polar": {
           "angularaxis": {
            "gridcolor": "white",
            "linecolor": "white",
            "ticks": ""
           },
           "bgcolor": "#E5ECF6",
           "radialaxis": {
            "gridcolor": "white",
            "linecolor": "white",
            "ticks": ""
           }
          },
          "scene": {
           "xaxis": {
            "backgroundcolor": "#E5ECF6",
            "gridcolor": "white",
            "gridwidth": 2,
            "linecolor": "white",
            "showbackground": true,
            "ticks": "",
            "zerolinecolor": "white"
           },
           "yaxis": {
            "backgroundcolor": "#E5ECF6",
            "gridcolor": "white",
            "gridwidth": 2,
            "linecolor": "white",
            "showbackground": true,
            "ticks": "",
            "zerolinecolor": "white"
           },
           "zaxis": {
            "backgroundcolor": "#E5ECF6",
            "gridcolor": "white",
            "gridwidth": 2,
            "linecolor": "white",
            "showbackground": true,
            "ticks": "",
            "zerolinecolor": "white"
           }
          },
          "shapedefaults": {
           "line": {
            "color": "#2a3f5f"
           }
          },
          "ternary": {
           "aaxis": {
            "gridcolor": "white",
            "linecolor": "white",
            "ticks": ""
           },
           "baxis": {
            "gridcolor": "white",
            "linecolor": "white",
            "ticks": ""
           },
           "bgcolor": "#E5ECF6",
           "caxis": {
            "gridcolor": "white",
            "linecolor": "white",
            "ticks": ""
           }
          },
          "title": {
           "x": 0.05
          },
          "xaxis": {
           "automargin": true,
           "gridcolor": "white",
           "linecolor": "white",
           "ticks": "",
           "title": {
            "standoff": 15
           },
           "zerolinecolor": "white",
           "zerolinewidth": 2
          },
          "yaxis": {
           "automargin": true,
           "gridcolor": "white",
           "linecolor": "white",
           "ticks": "",
           "title": {
            "standoff": 15
           },
           "zerolinecolor": "white",
           "zerolinewidth": 2
          }
         }
        },
        "title": {
         "text": "Predicted: right, Actual: back"
        },
        "xaxis": {
         "anchor": "y",
         "constrain": "domain",
         "domain": [
          0,
          1
         ],
         "scaleanchor": "y"
        },
        "yaxis": {
         "anchor": "x",
         "autorange": "reversed",
         "constrain": "domain",
         "domain": [
          0,
          1
         ]
        }
       }
      }
     },
     "metadata": {},
     "output_type": "display_data"
    },
    {
     "data": {
      "application/vnd.plotly.v1+json": {
       "config": {
        "plotlyServerURL": "https://plot.ly"
       },
       "data": [
        {
         "coloraxis": "coloraxis",
         "hovertemplate": "x: %{x}<br>y: %{y}<br>color: %{z}<extra></extra>",
         "name": "0",
         "type": "heatmap",
         "xaxis": "x",
         "yaxis": "y",
         "z": [
          [
           24.87,
           25.18,
           24.4,
           25.02,
           25.56,
           25.49,
           25.08,
           25.65,
           26.15,
           26.4,
           26.43,
           26.81,
           27.43,
           27.81,
           27.33,
           27.55,
           27.68,
           27.7,
           27.2,
           27.18,
           26.9,
           26.8,
           25.63,
           25.74,
           25.37,
           25.24,
           24.27,
           24.69,
           24.84,
           24.68,
           22.86,
           23.16
          ],
          [
           24.33,
           24.54,
           24.86,
           24.66,
           25.64,
           25.42,
           25.85,
           25.64,
           26.49,
           26.46,
           26.82,
           26.88,
           27.69,
           27.72,
           27.67,
           27.59,
           28.14,
           28.07,
           27.67,
           27.83,
           27.42,
           26.84,
           26.21,
           25.55,
           25.59,
           25.31,
           24.84,
           24.28,
           24.95,
           24.3,
           23.95,
           22.82
          ],
          [
           25.13,
           24.45,
           24.49,
           25.04,
           25.85,
           25.79,
           25.82,
           26.07,
           26.65,
           26.93,
           26.75,
           27.18,
           27.42,
           27.54,
           27.76,
           28.15,
           28.49,
           28.62,
           28.28,
           28.18,
           27.98,
           27.53,
           26.3,
           26.13,
           25.58,
           25.44,
           24.57,
           24.35,
           24.37,
           24.24,
           23.83,
           23.87
          ],
          [
           24.73,
           24.63,
           24.8,
           24.91,
           25.83,
           25.77,
           26.28,
           26.22,
           26.97,
           26.77,
           27.13,
           27.06,
           27.47,
           27.6,
           28.19,
           28.63,
           29.23,
           28.66,
           28.3,
           28.46,
           29,
           28.04,
           26.83,
           26.13,
           25.81,
           25.16,
           25.11,
           24.07,
           24.7,
           24.58,
           24.14,
           23.72
          ],
          [
           24.78,
           24.86,
           24.61,
           25.1,
           25.83,
           26.3,
           26.56,
           26.77,
           26.96,
           27.08,
           27.02,
           27.41,
           27.83,
           28.03,
           28.41,
           29.17,
           29.29,
           29.2,
           29.22,
           29.2,
           29.38,
           29.22,
           26.62,
           26.35,
           25.48,
           25.57,
           24.83,
           24.62,
           24.21,
           24.43,
           23.69,
           23.85
          ],
          [
           24.77,
           24.66,
           25.03,
           24.96,
           26.22,
           26.52,
           26.97,
           26.77,
           27.26,
           26.94,
           27.57,
           27.31,
           27.79,
           27.99,
           28.8,
           28.46,
           29.51,
           29.14,
           29.5,
           29.54,
           30.2,
           28.95,
           27.22,
           26.45,
           25.57,
           25.54,
           24.93,
           24.61,
           24.48,
           24.22,
           23.97,
           23.31
          ],
          [
           24.68,
           24.7,
           24.81,
           25.68,
           26.74,
           27.36,
           27.51,
           27.91,
           27.83,
           27.83,
           27.63,
           27.7,
           27.82,
           27.73,
           28,
           28.68,
           28.82,
           28.73,
           28.38,
           28.64,
           28.99,
           28.92,
           27.31,
           26.85,
           25.71,
           25.47,
           24.74,
           24.76,
           24.34,
           24.44,
           23.83,
           23.9
          ],
          [
           24.83,
           24.84,
           25.33,
           25.14,
           27.07,
           27.33,
           28.22,
           28.32,
           28.29,
           28.29,
           27.96,
           27.88,
           28.14,
           27.88,
           28.48,
           28.22,
           28.49,
           28.34,
           28.21,
           28.35,
           29.12,
           28.87,
           27.55,
           26.84,
           25.79,
           25.44,
           24.83,
           24.63,
           24.43,
           24.38,
           24.09,
           23.85
          ],
          [
           24.91,
           24.77,
           24.95,
           25.49,
           26.16,
           27.13,
           28.46,
           29.13,
           29.5,
           29.75,
           29.27,
           29.23,
           29.84,
           29.81,
           28.59,
           28.05,
           28.84,
           28.33,
           28.96,
           29.12,
           29.02,
           28.57,
           27.22,
           26.9,
           25.58,
           25.56,
           24.72,
           24.74,
           24.46,
           24.37,
           23.52,
           23.71
          ],
          [
           24.71,
           24.75,
           25.03,
           25.24,
           26.36,
           26.87,
           28.71,
           29.22,
           30.31,
           30.27,
           30.72,
           30.44,
           30.81,
           30.28,
           28.69,
           29.64,
           29.13,
           30.11,
           30.03,
           29.63,
           29.07,
           28.26,
           27.55,
           26.68,
           25.99,
           25.41,
           25.17,
           24.59,
           24.57,
           24.32,
           24.11,
           23.85
          ],
          [
           24.56,
           25.04,
           24.86,
           25.54,
           25.82,
           26.36,
           27.61,
           28.78,
           30.12,
           30.66,
           30.62,
           31.03,
           31.45,
           30.6,
           32.32,
           32.36,
           33.08,
           33.01,
           31.27,
           30.67,
           29.08,
           28.55,
           27.03,
           26.9,
           25.93,
           25.38,
           24.9,
           24.93,
           24.47,
           24.38,
           24.14,
           23.96
          ],
          [
           24.66,
           24.7,
           25.2,
           25.28,
           26.13,
           26.21,
           27.46,
           28.28,
           30.09,
           30.09,
           30.38,
           30.28,
           31.4,
           32.81,
           33.47,
           33.62,
           33.92,
           33.32,
           32.1,
           30.83,
           29.65,
           29.08,
           28.13,
           26.89,
           26.01,
           25.57,
           25.21,
           24.63,
           24.83,
           24.48,
           24.19,
           23.75
          ],
          [
           24.86,
           24.73,
           24.67,
           25.28,
           25.85,
           26.23,
           27.82,
           28.68,
           30.1,
           30.13,
           29.4,
           29.58,
           30.66,
           31.31,
           32.49,
           32.4,
           31.98,
           31.9,
           31.59,
           31.57,
           31.22,
           30.8,
           28.95,
           27.88,
           25.93,
           25.78,
           24.89,
           24.68,
           24.53,
           24.22,
           23.86,
           23.76
          ],
          [
           24.8,
           24.67,
           25.16,
           25.38,
           26.04,
           26.77,
           27.98,
           29.08,
           30.27,
           29.85,
           29.81,
           29.59,
           29.72,
           30.73,
           31.59,
           30.99,
           31.16,
           31.17,
           30.3,
           30.25,
           29.95,
           30.08,
           28.42,
           27.27,
           25.99,
           25.62,
           25.17,
           24.78,
           24.62,
           24.29,
           24.26,
           23.65
          ],
          [
           24.97,
           24.94,
           24.94,
           25.35,
           26.87,
           27.23,
           28.95,
           29.69,
           30.01,
           30.05,
           29.86,
           30.22,
           30.4,
           30.52,
           29.97,
           30.18,
           30.75,
           30.76,
           28.66,
           28.04,
           27.97,
           27.97,
           27.11,
           26.64,
           25.87,
           25.75,
           24.82,
           24.87,
           24.38,
           24.39,
           23.69,
           24.18
          ],
          [
           24.87,
           24.7,
           25.13,
           25.71,
           26.96,
           28.13,
           29.03,
           29.6,
           29.91,
           30.07,
           30.2,
           29.9,
           30.41,
           30.54,
           30.29,
           29.8,
           30.33,
           30.01,
           28.44,
           27.86,
           27.75,
           27.77,
           27.55,
           27.04,
           26.04,
           25.68,
           24.98,
           24.66,
           24.57,
           24.43,
           23.91,
           23.73
          ],
          [
           24.8,
           24.87,
           24.85,
           25.22,
           26.71,
           27.32,
           29.42,
           29.87,
           30.27,
           30.34,
           30.05,
           30.08,
           29.91,
           30.12,
           29.64,
           29.94,
           29.65,
           29.13,
           27.69,
           27.68,
           27.08,
           27.28,
           27.27,
           26.92,
           25.65,
           25.43,
           24.42,
           24.74,
           24.43,
           24.28,
           23.5,
           23.83
          ],
          [
           24.88,
           24.96,
           25.16,
           25.17,
           26.54,
           27.16,
           28.86,
           29.68,
           30.69,
           30.47,
           30.33,
           30.22,
           30.29,
           30.05,
           29.99,
           29.99,
           29.65,
           28.96,
           27.46,
           27.02,
           26.73,
           26.44,
           26.67,
           26.25,
           25.45,
           25.23,
           24.84,
           24.54,
           24.33,
           24.3,
           24.07,
           23.7
          ],
          [
           24.62,
           25.3,
           24.77,
           25.11,
           26.27,
           26.38,
           28.51,
           29.56,
           30.43,
           30.69,
           30.44,
           30.59,
           30.53,
           30.35,
           29.94,
           30.39,
           29.41,
           28.65,
           26.89,
           26.78,
           25.99,
           25.96,
           25.67,
           25.94,
           25.29,
           25.14,
           24.15,
           24.33,
           24.37,
           23.96,
           23.48,
           23.91
          ],
          [
           25.05,
           25.07,
           25.26,
           25.03,
           25.81,
           26.33,
           27.88,
           28.8,
           30.25,
           30.44,
           30.47,
           30.27,
           30.67,
           30.42,
           30.42,
           30.55,
           29.61,
           28.26,
           26.84,
           26.34,
           25.91,
           25.78,
           25.45,
           25.29,
           25.18,
           24.89,
           24.44,
           23.77,
           24.08,
           24.34,
           23.88,
           23.67
          ],
          [
           24.54,
           25.13,
           24.83,
           25,
           25.22,
           25.69,
           26.54,
           27.27,
           29.08,
           29.49,
           29.54,
           29.91,
           30.08,
           30.19,
           30.45,
           30.8,
           28.92,
           28.2,
           26.5,
           26.37,
           25.85,
           25.68,
           25.31,
           25.37,
           25.02,
           24.89,
           24.17,
           24.21,
           24.22,
           24.14,
           23.72,
           24.33
          ],
          [
           24.8,
           24.8,
           25.02,
           24.92,
           25.58,
           25.9,
           25.92,
           26.62,
           28.74,
           28.83,
           29.1,
           29.44,
           29.8,
           29.82,
           30.37,
           30.47,
           29.14,
           27.98,
           26.75,
           26.11,
           25.89,
           25.21,
           25.32,
           25.02,
           25.35,
           24.61,
           24.48,
           23.93,
           24.28,
           23.95,
           24.16,
           23.39
          ],
          [
           24.26,
           24.57,
           24.45,
           25.4,
           25.4,
           25.74,
           25.4,
           26.11,
           27.81,
           28.55,
           28.4,
           28.95,
           29.32,
           29.53,
           29.72,
           29.8,
           28.48,
           28.01,
           26.22,
           26.19,
           25.69,
           25.54,
           25.01,
           25.14,
           24.7,
           24.7,
           23.59,
           24.29,
           24.18,
           24.11,
           22.82,
           23.44
          ],
          [
           24.75,
           24.35,
           24.85,
           24.78,
           25.47,
           25.16,
           25.57,
           25.76,
           27.64,
           28.29,
           29.01,
           29,
           29.6,
           29.57,
           29.52,
           28.93,
           28.6,
           27.88,
           26.49,
           26,
           25.71,
           25.14,
           25.16,
           24.73,
           24.71,
           24.38,
           24.09,
           23.98,
           24.15,
           23.96,
           23.46,
           21.85
          ]
         ]
        }
       ],
       "layout": {
        "coloraxis": {
         "colorscale": [
          [
           0,
           "#0d0887"
          ],
          [
           0.1111111111111111,
           "#46039f"
          ],
          [
           0.2222222222222222,
           "#7201a8"
          ],
          [
           0.3333333333333333,
           "#9c179e"
          ],
          [
           0.4444444444444444,
           "#bd3786"
          ],
          [
           0.5555555555555556,
           "#d8576b"
          ],
          [
           0.6666666666666666,
           "#ed7953"
          ],
          [
           0.7777777777777778,
           "#fb9f3a"
          ],
          [
           0.8888888888888888,
           "#fdca26"
          ],
          [
           1,
           "#f0f921"
          ]
         ]
        },
        "margin": {
         "t": 60
        },
        "template": {
         "data": {
          "bar": [
           {
            "error_x": {
             "color": "#2a3f5f"
            },
            "error_y": {
             "color": "#2a3f5f"
            },
            "marker": {
             "line": {
              "color": "#E5ECF6",
              "width": 0.5
             },
             "pattern": {
              "fillmode": "overlay",
              "size": 10,
              "solidity": 0.2
             }
            },
            "type": "bar"
           }
          ],
          "barpolar": [
           {
            "marker": {
             "line": {
              "color": "#E5ECF6",
              "width": 0.5
             },
             "pattern": {
              "fillmode": "overlay",
              "size": 10,
              "solidity": 0.2
             }
            },
            "type": "barpolar"
           }
          ],
          "carpet": [
           {
            "aaxis": {
             "endlinecolor": "#2a3f5f",
             "gridcolor": "white",
             "linecolor": "white",
             "minorgridcolor": "white",
             "startlinecolor": "#2a3f5f"
            },
            "baxis": {
             "endlinecolor": "#2a3f5f",
             "gridcolor": "white",
             "linecolor": "white",
             "minorgridcolor": "white",
             "startlinecolor": "#2a3f5f"
            },
            "type": "carpet"
           }
          ],
          "choropleth": [
           {
            "colorbar": {
             "outlinewidth": 0,
             "ticks": ""
            },
            "type": "choropleth"
           }
          ],
          "contour": [
           {
            "colorbar": {
             "outlinewidth": 0,
             "ticks": ""
            },
            "colorscale": [
             [
              0,
              "#0d0887"
             ],
             [
              0.1111111111111111,
              "#46039f"
             ],
             [
              0.2222222222222222,
              "#7201a8"
             ],
             [
              0.3333333333333333,
              "#9c179e"
             ],
             [
              0.4444444444444444,
              "#bd3786"
             ],
             [
              0.5555555555555556,
              "#d8576b"
             ],
             [
              0.6666666666666666,
              "#ed7953"
             ],
             [
              0.7777777777777778,
              "#fb9f3a"
             ],
             [
              0.8888888888888888,
              "#fdca26"
             ],
             [
              1,
              "#f0f921"
             ]
            ],
            "type": "contour"
           }
          ],
          "contourcarpet": [
           {
            "colorbar": {
             "outlinewidth": 0,
             "ticks": ""
            },
            "type": "contourcarpet"
           }
          ],
          "heatmap": [
           {
            "colorbar": {
             "outlinewidth": 0,
             "ticks": ""
            },
            "colorscale": [
             [
              0,
              "#0d0887"
             ],
             [
              0.1111111111111111,
              "#46039f"
             ],
             [
              0.2222222222222222,
              "#7201a8"
             ],
             [
              0.3333333333333333,
              "#9c179e"
             ],
             [
              0.4444444444444444,
              "#bd3786"
             ],
             [
              0.5555555555555556,
              "#d8576b"
             ],
             [
              0.6666666666666666,
              "#ed7953"
             ],
             [
              0.7777777777777778,
              "#fb9f3a"
             ],
             [
              0.8888888888888888,
              "#fdca26"
             ],
             [
              1,
              "#f0f921"
             ]
            ],
            "type": "heatmap"
           }
          ],
          "heatmapgl": [
           {
            "colorbar": {
             "outlinewidth": 0,
             "ticks": ""
            },
            "colorscale": [
             [
              0,
              "#0d0887"
             ],
             [
              0.1111111111111111,
              "#46039f"
             ],
             [
              0.2222222222222222,
              "#7201a8"
             ],
             [
              0.3333333333333333,
              "#9c179e"
             ],
             [
              0.4444444444444444,
              "#bd3786"
             ],
             [
              0.5555555555555556,
              "#d8576b"
             ],
             [
              0.6666666666666666,
              "#ed7953"
             ],
             [
              0.7777777777777778,
              "#fb9f3a"
             ],
             [
              0.8888888888888888,
              "#fdca26"
             ],
             [
              1,
              "#f0f921"
             ]
            ],
            "type": "heatmapgl"
           }
          ],
          "histogram": [
           {
            "marker": {
             "pattern": {
              "fillmode": "overlay",
              "size": 10,
              "solidity": 0.2
             }
            },
            "type": "histogram"
           }
          ],
          "histogram2d": [
           {
            "colorbar": {
             "outlinewidth": 0,
             "ticks": ""
            },
            "colorscale": [
             [
              0,
              "#0d0887"
             ],
             [
              0.1111111111111111,
              "#46039f"
             ],
             [
              0.2222222222222222,
              "#7201a8"
             ],
             [
              0.3333333333333333,
              "#9c179e"
             ],
             [
              0.4444444444444444,
              "#bd3786"
             ],
             [
              0.5555555555555556,
              "#d8576b"
             ],
             [
              0.6666666666666666,
              "#ed7953"
             ],
             [
              0.7777777777777778,
              "#fb9f3a"
             ],
             [
              0.8888888888888888,
              "#fdca26"
             ],
             [
              1,
              "#f0f921"
             ]
            ],
            "type": "histogram2d"
           }
          ],
          "histogram2dcontour": [
           {
            "colorbar": {
             "outlinewidth": 0,
             "ticks": ""
            },
            "colorscale": [
             [
              0,
              "#0d0887"
             ],
             [
              0.1111111111111111,
              "#46039f"
             ],
             [
              0.2222222222222222,
              "#7201a8"
             ],
             [
              0.3333333333333333,
              "#9c179e"
             ],
             [
              0.4444444444444444,
              "#bd3786"
             ],
             [
              0.5555555555555556,
              "#d8576b"
             ],
             [
              0.6666666666666666,
              "#ed7953"
             ],
             [
              0.7777777777777778,
              "#fb9f3a"
             ],
             [
              0.8888888888888888,
              "#fdca26"
             ],
             [
              1,
              "#f0f921"
             ]
            ],
            "type": "histogram2dcontour"
           }
          ],
          "mesh3d": [
           {
            "colorbar": {
             "outlinewidth": 0,
             "ticks": ""
            },
            "type": "mesh3d"
           }
          ],
          "parcoords": [
           {
            "line": {
             "colorbar": {
              "outlinewidth": 0,
              "ticks": ""
             }
            },
            "type": "parcoords"
           }
          ],
          "pie": [
           {
            "automargin": true,
            "type": "pie"
           }
          ],
          "scatter": [
           {
            "fillpattern": {
             "fillmode": "overlay",
             "size": 10,
             "solidity": 0.2
            },
            "type": "scatter"
           }
          ],
          "scatter3d": [
           {
            "line": {
             "colorbar": {
              "outlinewidth": 0,
              "ticks": ""
             }
            },
            "marker": {
             "colorbar": {
              "outlinewidth": 0,
              "ticks": ""
             }
            },
            "type": "scatter3d"
           }
          ],
          "scattercarpet": [
           {
            "marker": {
             "colorbar": {
              "outlinewidth": 0,
              "ticks": ""
             }
            },
            "type": "scattercarpet"
           }
          ],
          "scattergeo": [
           {
            "marker": {
             "colorbar": {
              "outlinewidth": 0,
              "ticks": ""
             }
            },
            "type": "scattergeo"
           }
          ],
          "scattergl": [
           {
            "marker": {
             "colorbar": {
              "outlinewidth": 0,
              "ticks": ""
             }
            },
            "type": "scattergl"
           }
          ],
          "scattermapbox": [
           {
            "marker": {
             "colorbar": {
              "outlinewidth": 0,
              "ticks": ""
             }
            },
            "type": "scattermapbox"
           }
          ],
          "scatterpolar": [
           {
            "marker": {
             "colorbar": {
              "outlinewidth": 0,
              "ticks": ""
             }
            },
            "type": "scatterpolar"
           }
          ],
          "scatterpolargl": [
           {
            "marker": {
             "colorbar": {
              "outlinewidth": 0,
              "ticks": ""
             }
            },
            "type": "scatterpolargl"
           }
          ],
          "scatterternary": [
           {
            "marker": {
             "colorbar": {
              "outlinewidth": 0,
              "ticks": ""
             }
            },
            "type": "scatterternary"
           }
          ],
          "surface": [
           {
            "colorbar": {
             "outlinewidth": 0,
             "ticks": ""
            },
            "colorscale": [
             [
              0,
              "#0d0887"
             ],
             [
              0.1111111111111111,
              "#46039f"
             ],
             [
              0.2222222222222222,
              "#7201a8"
             ],
             [
              0.3333333333333333,
              "#9c179e"
             ],
             [
              0.4444444444444444,
              "#bd3786"
             ],
             [
              0.5555555555555556,
              "#d8576b"
             ],
             [
              0.6666666666666666,
              "#ed7953"
             ],
             [
              0.7777777777777778,
              "#fb9f3a"
             ],
             [
              0.8888888888888888,
              "#fdca26"
             ],
             [
              1,
              "#f0f921"
             ]
            ],
            "type": "surface"
           }
          ],
          "table": [
           {
            "cells": {
             "fill": {
              "color": "#EBF0F8"
             },
             "line": {
              "color": "white"
             }
            },
            "header": {
             "fill": {
              "color": "#C8D4E3"
             },
             "line": {
              "color": "white"
             }
            },
            "type": "table"
           }
          ]
         },
         "layout": {
          "annotationdefaults": {
           "arrowcolor": "#2a3f5f",
           "arrowhead": 0,
           "arrowwidth": 1
          },
          "autotypenumbers": "strict",
          "coloraxis": {
           "colorbar": {
            "outlinewidth": 0,
            "ticks": ""
           }
          },
          "colorscale": {
           "diverging": [
            [
             0,
             "#8e0152"
            ],
            [
             0.1,
             "#c51b7d"
            ],
            [
             0.2,
             "#de77ae"
            ],
            [
             0.3,
             "#f1b6da"
            ],
            [
             0.4,
             "#fde0ef"
            ],
            [
             0.5,
             "#f7f7f7"
            ],
            [
             0.6,
             "#e6f5d0"
            ],
            [
             0.7,
             "#b8e186"
            ],
            [
             0.8,
             "#7fbc41"
            ],
            [
             0.9,
             "#4d9221"
            ],
            [
             1,
             "#276419"
            ]
           ],
           "sequential": [
            [
             0,
             "#0d0887"
            ],
            [
             0.1111111111111111,
             "#46039f"
            ],
            [
             0.2222222222222222,
             "#7201a8"
            ],
            [
             0.3333333333333333,
             "#9c179e"
            ],
            [
             0.4444444444444444,
             "#bd3786"
            ],
            [
             0.5555555555555556,
             "#d8576b"
            ],
            [
             0.6666666666666666,
             "#ed7953"
            ],
            [
             0.7777777777777778,
             "#fb9f3a"
            ],
            [
             0.8888888888888888,
             "#fdca26"
            ],
            [
             1,
             "#f0f921"
            ]
           ],
           "sequentialminus": [
            [
             0,
             "#0d0887"
            ],
            [
             0.1111111111111111,
             "#46039f"
            ],
            [
             0.2222222222222222,
             "#7201a8"
            ],
            [
             0.3333333333333333,
             "#9c179e"
            ],
            [
             0.4444444444444444,
             "#bd3786"
            ],
            [
             0.5555555555555556,
             "#d8576b"
            ],
            [
             0.6666666666666666,
             "#ed7953"
            ],
            [
             0.7777777777777778,
             "#fb9f3a"
            ],
            [
             0.8888888888888888,
             "#fdca26"
            ],
            [
             1,
             "#f0f921"
            ]
           ]
          },
          "colorway": [
           "#636efa",
           "#EF553B",
           "#00cc96",
           "#ab63fa",
           "#FFA15A",
           "#19d3f3",
           "#FF6692",
           "#B6E880",
           "#FF97FF",
           "#FECB52"
          ],
          "font": {
           "color": "#2a3f5f"
          },
          "geo": {
           "bgcolor": "white",
           "lakecolor": "white",
           "landcolor": "#E5ECF6",
           "showlakes": true,
           "showland": true,
           "subunitcolor": "white"
          },
          "hoverlabel": {
           "align": "left"
          },
          "hovermode": "closest",
          "mapbox": {
           "style": "light"
          },
          "paper_bgcolor": "white",
          "plot_bgcolor": "#E5ECF6",
          "polar": {
           "angularaxis": {
            "gridcolor": "white",
            "linecolor": "white",
            "ticks": ""
           },
           "bgcolor": "#E5ECF6",
           "radialaxis": {
            "gridcolor": "white",
            "linecolor": "white",
            "ticks": ""
           }
          },
          "scene": {
           "xaxis": {
            "backgroundcolor": "#E5ECF6",
            "gridcolor": "white",
            "gridwidth": 2,
            "linecolor": "white",
            "showbackground": true,
            "ticks": "",
            "zerolinecolor": "white"
           },
           "yaxis": {
            "backgroundcolor": "#E5ECF6",
            "gridcolor": "white",
            "gridwidth": 2,
            "linecolor": "white",
            "showbackground": true,
            "ticks": "",
            "zerolinecolor": "white"
           },
           "zaxis": {
            "backgroundcolor": "#E5ECF6",
            "gridcolor": "white",
            "gridwidth": 2,
            "linecolor": "white",
            "showbackground": true,
            "ticks": "",
            "zerolinecolor": "white"
           }
          },
          "shapedefaults": {
           "line": {
            "color": "#2a3f5f"
           }
          },
          "ternary": {
           "aaxis": {
            "gridcolor": "white",
            "linecolor": "white",
            "ticks": ""
           },
           "baxis": {
            "gridcolor": "white",
            "linecolor": "white",
            "ticks": ""
           },
           "bgcolor": "#E5ECF6",
           "caxis": {
            "gridcolor": "white",
            "linecolor": "white",
            "ticks": ""
           }
          },
          "title": {
           "x": 0.05
          },
          "xaxis": {
           "automargin": true,
           "gridcolor": "white",
           "linecolor": "white",
           "ticks": "",
           "title": {
            "standoff": 15
           },
           "zerolinecolor": "white",
           "zerolinewidth": 2
          },
          "yaxis": {
           "automargin": true,
           "gridcolor": "white",
           "linecolor": "white",
           "ticks": "",
           "title": {
            "standoff": 15
           },
           "zerolinecolor": "white",
           "zerolinewidth": 2
          }
         }
        },
        "title": {
         "text": "Predicted: back, Actual: right"
        },
        "xaxis": {
         "anchor": "y",
         "constrain": "domain",
         "domain": [
          0,
          1
         ],
         "scaleanchor": "y"
        },
        "yaxis": {
         "anchor": "x",
         "autorange": "reversed",
         "constrain": "domain",
         "domain": [
          0,
          1
         ]
        }
       }
      }
     },
     "metadata": {},
     "output_type": "display_data"
    },
    {
     "data": {
      "application/vnd.plotly.v1+json": {
       "config": {
        "plotlyServerURL": "https://plot.ly"
       },
       "data": [
        {
         "coloraxis": "coloraxis",
         "hovertemplate": "x: %{x}<br>y: %{y}<br>color: %{z}<extra></extra>",
         "name": "0",
         "type": "heatmap",
         "xaxis": "x",
         "yaxis": "y",
         "z": [
          [
           24.27,
           23.71,
           24.39,
           24.1,
           24.93,
           24.7,
           25.4,
           25.67,
           26.94,
           27.48,
           30.32,
           31.4,
           32.78,
           33.02,
           32.73,
           32.51,
           32.54,
           31.81,
           28.08,
           26.67,
           25.51,
           25.03,
           24.64,
           24.19,
           23.94,
           23.82,
           23.84,
           23.94,
           23.75,
           23.4,
           22.6,
           20.87
          ],
          [
           24.13,
           24.27,
           24.49,
           24.59,
           24.55,
           24.93,
           25.87,
           25.9,
           27.65,
           28.71,
           31.62,
           32.35,
           32.54,
           33.11,
           32.9,
           32.74,
           32.87,
           32.6,
           28.85,
           27.52,
           25.69,
           25.33,
           24.71,
           24.43,
           24.35,
           23.88,
           23.58,
           23.69,
           23.7,
           23.62,
           22.96,
           22.62
          ],
          [
           24.03,
           24.3,
           24.2,
           24.42,
           25.32,
           24.83,
           26.37,
           27.11,
           29.51,
           30.35,
           32.3,
           31.88,
           31.86,
           32.69,
           32.46,
           31.85,
           32.61,
           32.42,
           30.07,
           28.44,
           25.92,
           25.35,
           24.79,
           24.38,
           24.32,
           23.91,
           23.75,
           23.56,
           23.62,
           23.16,
           23.86,
           22.83
          ],
          [
           23.84,
           24.08,
           24.51,
           24.58,
           25.02,
           25.2,
           26.56,
           27.8,
           29.75,
           30.67,
           32.12,
           31.74,
           31.69,
           32.61,
           32.19,
           32.3,
           32.33,
           32.14,
           30.45,
           28.68,
           26,
           25.65,
           24.76,
           24.51,
           24.03,
           23.89,
           23.86,
           23.72,
           23.62,
           23.48,
           23.08,
           23.14
          ],
          [
           24.39,
           24.12,
           24.39,
           24.57,
           25.25,
           25.45,
           27.2,
           27.97,
           29.57,
           30.4,
           32.46,
           32.28,
           32.21,
           32.37,
           32.31,
           32.38,
           31.99,
           31.61,
           30.31,
           28.65,
           26.17,
           25.33,
           24.69,
           24.65,
           24.34,
           23.93,
           23.71,
           23.65,
           23.74,
           23.17,
           23.15,
           23.36
          ],
          [
           24.04,
           23.89,
           24.52,
           24.57,
           25.25,
           25.53,
           26.91,
           28.03,
           29.27,
           30.09,
           31.91,
           32.74,
           32.45,
           32.52,
           32.25,
           32.36,
           31.96,
           31.68,
           30.38,
           28.88,
           25.93,
           25.5,
           24.66,
           24.52,
           24.21,
           23.9,
           23.69,
           23.77,
           23.55,
           23.28,
           23.27,
           23.57
          ],
          [
           24.39,
           24.25,
           24.53,
           24.57,
           25.48,
           25.76,
           27.7,
           28.52,
           29.64,
           29.7,
           31.79,
           32.68,
           33.03,
           32.99,
           32.52,
           32.24,
           32.13,
           32.02,
           30.35,
           28.26,
           25.69,
           25.2,
           24.79,
           24.64,
           24.2,
           23.99,
           23.74,
           23.64,
           23.52,
           23.19,
           23.26,
           23.36
          ],
          [
           24.06,
           24.05,
           24.78,
           24.82,
           25.71,
           26.2,
           28.19,
           28.99,
           29.77,
           30.2,
           31.76,
           32.61,
           33.1,
           33.13,
           32.75,
           32.65,
           32.28,
           32.28,
           29.72,
           28.03,
           25.87,
           25.47,
           24.97,
           24.74,
           24.08,
           24.3,
           23.84,
           23.9,
           23.49,
           23.43,
           23.18,
           22.94
          ],
          [
           24.43,
           24.3,
           25.02,
           25.16,
           26.83,
           27.65,
           29.41,
           29.75,
           29.91,
           30.25,
           31.34,
           31.97,
           33.06,
           33.08,
           33.02,
           32.54,
           32.14,
           31.65,
           29.05,
           27.81,
           26.57,
           26.02,
           25.06,
           24.94,
           24.43,
           24.09,
           24.08,
           24.01,
           23.64,
           23.42,
           23.6,
           22.98
          ],
          [
           24.41,
           24.25,
           24.85,
           25.79,
           27.52,
           28.75,
           29.35,
           29.51,
           30.07,
           30.18,
           30.84,
           31.47,
           32.32,
           32.91,
           32.53,
           32.07,
           31.34,
           31.17,
           29.34,
           28.66,
           27.29,
           26.74,
           25.23,
           24.92,
           24.42,
           24.27,
           23.8,
           23.98,
           23.62,
           23.5,
           23.2,
           23.45
          ],
          [
           24.36,
           24.69,
           25.56,
           26.07,
           28.91,
           29.47,
           29.59,
           29.35,
           29.74,
           29.82,
           29.91,
           30.17,
           30.65,
           30.64,
           30.62,
           30.53,
           30.32,
           30.1,
           29.38,
           28.94,
           27.84,
           27.24,
           25.98,
           25.37,
           24.46,
           24.15,
           24.01,
           23.8,
           23.91,
           23.43,
           23.36,
           23.21
          ],
          [
           24.33,
           24.48,
           25.65,
           26.43,
           29.13,
           29.65,
           29.77,
           29.53,
           29.64,
           29.59,
           29.52,
           29.82,
           30.29,
           30.11,
           30.02,
           30.36,
           29.97,
           29.82,
           29.24,
           29,
           27.18,
           26.73,
           25.74,
           25.35,
           24.44,
           24.2,
           23.97,
           24.01,
           23.73,
           23.8,
           23.44,
           23.51
          ],
          [
           24.5,
           24.23,
           25.4,
           26.06,
           28.97,
           29.57,
           29.62,
           29.54,
           29.34,
           29.29,
           29.14,
           29.13,
           29.61,
           29.11,
           29.73,
           29.84,
           29.71,
           29.89,
           29.28,
           28.77,
           26.55,
           25.64,
           24.87,
           24.65,
           24.35,
           24.2,
           23.87,
           23.81,
           23.41,
           23.42,
           23.26,
           23.18
          ],
          [
           24.16,
           24.61,
           24.97,
           25.91,
           28.75,
           29.57,
           29.82,
           29.84,
           29.35,
           29.27,
           29.05,
           29.57,
           29.36,
           29.26,
           29.81,
           30.01,
           29.55,
           29.55,
           29.44,
           29.46,
           26.63,
           25.79,
           24.63,
           24.61,
           24.2,
           24.14,
           23.93,
           23.9,
           23.38,
           23.62,
           23.52,
           23.25
          ],
          [
           24.47,
           24.3,
           25.01,
           25.53,
           28.33,
           29.07,
           29.66,
           29.96,
           29.83,
           29.58,
           29.61,
           29.35,
           29.95,
           29.82,
           29.82,
           29.8,
           29.78,
           29.8,
           29.91,
           29.63,
           27.3,
           26,
           24.77,
           24.79,
           24.28,
           24.17,
           23.57,
           23.88,
           23.55,
           23.29,
           23.26,
           23.27
          ],
          [
           24.42,
           24.52,
           25.23,
           25.5,
           27.99,
           28.95,
           29.46,
           30.08,
           30.06,
           29.89,
           29.35,
           29.38,
           29.9,
           29.83,
           29.42,
           29.5,
           29.55,
           29.98,
           29.92,
           29.39,
           27.3,
           26.34,
           25.03,
           24.96,
           24.12,
           24.32,
           24.12,
           23.93,
           23.33,
           23.48,
           23.5,
           23.35
          ],
          [
           24.18,
           24.41,
           24.68,
           25.07,
           27.67,
           28.36,
           29.47,
           29.79,
           30.23,
           30.2,
           29.38,
           29.33,
           29.78,
           29.8,
           29.46,
           29.6,
           29.92,
           30.24,
           30.24,
           29.84,
           27.73,
           26.76,
           25.07,
           24.52,
           24.4,
           23.95,
           23.68,
           23.9,
           23.63,
           23.5,
           23.1,
           23.49
          ],
          [
           24.13,
           24.49,
           24.76,
           25.16,
           26.94,
           28.11,
           29.16,
           29.51,
           30.18,
           30.13,
           29.32,
           29.37,
           29.09,
           29.28,
           29.75,
           30.17,
           30.23,
           30.45,
           30.1,
           30.16,
           27.44,
           26.42,
           24.58,
           24.57,
           24.22,
           23.86,
           23.73,
           23.83,
           23.72,
           23.84,
           23.7,
           23.56
          ],
          [
           24.04,
           24.4,
           24.83,
           24.86,
           26.31,
           27.2,
           29.9,
           30.34,
           30.66,
           30.62,
           29.42,
           28.51,
           26.14,
           26.46,
           28.53,
           29.27,
           31.27,
           30.77,
           30.53,
           30.03,
           26.64,
           25.81,
           24.53,
           24.47,
           24.03,
           24.16,
           24.58,
           24.67,
           23.77,
           24.07,
           24.1,
           23.83
          ],
          [
           23.97,
           24.15,
           24.47,
           24.65,
           25.64,
           26.92,
           29.95,
           30.42,
           30.84,
           30.8,
           29.46,
           27.74,
           26.13,
           26.43,
           27.98,
           28.94,
           30.71,
           30.66,
           30.1,
           29.43,
           26.1,
           25.42,
           24.22,
           24.51,
           24.21,
           24.43,
           24.93,
           24.59,
           24.01,
           23.77,
           23.41,
           23.64
          ],
          [
           24.01,
           24.06,
           24.53,
           24.53,
           24.83,
           25.45,
           28.83,
           29.78,
           30.58,
           30.51,
           29.17,
           27.73,
           26.87,
           26.98,
           28.31,
           28.99,
           30.05,
           29.9,
           27.61,
           27.07,
           25.06,
           24.8,
           24.19,
           24.13,
           24.05,
           24.21,
           24.58,
           24.21,
           23.86,
           23.45,
           23.32,
           23.32
          ],
          [
           23.74,
           24.1,
           24.27,
           24.62,
           24.94,
           25.08,
           28.1,
           29.64,
           30.6,
           30.72,
           29.55,
           28.54,
           27.09,
           27.07,
           28.22,
           29.04,
           29.31,
           28.9,
           26.52,
           26.09,
           24.54,
           24.33,
           24.09,
           24.03,
           23.98,
           23.79,
           23.86,
           24.12,
           23.59,
           23.45,
           23.14,
           22.99
          ],
          [
           24.28,
           23.94,
           24.27,
           24.49,
           24.62,
           24.66,
           26.85,
           28.7,
           30.3,
           30.53,
           30.55,
           30.21,
           28.33,
           28.08,
           28.15,
           28.36,
           28.06,
           27.38,
           25.7,
           25.44,
           24.57,
           24.04,
           24.04,
           24.04,
           23.6,
           23.46,
           23.51,
           23.57,
           23.52,
           23.06,
           22.21,
           21.69
          ],
          [
           23.98,
           24.17,
           24.16,
           24.42,
           24.39,
           24.72,
           26.69,
           28.35,
           29.76,
           30.22,
           30.28,
           29.97,
           28.51,
           28.34,
           27.83,
           28.06,
           27.75,
           26.52,
           25.27,
           25.26,
           24.35,
           24.03,
           23.78,
           24.21,
           23.64,
           23.77,
           23.55,
           23.63,
           23.33,
           22.93,
           21.77,
           22.15
          ]
         ]
        }
       ],
       "layout": {
        "coloraxis": {
         "colorscale": [
          [
           0,
           "#0d0887"
          ],
          [
           0.1111111111111111,
           "#46039f"
          ],
          [
           0.2222222222222222,
           "#7201a8"
          ],
          [
           0.3333333333333333,
           "#9c179e"
          ],
          [
           0.4444444444444444,
           "#bd3786"
          ],
          [
           0.5555555555555556,
           "#d8576b"
          ],
          [
           0.6666666666666666,
           "#ed7953"
          ],
          [
           0.7777777777777778,
           "#fb9f3a"
          ],
          [
           0.8888888888888888,
           "#fdca26"
          ],
          [
           1,
           "#f0f921"
          ]
         ]
        },
        "margin": {
         "t": 60
        },
        "template": {
         "data": {
          "bar": [
           {
            "error_x": {
             "color": "#2a3f5f"
            },
            "error_y": {
             "color": "#2a3f5f"
            },
            "marker": {
             "line": {
              "color": "#E5ECF6",
              "width": 0.5
             },
             "pattern": {
              "fillmode": "overlay",
              "size": 10,
              "solidity": 0.2
             }
            },
            "type": "bar"
           }
          ],
          "barpolar": [
           {
            "marker": {
             "line": {
              "color": "#E5ECF6",
              "width": 0.5
             },
             "pattern": {
              "fillmode": "overlay",
              "size": 10,
              "solidity": 0.2
             }
            },
            "type": "barpolar"
           }
          ],
          "carpet": [
           {
            "aaxis": {
             "endlinecolor": "#2a3f5f",
             "gridcolor": "white",
             "linecolor": "white",
             "minorgridcolor": "white",
             "startlinecolor": "#2a3f5f"
            },
            "baxis": {
             "endlinecolor": "#2a3f5f",
             "gridcolor": "white",
             "linecolor": "white",
             "minorgridcolor": "white",
             "startlinecolor": "#2a3f5f"
            },
            "type": "carpet"
           }
          ],
          "choropleth": [
           {
            "colorbar": {
             "outlinewidth": 0,
             "ticks": ""
            },
            "type": "choropleth"
           }
          ],
          "contour": [
           {
            "colorbar": {
             "outlinewidth": 0,
             "ticks": ""
            },
            "colorscale": [
             [
              0,
              "#0d0887"
             ],
             [
              0.1111111111111111,
              "#46039f"
             ],
             [
              0.2222222222222222,
              "#7201a8"
             ],
             [
              0.3333333333333333,
              "#9c179e"
             ],
             [
              0.4444444444444444,
              "#bd3786"
             ],
             [
              0.5555555555555556,
              "#d8576b"
             ],
             [
              0.6666666666666666,
              "#ed7953"
             ],
             [
              0.7777777777777778,
              "#fb9f3a"
             ],
             [
              0.8888888888888888,
              "#fdca26"
             ],
             [
              1,
              "#f0f921"
             ]
            ],
            "type": "contour"
           }
          ],
          "contourcarpet": [
           {
            "colorbar": {
             "outlinewidth": 0,
             "ticks": ""
            },
            "type": "contourcarpet"
           }
          ],
          "heatmap": [
           {
            "colorbar": {
             "outlinewidth": 0,
             "ticks": ""
            },
            "colorscale": [
             [
              0,
              "#0d0887"
             ],
             [
              0.1111111111111111,
              "#46039f"
             ],
             [
              0.2222222222222222,
              "#7201a8"
             ],
             [
              0.3333333333333333,
              "#9c179e"
             ],
             [
              0.4444444444444444,
              "#bd3786"
             ],
             [
              0.5555555555555556,
              "#d8576b"
             ],
             [
              0.6666666666666666,
              "#ed7953"
             ],
             [
              0.7777777777777778,
              "#fb9f3a"
             ],
             [
              0.8888888888888888,
              "#fdca26"
             ],
             [
              1,
              "#f0f921"
             ]
            ],
            "type": "heatmap"
           }
          ],
          "heatmapgl": [
           {
            "colorbar": {
             "outlinewidth": 0,
             "ticks": ""
            },
            "colorscale": [
             [
              0,
              "#0d0887"
             ],
             [
              0.1111111111111111,
              "#46039f"
             ],
             [
              0.2222222222222222,
              "#7201a8"
             ],
             [
              0.3333333333333333,
              "#9c179e"
             ],
             [
              0.4444444444444444,
              "#bd3786"
             ],
             [
              0.5555555555555556,
              "#d8576b"
             ],
             [
              0.6666666666666666,
              "#ed7953"
             ],
             [
              0.7777777777777778,
              "#fb9f3a"
             ],
             [
              0.8888888888888888,
              "#fdca26"
             ],
             [
              1,
              "#f0f921"
             ]
            ],
            "type": "heatmapgl"
           }
          ],
          "histogram": [
           {
            "marker": {
             "pattern": {
              "fillmode": "overlay",
              "size": 10,
              "solidity": 0.2
             }
            },
            "type": "histogram"
           }
          ],
          "histogram2d": [
           {
            "colorbar": {
             "outlinewidth": 0,
             "ticks": ""
            },
            "colorscale": [
             [
              0,
              "#0d0887"
             ],
             [
              0.1111111111111111,
              "#46039f"
             ],
             [
              0.2222222222222222,
              "#7201a8"
             ],
             [
              0.3333333333333333,
              "#9c179e"
             ],
             [
              0.4444444444444444,
              "#bd3786"
             ],
             [
              0.5555555555555556,
              "#d8576b"
             ],
             [
              0.6666666666666666,
              "#ed7953"
             ],
             [
              0.7777777777777778,
              "#fb9f3a"
             ],
             [
              0.8888888888888888,
              "#fdca26"
             ],
             [
              1,
              "#f0f921"
             ]
            ],
            "type": "histogram2d"
           }
          ],
          "histogram2dcontour": [
           {
            "colorbar": {
             "outlinewidth": 0,
             "ticks": ""
            },
            "colorscale": [
             [
              0,
              "#0d0887"
             ],
             [
              0.1111111111111111,
              "#46039f"
             ],
             [
              0.2222222222222222,
              "#7201a8"
             ],
             [
              0.3333333333333333,
              "#9c179e"
             ],
             [
              0.4444444444444444,
              "#bd3786"
             ],
             [
              0.5555555555555556,
              "#d8576b"
             ],
             [
              0.6666666666666666,
              "#ed7953"
             ],
             [
              0.7777777777777778,
              "#fb9f3a"
             ],
             [
              0.8888888888888888,
              "#fdca26"
             ],
             [
              1,
              "#f0f921"
             ]
            ],
            "type": "histogram2dcontour"
           }
          ],
          "mesh3d": [
           {
            "colorbar": {
             "outlinewidth": 0,
             "ticks": ""
            },
            "type": "mesh3d"
           }
          ],
          "parcoords": [
           {
            "line": {
             "colorbar": {
              "outlinewidth": 0,
              "ticks": ""
             }
            },
            "type": "parcoords"
           }
          ],
          "pie": [
           {
            "automargin": true,
            "type": "pie"
           }
          ],
          "scatter": [
           {
            "fillpattern": {
             "fillmode": "overlay",
             "size": 10,
             "solidity": 0.2
            },
            "type": "scatter"
           }
          ],
          "scatter3d": [
           {
            "line": {
             "colorbar": {
              "outlinewidth": 0,
              "ticks": ""
             }
            },
            "marker": {
             "colorbar": {
              "outlinewidth": 0,
              "ticks": ""
             }
            },
            "type": "scatter3d"
           }
          ],
          "scattercarpet": [
           {
            "marker": {
             "colorbar": {
              "outlinewidth": 0,
              "ticks": ""
             }
            },
            "type": "scattercarpet"
           }
          ],
          "scattergeo": [
           {
            "marker": {
             "colorbar": {
              "outlinewidth": 0,
              "ticks": ""
             }
            },
            "type": "scattergeo"
           }
          ],
          "scattergl": [
           {
            "marker": {
             "colorbar": {
              "outlinewidth": 0,
              "ticks": ""
             }
            },
            "type": "scattergl"
           }
          ],
          "scattermapbox": [
           {
            "marker": {
             "colorbar": {
              "outlinewidth": 0,
              "ticks": ""
             }
            },
            "type": "scattermapbox"
           }
          ],
          "scatterpolar": [
           {
            "marker": {
             "colorbar": {
              "outlinewidth": 0,
              "ticks": ""
             }
            },
            "type": "scatterpolar"
           }
          ],
          "scatterpolargl": [
           {
            "marker": {
             "colorbar": {
              "outlinewidth": 0,
              "ticks": ""
             }
            },
            "type": "scatterpolargl"
           }
          ],
          "scatterternary": [
           {
            "marker": {
             "colorbar": {
              "outlinewidth": 0,
              "ticks": ""
             }
            },
            "type": "scatterternary"
           }
          ],
          "surface": [
           {
            "colorbar": {
             "outlinewidth": 0,
             "ticks": ""
            },
            "colorscale": [
             [
              0,
              "#0d0887"
             ],
             [
              0.1111111111111111,
              "#46039f"
             ],
             [
              0.2222222222222222,
              "#7201a8"
             ],
             [
              0.3333333333333333,
              "#9c179e"
             ],
             [
              0.4444444444444444,
              "#bd3786"
             ],
             [
              0.5555555555555556,
              "#d8576b"
             ],
             [
              0.6666666666666666,
              "#ed7953"
             ],
             [
              0.7777777777777778,
              "#fb9f3a"
             ],
             [
              0.8888888888888888,
              "#fdca26"
             ],
             [
              1,
              "#f0f921"
             ]
            ],
            "type": "surface"
           }
          ],
          "table": [
           {
            "cells": {
             "fill": {
              "color": "#EBF0F8"
             },
             "line": {
              "color": "white"
             }
            },
            "header": {
             "fill": {
              "color": "#C8D4E3"
             },
             "line": {
              "color": "white"
             }
            },
            "type": "table"
           }
          ]
         },
         "layout": {
          "annotationdefaults": {
           "arrowcolor": "#2a3f5f",
           "arrowhead": 0,
           "arrowwidth": 1
          },
          "autotypenumbers": "strict",
          "coloraxis": {
           "colorbar": {
            "outlinewidth": 0,
            "ticks": ""
           }
          },
          "colorscale": {
           "diverging": [
            [
             0,
             "#8e0152"
            ],
            [
             0.1,
             "#c51b7d"
            ],
            [
             0.2,
             "#de77ae"
            ],
            [
             0.3,
             "#f1b6da"
            ],
            [
             0.4,
             "#fde0ef"
            ],
            [
             0.5,
             "#f7f7f7"
            ],
            [
             0.6,
             "#e6f5d0"
            ],
            [
             0.7,
             "#b8e186"
            ],
            [
             0.8,
             "#7fbc41"
            ],
            [
             0.9,
             "#4d9221"
            ],
            [
             1,
             "#276419"
            ]
           ],
           "sequential": [
            [
             0,
             "#0d0887"
            ],
            [
             0.1111111111111111,
             "#46039f"
            ],
            [
             0.2222222222222222,
             "#7201a8"
            ],
            [
             0.3333333333333333,
             "#9c179e"
            ],
            [
             0.4444444444444444,
             "#bd3786"
            ],
            [
             0.5555555555555556,
             "#d8576b"
            ],
            [
             0.6666666666666666,
             "#ed7953"
            ],
            [
             0.7777777777777778,
             "#fb9f3a"
            ],
            [
             0.8888888888888888,
             "#fdca26"
            ],
            [
             1,
             "#f0f921"
            ]
           ],
           "sequentialminus": [
            [
             0,
             "#0d0887"
            ],
            [
             0.1111111111111111,
             "#46039f"
            ],
            [
             0.2222222222222222,
             "#7201a8"
            ],
            [
             0.3333333333333333,
             "#9c179e"
            ],
            [
             0.4444444444444444,
             "#bd3786"
            ],
            [
             0.5555555555555556,
             "#d8576b"
            ],
            [
             0.6666666666666666,
             "#ed7953"
            ],
            [
             0.7777777777777778,
             "#fb9f3a"
            ],
            [
             0.8888888888888888,
             "#fdca26"
            ],
            [
             1,
             "#f0f921"
            ]
           ]
          },
          "colorway": [
           "#636efa",
           "#EF553B",
           "#00cc96",
           "#ab63fa",
           "#FFA15A",
           "#19d3f3",
           "#FF6692",
           "#B6E880",
           "#FF97FF",
           "#FECB52"
          ],
          "font": {
           "color": "#2a3f5f"
          },
          "geo": {
           "bgcolor": "white",
           "lakecolor": "white",
           "landcolor": "#E5ECF6",
           "showlakes": true,
           "showland": true,
           "subunitcolor": "white"
          },
          "hoverlabel": {
           "align": "left"
          },
          "hovermode": "closest",
          "mapbox": {
           "style": "light"
          },
          "paper_bgcolor": "white",
          "plot_bgcolor": "#E5ECF6",
          "polar": {
           "angularaxis": {
            "gridcolor": "white",
            "linecolor": "white",
            "ticks": ""
           },
           "bgcolor": "#E5ECF6",
           "radialaxis": {
            "gridcolor": "white",
            "linecolor": "white",
            "ticks": ""
           }
          },
          "scene": {
           "xaxis": {
            "backgroundcolor": "#E5ECF6",
            "gridcolor": "white",
            "gridwidth": 2,
            "linecolor": "white",
            "showbackground": true,
            "ticks": "",
            "zerolinecolor": "white"
           },
           "yaxis": {
            "backgroundcolor": "#E5ECF6",
            "gridcolor": "white",
            "gridwidth": 2,
            "linecolor": "white",
            "showbackground": true,
            "ticks": "",
            "zerolinecolor": "white"
           },
           "zaxis": {
            "backgroundcolor": "#E5ECF6",
            "gridcolor": "white",
            "gridwidth": 2,
            "linecolor": "white",
            "showbackground": true,
            "ticks": "",
            "zerolinecolor": "white"
           }
          },
          "shapedefaults": {
           "line": {
            "color": "#2a3f5f"
           }
          },
          "ternary": {
           "aaxis": {
            "gridcolor": "white",
            "linecolor": "white",
            "ticks": ""
           },
           "baxis": {
            "gridcolor": "white",
            "linecolor": "white",
            "ticks": ""
           },
           "bgcolor": "#E5ECF6",
           "caxis": {
            "gridcolor": "white",
            "linecolor": "white",
            "ticks": ""
           }
          },
          "title": {
           "x": 0.05
          },
          "xaxis": {
           "automargin": true,
           "gridcolor": "white",
           "linecolor": "white",
           "ticks": "",
           "title": {
            "standoff": 15
           },
           "zerolinecolor": "white",
           "zerolinewidth": 2
          },
          "yaxis": {
           "automargin": true,
           "gridcolor": "white",
           "linecolor": "white",
           "ticks": "",
           "title": {
            "standoff": 15
           },
           "zerolinecolor": "white",
           "zerolinewidth": 2
          }
         }
        },
        "title": {
         "text": "Predicted: back, Actual: right"
        },
        "xaxis": {
         "anchor": "y",
         "constrain": "domain",
         "domain": [
          0,
          1
         ],
         "scaleanchor": "y"
        },
        "yaxis": {
         "anchor": "x",
         "autorange": "reversed",
         "constrain": "domain",
         "domain": [
          0,
          1
         ]
        }
       }
      }
     },
     "metadata": {},
     "output_type": "display_data"
    },
    {
     "data": {
      "application/vnd.plotly.v1+json": {
       "config": {
        "plotlyServerURL": "https://plot.ly"
       },
       "data": [
        {
         "coloraxis": "coloraxis",
         "hovertemplate": "x: %{x}<br>y: %{y}<br>color: %{z}<extra></extra>",
         "name": "0",
         "type": "heatmap",
         "xaxis": "x",
         "yaxis": "y",
         "z": [
          [
           24.53,
           24.54,
           25.21,
           24.33,
           25.38,
           25.42,
           25.32,
           25.38,
           26.08,
           26.23,
           27.09,
           27.04,
           29.59,
           29.64,
           29.84,
           29.52,
           29.02,
           28.8,
           27.33,
           26.94,
           26.21,
           26.1,
           25.45,
           25.41,
           24.88,
           25.2,
           25.02,
           24.52,
           24.7,
           24.13,
           24.31,
           22.67
          ],
          [
           24.67,
           24.76,
           24.65,
           25.02,
           25.37,
           25.67,
           25.45,
           25.54,
           26.5,
           26.45,
           27.3,
           28.2,
           29.96,
           31.13,
           30.86,
           30.42,
           30.3,
           29.75,
           27.87,
           27.49,
           26.7,
           26.31,
           25.58,
           25.65,
           25.33,
           25.14,
           24.47,
           24.82,
           24.9,
           24.51,
           24.06,
           23.46
          ],
          [
           24.69,
           24.67,
           24.94,
           24.77,
           25.15,
           25.37,
           25.61,
           25.69,
           26.59,
           26.74,
           28.36,
           28.83,
           32.17,
           32.81,
           33.01,
           32.91,
           32.83,
           32.27,
           28.55,
           27.78,
           26.8,
           26.52,
           25.89,
           25.3,
           25.27,
           25.23,
           24.7,
           24.46,
           24.3,
           24.36,
           24.32,
           24.02
          ],
          [
           24.92,
           24.32,
           24.5,
           24.97,
           25.23,
           25.24,
           25.51,
           26.12,
           26.73,
           26.94,
           28.43,
           29.98,
           32.99,
           33.41,
           33.19,
           33.59,
           33.4,
           32.56,
           29.34,
           27.99,
           27.28,
           26.62,
           25.78,
           25.7,
           25.3,
           25.12,
           24.7,
           24.97,
           24.71,
           24.55,
           24.35,
           23.81
          ],
          [
           24.55,
           24.57,
           24.76,
           24.46,
           25.34,
           25.41,
           25.72,
           25.9,
           26.88,
           26.84,
           28.68,
           29.52,
           32.91,
           33.14,
           33.01,
           32.97,
           33.08,
           33,
           29.73,
           28.46,
           26.95,
           26.59,
           25.88,
           25.53,
           25.23,
           25.27,
           24.74,
           24.64,
           24.38,
           24.35,
           24.1,
           23.76
          ],
          [
           24.59,
           24.37,
           24.5,
           25.2,
           25.54,
           25.26,
           25.61,
           26.26,
           27.03,
           27.14,
           28.25,
           29.88,
           32.64,
           32.86,
           32.37,
           32.97,
           33,
           32.44,
           29.68,
           28.43,
           27.18,
           26.68,
           25.98,
           25.77,
           25.64,
           25.14,
           24.77,
           24.89,
           24.69,
           24.14,
           23.68,
           24.22
          ],
          [
           24.82,
           24.56,
           24.69,
           24.85,
           25.24,
           25.61,
           26.18,
           26.04,
           27.1,
           26.98,
           28.07,
           28.58,
           31.75,
           31.84,
           31.35,
           31.51,
           31.63,
           31.19,
           29.26,
           28.22,
           26.84,
           26.61,
           26,
           25.6,
           25.12,
           25.24,
           24.93,
           24.63,
           24.45,
           24.35,
           24.13,
           23.8
          ],
          [
           24.53,
           24.38,
           24.55,
           25.1,
           25.24,
           25.59,
           25.98,
           26.38,
           27.12,
           27.35,
           27.79,
           28.65,
           31.6,
           32.21,
           31.48,
           32.56,
           32.19,
           31.14,
           29.04,
           28.11,
           26.95,
           26.51,
           25.68,
           25.91,
           25.74,
           25.2,
           25.07,
           25.03,
           24.56,
           24.42,
           23.72,
           24.09
          ],
          [
           24.47,
           24.71,
           24.68,
           24.78,
           25.39,
           25.62,
           26.37,
           26.32,
           27.43,
           27.75,
           28.17,
           28.47,
           31.75,
           32.76,
           33.28,
           33.04,
           32.71,
           31.91,
           28.66,
           28.14,
           27.45,
           27.17,
           26.39,
           26.03,
           25.6,
           25.32,
           25.24,
           24.69,
           24.51,
           24.75,
           23.93,
           23.54
          ],
          [
           24.76,
           24.69,
           24.66,
           25.18,
           25.5,
           25.84,
           26.38,
           26.93,
           28.2,
           28.51,
           28.62,
           28.99,
           31.71,
           32.62,
           32.89,
           33.23,
           32.98,
           32.03,
           29.16,
           28.74,
           28.29,
           28.18,
           26.96,
           26.72,
           25.93,
           25.52,
           24.86,
           25.05,
           24.49,
           24.67,
           24.05,
           24.18
          ],
          [
           24.83,
           24.79,
           25.02,
           25.16,
           25.71,
           25.93,
           27.13,
           27.85,
           29.41,
           29.82,
           30.35,
           30.42,
           32.29,
           32.62,
           32.23,
           31.86,
           32.81,
           32.84,
           30.85,
           30.44,
           30.26,
           30.1,
           28.43,
           27.41,
           26.33,
           26.01,
           25.34,
           25.07,
           24.91,
           24.62,
           24.44,
           23.68
          ],
          [
           24.62,
           24.26,
           24.86,
           25.64,
           25.91,
           25.98,
           26.9,
           28.12,
           29.88,
           29.78,
           30.06,
           30.58,
           31.68,
           31.83,
           31.38,
           31.92,
           32.13,
           32.31,
           30.71,
           30.57,
           30.4,
           29.94,
           28.77,
           28.27,
           26.65,
           26.29,
           25.3,
           25.37,
           25.13,
           25.14,
           24.18,
           24.46
          ],
          [
           24.51,
           24.77,
           24.94,
           25.28,
           25.91,
           26.13,
           27.62,
           28.25,
           29.21,
           29.24,
           29.55,
           29.47,
           29.47,
           29.41,
           28.99,
           28.91,
           29.82,
           30.08,
           30.23,
           30.07,
           29.69,
           29.45,
           29.28,
           29,
           27.44,
           26.72,
           25.33,
           24.98,
           24.78,
           24.9,
           24.62,
           24.33
          ],
          [
           24.76,
           24.81,
           24.78,
           25.47,
           26.34,
           26.75,
           27.79,
           28.72,
           29,
           28.91,
           29.33,
           29.69,
           30.05,
           29.8,
           29.04,
           29.04,
           29.89,
           30.22,
           30.21,
           30.21,
           29.67,
           29.31,
           29.34,
           29.44,
           27.94,
           27.1,
           25.49,
           25.54,
           25.18,
           24.63,
           24.53,
           24.68
          ],
          [
           24.58,
           24.75,
           24.94,
           25.44,
           26.64,
           27.21,
           28.32,
           28.76,
           28.72,
           28.85,
           29.55,
           29.63,
           30.41,
           30.51,
           30.07,
           29.57,
           30.23,
           30.43,
           30.75,
           30.51,
           30.14,
           29.6,
           29.58,
           29.25,
           28.47,
           27.82,
           25.59,
           25.37,
           24.78,
           24.85,
           24.44,
           24.37
          ],
          [
           24.77,
           24.77,
           25.13,
           25.62,
           26.47,
           27.02,
           28.6,
           29.12,
           28.67,
           28.7,
           29.23,
           29.87,
           30.67,
           30.49,
           29.8,
           29.79,
           29.88,
           30.13,
           30.55,
           30.49,
           30.12,
           29.75,
           29.54,
           29.71,
           29.22,
           28.18,
           25.5,
           25.49,
           25.1,
           24.68,
           24.32,
           24.37
          ],
          [
           24.6,
           24.93,
           24.91,
           25.05,
           25.99,
           27.31,
           29,
           29,
           28.55,
           28.57,
           28.83,
           29.03,
           29.97,
           29.89,
           29.71,
           29.54,
           29.79,
           30.06,
           30.41,
           30.16,
           29.65,
           29.37,
           29.12,
           29.32,
           29.1,
           28.43,
           26.04,
           25.03,
           24.68,
           24.69,
           24.17,
           24.08
          ],
          [
           24.64,
           24.66,
           24.93,
           25.35,
           26.42,
           26.84,
           29.06,
           29.27,
           28.63,
           28.53,
           28.4,
           29,
           29.48,
           29.48,
           29.23,
           29.67,
           29.86,
           30.03,
           29.93,
           30.04,
           29.52,
           28.92,
           28.85,
           29.38,
           28.93,
           27.98,
           25.53,
           25.31,
           24.87,
           24.8,
           24.21,
           24.05
          ],
          [
           24.42,
           24.67,
           24.95,
           24.67,
           25.92,
           26.19,
           28.09,
           28.46,
           28.47,
           28.15,
           28.37,
           28.56,
           28.75,
           28.7,
           29.11,
           29.01,
           29.57,
           29.47,
           29.26,
           29.07,
           28.89,
           28.67,
           28.49,
           28.12,
           27.31,
           26.41,
           25.14,
           25.04,
           24.81,
           24.36,
           24.19,
           24.01
          ],
          [
           24.99,
           24.56,
           24.52,
           25.08,
           25.81,
           25.79,
           27.05,
           27.92,
           28.2,
           28.18,
           28.21,
           28.71,
           28.61,
           28.74,
           28.87,
           29.15,
           29.45,
           29.32,
           29.13,
           29.22,
           29.05,
           28.71,
           27.85,
           27.56,
           26.56,
           25.97,
           24.7,
           24.68,
           24.83,
           24.68,
           23.99,
           24.85
          ],
          [
           24.32,
           24.64,
           24.83,
           24.93,
           25.14,
           25.27,
           25.97,
           26.36,
           27.6,
           28.12,
           28.51,
           28.09,
           28.04,
           28.55,
           29,
           29.54,
           29.1,
           28.8,
           28.45,
           28.13,
           28.45,
           28.09,
           26.71,
           26.02,
           25.62,
           25.5,
           24.89,
           24.61,
           24.48,
           24.54,
           23.98,
           24.06
          ],
          [
           24.91,
           24.19,
           24.63,
           25.22,
           25.31,
           25.51,
           25.53,
           26.18,
           27.25,
           27.78,
           28.23,
           28.22,
           27.98,
           27.71,
           28.76,
           29.07,
           28.62,
           27.94,
           27.72,
           28.15,
           27.47,
           27.11,
           26.33,
           26.24,
           25.49,
           25.13,
           24.71,
           24.88,
           24.5,
           24.05,
           23.97,
           24.65
          ],
          [
           24.3,
           24.53,
           24.69,
           24.72,
           25.18,
           25.28,
           25.36,
           25.46,
           26.23,
           27.02,
           28.68,
           28.23,
           28.23,
           28.29,
           28.43,
           29.24,
           28.5,
           28.52,
           28.24,
           27.99,
           27.16,
           26.48,
           25.6,
           25.33,
           24.92,
           24.77,
           24.64,
           24.26,
           24.18,
           24.46,
           24.26,
           23.33
          ],
          [
           25,
           24.6,
           24.3,
           24.86,
           25.02,
           24.92,
           25.47,
           25.54,
           26.21,
           26.47,
           28.5,
           29.13,
           29.03,
           28.9,
           28.95,
           29.15,
           29.29,
           29.03,
           28.51,
           28.38,
           27.16,
           26.29,
           25.42,
           25.53,
           25.2,
           24.83,
           24.24,
           24.56,
           24.23,
           23.98,
           22.98,
           24.37
          ]
         ]
        }
       ],
       "layout": {
        "coloraxis": {
         "colorscale": [
          [
           0,
           "#0d0887"
          ],
          [
           0.1111111111111111,
           "#46039f"
          ],
          [
           0.2222222222222222,
           "#7201a8"
          ],
          [
           0.3333333333333333,
           "#9c179e"
          ],
          [
           0.4444444444444444,
           "#bd3786"
          ],
          [
           0.5555555555555556,
           "#d8576b"
          ],
          [
           0.6666666666666666,
           "#ed7953"
          ],
          [
           0.7777777777777778,
           "#fb9f3a"
          ],
          [
           0.8888888888888888,
           "#fdca26"
          ],
          [
           1,
           "#f0f921"
          ]
         ]
        },
        "margin": {
         "t": 60
        },
        "template": {
         "data": {
          "bar": [
           {
            "error_x": {
             "color": "#2a3f5f"
            },
            "error_y": {
             "color": "#2a3f5f"
            },
            "marker": {
             "line": {
              "color": "#E5ECF6",
              "width": 0.5
             },
             "pattern": {
              "fillmode": "overlay",
              "size": 10,
              "solidity": 0.2
             }
            },
            "type": "bar"
           }
          ],
          "barpolar": [
           {
            "marker": {
             "line": {
              "color": "#E5ECF6",
              "width": 0.5
             },
             "pattern": {
              "fillmode": "overlay",
              "size": 10,
              "solidity": 0.2
             }
            },
            "type": "barpolar"
           }
          ],
          "carpet": [
           {
            "aaxis": {
             "endlinecolor": "#2a3f5f",
             "gridcolor": "white",
             "linecolor": "white",
             "minorgridcolor": "white",
             "startlinecolor": "#2a3f5f"
            },
            "baxis": {
             "endlinecolor": "#2a3f5f",
             "gridcolor": "white",
             "linecolor": "white",
             "minorgridcolor": "white",
             "startlinecolor": "#2a3f5f"
            },
            "type": "carpet"
           }
          ],
          "choropleth": [
           {
            "colorbar": {
             "outlinewidth": 0,
             "ticks": ""
            },
            "type": "choropleth"
           }
          ],
          "contour": [
           {
            "colorbar": {
             "outlinewidth": 0,
             "ticks": ""
            },
            "colorscale": [
             [
              0,
              "#0d0887"
             ],
             [
              0.1111111111111111,
              "#46039f"
             ],
             [
              0.2222222222222222,
              "#7201a8"
             ],
             [
              0.3333333333333333,
              "#9c179e"
             ],
             [
              0.4444444444444444,
              "#bd3786"
             ],
             [
              0.5555555555555556,
              "#d8576b"
             ],
             [
              0.6666666666666666,
              "#ed7953"
             ],
             [
              0.7777777777777778,
              "#fb9f3a"
             ],
             [
              0.8888888888888888,
              "#fdca26"
             ],
             [
              1,
              "#f0f921"
             ]
            ],
            "type": "contour"
           }
          ],
          "contourcarpet": [
           {
            "colorbar": {
             "outlinewidth": 0,
             "ticks": ""
            },
            "type": "contourcarpet"
           }
          ],
          "heatmap": [
           {
            "colorbar": {
             "outlinewidth": 0,
             "ticks": ""
            },
            "colorscale": [
             [
              0,
              "#0d0887"
             ],
             [
              0.1111111111111111,
              "#46039f"
             ],
             [
              0.2222222222222222,
              "#7201a8"
             ],
             [
              0.3333333333333333,
              "#9c179e"
             ],
             [
              0.4444444444444444,
              "#bd3786"
             ],
             [
              0.5555555555555556,
              "#d8576b"
             ],
             [
              0.6666666666666666,
              "#ed7953"
             ],
             [
              0.7777777777777778,
              "#fb9f3a"
             ],
             [
              0.8888888888888888,
              "#fdca26"
             ],
             [
              1,
              "#f0f921"
             ]
            ],
            "type": "heatmap"
           }
          ],
          "heatmapgl": [
           {
            "colorbar": {
             "outlinewidth": 0,
             "ticks": ""
            },
            "colorscale": [
             [
              0,
              "#0d0887"
             ],
             [
              0.1111111111111111,
              "#46039f"
             ],
             [
              0.2222222222222222,
              "#7201a8"
             ],
             [
              0.3333333333333333,
              "#9c179e"
             ],
             [
              0.4444444444444444,
              "#bd3786"
             ],
             [
              0.5555555555555556,
              "#d8576b"
             ],
             [
              0.6666666666666666,
              "#ed7953"
             ],
             [
              0.7777777777777778,
              "#fb9f3a"
             ],
             [
              0.8888888888888888,
              "#fdca26"
             ],
             [
              1,
              "#f0f921"
             ]
            ],
            "type": "heatmapgl"
           }
          ],
          "histogram": [
           {
            "marker": {
             "pattern": {
              "fillmode": "overlay",
              "size": 10,
              "solidity": 0.2
             }
            },
            "type": "histogram"
           }
          ],
          "histogram2d": [
           {
            "colorbar": {
             "outlinewidth": 0,
             "ticks": ""
            },
            "colorscale": [
             [
              0,
              "#0d0887"
             ],
             [
              0.1111111111111111,
              "#46039f"
             ],
             [
              0.2222222222222222,
              "#7201a8"
             ],
             [
              0.3333333333333333,
              "#9c179e"
             ],
             [
              0.4444444444444444,
              "#bd3786"
             ],
             [
              0.5555555555555556,
              "#d8576b"
             ],
             [
              0.6666666666666666,
              "#ed7953"
             ],
             [
              0.7777777777777778,
              "#fb9f3a"
             ],
             [
              0.8888888888888888,
              "#fdca26"
             ],
             [
              1,
              "#f0f921"
             ]
            ],
            "type": "histogram2d"
           }
          ],
          "histogram2dcontour": [
           {
            "colorbar": {
             "outlinewidth": 0,
             "ticks": ""
            },
            "colorscale": [
             [
              0,
              "#0d0887"
             ],
             [
              0.1111111111111111,
              "#46039f"
             ],
             [
              0.2222222222222222,
              "#7201a8"
             ],
             [
              0.3333333333333333,
              "#9c179e"
             ],
             [
              0.4444444444444444,
              "#bd3786"
             ],
             [
              0.5555555555555556,
              "#d8576b"
             ],
             [
              0.6666666666666666,
              "#ed7953"
             ],
             [
              0.7777777777777778,
              "#fb9f3a"
             ],
             [
              0.8888888888888888,
              "#fdca26"
             ],
             [
              1,
              "#f0f921"
             ]
            ],
            "type": "histogram2dcontour"
           }
          ],
          "mesh3d": [
           {
            "colorbar": {
             "outlinewidth": 0,
             "ticks": ""
            },
            "type": "mesh3d"
           }
          ],
          "parcoords": [
           {
            "line": {
             "colorbar": {
              "outlinewidth": 0,
              "ticks": ""
             }
            },
            "type": "parcoords"
           }
          ],
          "pie": [
           {
            "automargin": true,
            "type": "pie"
           }
          ],
          "scatter": [
           {
            "fillpattern": {
             "fillmode": "overlay",
             "size": 10,
             "solidity": 0.2
            },
            "type": "scatter"
           }
          ],
          "scatter3d": [
           {
            "line": {
             "colorbar": {
              "outlinewidth": 0,
              "ticks": ""
             }
            },
            "marker": {
             "colorbar": {
              "outlinewidth": 0,
              "ticks": ""
             }
            },
            "type": "scatter3d"
           }
          ],
          "scattercarpet": [
           {
            "marker": {
             "colorbar": {
              "outlinewidth": 0,
              "ticks": ""
             }
            },
            "type": "scattercarpet"
           }
          ],
          "scattergeo": [
           {
            "marker": {
             "colorbar": {
              "outlinewidth": 0,
              "ticks": ""
             }
            },
            "type": "scattergeo"
           }
          ],
          "scattergl": [
           {
            "marker": {
             "colorbar": {
              "outlinewidth": 0,
              "ticks": ""
             }
            },
            "type": "scattergl"
           }
          ],
          "scattermapbox": [
           {
            "marker": {
             "colorbar": {
              "outlinewidth": 0,
              "ticks": ""
             }
            },
            "type": "scattermapbox"
           }
          ],
          "scatterpolar": [
           {
            "marker": {
             "colorbar": {
              "outlinewidth": 0,
              "ticks": ""
             }
            },
            "type": "scatterpolar"
           }
          ],
          "scatterpolargl": [
           {
            "marker": {
             "colorbar": {
              "outlinewidth": 0,
              "ticks": ""
             }
            },
            "type": "scatterpolargl"
           }
          ],
          "scatterternary": [
           {
            "marker": {
             "colorbar": {
              "outlinewidth": 0,
              "ticks": ""
             }
            },
            "type": "scatterternary"
           }
          ],
          "surface": [
           {
            "colorbar": {
             "outlinewidth": 0,
             "ticks": ""
            },
            "colorscale": [
             [
              0,
              "#0d0887"
             ],
             [
              0.1111111111111111,
              "#46039f"
             ],
             [
              0.2222222222222222,
              "#7201a8"
             ],
             [
              0.3333333333333333,
              "#9c179e"
             ],
             [
              0.4444444444444444,
              "#bd3786"
             ],
             [
              0.5555555555555556,
              "#d8576b"
             ],
             [
              0.6666666666666666,
              "#ed7953"
             ],
             [
              0.7777777777777778,
              "#fb9f3a"
             ],
             [
              0.8888888888888888,
              "#fdca26"
             ],
             [
              1,
              "#f0f921"
             ]
            ],
            "type": "surface"
           }
          ],
          "table": [
           {
            "cells": {
             "fill": {
              "color": "#EBF0F8"
             },
             "line": {
              "color": "white"
             }
            },
            "header": {
             "fill": {
              "color": "#C8D4E3"
             },
             "line": {
              "color": "white"
             }
            },
            "type": "table"
           }
          ]
         },
         "layout": {
          "annotationdefaults": {
           "arrowcolor": "#2a3f5f",
           "arrowhead": 0,
           "arrowwidth": 1
          },
          "autotypenumbers": "strict",
          "coloraxis": {
           "colorbar": {
            "outlinewidth": 0,
            "ticks": ""
           }
          },
          "colorscale": {
           "diverging": [
            [
             0,
             "#8e0152"
            ],
            [
             0.1,
             "#c51b7d"
            ],
            [
             0.2,
             "#de77ae"
            ],
            [
             0.3,
             "#f1b6da"
            ],
            [
             0.4,
             "#fde0ef"
            ],
            [
             0.5,
             "#f7f7f7"
            ],
            [
             0.6,
             "#e6f5d0"
            ],
            [
             0.7,
             "#b8e186"
            ],
            [
             0.8,
             "#7fbc41"
            ],
            [
             0.9,
             "#4d9221"
            ],
            [
             1,
             "#276419"
            ]
           ],
           "sequential": [
            [
             0,
             "#0d0887"
            ],
            [
             0.1111111111111111,
             "#46039f"
            ],
            [
             0.2222222222222222,
             "#7201a8"
            ],
            [
             0.3333333333333333,
             "#9c179e"
            ],
            [
             0.4444444444444444,
             "#bd3786"
            ],
            [
             0.5555555555555556,
             "#d8576b"
            ],
            [
             0.6666666666666666,
             "#ed7953"
            ],
            [
             0.7777777777777778,
             "#fb9f3a"
            ],
            [
             0.8888888888888888,
             "#fdca26"
            ],
            [
             1,
             "#f0f921"
            ]
           ],
           "sequentialminus": [
            [
             0,
             "#0d0887"
            ],
            [
             0.1111111111111111,
             "#46039f"
            ],
            [
             0.2222222222222222,
             "#7201a8"
            ],
            [
             0.3333333333333333,
             "#9c179e"
            ],
            [
             0.4444444444444444,
             "#bd3786"
            ],
            [
             0.5555555555555556,
             "#d8576b"
            ],
            [
             0.6666666666666666,
             "#ed7953"
            ],
            [
             0.7777777777777778,
             "#fb9f3a"
            ],
            [
             0.8888888888888888,
             "#fdca26"
            ],
            [
             1,
             "#f0f921"
            ]
           ]
          },
          "colorway": [
           "#636efa",
           "#EF553B",
           "#00cc96",
           "#ab63fa",
           "#FFA15A",
           "#19d3f3",
           "#FF6692",
           "#B6E880",
           "#FF97FF",
           "#FECB52"
          ],
          "font": {
           "color": "#2a3f5f"
          },
          "geo": {
           "bgcolor": "white",
           "lakecolor": "white",
           "landcolor": "#E5ECF6",
           "showlakes": true,
           "showland": true,
           "subunitcolor": "white"
          },
          "hoverlabel": {
           "align": "left"
          },
          "hovermode": "closest",
          "mapbox": {
           "style": "light"
          },
          "paper_bgcolor": "white",
          "plot_bgcolor": "#E5ECF6",
          "polar": {
           "angularaxis": {
            "gridcolor": "white",
            "linecolor": "white",
            "ticks": ""
           },
           "bgcolor": "#E5ECF6",
           "radialaxis": {
            "gridcolor": "white",
            "linecolor": "white",
            "ticks": ""
           }
          },
          "scene": {
           "xaxis": {
            "backgroundcolor": "#E5ECF6",
            "gridcolor": "white",
            "gridwidth": 2,
            "linecolor": "white",
            "showbackground": true,
            "ticks": "",
            "zerolinecolor": "white"
           },
           "yaxis": {
            "backgroundcolor": "#E5ECF6",
            "gridcolor": "white",
            "gridwidth": 2,
            "linecolor": "white",
            "showbackground": true,
            "ticks": "",
            "zerolinecolor": "white"
           },
           "zaxis": {
            "backgroundcolor": "#E5ECF6",
            "gridcolor": "white",
            "gridwidth": 2,
            "linecolor": "white",
            "showbackground": true,
            "ticks": "",
            "zerolinecolor": "white"
           }
          },
          "shapedefaults": {
           "line": {
            "color": "#2a3f5f"
           }
          },
          "ternary": {
           "aaxis": {
            "gridcolor": "white",
            "linecolor": "white",
            "ticks": ""
           },
           "baxis": {
            "gridcolor": "white",
            "linecolor": "white",
            "ticks": ""
           },
           "bgcolor": "#E5ECF6",
           "caxis": {
            "gridcolor": "white",
            "linecolor": "white",
            "ticks": ""
           }
          },
          "title": {
           "x": 0.05
          },
          "xaxis": {
           "automargin": true,
           "gridcolor": "white",
           "linecolor": "white",
           "ticks": "",
           "title": {
            "standoff": 15
           },
           "zerolinecolor": "white",
           "zerolinewidth": 2
          },
          "yaxis": {
           "automargin": true,
           "gridcolor": "white",
           "linecolor": "white",
           "ticks": "",
           "title": {
            "standoff": 15
           },
           "zerolinecolor": "white",
           "zerolinewidth": 2
          }
         }
        },
        "title": {
         "text": "Predicted: right, Actual: back"
        },
        "xaxis": {
         "anchor": "y",
         "constrain": "domain",
         "domain": [
          0,
          1
         ],
         "scaleanchor": "y"
        },
        "yaxis": {
         "anchor": "x",
         "autorange": "reversed",
         "constrain": "domain",
         "domain": [
          0,
          1
         ]
        }
       }
      }
     },
     "metadata": {},
     "output_type": "display_data"
    },
    {
     "data": {
      "application/vnd.plotly.v1+json": {
       "config": {
        "plotlyServerURL": "https://plot.ly"
       },
       "data": [
        {
         "coloraxis": "coloraxis",
         "hovertemplate": "x: %{x}<br>y: %{y}<br>color: %{z}<extra></extra>",
         "name": "0",
         "type": "heatmap",
         "xaxis": "x",
         "yaxis": "y",
         "z": [
          [
           24.45,
           24.51,
           24.03,
           24.27,
           25.05,
           24.65,
           24.75,
           24.88,
           25.41,
           25.7,
           25.87,
           26.27,
           27.73,
           28.59,
           29.59,
           30.12,
           30.64,
           30.8,
           29.85,
           29.4,
           27.11,
           26.49,
           25.59,
           25.55,
           25.34,
           25.19,
           24.6,
           24.28,
           24.45,
           24.42,
           24.1,
           23.11
          ],
          [
           24.5,
           24.36,
           24.1,
           24.3,
           25.28,
           24.46,
           24.81,
           24.9,
           25.64,
           25.52,
           26.17,
           26.58,
           28.34,
           29.49,
           31.21,
           31.52,
           32.26,
           32.09,
           31.14,
           30.66,
           27.74,
           27.03,
           25.76,
           25.64,
           25.54,
           25.12,
           24.62,
           24.44,
           24.71,
           24.31,
           23.9,
           23
          ],
          [
           24.17,
           24.21,
           24.3,
           24.35,
           24.77,
           24.74,
           24.98,
           24.99,
           25.73,
           26.05,
           27.02,
           27.35,
           30.16,
           31.66,
           32.5,
           32.9,
           33.56,
           33.47,
           32.45,
           31.92,
           28.48,
           27.48,
           26.12,
           25.71,
           25.27,
           25.11,
           24.54,
           23.83,
           24.18,
           24.37,
           23.87,
           23.55
          ],
          [
           24.49,
           24.08,
           24.1,
           24.57,
           24.77,
           24.89,
           24.96,
           25.41,
           25.84,
           25.89,
           26.97,
           27.85,
           31.41,
           32.23,
           32.65,
           32.95,
           33.37,
           32.99,
           32.7,
           32.29,
           29.06,
           27.75,
           26.19,
           25.95,
           25.36,
           24.84,
           24.61,
           24.65,
           24.3,
           24.39,
           24.29,
           23.77
          ],
          [
           24.06,
           24.3,
           24.27,
           24.46,
           24.54,
           24.92,
           25.18,
           25.54,
           25.77,
           26.26,
           27.15,
           28.17,
           31.45,
           32.75,
           32.25,
           31.86,
           32.18,
           32.76,
           32.69,
           32.3,
           28.9,
           27.79,
           26.11,
           25.84,
           25.3,
           25.26,
           24.51,
           24.57,
           24.19,
           24.04,
           23.88,
           23.6
          ],
          [
           24.19,
           23.8,
           24.24,
           24.49,
           24.82,
           24.91,
           25.15,
           25.19,
           26.11,
           25.99,
           27.52,
           28.22,
           31.64,
           32.34,
           31.69,
           30.73,
           31.71,
           32.53,
           32.74,
           32.28,
           28.95,
           27.94,
           26.4,
           25.94,
           25.4,
           24.98,
           24.75,
           24.85,
           24.59,
           23.87,
           23.56,
           23.71
          ],
          [
           24.17,
           24.16,
           24.2,
           24.27,
           24.93,
           25.11,
           25.19,
           25.44,
           26.31,
           26.57,
           27.36,
           27.94,
           31.04,
           32.2,
           30.86,
           29.69,
           31.07,
           32.3,
           32.12,
           31.34,
           28.33,
           27.58,
           26.39,
           25.83,
           25.29,
           25.18,
           24.43,
           24.58,
           24.31,
           24.39,
           23.82,
           23.85
          ],
          [
           24.14,
           24.02,
           24.58,
           24.55,
           24.9,
           24.84,
           25.52,
           25.56,
           26.72,
           26.61,
           27.63,
           28.17,
           31.16,
           31.99,
           31.41,
           30.47,
           31.87,
           32.29,
           32.12,
           30.9,
           28.4,
           27.32,
           26.36,
           26.24,
           25.74,
           25.26,
           24.78,
           24.71,
           24.38,
           24.35,
           23.86,
           24.03
          ],
          [
           24.09,
           24.25,
           24.37,
           24.53,
           25,
           25.54,
           25.52,
           26.27,
           27.45,
           27.86,
           28.55,
           29.09,
           31.39,
           32.22,
           32.02,
           32.13,
           32.52,
           33.04,
           31.57,
           30.2,
           27.91,
           27.48,
           26.54,
           26.34,
           25.51,
           25.39,
           24.79,
           24.82,
           24.13,
           24.47,
           24.02,
           23.84
          ],
          [
           24.34,
           24.1,
           24.45,
           24.41,
           25.34,
           25.27,
           26.15,
           26.77,
           28.32,
           28.76,
           29.7,
           30,
           32.12,
           32.29,
           31.88,
           31.72,
           32.48,
           32.71,
           31.61,
           30.49,
           28.83,
           28.08,
           26.91,
           26.5,
           25.71,
           25.46,
           24.87,
           24.67,
           24.66,
           24.28,
           24.23,
           23.85
          ],
          [
           23.91,
           24.4,
           24.54,
           24.72,
           25.28,
           25.4,
           27.33,
           28.43,
           29.65,
           29.79,
           30.53,
           30.9,
           32.93,
           33.02,
           31.66,
           31.36,
           31.69,
           32.48,
           32.25,
           31.81,
           30.6,
           30.15,
           28.21,
           27.34,
           25.98,
           25.67,
           24.97,
           24.75,
           24.57,
           24.33,
           24.12,
           23.74
          ],
          [
           24.3,
           24.07,
           24.62,
           24.84,
           25.61,
           25.35,
           27.72,
           28.8,
           29.75,
           29.64,
           30.33,
           30.69,
           32.51,
           32.64,
           32.7,
           32.51,
           32.66,
           32.66,
           31.97,
           31.6,
           31.2,
           31.1,
           29.24,
           27.99,
           25.96,
           25.5,
           24.91,
           25.09,
           24.5,
           24.3,
           23.98,
           24.08
          ],
          [
           24.06,
           24.53,
           24.36,
           24.84,
           25.44,
           25.84,
           28.36,
           29.42,
           30.02,
           29.9,
           30.37,
           30.37,
           30.82,
           30.93,
           30.69,
           30.67,
           31,
           31.2,
           31.16,
           31.1,
           31.05,
           30.84,
           29.55,
           28.51,
           25.86,
           25.62,
           24.83,
           24.76,
           24.34,
           23.88,
           24.02,
           24.22
          ],
          [
           24.59,
           24.18,
           24.71,
           24.95,
           25.76,
           26.36,
           28.96,
           29.7,
           30.22,
           30.04,
           30.56,
           30.78,
           30.76,
           30.89,
           30.8,
           30.57,
           31.19,
           31.24,
           31.34,
           31.34,
           30.71,
           30.45,
           29.73,
           28.78,
           26.16,
           25.44,
           25.12,
           24.98,
           24.72,
           24.1,
           24.05,
           23.99
          ],
          [
           24.47,
           24.27,
           24.49,
           24.78,
           25.62,
           26.83,
           29.7,
           30.33,
           30.5,
           30.28,
           30.57,
           30.68,
           30.57,
           30.97,
           31.28,
           31.11,
           31.33,
           31.45,
           31.29,
           31.04,
           30.21,
           29.98,
           29.36,
           28.73,
           26.14,
           25.71,
           24.77,
           24.56,
           24.34,
           24.49,
           23.84,
           23.96
          ],
          [
           24.19,
           24.2,
           24.54,
           24.75,
           25.83,
           26.56,
           29.7,
           30.53,
           30.63,
           30.37,
           30.42,
           30.51,
           30.88,
           31.04,
           31.32,
           30.96,
           31.2,
           31.19,
           30.99,
           30.88,
           30.15,
           30.06,
           29.35,
           28.52,
           25.88,
           25.39,
           24.8,
           24.62,
           24.67,
           24.25,
           24.19,
           23.73
          ],
          [
           24.12,
           24.5,
           24.53,
           24.76,
           25.66,
           27.03,
           30.2,
           30.54,
           30.59,
           30.58,
           29.87,
           29.48,
           29.92,
           30.68,
           30.33,
           30.32,
           30.79,
           30.86,
           30.58,
           30.45,
           29.58,
           29.59,
           28.64,
           27.61,
           25.47,
           25.26,
           24.63,
           24.96,
           24.25,
           24.7,
           23.84,
           24.33
          ],
          [
           24.66,
           24.45,
           24.41,
           24.71,
           25.98,
           26.98,
           30.22,
           30.25,
           30.34,
           30.29,
           29.72,
           29.58,
           30.34,
           30.24,
           29.76,
           29.9,
           30.41,
           30.24,
           30.53,
           30.2,
           29.79,
           29.59,
           28.73,
           27.69,
           25.52,
           25.3,
           24.79,
           24.77,
           24.59,
           24.28,
           24.37,
           24.27
          ],
          [
           25.3,
           25.08,
           24.73,
           24.77,
           25.44,
           26.07,
           28.9,
           29.51,
           29.94,
           30.13,
           29.59,
           29.38,
           28.99,
           28.97,
           28.55,
           28.84,
           29.7,
           29.94,
           30.23,
           30.13,
           29.45,
           30.14,
           29.89,
           28.5,
           25.86,
           25.34,
           24.67,
           24.57,
           24.35,
           24.42,
           24.05,
           23.86
          ],
          [
           26.23,
           25.57,
           24.61,
           24.7,
           25.09,
           25.08,
           27.48,
           28.05,
           29.45,
           29.84,
           29.53,
           29.4,
           29.03,
           28.48,
           28.75,
           29.03,
           29.85,
           29.76,
           30.17,
           30.08,
           28.96,
           29.95,
           30.23,
           28.38,
           25.78,
           25.24,
           25.11,
           24.63,
           24.37,
           24.16,
           24.03,
           23.9
          ],
          [
           25.29,
           25.44,
           24.49,
           24.79,
           24.6,
           24.65,
           25.07,
           25.5,
           27.27,
           28.42,
           29.79,
           29.86,
           29.7,
           29.52,
           29.77,
           30.05,
           30.39,
           30.64,
           30.02,
           28.97,
           27.48,
           28.99,
           29.4,
           27.58,
           25.26,
           25.12,
           24.44,
           24.63,
           24.22,
           24.09,
           23.76,
           23.79
          ],
          [
           24.75,
           24.43,
           24.64,
           24.74,
           24.79,
           24.84,
           24.94,
           25.16,
           26.88,
           27.95,
           29.94,
           29.92,
           30.18,
           30.07,
           30.22,
           30.29,
           30.88,
           30.48,
           29.95,
           28.58,
           26.89,
           28.29,
           28.8,
           27.19,
           25.16,
           24.72,
           24.74,
           24.55,
           24.6,
           23.96,
           23.87,
           23.79
          ],
          [
           24.07,
           24.52,
           24.27,
           24.13,
           24.4,
           24.57,
           24.36,
           24.52,
           25.52,
           26.81,
           29.92,
           30.32,
           30.2,
           30.63,
           30.44,
           30.2,
           30.38,
           30.6,
           29.02,
           27.47,
           26.04,
           27.59,
           27.45,
           26.2,
           24.83,
           24.96,
           24.09,
           24.59,
           24.2,
           24.27,
           22.97,
           23.39
          ],
          [
           23.97,
           24.17,
           24.62,
           24.42,
           24.4,
           24.32,
           24.48,
           24.42,
           25.68,
           26.09,
           29.59,
           29.92,
           30.51,
           30,
           30.05,
           29.81,
           30.22,
           30.09,
           28.41,
           27.08,
           26.2,
           27.43,
           26.97,
           26.14,
           25.31,
           24.69,
           24.21,
           24.34,
           24.74,
           23.54,
           23.42,
           22.74
          ]
         ]
        }
       ],
       "layout": {
        "coloraxis": {
         "colorscale": [
          [
           0,
           "#0d0887"
          ],
          [
           0.1111111111111111,
           "#46039f"
          ],
          [
           0.2222222222222222,
           "#7201a8"
          ],
          [
           0.3333333333333333,
           "#9c179e"
          ],
          [
           0.4444444444444444,
           "#bd3786"
          ],
          [
           0.5555555555555556,
           "#d8576b"
          ],
          [
           0.6666666666666666,
           "#ed7953"
          ],
          [
           0.7777777777777778,
           "#fb9f3a"
          ],
          [
           0.8888888888888888,
           "#fdca26"
          ],
          [
           1,
           "#f0f921"
          ]
         ]
        },
        "margin": {
         "t": 60
        },
        "template": {
         "data": {
          "bar": [
           {
            "error_x": {
             "color": "#2a3f5f"
            },
            "error_y": {
             "color": "#2a3f5f"
            },
            "marker": {
             "line": {
              "color": "#E5ECF6",
              "width": 0.5
             },
             "pattern": {
              "fillmode": "overlay",
              "size": 10,
              "solidity": 0.2
             }
            },
            "type": "bar"
           }
          ],
          "barpolar": [
           {
            "marker": {
             "line": {
              "color": "#E5ECF6",
              "width": 0.5
             },
             "pattern": {
              "fillmode": "overlay",
              "size": 10,
              "solidity": 0.2
             }
            },
            "type": "barpolar"
           }
          ],
          "carpet": [
           {
            "aaxis": {
             "endlinecolor": "#2a3f5f",
             "gridcolor": "white",
             "linecolor": "white",
             "minorgridcolor": "white",
             "startlinecolor": "#2a3f5f"
            },
            "baxis": {
             "endlinecolor": "#2a3f5f",
             "gridcolor": "white",
             "linecolor": "white",
             "minorgridcolor": "white",
             "startlinecolor": "#2a3f5f"
            },
            "type": "carpet"
           }
          ],
          "choropleth": [
           {
            "colorbar": {
             "outlinewidth": 0,
             "ticks": ""
            },
            "type": "choropleth"
           }
          ],
          "contour": [
           {
            "colorbar": {
             "outlinewidth": 0,
             "ticks": ""
            },
            "colorscale": [
             [
              0,
              "#0d0887"
             ],
             [
              0.1111111111111111,
              "#46039f"
             ],
             [
              0.2222222222222222,
              "#7201a8"
             ],
             [
              0.3333333333333333,
              "#9c179e"
             ],
             [
              0.4444444444444444,
              "#bd3786"
             ],
             [
              0.5555555555555556,
              "#d8576b"
             ],
             [
              0.6666666666666666,
              "#ed7953"
             ],
             [
              0.7777777777777778,
              "#fb9f3a"
             ],
             [
              0.8888888888888888,
              "#fdca26"
             ],
             [
              1,
              "#f0f921"
             ]
            ],
            "type": "contour"
           }
          ],
          "contourcarpet": [
           {
            "colorbar": {
             "outlinewidth": 0,
             "ticks": ""
            },
            "type": "contourcarpet"
           }
          ],
          "heatmap": [
           {
            "colorbar": {
             "outlinewidth": 0,
             "ticks": ""
            },
            "colorscale": [
             [
              0,
              "#0d0887"
             ],
             [
              0.1111111111111111,
              "#46039f"
             ],
             [
              0.2222222222222222,
              "#7201a8"
             ],
             [
              0.3333333333333333,
              "#9c179e"
             ],
             [
              0.4444444444444444,
              "#bd3786"
             ],
             [
              0.5555555555555556,
              "#d8576b"
             ],
             [
              0.6666666666666666,
              "#ed7953"
             ],
             [
              0.7777777777777778,
              "#fb9f3a"
             ],
             [
              0.8888888888888888,
              "#fdca26"
             ],
             [
              1,
              "#f0f921"
             ]
            ],
            "type": "heatmap"
           }
          ],
          "heatmapgl": [
           {
            "colorbar": {
             "outlinewidth": 0,
             "ticks": ""
            },
            "colorscale": [
             [
              0,
              "#0d0887"
             ],
             [
              0.1111111111111111,
              "#46039f"
             ],
             [
              0.2222222222222222,
              "#7201a8"
             ],
             [
              0.3333333333333333,
              "#9c179e"
             ],
             [
              0.4444444444444444,
              "#bd3786"
             ],
             [
              0.5555555555555556,
              "#d8576b"
             ],
             [
              0.6666666666666666,
              "#ed7953"
             ],
             [
              0.7777777777777778,
              "#fb9f3a"
             ],
             [
              0.8888888888888888,
              "#fdca26"
             ],
             [
              1,
              "#f0f921"
             ]
            ],
            "type": "heatmapgl"
           }
          ],
          "histogram": [
           {
            "marker": {
             "pattern": {
              "fillmode": "overlay",
              "size": 10,
              "solidity": 0.2
             }
            },
            "type": "histogram"
           }
          ],
          "histogram2d": [
           {
            "colorbar": {
             "outlinewidth": 0,
             "ticks": ""
            },
            "colorscale": [
             [
              0,
              "#0d0887"
             ],
             [
              0.1111111111111111,
              "#46039f"
             ],
             [
              0.2222222222222222,
              "#7201a8"
             ],
             [
              0.3333333333333333,
              "#9c179e"
             ],
             [
              0.4444444444444444,
              "#bd3786"
             ],
             [
              0.5555555555555556,
              "#d8576b"
             ],
             [
              0.6666666666666666,
              "#ed7953"
             ],
             [
              0.7777777777777778,
              "#fb9f3a"
             ],
             [
              0.8888888888888888,
              "#fdca26"
             ],
             [
              1,
              "#f0f921"
             ]
            ],
            "type": "histogram2d"
           }
          ],
          "histogram2dcontour": [
           {
            "colorbar": {
             "outlinewidth": 0,
             "ticks": ""
            },
            "colorscale": [
             [
              0,
              "#0d0887"
             ],
             [
              0.1111111111111111,
              "#46039f"
             ],
             [
              0.2222222222222222,
              "#7201a8"
             ],
             [
              0.3333333333333333,
              "#9c179e"
             ],
             [
              0.4444444444444444,
              "#bd3786"
             ],
             [
              0.5555555555555556,
              "#d8576b"
             ],
             [
              0.6666666666666666,
              "#ed7953"
             ],
             [
              0.7777777777777778,
              "#fb9f3a"
             ],
             [
              0.8888888888888888,
              "#fdca26"
             ],
             [
              1,
              "#f0f921"
             ]
            ],
            "type": "histogram2dcontour"
           }
          ],
          "mesh3d": [
           {
            "colorbar": {
             "outlinewidth": 0,
             "ticks": ""
            },
            "type": "mesh3d"
           }
          ],
          "parcoords": [
           {
            "line": {
             "colorbar": {
              "outlinewidth": 0,
              "ticks": ""
             }
            },
            "type": "parcoords"
           }
          ],
          "pie": [
           {
            "automargin": true,
            "type": "pie"
           }
          ],
          "scatter": [
           {
            "fillpattern": {
             "fillmode": "overlay",
             "size": 10,
             "solidity": 0.2
            },
            "type": "scatter"
           }
          ],
          "scatter3d": [
           {
            "line": {
             "colorbar": {
              "outlinewidth": 0,
              "ticks": ""
             }
            },
            "marker": {
             "colorbar": {
              "outlinewidth": 0,
              "ticks": ""
             }
            },
            "type": "scatter3d"
           }
          ],
          "scattercarpet": [
           {
            "marker": {
             "colorbar": {
              "outlinewidth": 0,
              "ticks": ""
             }
            },
            "type": "scattercarpet"
           }
          ],
          "scattergeo": [
           {
            "marker": {
             "colorbar": {
              "outlinewidth": 0,
              "ticks": ""
             }
            },
            "type": "scattergeo"
           }
          ],
          "scattergl": [
           {
            "marker": {
             "colorbar": {
              "outlinewidth": 0,
              "ticks": ""
             }
            },
            "type": "scattergl"
           }
          ],
          "scattermapbox": [
           {
            "marker": {
             "colorbar": {
              "outlinewidth": 0,
              "ticks": ""
             }
            },
            "type": "scattermapbox"
           }
          ],
          "scatterpolar": [
           {
            "marker": {
             "colorbar": {
              "outlinewidth": 0,
              "ticks": ""
             }
            },
            "type": "scatterpolar"
           }
          ],
          "scatterpolargl": [
           {
            "marker": {
             "colorbar": {
              "outlinewidth": 0,
              "ticks": ""
             }
            },
            "type": "scatterpolargl"
           }
          ],
          "scatterternary": [
           {
            "marker": {
             "colorbar": {
              "outlinewidth": 0,
              "ticks": ""
             }
            },
            "type": "scatterternary"
           }
          ],
          "surface": [
           {
            "colorbar": {
             "outlinewidth": 0,
             "ticks": ""
            },
            "colorscale": [
             [
              0,
              "#0d0887"
             ],
             [
              0.1111111111111111,
              "#46039f"
             ],
             [
              0.2222222222222222,
              "#7201a8"
             ],
             [
              0.3333333333333333,
              "#9c179e"
             ],
             [
              0.4444444444444444,
              "#bd3786"
             ],
             [
              0.5555555555555556,
              "#d8576b"
             ],
             [
              0.6666666666666666,
              "#ed7953"
             ],
             [
              0.7777777777777778,
              "#fb9f3a"
             ],
             [
              0.8888888888888888,
              "#fdca26"
             ],
             [
              1,
              "#f0f921"
             ]
            ],
            "type": "surface"
           }
          ],
          "table": [
           {
            "cells": {
             "fill": {
              "color": "#EBF0F8"
             },
             "line": {
              "color": "white"
             }
            },
            "header": {
             "fill": {
              "color": "#C8D4E3"
             },
             "line": {
              "color": "white"
             }
            },
            "type": "table"
           }
          ]
         },
         "layout": {
          "annotationdefaults": {
           "arrowcolor": "#2a3f5f",
           "arrowhead": 0,
           "arrowwidth": 1
          },
          "autotypenumbers": "strict",
          "coloraxis": {
           "colorbar": {
            "outlinewidth": 0,
            "ticks": ""
           }
          },
          "colorscale": {
           "diverging": [
            [
             0,
             "#8e0152"
            ],
            [
             0.1,
             "#c51b7d"
            ],
            [
             0.2,
             "#de77ae"
            ],
            [
             0.3,
             "#f1b6da"
            ],
            [
             0.4,
             "#fde0ef"
            ],
            [
             0.5,
             "#f7f7f7"
            ],
            [
             0.6,
             "#e6f5d0"
            ],
            [
             0.7,
             "#b8e186"
            ],
            [
             0.8,
             "#7fbc41"
            ],
            [
             0.9,
             "#4d9221"
            ],
            [
             1,
             "#276419"
            ]
           ],
           "sequential": [
            [
             0,
             "#0d0887"
            ],
            [
             0.1111111111111111,
             "#46039f"
            ],
            [
             0.2222222222222222,
             "#7201a8"
            ],
            [
             0.3333333333333333,
             "#9c179e"
            ],
            [
             0.4444444444444444,
             "#bd3786"
            ],
            [
             0.5555555555555556,
             "#d8576b"
            ],
            [
             0.6666666666666666,
             "#ed7953"
            ],
            [
             0.7777777777777778,
             "#fb9f3a"
            ],
            [
             0.8888888888888888,
             "#fdca26"
            ],
            [
             1,
             "#f0f921"
            ]
           ],
           "sequentialminus": [
            [
             0,
             "#0d0887"
            ],
            [
             0.1111111111111111,
             "#46039f"
            ],
            [
             0.2222222222222222,
             "#7201a8"
            ],
            [
             0.3333333333333333,
             "#9c179e"
            ],
            [
             0.4444444444444444,
             "#bd3786"
            ],
            [
             0.5555555555555556,
             "#d8576b"
            ],
            [
             0.6666666666666666,
             "#ed7953"
            ],
            [
             0.7777777777777778,
             "#fb9f3a"
            ],
            [
             0.8888888888888888,
             "#fdca26"
            ],
            [
             1,
             "#f0f921"
            ]
           ]
          },
          "colorway": [
           "#636efa",
           "#EF553B",
           "#00cc96",
           "#ab63fa",
           "#FFA15A",
           "#19d3f3",
           "#FF6692",
           "#B6E880",
           "#FF97FF",
           "#FECB52"
          ],
          "font": {
           "color": "#2a3f5f"
          },
          "geo": {
           "bgcolor": "white",
           "lakecolor": "white",
           "landcolor": "#E5ECF6",
           "showlakes": true,
           "showland": true,
           "subunitcolor": "white"
          },
          "hoverlabel": {
           "align": "left"
          },
          "hovermode": "closest",
          "mapbox": {
           "style": "light"
          },
          "paper_bgcolor": "white",
          "plot_bgcolor": "#E5ECF6",
          "polar": {
           "angularaxis": {
            "gridcolor": "white",
            "linecolor": "white",
            "ticks": ""
           },
           "bgcolor": "#E5ECF6",
           "radialaxis": {
            "gridcolor": "white",
            "linecolor": "white",
            "ticks": ""
           }
          },
          "scene": {
           "xaxis": {
            "backgroundcolor": "#E5ECF6",
            "gridcolor": "white",
            "gridwidth": 2,
            "linecolor": "white",
            "showbackground": true,
            "ticks": "",
            "zerolinecolor": "white"
           },
           "yaxis": {
            "backgroundcolor": "#E5ECF6",
            "gridcolor": "white",
            "gridwidth": 2,
            "linecolor": "white",
            "showbackground": true,
            "ticks": "",
            "zerolinecolor": "white"
           },
           "zaxis": {
            "backgroundcolor": "#E5ECF6",
            "gridcolor": "white",
            "gridwidth": 2,
            "linecolor": "white",
            "showbackground": true,
            "ticks": "",
            "zerolinecolor": "white"
           }
          },
          "shapedefaults": {
           "line": {
            "color": "#2a3f5f"
           }
          },
          "ternary": {
           "aaxis": {
            "gridcolor": "white",
            "linecolor": "white",
            "ticks": ""
           },
           "baxis": {
            "gridcolor": "white",
            "linecolor": "white",
            "ticks": ""
           },
           "bgcolor": "#E5ECF6",
           "caxis": {
            "gridcolor": "white",
            "linecolor": "white",
            "ticks": ""
           }
          },
          "title": {
           "x": 0.05
          },
          "xaxis": {
           "automargin": true,
           "gridcolor": "white",
           "linecolor": "white",
           "ticks": "",
           "title": {
            "standoff": 15
           },
           "zerolinecolor": "white",
           "zerolinewidth": 2
          },
          "yaxis": {
           "automargin": true,
           "gridcolor": "white",
           "linecolor": "white",
           "ticks": "",
           "title": {
            "standoff": 15
           },
           "zerolinecolor": "white",
           "zerolinewidth": 2
          }
         }
        },
        "title": {
         "text": "Predicted: right, Actual: back"
        },
        "xaxis": {
         "anchor": "y",
         "constrain": "domain",
         "domain": [
          0,
          1
         ],
         "scaleanchor": "y"
        },
        "yaxis": {
         "anchor": "x",
         "autorange": "reversed",
         "constrain": "domain",
         "domain": [
          0,
          1
         ]
        }
       }
      }
     },
     "metadata": {},
     "output_type": "display_data"
    },
    {
     "data": {
      "application/vnd.plotly.v1+json": {
       "config": {
        "plotlyServerURL": "https://plot.ly"
       },
       "data": [
        {
         "coloraxis": "coloraxis",
         "hovertemplate": "x: %{x}<br>y: %{y}<br>color: %{z}<extra></extra>",
         "name": "0",
         "type": "heatmap",
         "xaxis": "x",
         "yaxis": "y",
         "z": [
          [
           25.35,
           25.17,
           25.3,
           25.62,
           25.87,
           26.02,
           26.25,
           26.57,
           26.93,
           27.36,
           27.4,
           27.93,
           28.17,
           28.7,
           28.92,
           28.93,
           28.56,
           28.58,
           28.32,
           28.19,
           26.95,
           26.85,
           26.29,
           26.12,
           25.45,
           25.31,
           25.22,
           25.46,
           24.67,
           24.83,
           24.54,
           25.38
          ],
          [
           25.34,
           25.15,
           25.61,
           25.76,
           25.99,
           26.1,
           26.76,
           26.68,
           27.16,
           27.29,
           27.94,
           28.23,
           28.8,
           28.95,
           29.15,
           29.05,
           28.92,
           29.06,
           29.25,
           28.81,
           27.52,
           27.03,
           26.5,
           25.93,
           25.41,
           25.54,
           25.47,
           25.04,
           25.04,
           24.7,
           25.31,
           24.5
          ],
          [
           25.03,
           25.15,
           25.45,
           26.04,
           26.42,
           26.55,
           26.9,
           27.31,
           27.51,
           27.71,
           28.11,
           28.56,
           29.22,
           29.56,
           29.23,
           29.23,
           29.33,
           29.88,
           30.38,
           29.87,
           28.19,
           27.84,
           26.43,
           26.37,
           25.83,
           25.53,
           24.96,
           25.2,
           24.92,
           24.43,
           24.81,
           24.76
          ],
          [
           25.42,
           25.34,
           25.78,
           26.2,
           26.44,
           26.53,
           26.87,
           27.06,
           27.6,
           27.65,
           28.17,
           28.42,
           29.16,
           29.39,
           29.57,
           29.48,
           29.98,
           30.43,
           30.69,
           29.92,
           28.93,
           28.13,
           26.89,
           26.25,
           25.69,
           25.53,
           25.38,
           24.76,
           25.11,
           24.96,
           24.96,
           24.4
          ],
          [
           24.98,
           25.64,
           25.92,
           26.29,
           27.01,
           27.11,
           27.2,
           27.44,
           27.54,
           27.58,
           27.77,
           28.3,
           28.91,
           29.11,
           29.98,
           30.18,
           29.79,
           29.71,
           29.42,
           29.42,
           28.57,
           28.47,
           26.76,
           26.58,
           25.94,
           25.5,
           25.18,
           25.54,
           24.69,
           24.71,
           24.39,
           24.51
          ],
          [
           25.35,
           25.26,
           25.91,
           26.28,
           27.69,
           27.59,
           27.63,
           27.43,
           27.76,
           27.42,
           28.25,
           28.29,
           28.98,
           29.27,
           29.82,
           29.93,
           29.26,
           28.98,
           29.16,
           29.37,
           28.33,
           28.21,
           27.39,
           26.68,
           25.69,
           25.35,
           25.32,
           25.21,
           24.82,
           24.33,
           24.69,
           24.36
          ],
          [
           25.32,
           25.2,
           25.86,
           26.76,
           27.96,
           28.47,
           27.86,
           27.87,
           27.75,
           27.8,
           28.14,
           28.44,
           28.65,
           29.12,
           29.84,
           29.47,
           28.75,
           28.95,
           29.58,
           29.84,
           28.71,
           28.22,
           27.21,
           26.52,
           25.51,
           25.75,
           25.17,
           25.3,
           24.71,
           24.64,
           24.38,
           24.63
          ],
          [
           25.17,
           25.33,
           26.25,
           26.46,
           28.41,
           28.66,
           28.71,
           28.29,
           28.15,
           28.16,
           28.41,
           28.5,
           28.89,
           29.09,
           29.7,
           29.17,
           28.82,
           28.83,
           29.79,
           29.72,
           28.87,
           28.19,
           27.17,
           26.39,
           25.75,
           25.59,
           25.67,
           25.42,
           24.66,
           24.72,
           24.84,
           24.55
          ],
          [
           25.41,
           25.14,
           25.89,
           26.19,
           27.75,
           28.84,
           29.19,
           29.48,
           29.3,
           29.29,
           29.2,
           29.38,
           30.78,
           30.86,
           29.38,
           29.03,
           29.63,
           30.34,
           30.96,
           30.77,
           29.28,
           28.74,
           27,
           26.66,
           25.81,
           25.66,
           25.31,
           25.44,
           24.58,
           24.66,
           24.97,
           24.48
          ],
          [
           25.06,
           25.12,
           25.71,
           26.06,
           27.35,
           28.33,
           29.57,
           29.55,
           29.75,
           29.83,
           29.98,
           30.32,
           31.85,
           31.83,
           29.59,
           29.94,
           31.61,
           32.16,
           32.01,
           31.78,
           29.72,
           28.79,
           27.25,
           26.83,
           26.01,
           25.74,
           25.54,
           25.15,
           25,
           24.59,
           24.73,
           24.42
          ],
          [
           24.94,
           25.17,
           25.4,
           26.01,
           26.46,
           27.17,
           28.34,
           28.86,
           30.05,
           30.76,
           30.96,
           31.33,
           31.33,
           31.23,
           31.11,
           32.18,
           33.16,
           32.53,
           31.48,
           30.77,
           29.28,
           28.73,
           27.62,
           27.2,
           26.08,
           25.86,
           25.27,
           25.4,
           25.09,
           24.68,
           24.6,
           24.57
          ],
          [
           25.04,
           24.65,
           25.89,
           25.85,
           26.3,
           26.66,
           27.78,
           27.93,
           30.22,
           30.73,
           31.34,
           31.32,
           31.21,
           31.04,
           31.48,
           32.01,
           32.31,
           31.76,
           30.58,
           30.04,
           29.69,
           29.43,
           28.26,
           27.16,
           25.72,
           25.92,
           25.59,
           25.19,
           24.74,
           24.76,
           24.83,
           24.5
          ],
          [
           25.09,
           25,
           25.33,
           25.74,
           25.8,
           26.23,
           27.13,
           27.74,
           29.95,
           30.77,
           31.22,
           31.31,
           30.62,
           30.8,
           30.45,
           30.74,
           30.92,
           31.34,
           29.78,
           29.44,
           30.08,
           30.2,
           27.99,
           27.29,
           25.86,
           25.67,
           25.38,
           25.29,
           24.68,
           24.81,
           24.47,
           24.7
          ],
          [
           25.18,
           25.06,
           25.7,
           25.69,
           26.35,
           26.4,
           27.28,
           27.81,
           30.22,
           30.84,
           31.37,
           31.14,
           30.86,
           30.69,
           30.83,
           30.57,
           30.99,
           30.91,
           29.58,
           29.24,
           29.51,
           29.34,
           27.55,
           26.94,
           25.91,
           25.72,
           25.79,
           25.11,
           24.65,
           24.7,
           24.71,
           24.21
          ],
          [
           25.17,
           25.17,
           25.47,
           25.79,
           26.43,
           26.86,
           27.2,
           28.05,
           30.24,
           30.96,
           31.15,
           31.09,
           30.92,
           30.81,
           30.61,
           30.68,
           30.28,
           30.22,
           29.18,
           29.26,
           28.97,
           28.6,
           27.21,
           26.89,
           25.97,
           25.86,
           25.16,
           25.19,
           24.68,
           24.79,
           24.29,
           24.77
          ],
          [
           25.38,
           25.36,
           25.53,
           25.73,
           26.75,
           26.91,
           27.47,
           28.12,
           30.41,
           30.87,
           30.96,
           31.1,
           31.09,
           31.15,
           30.85,
           30.77,
           30.44,
           30.02,
           29.49,
           29.61,
           28.85,
           28.09,
           27.54,
           26.83,
           25.91,
           25.86,
           25.19,
           25.21,
           24.86,
           24.64,
           25.02,
           24.44
          ],
          [
           25.1,
           25.22,
           25.07,
           25.74,
           26.43,
           26.61,
           27.43,
           28.19,
           30.15,
           30.63,
           30.95,
           31.09,
           31.29,
           31.32,
           31.1,
           31.16,
           30.5,
           30.16,
           29.98,
           30.17,
           28.56,
           28.17,
           27.27,
           27.14,
           25.81,
           25.59,
           25.22,
           25.15,
           24.79,
           24.81,
           24.05,
           24.54
          ],
          [
           24.99,
           24.96,
           25.52,
           25.52,
           25.99,
           26.4,
           27.36,
           27.82,
           30.05,
           30.54,
           31.05,
           31.12,
           31.48,
           31.33,
           31.46,
           31.36,
           30.86,
           30.33,
           30.77,
           30.27,
           28.21,
           27.61,
           27.09,
           26.74,
           25.83,
           25.6,
           25.25,
           24.9,
           24.68,
           24.3,
           24.8,
           24.55
          ],
          [
           25.01,
           25.05,
           25.18,
           25.44,
           25.5,
           26.03,
           26.46,
           27.07,
           29.16,
           30.08,
           30.73,
           31.09,
           31.4,
           31.34,
           31.21,
           31.4,
           30.96,
           30.59,
           30.41,
           29.63,
           27.36,
           26.9,
           26.24,
           26.39,
           25.61,
           25.46,
           24.75,
           25.37,
           24.49,
           24.56,
           24.51,
           24.56
          ],
          [
           24.89,
           25.13,
           25.67,
           25.3,
           25.67,
           25.65,
           26.6,
           26.64,
           28.37,
           30.08,
           30.94,
           30.93,
           31.24,
           31.19,
           31.03,
           31.24,
           30.59,
           30.02,
           29.92,
           28.82,
           26.74,
           26.36,
           26.36,
           26.04,
           25.49,
           25.29,
           25.04,
           24.91,
           24.85,
           24.73,
           24.92,
           24.65
          ],
          [
           25.02,
           24.92,
           25.15,
           25.68,
           25.36,
           25.59,
           26.19,
           26.54,
           27.73,
           29.14,
           31.09,
           31.16,
           30.7,
           30.5,
           29.96,
           30.26,
           29.44,
           29.36,
           28.29,
           27.74,
           26.51,
           26.34,
           25.78,
           25.96,
           25.08,
           25.24,
           24.54,
           24.88,
           24.38,
           24.46,
           24.46,
           24.98
          ],
          [
           24.87,
           24.7,
           25.48,
           25.54,
           25.55,
           25.58,
           25.92,
           26.54,
           27.41,
           28.17,
           31.22,
           31.1,
           30.94,
           30.29,
           30.27,
           30.26,
           29.1,
           28.78,
           27.79,
           27.12,
           26.3,
           26.06,
           26.03,
           25.56,
           25.39,
           24.9,
           24.99,
           24.71,
           24.42,
           24.58,
           25.06,
           25.01
          ],
          [
           24.57,
           24.95,
           24.97,
           25.64,
           25.85,
           25.59,
           25.85,
           26.32,
           26.62,
           27.27,
           29.72,
           30.76,
           30.52,
           30.41,
           29.92,
           30.25,
           29.1,
           28.65,
           27.44,
           27.05,
           26.1,
           25.8,
           25.63,
           25.77,
           25.05,
           24.89,
           24.68,
           24.85,
           24.37,
           24.68,
           24.77,
           25.12
          ],
          [
           24.67,
           24.66,
           25.55,
           24.95,
           25.22,
           25.6,
           25.99,
           25.9,
           26.64,
           26.76,
           29.59,
           30.06,
           30.55,
           30.28,
           30.03,
           29.9,
           29.09,
           28.72,
           27.33,
           26.82,
           26.21,
           25.9,
           25.61,
           25.3,
           25.03,
           24.83,
           24.82,
           24.66,
           24.7,
           24.37,
           24.69,
           24.6
          ]
         ]
        }
       ],
       "layout": {
        "coloraxis": {
         "colorscale": [
          [
           0,
           "#0d0887"
          ],
          [
           0.1111111111111111,
           "#46039f"
          ],
          [
           0.2222222222222222,
           "#7201a8"
          ],
          [
           0.3333333333333333,
           "#9c179e"
          ],
          [
           0.4444444444444444,
           "#bd3786"
          ],
          [
           0.5555555555555556,
           "#d8576b"
          ],
          [
           0.6666666666666666,
           "#ed7953"
          ],
          [
           0.7777777777777778,
           "#fb9f3a"
          ],
          [
           0.8888888888888888,
           "#fdca26"
          ],
          [
           1,
           "#f0f921"
          ]
         ]
        },
        "margin": {
         "t": 60
        },
        "template": {
         "data": {
          "bar": [
           {
            "error_x": {
             "color": "#2a3f5f"
            },
            "error_y": {
             "color": "#2a3f5f"
            },
            "marker": {
             "line": {
              "color": "#E5ECF6",
              "width": 0.5
             },
             "pattern": {
              "fillmode": "overlay",
              "size": 10,
              "solidity": 0.2
             }
            },
            "type": "bar"
           }
          ],
          "barpolar": [
           {
            "marker": {
             "line": {
              "color": "#E5ECF6",
              "width": 0.5
             },
             "pattern": {
              "fillmode": "overlay",
              "size": 10,
              "solidity": 0.2
             }
            },
            "type": "barpolar"
           }
          ],
          "carpet": [
           {
            "aaxis": {
             "endlinecolor": "#2a3f5f",
             "gridcolor": "white",
             "linecolor": "white",
             "minorgridcolor": "white",
             "startlinecolor": "#2a3f5f"
            },
            "baxis": {
             "endlinecolor": "#2a3f5f",
             "gridcolor": "white",
             "linecolor": "white",
             "minorgridcolor": "white",
             "startlinecolor": "#2a3f5f"
            },
            "type": "carpet"
           }
          ],
          "choropleth": [
           {
            "colorbar": {
             "outlinewidth": 0,
             "ticks": ""
            },
            "type": "choropleth"
           }
          ],
          "contour": [
           {
            "colorbar": {
             "outlinewidth": 0,
             "ticks": ""
            },
            "colorscale": [
             [
              0,
              "#0d0887"
             ],
             [
              0.1111111111111111,
              "#46039f"
             ],
             [
              0.2222222222222222,
              "#7201a8"
             ],
             [
              0.3333333333333333,
              "#9c179e"
             ],
             [
              0.4444444444444444,
              "#bd3786"
             ],
             [
              0.5555555555555556,
              "#d8576b"
             ],
             [
              0.6666666666666666,
              "#ed7953"
             ],
             [
              0.7777777777777778,
              "#fb9f3a"
             ],
             [
              0.8888888888888888,
              "#fdca26"
             ],
             [
              1,
              "#f0f921"
             ]
            ],
            "type": "contour"
           }
          ],
          "contourcarpet": [
           {
            "colorbar": {
             "outlinewidth": 0,
             "ticks": ""
            },
            "type": "contourcarpet"
           }
          ],
          "heatmap": [
           {
            "colorbar": {
             "outlinewidth": 0,
             "ticks": ""
            },
            "colorscale": [
             [
              0,
              "#0d0887"
             ],
             [
              0.1111111111111111,
              "#46039f"
             ],
             [
              0.2222222222222222,
              "#7201a8"
             ],
             [
              0.3333333333333333,
              "#9c179e"
             ],
             [
              0.4444444444444444,
              "#bd3786"
             ],
             [
              0.5555555555555556,
              "#d8576b"
             ],
             [
              0.6666666666666666,
              "#ed7953"
             ],
             [
              0.7777777777777778,
              "#fb9f3a"
             ],
             [
              0.8888888888888888,
              "#fdca26"
             ],
             [
              1,
              "#f0f921"
             ]
            ],
            "type": "heatmap"
           }
          ],
          "heatmapgl": [
           {
            "colorbar": {
             "outlinewidth": 0,
             "ticks": ""
            },
            "colorscale": [
             [
              0,
              "#0d0887"
             ],
             [
              0.1111111111111111,
              "#46039f"
             ],
             [
              0.2222222222222222,
              "#7201a8"
             ],
             [
              0.3333333333333333,
              "#9c179e"
             ],
             [
              0.4444444444444444,
              "#bd3786"
             ],
             [
              0.5555555555555556,
              "#d8576b"
             ],
             [
              0.6666666666666666,
              "#ed7953"
             ],
             [
              0.7777777777777778,
              "#fb9f3a"
             ],
             [
              0.8888888888888888,
              "#fdca26"
             ],
             [
              1,
              "#f0f921"
             ]
            ],
            "type": "heatmapgl"
           }
          ],
          "histogram": [
           {
            "marker": {
             "pattern": {
              "fillmode": "overlay",
              "size": 10,
              "solidity": 0.2
             }
            },
            "type": "histogram"
           }
          ],
          "histogram2d": [
           {
            "colorbar": {
             "outlinewidth": 0,
             "ticks": ""
            },
            "colorscale": [
             [
              0,
              "#0d0887"
             ],
             [
              0.1111111111111111,
              "#46039f"
             ],
             [
              0.2222222222222222,
              "#7201a8"
             ],
             [
              0.3333333333333333,
              "#9c179e"
             ],
             [
              0.4444444444444444,
              "#bd3786"
             ],
             [
              0.5555555555555556,
              "#d8576b"
             ],
             [
              0.6666666666666666,
              "#ed7953"
             ],
             [
              0.7777777777777778,
              "#fb9f3a"
             ],
             [
              0.8888888888888888,
              "#fdca26"
             ],
             [
              1,
              "#f0f921"
             ]
            ],
            "type": "histogram2d"
           }
          ],
          "histogram2dcontour": [
           {
            "colorbar": {
             "outlinewidth": 0,
             "ticks": ""
            },
            "colorscale": [
             [
              0,
              "#0d0887"
             ],
             [
              0.1111111111111111,
              "#46039f"
             ],
             [
              0.2222222222222222,
              "#7201a8"
             ],
             [
              0.3333333333333333,
              "#9c179e"
             ],
             [
              0.4444444444444444,
              "#bd3786"
             ],
             [
              0.5555555555555556,
              "#d8576b"
             ],
             [
              0.6666666666666666,
              "#ed7953"
             ],
             [
              0.7777777777777778,
              "#fb9f3a"
             ],
             [
              0.8888888888888888,
              "#fdca26"
             ],
             [
              1,
              "#f0f921"
             ]
            ],
            "type": "histogram2dcontour"
           }
          ],
          "mesh3d": [
           {
            "colorbar": {
             "outlinewidth": 0,
             "ticks": ""
            },
            "type": "mesh3d"
           }
          ],
          "parcoords": [
           {
            "line": {
             "colorbar": {
              "outlinewidth": 0,
              "ticks": ""
             }
            },
            "type": "parcoords"
           }
          ],
          "pie": [
           {
            "automargin": true,
            "type": "pie"
           }
          ],
          "scatter": [
           {
            "fillpattern": {
             "fillmode": "overlay",
             "size": 10,
             "solidity": 0.2
            },
            "type": "scatter"
           }
          ],
          "scatter3d": [
           {
            "line": {
             "colorbar": {
              "outlinewidth": 0,
              "ticks": ""
             }
            },
            "marker": {
             "colorbar": {
              "outlinewidth": 0,
              "ticks": ""
             }
            },
            "type": "scatter3d"
           }
          ],
          "scattercarpet": [
           {
            "marker": {
             "colorbar": {
              "outlinewidth": 0,
              "ticks": ""
             }
            },
            "type": "scattercarpet"
           }
          ],
          "scattergeo": [
           {
            "marker": {
             "colorbar": {
              "outlinewidth": 0,
              "ticks": ""
             }
            },
            "type": "scattergeo"
           }
          ],
          "scattergl": [
           {
            "marker": {
             "colorbar": {
              "outlinewidth": 0,
              "ticks": ""
             }
            },
            "type": "scattergl"
           }
          ],
          "scattermapbox": [
           {
            "marker": {
             "colorbar": {
              "outlinewidth": 0,
              "ticks": ""
             }
            },
            "type": "scattermapbox"
           }
          ],
          "scatterpolar": [
           {
            "marker": {
             "colorbar": {
              "outlinewidth": 0,
              "ticks": ""
             }
            },
            "type": "scatterpolar"
           }
          ],
          "scatterpolargl": [
           {
            "marker": {
             "colorbar": {
              "outlinewidth": 0,
              "ticks": ""
             }
            },
            "type": "scatterpolargl"
           }
          ],
          "scatterternary": [
           {
            "marker": {
             "colorbar": {
              "outlinewidth": 0,
              "ticks": ""
             }
            },
            "type": "scatterternary"
           }
          ],
          "surface": [
           {
            "colorbar": {
             "outlinewidth": 0,
             "ticks": ""
            },
            "colorscale": [
             [
              0,
              "#0d0887"
             ],
             [
              0.1111111111111111,
              "#46039f"
             ],
             [
              0.2222222222222222,
              "#7201a8"
             ],
             [
              0.3333333333333333,
              "#9c179e"
             ],
             [
              0.4444444444444444,
              "#bd3786"
             ],
             [
              0.5555555555555556,
              "#d8576b"
             ],
             [
              0.6666666666666666,
              "#ed7953"
             ],
             [
              0.7777777777777778,
              "#fb9f3a"
             ],
             [
              0.8888888888888888,
              "#fdca26"
             ],
             [
              1,
              "#f0f921"
             ]
            ],
            "type": "surface"
           }
          ],
          "table": [
           {
            "cells": {
             "fill": {
              "color": "#EBF0F8"
             },
             "line": {
              "color": "white"
             }
            },
            "header": {
             "fill": {
              "color": "#C8D4E3"
             },
             "line": {
              "color": "white"
             }
            },
            "type": "table"
           }
          ]
         },
         "layout": {
          "annotationdefaults": {
           "arrowcolor": "#2a3f5f",
           "arrowhead": 0,
           "arrowwidth": 1
          },
          "autotypenumbers": "strict",
          "coloraxis": {
           "colorbar": {
            "outlinewidth": 0,
            "ticks": ""
           }
          },
          "colorscale": {
           "diverging": [
            [
             0,
             "#8e0152"
            ],
            [
             0.1,
             "#c51b7d"
            ],
            [
             0.2,
             "#de77ae"
            ],
            [
             0.3,
             "#f1b6da"
            ],
            [
             0.4,
             "#fde0ef"
            ],
            [
             0.5,
             "#f7f7f7"
            ],
            [
             0.6,
             "#e6f5d0"
            ],
            [
             0.7,
             "#b8e186"
            ],
            [
             0.8,
             "#7fbc41"
            ],
            [
             0.9,
             "#4d9221"
            ],
            [
             1,
             "#276419"
            ]
           ],
           "sequential": [
            [
             0,
             "#0d0887"
            ],
            [
             0.1111111111111111,
             "#46039f"
            ],
            [
             0.2222222222222222,
             "#7201a8"
            ],
            [
             0.3333333333333333,
             "#9c179e"
            ],
            [
             0.4444444444444444,
             "#bd3786"
            ],
            [
             0.5555555555555556,
             "#d8576b"
            ],
            [
             0.6666666666666666,
             "#ed7953"
            ],
            [
             0.7777777777777778,
             "#fb9f3a"
            ],
            [
             0.8888888888888888,
             "#fdca26"
            ],
            [
             1,
             "#f0f921"
            ]
           ],
           "sequentialminus": [
            [
             0,
             "#0d0887"
            ],
            [
             0.1111111111111111,
             "#46039f"
            ],
            [
             0.2222222222222222,
             "#7201a8"
            ],
            [
             0.3333333333333333,
             "#9c179e"
            ],
            [
             0.4444444444444444,
             "#bd3786"
            ],
            [
             0.5555555555555556,
             "#d8576b"
            ],
            [
             0.6666666666666666,
             "#ed7953"
            ],
            [
             0.7777777777777778,
             "#fb9f3a"
            ],
            [
             0.8888888888888888,
             "#fdca26"
            ],
            [
             1,
             "#f0f921"
            ]
           ]
          },
          "colorway": [
           "#636efa",
           "#EF553B",
           "#00cc96",
           "#ab63fa",
           "#FFA15A",
           "#19d3f3",
           "#FF6692",
           "#B6E880",
           "#FF97FF",
           "#FECB52"
          ],
          "font": {
           "color": "#2a3f5f"
          },
          "geo": {
           "bgcolor": "white",
           "lakecolor": "white",
           "landcolor": "#E5ECF6",
           "showlakes": true,
           "showland": true,
           "subunitcolor": "white"
          },
          "hoverlabel": {
           "align": "left"
          },
          "hovermode": "closest",
          "mapbox": {
           "style": "light"
          },
          "paper_bgcolor": "white",
          "plot_bgcolor": "#E5ECF6",
          "polar": {
           "angularaxis": {
            "gridcolor": "white",
            "linecolor": "white",
            "ticks": ""
           },
           "bgcolor": "#E5ECF6",
           "radialaxis": {
            "gridcolor": "white",
            "linecolor": "white",
            "ticks": ""
           }
          },
          "scene": {
           "xaxis": {
            "backgroundcolor": "#E5ECF6",
            "gridcolor": "white",
            "gridwidth": 2,
            "linecolor": "white",
            "showbackground": true,
            "ticks": "",
            "zerolinecolor": "white"
           },
           "yaxis": {
            "backgroundcolor": "#E5ECF6",
            "gridcolor": "white",
            "gridwidth": 2,
            "linecolor": "white",
            "showbackground": true,
            "ticks": "",
            "zerolinecolor": "white"
           },
           "zaxis": {
            "backgroundcolor": "#E5ECF6",
            "gridcolor": "white",
            "gridwidth": 2,
            "linecolor": "white",
            "showbackground": true,
            "ticks": "",
            "zerolinecolor": "white"
           }
          },
          "shapedefaults": {
           "line": {
            "color": "#2a3f5f"
           }
          },
          "ternary": {
           "aaxis": {
            "gridcolor": "white",
            "linecolor": "white",
            "ticks": ""
           },
           "baxis": {
            "gridcolor": "white",
            "linecolor": "white",
            "ticks": ""
           },
           "bgcolor": "#E5ECF6",
           "caxis": {
            "gridcolor": "white",
            "linecolor": "white",
            "ticks": ""
           }
          },
          "title": {
           "x": 0.05
          },
          "xaxis": {
           "automargin": true,
           "gridcolor": "white",
           "linecolor": "white",
           "ticks": "",
           "title": {
            "standoff": 15
           },
           "zerolinecolor": "white",
           "zerolinewidth": 2
          },
          "yaxis": {
           "automargin": true,
           "gridcolor": "white",
           "linecolor": "white",
           "ticks": "",
           "title": {
            "standoff": 15
           },
           "zerolinecolor": "white",
           "zerolinewidth": 2
          }
         }
        },
        "title": {
         "text": "Predicted: back, Actual: right"
        },
        "xaxis": {
         "anchor": "y",
         "constrain": "domain",
         "domain": [
          0,
          1
         ],
         "scaleanchor": "y"
        },
        "yaxis": {
         "anchor": "x",
         "autorange": "reversed",
         "constrain": "domain",
         "domain": [
          0,
          1
         ]
        }
       }
      }
     },
     "metadata": {},
     "output_type": "display_data"
    },
    {
     "data": {
      "application/vnd.plotly.v1+json": {
       "config": {
        "plotlyServerURL": "https://plot.ly"
       },
       "data": [
        {
         "coloraxis": "coloraxis",
         "hovertemplate": "x: %{x}<br>y: %{y}<br>color: %{z}<extra></extra>",
         "name": "0",
         "type": "heatmap",
         "xaxis": "x",
         "yaxis": "y",
         "z": [
          [
           24.56,
           24.55,
           24.97,
           24.55,
           25.13,
           25.26,
           25.75,
           25.91,
           27.62,
           28.21,
           30.01,
           31.14,
           33.34,
           33.15,
           33.09,
           32.9,
           33.12,
           33.29,
           32.12,
           30.43,
           27.15,
           26.54,
           25.47,
           25.02,
           24.83,
           24.55,
           24.49,
           24.03,
           24.43,
           24.22,
           24.33,
           23.59
          ],
          [
           24.95,
           24.52,
           24.55,
           25.04,
           25.08,
           25.02,
           25.68,
           26.57,
           28.48,
           28.84,
           30.9,
           32.47,
           33.11,
           33.16,
           32.42,
           32.82,
           33.13,
           32.96,
           32.13,
           31.54,
           27.81,
           26.83,
           25.41,
           25.25,
           25.09,
           24.77,
           24.24,
           24.49,
           24.58,
           24.07,
           23.76,
           24.35
          ],
          [
           24.55,
           24.47,
           24.71,
           24.48,
           25.19,
           25.19,
           26.2,
           26.73,
           29.21,
           29.78,
           32.39,
           32.85,
           33.34,
           32.72,
           31.74,
           32.44,
           32.79,
           32.57,
           32.48,
           31.83,
           28.23,
           27.1,
           25.7,
           25.15,
           24.87,
           24.58,
           24.34,
           23.81,
           24.22,
           24.1,
           24.44,
           23.49
          ],
          [
           24.56,
           24.65,
           24.22,
           25.13,
           25.22,
           25.17,
           26.17,
           27.09,
           29.14,
           29.67,
           31.82,
           32.92,
           33.37,
           33.07,
           31.9,
           32.6,
           32.62,
           32.52,
           32.04,
           31.72,
           28.62,
           27.38,
           25.56,
           25.4,
           24.87,
           24.72,
           24.31,
           24.3,
           24.4,
           24.08,
           23.93,
           23.87
          ],
          [
           24.81,
           24.58,
           24.84,
           24.62,
           25.1,
           25.5,
           26.22,
           26.81,
           29.11,
           29.54,
           30.97,
           31.75,
           33.4,
           33.66,
           32.7,
           32.57,
           32.72,
           32.72,
           32.28,
           31.6,
           29.03,
           27.91,
           25.77,
           25.24,
           25.1,
           24.8,
           24.38,
           24.16,
           24.11,
           23.98,
           23.89,
           23.86
          ],
          [
           24.47,
           24.19,
           24.84,
           24.91,
           25.4,
           25.07,
           26.31,
           27.02,
           29.17,
           29.68,
           30.76,
           31.67,
           33.47,
           33.25,
           33.11,
           33.02,
           32.98,
           32.61,
           31.96,
           31.98,
           29.69,
           27.86,
           26.07,
           25.58,
           25.1,
           24.65,
           24.1,
           24.41,
           24.24,
           23.76,
           23.83,
           23.31
          ],
          [
           24.57,
           24.61,
           24.77,
           24.72,
           25.36,
           25.68,
           26.31,
           26.99,
           29.32,
           30.02,
           31.24,
           31.91,
           33.28,
           33.25,
           33.32,
           32.97,
           33.19,
           32.99,
           32.39,
           31.95,
           28.49,
           27.92,
           25.89,
           25.52,
           24.89,
           24.66,
           24.21,
           24.07,
           24.1,
           24.05,
           24.21,
           23.56
          ],
          [
           24.42,
           24.58,
           24.75,
           24.7,
           25.47,
           25.89,
           27.07,
           27.52,
           29.58,
           30.14,
           31.42,
           32.2,
           33.35,
           33.31,
           33.13,
           33.46,
           33.33,
           33,
           32.11,
           31.62,
           28.26,
           26.99,
           25.97,
           25.61,
           24.89,
           24.73,
           24.32,
           24.33,
           24.21,
           24.12,
           23.96,
           23.87
          ],
          [
           24.82,
           24.85,
           25.06,
           25.1,
           25.93,
           26.93,
           28.93,
           29.62,
           30.16,
           30.23,
           30.8,
           31.21,
           32.69,
           32.82,
           33.21,
           33.14,
           32.65,
           32.13,
           31.25,
           30.46,
           28.18,
           27.64,
           26.29,
           25.86,
           25.16,
           24.91,
           24.34,
           24.22,
           24.25,
           24.03,
           23.91,
           23.77
          ],
          [
           24.63,
           24.82,
           25.03,
           25.23,
           26.75,
           27.59,
           30.13,
           30.5,
           29.93,
           30.07,
           30.22,
           30.72,
           31.79,
           32.08,
           32.48,
           32.91,
           31.93,
           31.49,
           30.93,
           30.6,
           29.08,
           28.34,
           26.55,
           26.24,
           25.37,
           24.87,
           24.2,
           24.32,
           24.38,
           23.96,
           23.84,
           23.88
          ],
          [
           24.63,
           24.84,
           25.5,
           25.68,
           27.14,
           28.54,
           30.57,
           30.36,
           30.1,
           29.95,
           29.5,
           29.72,
           30.48,
           30.39,
           30.58,
           30.36,
           31,
           30.86,
           30.21,
           29.76,
           29.53,
           28.93,
           27.01,
           26.19,
           25.42,
           24.99,
           24.79,
           24.17,
           24.15,
           24.05,
           24.03,
           23.51
          ],
          [
           24.59,
           24.63,
           25.07,
           25.52,
           27.24,
           28.38,
           30.44,
           30.63,
           30.37,
           30.09,
           29.55,
           29.45,
           29.78,
           30.02,
           29.97,
           30.35,
           30.73,
           30.83,
           29.91,
           29.81,
           29.5,
           28.7,
           26.57,
           26.26,
           25.18,
           24.71,
           24.25,
           24.36,
           24.24,
           23.98,
           23.77,
           23.96
          ],
          [
           24.62,
           24.53,
           25.05,
           25.29,
           26.81,
           27.86,
           30.31,
           30.35,
           30.65,
           30.42,
           29.86,
           29.54,
           29.44,
           29.2,
           29.67,
           30.21,
           30.64,
           30.17,
           29.86,
           29.69,
           29.89,
           28.83,
           26.19,
           25.28,
           25.09,
           24.81,
           24.4,
           24.07,
           24.04,
           23.89,
           23.91,
           23.64
          ],
          [
           24.42,
           24.59,
           24.89,
           25.5,
           26.67,
           27.71,
           30,
           30.44,
           30.56,
           30.58,
           29.75,
           29.95,
           29.43,
           29.25,
           29.74,
           30.21,
           30.23,
           30.14,
           29.67,
           30.11,
           30.15,
           29.53,
           26.05,
           25.73,
           24.82,
           24.85,
           24.2,
           24.52,
           24.15,
           24.07,
           23.83,
           23.85
          ],
          [
           24.41,
           24.56,
           24.92,
           24.97,
           25.94,
           26.93,
           29.63,
           29.77,
           30.19,
           30.25,
           30.5,
           29.91,
           29.38,
           29.46,
           30.17,
           30.07,
           30.28,
           30.22,
           30.31,
           30.87,
           31.02,
           29.85,
           26.89,
           25.59,
           24.99,
           24.77,
           24.57,
           23.97,
           24.04,
           23.87,
           24.4,
           23.88
          ],
          [
           24.64,
           24.61,
           24.58,
           25.04,
           25.66,
           26.53,
           28.89,
           29.87,
           29.91,
           30.16,
           30.14,
           30.36,
           29.48,
           29.45,
           30.01,
           30.42,
           30.12,
           30.2,
           30.56,
           31.07,
           30.86,
           30.78,
           26.75,
           26.26,
           25.06,
           24.65,
           24.11,
           24.38,
           24.09,
           23.88,
           23.63,
           24.11
          ],
          [
           24.36,
           24.48,
           24.54,
           24.66,
           25.34,
           25.65,
           27.97,
           28.58,
           29.46,
           29.55,
           29.95,
           29.82,
           29.82,
           29.25,
           29.3,
           29.72,
           30.28,
           30.41,
           30.49,
           30.53,
           31.28,
           30.8,
           27.32,
           25.93,
           25.07,
           24.62,
           24.53,
           24.2,
           24.34,
           24.21,
           24.05,
           23.86
          ],
          [
           24.44,
           24.38,
           24.58,
           24.71,
           25.03,
           25.07,
           27.05,
           28.13,
           28.97,
           29.25,
           29.49,
           29.93,
           29.93,
           29.6,
           29.22,
           29.74,
           30.22,
           30.23,
           30.24,
           30.65,
           31.5,
           30.52,
           26.42,
           26.19,
           24.87,
           24.75,
           24.17,
           24.37,
           24.25,
           24.2,
           24.47,
           24.27
          ],
          [
           24.13,
           24.34,
           24.55,
           24.36,
           24.55,
           24.56,
           26.08,
           27.24,
           29.13,
           29.94,
           30.13,
           30.78,
           30.89,
           29.98,
           29.19,
           28.81,
           29.96,
           30.18,
           29.52,
           29.12,
           28.56,
           27.74,
           25.82,
           25.06,
           24.65,
           24.77,
           25.23,
           25.02,
           24.26,
           24.7,
           24.43,
           23.92
          ],
          [
           24.38,
           24.42,
           24.15,
           24.23,
           24.45,
           24.56,
           25.88,
           26.73,
           29.88,
           29.64,
           30.56,
           30.83,
           30.86,
           30.97,
           29.48,
           29.67,
           30.48,
           30.3,
           28.43,
           28.33,
           27.06,
           26.6,
           25.16,
           25.18,
           24.67,
           25.26,
           25.27,
           25.18,
           24.81,
           24.55,
           23.89,
           24.05
          ],
          [
           24.16,
           24.43,
           24.41,
           24.3,
           23.98,
           24.38,
           25.24,
           26.19,
           29.79,
           30.09,
           30.44,
           30.62,
           30.96,
           31.09,
           30.91,
           30.89,
           30.62,
           28.8,
           26.77,
           26.23,
           25.42,
           25.25,
           24.69,
           24.5,
           24.57,
           24.87,
           25.15,
           24.61,
           24.6,
           24.17,
           24.32,
           23.49
          ],
          [
           24.23,
           24.04,
           24.42,
           24.65,
           24.33,
           24.36,
           24.98,
           26.1,
           29.95,
           30.01,
           30.6,
           30.57,
           31.34,
           31.03,
           31.37,
           31.55,
           29.52,
           28.78,
           25.93,
           26.03,
           25.1,
           24.73,
           24.82,
           24.74,
           24.32,
           24.26,
           24.41,
           24.47,
           24.31,
           24.32,
           23.84,
           24.65
          ],
          [
           24.21,
           24.35,
           24.47,
           23.88,
           24.3,
           24.37,
           24.77,
           25.81,
           29.21,
           29.45,
           29.86,
           30.05,
           30.85,
           31.17,
           30.87,
           30.19,
           28.84,
           27.23,
           25.87,
           25.35,
           25.15,
           24.6,
           24.55,
           24.28,
           24.3,
           24.15,
           24.14,
           23.81,
           24.16,
           24.09,
           24.86,
           23.41
          ],
          [
           24.42,
           24.08,
           24.32,
           24.26,
           24.34,
           24.54,
           25.08,
           25.7,
           29.37,
           29.32,
           29.4,
           29.73,
           30.34,
           30.3,
           29.55,
           29.89,
           27.78,
           27.28,
           25.38,
           25.36,
           24.74,
           24.83,
           24.26,
           24.38,
           24.14,
           24.43,
           23.96,
           24.35,
           24.12,
           24.1,
           23.45,
           24.93
          ]
         ]
        }
       ],
       "layout": {
        "coloraxis": {
         "colorscale": [
          [
           0,
           "#0d0887"
          ],
          [
           0.1111111111111111,
           "#46039f"
          ],
          [
           0.2222222222222222,
           "#7201a8"
          ],
          [
           0.3333333333333333,
           "#9c179e"
          ],
          [
           0.4444444444444444,
           "#bd3786"
          ],
          [
           0.5555555555555556,
           "#d8576b"
          ],
          [
           0.6666666666666666,
           "#ed7953"
          ],
          [
           0.7777777777777778,
           "#fb9f3a"
          ],
          [
           0.8888888888888888,
           "#fdca26"
          ],
          [
           1,
           "#f0f921"
          ]
         ]
        },
        "margin": {
         "t": 60
        },
        "template": {
         "data": {
          "bar": [
           {
            "error_x": {
             "color": "#2a3f5f"
            },
            "error_y": {
             "color": "#2a3f5f"
            },
            "marker": {
             "line": {
              "color": "#E5ECF6",
              "width": 0.5
             },
             "pattern": {
              "fillmode": "overlay",
              "size": 10,
              "solidity": 0.2
             }
            },
            "type": "bar"
           }
          ],
          "barpolar": [
           {
            "marker": {
             "line": {
              "color": "#E5ECF6",
              "width": 0.5
             },
             "pattern": {
              "fillmode": "overlay",
              "size": 10,
              "solidity": 0.2
             }
            },
            "type": "barpolar"
           }
          ],
          "carpet": [
           {
            "aaxis": {
             "endlinecolor": "#2a3f5f",
             "gridcolor": "white",
             "linecolor": "white",
             "minorgridcolor": "white",
             "startlinecolor": "#2a3f5f"
            },
            "baxis": {
             "endlinecolor": "#2a3f5f",
             "gridcolor": "white",
             "linecolor": "white",
             "minorgridcolor": "white",
             "startlinecolor": "#2a3f5f"
            },
            "type": "carpet"
           }
          ],
          "choropleth": [
           {
            "colorbar": {
             "outlinewidth": 0,
             "ticks": ""
            },
            "type": "choropleth"
           }
          ],
          "contour": [
           {
            "colorbar": {
             "outlinewidth": 0,
             "ticks": ""
            },
            "colorscale": [
             [
              0,
              "#0d0887"
             ],
             [
              0.1111111111111111,
              "#46039f"
             ],
             [
              0.2222222222222222,
              "#7201a8"
             ],
             [
              0.3333333333333333,
              "#9c179e"
             ],
             [
              0.4444444444444444,
              "#bd3786"
             ],
             [
              0.5555555555555556,
              "#d8576b"
             ],
             [
              0.6666666666666666,
              "#ed7953"
             ],
             [
              0.7777777777777778,
              "#fb9f3a"
             ],
             [
              0.8888888888888888,
              "#fdca26"
             ],
             [
              1,
              "#f0f921"
             ]
            ],
            "type": "contour"
           }
          ],
          "contourcarpet": [
           {
            "colorbar": {
             "outlinewidth": 0,
             "ticks": ""
            },
            "type": "contourcarpet"
           }
          ],
          "heatmap": [
           {
            "colorbar": {
             "outlinewidth": 0,
             "ticks": ""
            },
            "colorscale": [
             [
              0,
              "#0d0887"
             ],
             [
              0.1111111111111111,
              "#46039f"
             ],
             [
              0.2222222222222222,
              "#7201a8"
             ],
             [
              0.3333333333333333,
              "#9c179e"
             ],
             [
              0.4444444444444444,
              "#bd3786"
             ],
             [
              0.5555555555555556,
              "#d8576b"
             ],
             [
              0.6666666666666666,
              "#ed7953"
             ],
             [
              0.7777777777777778,
              "#fb9f3a"
             ],
             [
              0.8888888888888888,
              "#fdca26"
             ],
             [
              1,
              "#f0f921"
             ]
            ],
            "type": "heatmap"
           }
          ],
          "heatmapgl": [
           {
            "colorbar": {
             "outlinewidth": 0,
             "ticks": ""
            },
            "colorscale": [
             [
              0,
              "#0d0887"
             ],
             [
              0.1111111111111111,
              "#46039f"
             ],
             [
              0.2222222222222222,
              "#7201a8"
             ],
             [
              0.3333333333333333,
              "#9c179e"
             ],
             [
              0.4444444444444444,
              "#bd3786"
             ],
             [
              0.5555555555555556,
              "#d8576b"
             ],
             [
              0.6666666666666666,
              "#ed7953"
             ],
             [
              0.7777777777777778,
              "#fb9f3a"
             ],
             [
              0.8888888888888888,
              "#fdca26"
             ],
             [
              1,
              "#f0f921"
             ]
            ],
            "type": "heatmapgl"
           }
          ],
          "histogram": [
           {
            "marker": {
             "pattern": {
              "fillmode": "overlay",
              "size": 10,
              "solidity": 0.2
             }
            },
            "type": "histogram"
           }
          ],
          "histogram2d": [
           {
            "colorbar": {
             "outlinewidth": 0,
             "ticks": ""
            },
            "colorscale": [
             [
              0,
              "#0d0887"
             ],
             [
              0.1111111111111111,
              "#46039f"
             ],
             [
              0.2222222222222222,
              "#7201a8"
             ],
             [
              0.3333333333333333,
              "#9c179e"
             ],
             [
              0.4444444444444444,
              "#bd3786"
             ],
             [
              0.5555555555555556,
              "#d8576b"
             ],
             [
              0.6666666666666666,
              "#ed7953"
             ],
             [
              0.7777777777777778,
              "#fb9f3a"
             ],
             [
              0.8888888888888888,
              "#fdca26"
             ],
             [
              1,
              "#f0f921"
             ]
            ],
            "type": "histogram2d"
           }
          ],
          "histogram2dcontour": [
           {
            "colorbar": {
             "outlinewidth": 0,
             "ticks": ""
            },
            "colorscale": [
             [
              0,
              "#0d0887"
             ],
             [
              0.1111111111111111,
              "#46039f"
             ],
             [
              0.2222222222222222,
              "#7201a8"
             ],
             [
              0.3333333333333333,
              "#9c179e"
             ],
             [
              0.4444444444444444,
              "#bd3786"
             ],
             [
              0.5555555555555556,
              "#d8576b"
             ],
             [
              0.6666666666666666,
              "#ed7953"
             ],
             [
              0.7777777777777778,
              "#fb9f3a"
             ],
             [
              0.8888888888888888,
              "#fdca26"
             ],
             [
              1,
              "#f0f921"
             ]
            ],
            "type": "histogram2dcontour"
           }
          ],
          "mesh3d": [
           {
            "colorbar": {
             "outlinewidth": 0,
             "ticks": ""
            },
            "type": "mesh3d"
           }
          ],
          "parcoords": [
           {
            "line": {
             "colorbar": {
              "outlinewidth": 0,
              "ticks": ""
             }
            },
            "type": "parcoords"
           }
          ],
          "pie": [
           {
            "automargin": true,
            "type": "pie"
           }
          ],
          "scatter": [
           {
            "fillpattern": {
             "fillmode": "overlay",
             "size": 10,
             "solidity": 0.2
            },
            "type": "scatter"
           }
          ],
          "scatter3d": [
           {
            "line": {
             "colorbar": {
              "outlinewidth": 0,
              "ticks": ""
             }
            },
            "marker": {
             "colorbar": {
              "outlinewidth": 0,
              "ticks": ""
             }
            },
            "type": "scatter3d"
           }
          ],
          "scattercarpet": [
           {
            "marker": {
             "colorbar": {
              "outlinewidth": 0,
              "ticks": ""
             }
            },
            "type": "scattercarpet"
           }
          ],
          "scattergeo": [
           {
            "marker": {
             "colorbar": {
              "outlinewidth": 0,
              "ticks": ""
             }
            },
            "type": "scattergeo"
           }
          ],
          "scattergl": [
           {
            "marker": {
             "colorbar": {
              "outlinewidth": 0,
              "ticks": ""
             }
            },
            "type": "scattergl"
           }
          ],
          "scattermapbox": [
           {
            "marker": {
             "colorbar": {
              "outlinewidth": 0,
              "ticks": ""
             }
            },
            "type": "scattermapbox"
           }
          ],
          "scatterpolar": [
           {
            "marker": {
             "colorbar": {
              "outlinewidth": 0,
              "ticks": ""
             }
            },
            "type": "scatterpolar"
           }
          ],
          "scatterpolargl": [
           {
            "marker": {
             "colorbar": {
              "outlinewidth": 0,
              "ticks": ""
             }
            },
            "type": "scatterpolargl"
           }
          ],
          "scatterternary": [
           {
            "marker": {
             "colorbar": {
              "outlinewidth": 0,
              "ticks": ""
             }
            },
            "type": "scatterternary"
           }
          ],
          "surface": [
           {
            "colorbar": {
             "outlinewidth": 0,
             "ticks": ""
            },
            "colorscale": [
             [
              0,
              "#0d0887"
             ],
             [
              0.1111111111111111,
              "#46039f"
             ],
             [
              0.2222222222222222,
              "#7201a8"
             ],
             [
              0.3333333333333333,
              "#9c179e"
             ],
             [
              0.4444444444444444,
              "#bd3786"
             ],
             [
              0.5555555555555556,
              "#d8576b"
             ],
             [
              0.6666666666666666,
              "#ed7953"
             ],
             [
              0.7777777777777778,
              "#fb9f3a"
             ],
             [
              0.8888888888888888,
              "#fdca26"
             ],
             [
              1,
              "#f0f921"
             ]
            ],
            "type": "surface"
           }
          ],
          "table": [
           {
            "cells": {
             "fill": {
              "color": "#EBF0F8"
             },
             "line": {
              "color": "white"
             }
            },
            "header": {
             "fill": {
              "color": "#C8D4E3"
             },
             "line": {
              "color": "white"
             }
            },
            "type": "table"
           }
          ]
         },
         "layout": {
          "annotationdefaults": {
           "arrowcolor": "#2a3f5f",
           "arrowhead": 0,
           "arrowwidth": 1
          },
          "autotypenumbers": "strict",
          "coloraxis": {
           "colorbar": {
            "outlinewidth": 0,
            "ticks": ""
           }
          },
          "colorscale": {
           "diverging": [
            [
             0,
             "#8e0152"
            ],
            [
             0.1,
             "#c51b7d"
            ],
            [
             0.2,
             "#de77ae"
            ],
            [
             0.3,
             "#f1b6da"
            ],
            [
             0.4,
             "#fde0ef"
            ],
            [
             0.5,
             "#f7f7f7"
            ],
            [
             0.6,
             "#e6f5d0"
            ],
            [
             0.7,
             "#b8e186"
            ],
            [
             0.8,
             "#7fbc41"
            ],
            [
             0.9,
             "#4d9221"
            ],
            [
             1,
             "#276419"
            ]
           ],
           "sequential": [
            [
             0,
             "#0d0887"
            ],
            [
             0.1111111111111111,
             "#46039f"
            ],
            [
             0.2222222222222222,
             "#7201a8"
            ],
            [
             0.3333333333333333,
             "#9c179e"
            ],
            [
             0.4444444444444444,
             "#bd3786"
            ],
            [
             0.5555555555555556,
             "#d8576b"
            ],
            [
             0.6666666666666666,
             "#ed7953"
            ],
            [
             0.7777777777777778,
             "#fb9f3a"
            ],
            [
             0.8888888888888888,
             "#fdca26"
            ],
            [
             1,
             "#f0f921"
            ]
           ],
           "sequentialminus": [
            [
             0,
             "#0d0887"
            ],
            [
             0.1111111111111111,
             "#46039f"
            ],
            [
             0.2222222222222222,
             "#7201a8"
            ],
            [
             0.3333333333333333,
             "#9c179e"
            ],
            [
             0.4444444444444444,
             "#bd3786"
            ],
            [
             0.5555555555555556,
             "#d8576b"
            ],
            [
             0.6666666666666666,
             "#ed7953"
            ],
            [
             0.7777777777777778,
             "#fb9f3a"
            ],
            [
             0.8888888888888888,
             "#fdca26"
            ],
            [
             1,
             "#f0f921"
            ]
           ]
          },
          "colorway": [
           "#636efa",
           "#EF553B",
           "#00cc96",
           "#ab63fa",
           "#FFA15A",
           "#19d3f3",
           "#FF6692",
           "#B6E880",
           "#FF97FF",
           "#FECB52"
          ],
          "font": {
           "color": "#2a3f5f"
          },
          "geo": {
           "bgcolor": "white",
           "lakecolor": "white",
           "landcolor": "#E5ECF6",
           "showlakes": true,
           "showland": true,
           "subunitcolor": "white"
          },
          "hoverlabel": {
           "align": "left"
          },
          "hovermode": "closest",
          "mapbox": {
           "style": "light"
          },
          "paper_bgcolor": "white",
          "plot_bgcolor": "#E5ECF6",
          "polar": {
           "angularaxis": {
            "gridcolor": "white",
            "linecolor": "white",
            "ticks": ""
           },
           "bgcolor": "#E5ECF6",
           "radialaxis": {
            "gridcolor": "white",
            "linecolor": "white",
            "ticks": ""
           }
          },
          "scene": {
           "xaxis": {
            "backgroundcolor": "#E5ECF6",
            "gridcolor": "white",
            "gridwidth": 2,
            "linecolor": "white",
            "showbackground": true,
            "ticks": "",
            "zerolinecolor": "white"
           },
           "yaxis": {
            "backgroundcolor": "#E5ECF6",
            "gridcolor": "white",
            "gridwidth": 2,
            "linecolor": "white",
            "showbackground": true,
            "ticks": "",
            "zerolinecolor": "white"
           },
           "zaxis": {
            "backgroundcolor": "#E5ECF6",
            "gridcolor": "white",
            "gridwidth": 2,
            "linecolor": "white",
            "showbackground": true,
            "ticks": "",
            "zerolinecolor": "white"
           }
          },
          "shapedefaults": {
           "line": {
            "color": "#2a3f5f"
           }
          },
          "ternary": {
           "aaxis": {
            "gridcolor": "white",
            "linecolor": "white",
            "ticks": ""
           },
           "baxis": {
            "gridcolor": "white",
            "linecolor": "white",
            "ticks": ""
           },
           "bgcolor": "#E5ECF6",
           "caxis": {
            "gridcolor": "white",
            "linecolor": "white",
            "ticks": ""
           }
          },
          "title": {
           "x": 0.05
          },
          "xaxis": {
           "automargin": true,
           "gridcolor": "white",
           "linecolor": "white",
           "ticks": "",
           "title": {
            "standoff": 15
           },
           "zerolinecolor": "white",
           "zerolinewidth": 2
          },
          "yaxis": {
           "automargin": true,
           "gridcolor": "white",
           "linecolor": "white",
           "ticks": "",
           "title": {
            "standoff": 15
           },
           "zerolinecolor": "white",
           "zerolinewidth": 2
          }
         }
        },
        "title": {
         "text": "Predicted: back, Actual: right"
        },
        "xaxis": {
         "anchor": "y",
         "constrain": "domain",
         "domain": [
          0,
          1
         ],
         "scaleanchor": "y"
        },
        "yaxis": {
         "anchor": "x",
         "autorange": "reversed",
         "constrain": "domain",
         "domain": [
          0,
          1
         ]
        }
       }
      }
     },
     "metadata": {},
     "output_type": "display_data"
    },
    {
     "data": {
      "application/vnd.plotly.v1+json": {
       "config": {
        "plotlyServerURL": "https://plot.ly"
       },
       "data": [
        {
         "coloraxis": "coloraxis",
         "hovertemplate": "x: %{x}<br>y: %{y}<br>color: %{z}<extra></extra>",
         "name": "0",
         "type": "heatmap",
         "xaxis": "x",
         "yaxis": "y",
         "z": [
          [
           25.3,
           25.18,
           25.42,
           24.96,
           25.91,
           25.82,
           25.97,
           26.19,
           26.63,
           27.1,
           28.99,
           30.03,
           32.29,
           32.54,
           32.74,
           32.52,
           31.24,
           30.09,
           27.66,
           27.38,
           26.83,
           26.31,
           26.02,
           25.67,
           25.47,
           25.62,
           25.16,
           24.98,
           25.18,
           24.96,
           24.61,
           24.95
          ],
          [
           25.06,
           25.22,
           25.44,
           25.48,
           25.74,
           25.61,
           25.97,
           26.36,
           27.07,
           27.2,
           29.18,
           30.19,
           31.11,
           31.61,
           32.36,
           32.03,
           31.12,
           30.21,
           27.75,
           27.46,
           26.57,
           26.28,
           25.9,
           25.93,
           25.48,
           25.42,
           25.13,
           25.11,
           25.21,
           24.55,
           25.16,
           25.2
          ],
          [
           25.21,
           25.22,
           24.77,
           25.49,
           25.76,
           25.88,
           25.95,
           26.45,
           27.75,
           28.03,
           30.11,
           29.92,
           29.25,
           30.27,
           31.77,
           30.95,
           29.44,
           29.1,
           28.27,
           27.68,
           26.82,
           26.25,
           26.07,
           25.82,
           25.7,
           25.49,
           25.14,
           25.03,
           24.54,
           24.95,
           24.46,
           24.41
          ],
          [
           25.07,
           24.9,
           25.19,
           25.37,
           25.43,
           25.48,
           26.14,
           26.51,
           27.89,
           28.46,
           30.83,
           30.85,
           30.32,
           30.86,
           32.09,
           31.4,
           29.95,
           29.61,
           28.47,
           27.91,
           26.87,
           26.51,
           26.35,
           26.11,
           25.74,
           25.55,
           25.3,
           25.09,
           24.97,
           24.8,
           24.8,
           24.3
          ],
          [
           25.33,
           25.03,
           24.9,
           25.24,
           25.61,
           25.72,
           26.16,
           26.24,
           27.85,
           28.81,
           30.93,
           31.84,
           32.79,
           33.2,
           33.04,
           32.89,
           31.62,
           30.86,
           28.38,
           27.7,
           26.77,
           26.48,
           26.28,
           26.02,
           26.12,
           25.62,
           25,
           24.87,
           24.92,
           24.48,
           24.66,
           24.05
          ],
          [
           24.67,
           24.85,
           25.11,
           25.55,
           25.97,
           25.99,
           26.3,
           26.62,
           27.79,
           28.56,
           30.78,
           31.6,
           33.11,
           33.6,
           33.06,
           33.27,
           31.87,
           30.73,
           28.18,
           27.79,
           26.83,
           26.27,
           26.4,
           26.38,
           26.29,
           25.64,
           25.33,
           25.25,
           25.06,
           24.3,
           24.61,
           24.34
          ],
          [
           25,
           25.09,
           25.21,
           25.28,
           25.88,
           26.01,
           26.45,
           26.57,
           27.59,
           28.11,
           29.79,
           30.78,
           33.44,
           33.53,
           33.31,
           33.2,
           31.35,
           29.75,
           27.6,
           27.39,
           26.87,
           26.62,
           26.36,
           26.16,
           26.18,
           25.79,
           25.27,
           24.79,
           24.71,
           24.73,
           24.19,
           24.38
          ],
          [
           24.73,
           24.91,
           25.37,
           25.25,
           25.88,
           26,
           26.5,
           26.82,
           27.72,
           28.07,
           29.8,
           30.92,
           33.46,
           33.54,
           33.34,
           33.21,
           30.7,
           29.27,
           27.6,
           27.67,
           27.01,
           26.84,
           26.48,
           26.26,
           26.08,
           25.88,
           25.16,
           25.46,
           24.67,
           24.65,
           24.68,
           24.47
          ],
          [
           25.18,
           24.95,
           24.99,
           25.52,
           25.81,
           26.19,
           26.93,
           27.23,
           28.47,
           28.99,
           31.07,
           32.25,
           33.52,
           33.43,
           33.22,
           32.72,
           29.56,
           28.22,
           27.86,
           27.88,
           28.14,
           27.55,
           26.92,
           26.65,
           26.22,
           25.69,
           25.11,
           25.17,
           24.82,
           24.77,
           24.58,
           24.16
          ],
          [
           24.82,
           25.11,
           25.1,
           25.52,
           25.67,
           26.41,
           27.17,
           27.72,
           29.33,
           29.65,
           31.5,
           32.2,
           32.96,
           33.2,
           33,
           32.34,
           29.02,
           28.37,
           28.02,
           28.4,
           28.6,
           28.38,
           27.39,
           27.12,
           26.21,
           25.78,
           25.38,
           25.26,
           24.81,
           24.54,
           24.87,
           24.62
          ],
          [
           25.11,
           24.94,
           25.08,
           25.54,
           25.91,
           26.31,
           27.7,
           28.57,
           29.48,
           29.58,
           30.74,
           31.09,
           31.27,
           31.2,
           30.46,
           29.66,
           28.32,
           28.14,
           28.35,
           28.26,
           28.86,
           28.73,
           27.4,
           27.04,
           26.18,
           25.84,
           25.38,
           25.32,
           25.15,
           24.51,
           24.79,
           24.5
          ],
          [
           24.73,
           24.87,
           25.32,
           25.61,
           25.98,
           26.59,
           27.79,
           28.42,
           28.97,
           29.07,
           30,
           30.98,
           31.51,
           31.33,
           30,
           29.63,
           28.54,
           28.36,
           28.21,
           28.65,
           28.92,
           28.84,
           27.45,
           27.09,
           26.06,
           25.9,
           25.35,
           25.21,
           25.22,
           25.02,
           24.35,
           24.4
          ],
          [
           24.94,
           24.77,
           25.25,
           25.13,
           25.89,
           26.39,
           27.8,
           28.36,
           28.99,
           29.06,
           29.91,
           30.83,
           31.5,
           31.53,
           29.94,
           29.78,
           28.41,
           28.25,
           28.58,
           28.94,
           29,
           29.31,
           28.05,
           27.34,
           26.09,
           25.84,
           25.37,
           25.37,
           25.13,
           24.79,
           24.6,
           24.63
          ],
          [
           25.18,
           24.79,
           25.23,
           25.7,
           26.2,
           26.42,
           28.06,
           28.71,
           29.26,
           29.87,
           31.03,
           31.47,
           31.41,
           31.24,
           29.81,
           29.49,
           27.86,
           27.95,
           28.46,
           28.88,
           28.69,
           29.15,
           28.3,
           27.45,
           25.89,
           25.75,
           25.52,
           25.41,
           25.24,
           24.94,
           24.84,
           24.59
          ],
          [
           24.99,
           24.7,
           25.11,
           25.26,
           25.87,
           26.27,
           27.85,
           28.55,
           29.17,
           29.71,
           30.8,
           31.07,
           30.8,
           30.42,
           28.55,
           28.14,
           28.14,
           28.09,
           28.72,
           28.67,
           28.55,
           28.65,
           28.16,
           27.16,
           26.13,
           25.77,
           25.22,
           25.08,
           24.83,
           24.98,
           24.76,
           24.81
          ],
          [
           24.67,
           24.85,
           25.15,
           25.54,
           26.04,
           26.64,
           28,
           28.69,
           29.1,
           29.35,
           29.84,
           29.88,
           29.98,
           29.41,
           28.24,
           28.14,
           28.19,
           28.25,
           28.82,
           28.97,
           28.49,
           29.07,
           28.39,
           27.48,
           26.28,
           25.6,
           25.24,
           25.02,
           24.83,
           24.94,
           24.79,
           24.59
          ],
          [
           25.28,
           25,
           25.32,
           25.47,
           26.13,
           26.37,
           28.23,
           28.71,
           28.66,
           28.89,
           29.12,
           28.96,
           28.61,
           28.59,
           28.2,
           28.15,
           28.34,
           28.12,
           29.02,
           28.91,
           29.59,
           29.79,
           28.45,
           27.45,
           26.22,
           26.01,
           25.04,
           24.79,
           24.46,
           24.3,
           24.78,
           24.65
          ],
          [
           24.78,
           25.19,
           25.17,
           25.46,
           25.76,
           26.24,
           28.14,
           29.06,
           28.81,
           28.83,
           29.25,
           29.09,
           28.62,
           28.6,
           28.31,
           28.58,
           28.18,
           28.4,
           28.94,
           29.13,
           29.93,
           29.83,
           28.14,
           27.43,
           25.96,
           25.84,
           25.17,
           25.31,
           24.78,
           24.68,
           24.62,
           24.76
          ],
          [
           24.5,
           25.13,
           25.26,
           25.47,
           25.98,
           26.26,
           27.85,
           28.72,
           28.81,
           28.6,
           29.29,
           29.39,
           29.37,
           29.25,
           29.12,
           28.81,
           28.38,
           28.65,
           28.9,
           29.22,
           29.78,
           29.86,
           27.56,
           26.77,
           25.92,
           25.61,
           24.79,
           24.94,
           24.8,
           24.48,
           24.32,
           24.49
          ],
          [
           24.86,
           25,
           25.42,
           25.09,
           25.83,
           25.95,
           27.36,
           28.26,
           28.5,
           28.93,
           29.12,
           29.62,
           30.03,
           29.76,
           29.42,
           29.1,
           28.69,
           28.53,
           28.93,
           29.32,
           29.59,
           29.23,
           27.31,
           26.7,
           25.6,
           25.62,
           24.89,
           25.13,
           24.95,
           24.59,
           24.47,
           24.64
          ],
          [
           25.05,
           25.2,
           24.87,
           25.32,
           25.62,
           25.92,
           26.57,
           27.02,
           28.52,
           28.71,
           29.69,
           30.15,
           30.71,
           30.49,
           29.58,
           29.11,
           28.41,
           28.62,
           29.11,
           29.32,
           28.83,
           28.08,
           26.6,
           26.27,
           25.72,
           25.32,
           24.7,
           24.84,
           24.69,
           24.7,
           24.33,
           24.74
          ],
          [
           24.61,
           24.9,
           25.12,
           25.41,
           25.75,
           25.83,
           26.37,
           26.92,
           28.14,
           28.81,
           29.96,
           30.52,
           30.9,
           30.75,
           29.85,
           29.31,
           28.49,
           28.57,
           29.01,
           29.11,
           27.8,
           27.52,
           26.3,
           26.17,
           25.55,
           25.17,
           24.95,
           24.57,
           24.67,
           24.34,
           24.67,
           24.84
          ],
          [
           24.67,
           24.74,
           25.45,
           25.34,
           25.52,
           25.48,
           26,
           26.27,
           27.2,
           27.99,
           30.18,
           30.46,
           31.28,
           31.32,
           30.51,
           30.41,
           29.64,
           29.67,
           28.79,
           28.53,
           27.75,
           27.32,
           26.12,
           25.72,
           25.16,
           24.83,
           24.59,
           24.5,
           24.41,
           24.44,
           24.93,
           24.61
          ],
          [
           24.95,
           25.17,
           25.02,
           25.25,
           25.31,
           25.4,
           25.92,
           26.31,
           27.02,
           27.56,
           30.13,
           30.37,
           30.89,
           31.12,
           30.93,
           30.53,
           30.42,
           29.92,
           28.77,
           28.49,
           27.83,
           27.65,
           26.2,
           25.71,
           24.9,
           24.68,
           24.65,
           24.74,
           24.6,
           24.68,
           25.1,
           24.48
          ]
         ]
        }
       ],
       "layout": {
        "coloraxis": {
         "colorscale": [
          [
           0,
           "#0d0887"
          ],
          [
           0.1111111111111111,
           "#46039f"
          ],
          [
           0.2222222222222222,
           "#7201a8"
          ],
          [
           0.3333333333333333,
           "#9c179e"
          ],
          [
           0.4444444444444444,
           "#bd3786"
          ],
          [
           0.5555555555555556,
           "#d8576b"
          ],
          [
           0.6666666666666666,
           "#ed7953"
          ],
          [
           0.7777777777777778,
           "#fb9f3a"
          ],
          [
           0.8888888888888888,
           "#fdca26"
          ],
          [
           1,
           "#f0f921"
          ]
         ]
        },
        "margin": {
         "t": 60
        },
        "template": {
         "data": {
          "bar": [
           {
            "error_x": {
             "color": "#2a3f5f"
            },
            "error_y": {
             "color": "#2a3f5f"
            },
            "marker": {
             "line": {
              "color": "#E5ECF6",
              "width": 0.5
             },
             "pattern": {
              "fillmode": "overlay",
              "size": 10,
              "solidity": 0.2
             }
            },
            "type": "bar"
           }
          ],
          "barpolar": [
           {
            "marker": {
             "line": {
              "color": "#E5ECF6",
              "width": 0.5
             },
             "pattern": {
              "fillmode": "overlay",
              "size": 10,
              "solidity": 0.2
             }
            },
            "type": "barpolar"
           }
          ],
          "carpet": [
           {
            "aaxis": {
             "endlinecolor": "#2a3f5f",
             "gridcolor": "white",
             "linecolor": "white",
             "minorgridcolor": "white",
             "startlinecolor": "#2a3f5f"
            },
            "baxis": {
             "endlinecolor": "#2a3f5f",
             "gridcolor": "white",
             "linecolor": "white",
             "minorgridcolor": "white",
             "startlinecolor": "#2a3f5f"
            },
            "type": "carpet"
           }
          ],
          "choropleth": [
           {
            "colorbar": {
             "outlinewidth": 0,
             "ticks": ""
            },
            "type": "choropleth"
           }
          ],
          "contour": [
           {
            "colorbar": {
             "outlinewidth": 0,
             "ticks": ""
            },
            "colorscale": [
             [
              0,
              "#0d0887"
             ],
             [
              0.1111111111111111,
              "#46039f"
             ],
             [
              0.2222222222222222,
              "#7201a8"
             ],
             [
              0.3333333333333333,
              "#9c179e"
             ],
             [
              0.4444444444444444,
              "#bd3786"
             ],
             [
              0.5555555555555556,
              "#d8576b"
             ],
             [
              0.6666666666666666,
              "#ed7953"
             ],
             [
              0.7777777777777778,
              "#fb9f3a"
             ],
             [
              0.8888888888888888,
              "#fdca26"
             ],
             [
              1,
              "#f0f921"
             ]
            ],
            "type": "contour"
           }
          ],
          "contourcarpet": [
           {
            "colorbar": {
             "outlinewidth": 0,
             "ticks": ""
            },
            "type": "contourcarpet"
           }
          ],
          "heatmap": [
           {
            "colorbar": {
             "outlinewidth": 0,
             "ticks": ""
            },
            "colorscale": [
             [
              0,
              "#0d0887"
             ],
             [
              0.1111111111111111,
              "#46039f"
             ],
             [
              0.2222222222222222,
              "#7201a8"
             ],
             [
              0.3333333333333333,
              "#9c179e"
             ],
             [
              0.4444444444444444,
              "#bd3786"
             ],
             [
              0.5555555555555556,
              "#d8576b"
             ],
             [
              0.6666666666666666,
              "#ed7953"
             ],
             [
              0.7777777777777778,
              "#fb9f3a"
             ],
             [
              0.8888888888888888,
              "#fdca26"
             ],
             [
              1,
              "#f0f921"
             ]
            ],
            "type": "heatmap"
           }
          ],
          "heatmapgl": [
           {
            "colorbar": {
             "outlinewidth": 0,
             "ticks": ""
            },
            "colorscale": [
             [
              0,
              "#0d0887"
             ],
             [
              0.1111111111111111,
              "#46039f"
             ],
             [
              0.2222222222222222,
              "#7201a8"
             ],
             [
              0.3333333333333333,
              "#9c179e"
             ],
             [
              0.4444444444444444,
              "#bd3786"
             ],
             [
              0.5555555555555556,
              "#d8576b"
             ],
             [
              0.6666666666666666,
              "#ed7953"
             ],
             [
              0.7777777777777778,
              "#fb9f3a"
             ],
             [
              0.8888888888888888,
              "#fdca26"
             ],
             [
              1,
              "#f0f921"
             ]
            ],
            "type": "heatmapgl"
           }
          ],
          "histogram": [
           {
            "marker": {
             "pattern": {
              "fillmode": "overlay",
              "size": 10,
              "solidity": 0.2
             }
            },
            "type": "histogram"
           }
          ],
          "histogram2d": [
           {
            "colorbar": {
             "outlinewidth": 0,
             "ticks": ""
            },
            "colorscale": [
             [
              0,
              "#0d0887"
             ],
             [
              0.1111111111111111,
              "#46039f"
             ],
             [
              0.2222222222222222,
              "#7201a8"
             ],
             [
              0.3333333333333333,
              "#9c179e"
             ],
             [
              0.4444444444444444,
              "#bd3786"
             ],
             [
              0.5555555555555556,
              "#d8576b"
             ],
             [
              0.6666666666666666,
              "#ed7953"
             ],
             [
              0.7777777777777778,
              "#fb9f3a"
             ],
             [
              0.8888888888888888,
              "#fdca26"
             ],
             [
              1,
              "#f0f921"
             ]
            ],
            "type": "histogram2d"
           }
          ],
          "histogram2dcontour": [
           {
            "colorbar": {
             "outlinewidth": 0,
             "ticks": ""
            },
            "colorscale": [
             [
              0,
              "#0d0887"
             ],
             [
              0.1111111111111111,
              "#46039f"
             ],
             [
              0.2222222222222222,
              "#7201a8"
             ],
             [
              0.3333333333333333,
              "#9c179e"
             ],
             [
              0.4444444444444444,
              "#bd3786"
             ],
             [
              0.5555555555555556,
              "#d8576b"
             ],
             [
              0.6666666666666666,
              "#ed7953"
             ],
             [
              0.7777777777777778,
              "#fb9f3a"
             ],
             [
              0.8888888888888888,
              "#fdca26"
             ],
             [
              1,
              "#f0f921"
             ]
            ],
            "type": "histogram2dcontour"
           }
          ],
          "mesh3d": [
           {
            "colorbar": {
             "outlinewidth": 0,
             "ticks": ""
            },
            "type": "mesh3d"
           }
          ],
          "parcoords": [
           {
            "line": {
             "colorbar": {
              "outlinewidth": 0,
              "ticks": ""
             }
            },
            "type": "parcoords"
           }
          ],
          "pie": [
           {
            "automargin": true,
            "type": "pie"
           }
          ],
          "scatter": [
           {
            "fillpattern": {
             "fillmode": "overlay",
             "size": 10,
             "solidity": 0.2
            },
            "type": "scatter"
           }
          ],
          "scatter3d": [
           {
            "line": {
             "colorbar": {
              "outlinewidth": 0,
              "ticks": ""
             }
            },
            "marker": {
             "colorbar": {
              "outlinewidth": 0,
              "ticks": ""
             }
            },
            "type": "scatter3d"
           }
          ],
          "scattercarpet": [
           {
            "marker": {
             "colorbar": {
              "outlinewidth": 0,
              "ticks": ""
             }
            },
            "type": "scattercarpet"
           }
          ],
          "scattergeo": [
           {
            "marker": {
             "colorbar": {
              "outlinewidth": 0,
              "ticks": ""
             }
            },
            "type": "scattergeo"
           }
          ],
          "scattergl": [
           {
            "marker": {
             "colorbar": {
              "outlinewidth": 0,
              "ticks": ""
             }
            },
            "type": "scattergl"
           }
          ],
          "scattermapbox": [
           {
            "marker": {
             "colorbar": {
              "outlinewidth": 0,
              "ticks": ""
             }
            },
            "type": "scattermapbox"
           }
          ],
          "scatterpolar": [
           {
            "marker": {
             "colorbar": {
              "outlinewidth": 0,
              "ticks": ""
             }
            },
            "type": "scatterpolar"
           }
          ],
          "scatterpolargl": [
           {
            "marker": {
             "colorbar": {
              "outlinewidth": 0,
              "ticks": ""
             }
            },
            "type": "scatterpolargl"
           }
          ],
          "scatterternary": [
           {
            "marker": {
             "colorbar": {
              "outlinewidth": 0,
              "ticks": ""
             }
            },
            "type": "scatterternary"
           }
          ],
          "surface": [
           {
            "colorbar": {
             "outlinewidth": 0,
             "ticks": ""
            },
            "colorscale": [
             [
              0,
              "#0d0887"
             ],
             [
              0.1111111111111111,
              "#46039f"
             ],
             [
              0.2222222222222222,
              "#7201a8"
             ],
             [
              0.3333333333333333,
              "#9c179e"
             ],
             [
              0.4444444444444444,
              "#bd3786"
             ],
             [
              0.5555555555555556,
              "#d8576b"
             ],
             [
              0.6666666666666666,
              "#ed7953"
             ],
             [
              0.7777777777777778,
              "#fb9f3a"
             ],
             [
              0.8888888888888888,
              "#fdca26"
             ],
             [
              1,
              "#f0f921"
             ]
            ],
            "type": "surface"
           }
          ],
          "table": [
           {
            "cells": {
             "fill": {
              "color": "#EBF0F8"
             },
             "line": {
              "color": "white"
             }
            },
            "header": {
             "fill": {
              "color": "#C8D4E3"
             },
             "line": {
              "color": "white"
             }
            },
            "type": "table"
           }
          ]
         },
         "layout": {
          "annotationdefaults": {
           "arrowcolor": "#2a3f5f",
           "arrowhead": 0,
           "arrowwidth": 1
          },
          "autotypenumbers": "strict",
          "coloraxis": {
           "colorbar": {
            "outlinewidth": 0,
            "ticks": ""
           }
          },
          "colorscale": {
           "diverging": [
            [
             0,
             "#8e0152"
            ],
            [
             0.1,
             "#c51b7d"
            ],
            [
             0.2,
             "#de77ae"
            ],
            [
             0.3,
             "#f1b6da"
            ],
            [
             0.4,
             "#fde0ef"
            ],
            [
             0.5,
             "#f7f7f7"
            ],
            [
             0.6,
             "#e6f5d0"
            ],
            [
             0.7,
             "#b8e186"
            ],
            [
             0.8,
             "#7fbc41"
            ],
            [
             0.9,
             "#4d9221"
            ],
            [
             1,
             "#276419"
            ]
           ],
           "sequential": [
            [
             0,
             "#0d0887"
            ],
            [
             0.1111111111111111,
             "#46039f"
            ],
            [
             0.2222222222222222,
             "#7201a8"
            ],
            [
             0.3333333333333333,
             "#9c179e"
            ],
            [
             0.4444444444444444,
             "#bd3786"
            ],
            [
             0.5555555555555556,
             "#d8576b"
            ],
            [
             0.6666666666666666,
             "#ed7953"
            ],
            [
             0.7777777777777778,
             "#fb9f3a"
            ],
            [
             0.8888888888888888,
             "#fdca26"
            ],
            [
             1,
             "#f0f921"
            ]
           ],
           "sequentialminus": [
            [
             0,
             "#0d0887"
            ],
            [
             0.1111111111111111,
             "#46039f"
            ],
            [
             0.2222222222222222,
             "#7201a8"
            ],
            [
             0.3333333333333333,
             "#9c179e"
            ],
            [
             0.4444444444444444,
             "#bd3786"
            ],
            [
             0.5555555555555556,
             "#d8576b"
            ],
            [
             0.6666666666666666,
             "#ed7953"
            ],
            [
             0.7777777777777778,
             "#fb9f3a"
            ],
            [
             0.8888888888888888,
             "#fdca26"
            ],
            [
             1,
             "#f0f921"
            ]
           ]
          },
          "colorway": [
           "#636efa",
           "#EF553B",
           "#00cc96",
           "#ab63fa",
           "#FFA15A",
           "#19d3f3",
           "#FF6692",
           "#B6E880",
           "#FF97FF",
           "#FECB52"
          ],
          "font": {
           "color": "#2a3f5f"
          },
          "geo": {
           "bgcolor": "white",
           "lakecolor": "white",
           "landcolor": "#E5ECF6",
           "showlakes": true,
           "showland": true,
           "subunitcolor": "white"
          },
          "hoverlabel": {
           "align": "left"
          },
          "hovermode": "closest",
          "mapbox": {
           "style": "light"
          },
          "paper_bgcolor": "white",
          "plot_bgcolor": "#E5ECF6",
          "polar": {
           "angularaxis": {
            "gridcolor": "white",
            "linecolor": "white",
            "ticks": ""
           },
           "bgcolor": "#E5ECF6",
           "radialaxis": {
            "gridcolor": "white",
            "linecolor": "white",
            "ticks": ""
           }
          },
          "scene": {
           "xaxis": {
            "backgroundcolor": "#E5ECF6",
            "gridcolor": "white",
            "gridwidth": 2,
            "linecolor": "white",
            "showbackground": true,
            "ticks": "",
            "zerolinecolor": "white"
           },
           "yaxis": {
            "backgroundcolor": "#E5ECF6",
            "gridcolor": "white",
            "gridwidth": 2,
            "linecolor": "white",
            "showbackground": true,
            "ticks": "",
            "zerolinecolor": "white"
           },
           "zaxis": {
            "backgroundcolor": "#E5ECF6",
            "gridcolor": "white",
            "gridwidth": 2,
            "linecolor": "white",
            "showbackground": true,
            "ticks": "",
            "zerolinecolor": "white"
           }
          },
          "shapedefaults": {
           "line": {
            "color": "#2a3f5f"
           }
          },
          "ternary": {
           "aaxis": {
            "gridcolor": "white",
            "linecolor": "white",
            "ticks": ""
           },
           "baxis": {
            "gridcolor": "white",
            "linecolor": "white",
            "ticks": ""
           },
           "bgcolor": "#E5ECF6",
           "caxis": {
            "gridcolor": "white",
            "linecolor": "white",
            "ticks": ""
           }
          },
          "title": {
           "x": 0.05
          },
          "xaxis": {
           "automargin": true,
           "gridcolor": "white",
           "linecolor": "white",
           "ticks": "",
           "title": {
            "standoff": 15
           },
           "zerolinecolor": "white",
           "zerolinewidth": 2
          },
          "yaxis": {
           "automargin": true,
           "gridcolor": "white",
           "linecolor": "white",
           "ticks": "",
           "title": {
            "standoff": 15
           },
           "zerolinecolor": "white",
           "zerolinewidth": 2
          }
         }
        },
        "title": {
         "text": "Predicted: left, Actual: back"
        },
        "xaxis": {
         "anchor": "y",
         "constrain": "domain",
         "domain": [
          0,
          1
         ],
         "scaleanchor": "y"
        },
        "yaxis": {
         "anchor": "x",
         "autorange": "reversed",
         "constrain": "domain",
         "domain": [
          0,
          1
         ]
        }
       }
      }
     },
     "metadata": {},
     "output_type": "display_data"
    },
    {
     "data": {
      "application/vnd.plotly.v1+json": {
       "config": {
        "plotlyServerURL": "https://plot.ly"
       },
       "data": [
        {
         "coloraxis": "coloraxis",
         "hovertemplate": "x: %{x}<br>y: %{y}<br>color: %{z}<extra></extra>",
         "name": "0",
         "type": "heatmap",
         "xaxis": "x",
         "yaxis": "y",
         "z": [
          [
           25.31,
           25.15,
           25.15,
           25.21,
           25.62,
           25.68,
           25.66,
           25.59,
           26.18,
           26.51,
           26.78,
           27.01,
           27.99,
           28.34,
           28.81,
           28.87,
           29.5,
           29.52,
           28.18,
           27.91,
           26.9,
           26.78,
           26.26,
           26.21,
           25.95,
           25.79,
           25.22,
           25.23,
           25.12,
           24.94,
           25.23,
           24.91
          ],
          [
           25.25,
           25.58,
           24.98,
           25.02,
           25.78,
           25.47,
           25.51,
           26.05,
           26.62,
           26.49,
           26.78,
           27.48,
           28.44,
           28.75,
           28.97,
           29.12,
           30.33,
           30.46,
           29.06,
           28.68,
           27.64,
           27.38,
           26.25,
           26.03,
           25.94,
           25.58,
           25.01,
           25.17,
           25.54,
           25.12,
           25,
           25.11
          ],
          [
           25.15,
           25.14,
           25.16,
           25.52,
           25.46,
           26.01,
           25.9,
           25.86,
           26.55,
           26.61,
           27.41,
           27.7,
           28.48,
           29.06,
           30.81,
           31.02,
           32.67,
           33.13,
           31.84,
           30.48,
           28.12,
           27.48,
           26.49,
           26.26,
           25.8,
           25.74,
           25.31,
           25.05,
           24.99,
           25.22,
           24.89,
           24.74
          ],
          [
           25,
           25.37,
           25.06,
           25.39,
           25.86,
           25.74,
           25.81,
           26.19,
           26.96,
           26.71,
           27.41,
           27.81,
           29.02,
           29.68,
           31.75,
           32.57,
           33.37,
           33.63,
           32.77,
           31.48,
           28.35,
           27.47,
           26.62,
           26.41,
           26.1,
           25.78,
           25.3,
           25.1,
           25.22,
           24.88,
           24.75,
           24.56
          ],
          [
           25.24,
           25.44,
           25.06,
           24.93,
           25.72,
           25.95,
           26.2,
           26.39,
           26.72,
           27.03,
           27.58,
           27.98,
           30.01,
           30.9,
           32.88,
           33.39,
           33.39,
           33.68,
           33.04,
           31.7,
           28.46,
           27.67,
           26.51,
           26.39,
           26.06,
           25.83,
           25.25,
           25.14,
           24.62,
           25.06,
           24.58,
           24.59
          ],
          [
           25.29,
           24.91,
           24.96,
           25.39,
           25.93,
           25.8,
           26.21,
           26.52,
           27.01,
           26.78,
           27.48,
           27.99,
           30.58,
           31.33,
           32.9,
           33.02,
           33.6,
           33.5,
           32.85,
           31.72,
           28.47,
           27.55,
           26.74,
           26.39,
           26.34,
           25.71,
           25.29,
           25.38,
           25.26,
           24.86,
           24.34,
           24.47
          ],
          [
           25.21,
           24.97,
           25.05,
           25.38,
           25.56,
           25.94,
           26.46,
           26.68,
           27.24,
           27.15,
           27.69,
           28.53,
           30.53,
           31.56,
           31.45,
           31.54,
           32.35,
           32.53,
           31.46,
           30.71,
           28.13,
           27.5,
           26.77,
           26.37,
           26.21,
           25.71,
           25.48,
           25.02,
           24.57,
           24.92,
           24.46,
           24.66
          ],
          [
           24.93,
           25.11,
           25.2,
           25.35,
           25.69,
           26.17,
           26.5,
           26.81,
           27.17,
           27.32,
           27.72,
           28.22,
           30.86,
           31.6,
           31.24,
           30.88,
           32.13,
           32.48,
           31.13,
           30.5,
           28.24,
           27.3,
           26.56,
           26.46,
           25.99,
           25.79,
           25.62,
           25.42,
           24.99,
           24.51,
           24.04,
           24.58
          ],
          [
           25.21,
           24.97,
           25.22,
           25.2,
           25.86,
           26.11,
           26.7,
           27.2,
           27.72,
           28.05,
           28.16,
           28.48,
           30.12,
           31.45,
           31.52,
           31.18,
           32.87,
           33.58,
           32.31,
           30.91,
           28.07,
           27.68,
           26.88,
           26.82,
           26.23,
           26.06,
           25.17,
           25.38,
           24.82,
           24.76,
           24.46,
           24.77
          ],
          [
           24.85,
           25.29,
           25.19,
           25.34,
           25.84,
           26.2,
           26.83,
           27.49,
           28.69,
           28.62,
           28.89,
           29.27,
           30.53,
           31.66,
           31.9,
           31.48,
           33.23,
           33.36,
           32.43,
           30.8,
           28.44,
           28.03,
           27.24,
           26.99,
           26.56,
           26.02,
           25.44,
           25.34,
           25.4,
           24.84,
           24.59,
           24.52
          ],
          [
           24.65,
           25.24,
           25.43,
           25.6,
           26.06,
           26.33,
           27.15,
           27.92,
           29.62,
           30.26,
           30.21,
           30.48,
           31.35,
           32.28,
           32.5,
           32.3,
           32.91,
           33.09,
           32.69,
           31.7,
           30.25,
           30.07,
           28.34,
           27.9,
           26.52,
           26.41,
           25.68,
           25.64,
           25.27,
           25.24,
           25,
           24.39
          ],
          [
           24.9,
           25.32,
           25.54,
           25.68,
           26.27,
           26.37,
           27.56,
           28.18,
           29.99,
           29.94,
           30.18,
           30.37,
           31.33,
           32.24,
           32.38,
           32.36,
           32.88,
           33.14,
           32.62,
           31.91,
           30.76,
           30.65,
           28.98,
           28.15,
           27.07,
           26.58,
           25.76,
           25.79,
           25.62,
           25.17,
           24.73,
           24.81
          ],
          [
           24.96,
           25.07,
           25.34,
           25.72,
           26.52,
           26.64,
           27.88,
           28.83,
           29.23,
           29.47,
           29.56,
           29.7,
           29.62,
           29.83,
           29.83,
           29.92,
           31.4,
           31.82,
           31.49,
           30.82,
           30.4,
           30.07,
           29.38,
           29.1,
           27.86,
           27.23,
           25.91,
           25.68,
           25.26,
           24.93,
           24.99,
           25.04
          ],
          [
           25.35,
           25.26,
           25.45,
           25.9,
           26.94,
           27.25,
           28.24,
           28.67,
           29.31,
           29.14,
           29.33,
           29.73,
           30.12,
           29.87,
           29.02,
           28.79,
           29.63,
           30.47,
           30.44,
           30.44,
           30.1,
           29.74,
           29.24,
           29.13,
           28.02,
           27.38,
           25.94,
           25.73,
           25.51,
           25.09,
           25.06,
           24.84
          ],
          [
           25.02,
           25.19,
           25.74,
           26.13,
           27.6,
           28.05,
           28.88,
           29.23,
           29.22,
           29.08,
           29.55,
           29.83,
           30.71,
           31,
           30.23,
           29.82,
           29.61,
           29.72,
           30.2,
           30.1,
           29.91,
           29.54,
           29.4,
           29.31,
           28.19,
           27.29,
           25.79,
           25.41,
           24.97,
           25.14,
           24.98,
           24.88
          ],
          [
           25.18,
           25.19,
           25.52,
           26.02,
           27.18,
           27.74,
           29.15,
           29.38,
           29.06,
           29.2,
           29.58,
           29.97,
           30.96,
           31.05,
           30.46,
           30.19,
           29.84,
           29.83,
           30.15,
           30.24,
           29.97,
           29.59,
           29.24,
           29.24,
           28.26,
           27.28,
           25.81,
           25.51,
           25.41,
           25.27,
           25.02,
           24.86
          ],
          [
           24.82,
           25.35,
           25.42,
           25.85,
           26.94,
           28.01,
           29.53,
           29.65,
           29.02,
           28.95,
           29.06,
           29.55,
           30.41,
           30.51,
           30,
           29.92,
           29.71,
           30.15,
           30.5,
           30.14,
           29.64,
           29.65,
           29.37,
           29.35,
           28.29,
           27.48,
           25.66,
           25.56,
           25.11,
           25.27,
           24.33,
           24.75
          ],
          [
           25.01,
           25.38,
           25.14,
           25.43,
           27.11,
           27.91,
           29.58,
           29.27,
           28.68,
           28.8,
           29,
           29.22,
           29.99,
           30.01,
           29.69,
           29.68,
           30.04,
           29.92,
           30.09,
           30.1,
           29.59,
           29.49,
           29.61,
           29.59,
           28.31,
           27.35,
           25.53,
           25.41,
           25.44,
           25.04,
           24.71,
           24.5
          ],
          [
           24.94,
           25.37,
           25.26,
           25.6,
           26.2,
           26.73,
           28.81,
           28.84,
           28.37,
           28.48,
           28.75,
           28.85,
           29.23,
           29.3,
           29.53,
           29.52,
           29.69,
           29.87,
           29.45,
           29.47,
           28.92,
           29.42,
           29.67,
           29.42,
           27.5,
           26.71,
           25.34,
           25.37,
           25.18,
           25.06,
           24.64,
           24.63
          ],
          [
           25.49,
           25.07,
           25.27,
           25.39,
           26.2,
           26.45,
           27.76,
           28.05,
           28.5,
           28.49,
           28.98,
           28.98,
           29.28,
           29.31,
           29.46,
           29.54,
           29.64,
           29.5,
           29.3,
           29.08,
           28.94,
           28.9,
           28.81,
           28.63,
           26.98,
           26.37,
           25.17,
           24.98,
           25.01,
           24.84,
           24.41,
           24.82
          ],
          [
           24.78,
           25.31,
           25.24,
           25.35,
           25.46,
           25.75,
           26.52,
           26.94,
           28.43,
           29.07,
           29.13,
           28.73,
           29.22,
           29.3,
           29.87,
           29.8,
           29.34,
           29.13,
           29.31,
           29.1,
           28.73,
           28.46,
           27.28,
           26.84,
           25.98,
           25.72,
           25.18,
           24.87,
           25.14,
           25,
           24.54,
           24.78
          ],
          [
           25.15,
           24.83,
           25.17,
           25.61,
           26.06,
           25.82,
           26.19,
           26.47,
           27.94,
           28.73,
           28.73,
           28.73,
           29.27,
           29.77,
           30.15,
           29.82,
           29.03,
           28.57,
           28.35,
           28.66,
           28.3,
           27.57,
           26.5,
           26.38,
           26.11,
           25.31,
           24.97,
           24.94,
           25.15,
           24.67,
           24.7,
           24.98
          ],
          [
           24.87,
           25.12,
           25.18,
           25.58,
           25.57,
           26,
           25.7,
           25.96,
           27.29,
           28.21,
           28.5,
           28.2,
           28.33,
           28.65,
           29.61,
           29.73,
           28.26,
           28.29,
           28.59,
           28.45,
           27.31,
           27.14,
           26.23,
           25.97,
           25.34,
           25.33,
           25,
           24.94,
           24.78,
           25.25,
           24.82,
           25.02
          ],
          [
           25.48,
           24.94,
           25.14,
           25.16,
           25.54,
           25.29,
           25.77,
           26.01,
           27.4,
           27.94,
           29.05,
           28.94,
           28.72,
           28.97,
           29.54,
           29.49,
           29.13,
           28.88,
           28.58,
           28.55,
           27.25,
           27.07,
           26.04,
           26,
           25.43,
           25.38,
           24.56,
           24.85,
           25.23,
           24.95,
           24.21,
           25.09
          ]
         ]
        }
       ],
       "layout": {
        "coloraxis": {
         "colorscale": [
          [
           0,
           "#0d0887"
          ],
          [
           0.1111111111111111,
           "#46039f"
          ],
          [
           0.2222222222222222,
           "#7201a8"
          ],
          [
           0.3333333333333333,
           "#9c179e"
          ],
          [
           0.4444444444444444,
           "#bd3786"
          ],
          [
           0.5555555555555556,
           "#d8576b"
          ],
          [
           0.6666666666666666,
           "#ed7953"
          ],
          [
           0.7777777777777778,
           "#fb9f3a"
          ],
          [
           0.8888888888888888,
           "#fdca26"
          ],
          [
           1,
           "#f0f921"
          ]
         ]
        },
        "margin": {
         "t": 60
        },
        "template": {
         "data": {
          "bar": [
           {
            "error_x": {
             "color": "#2a3f5f"
            },
            "error_y": {
             "color": "#2a3f5f"
            },
            "marker": {
             "line": {
              "color": "#E5ECF6",
              "width": 0.5
             },
             "pattern": {
              "fillmode": "overlay",
              "size": 10,
              "solidity": 0.2
             }
            },
            "type": "bar"
           }
          ],
          "barpolar": [
           {
            "marker": {
             "line": {
              "color": "#E5ECF6",
              "width": 0.5
             },
             "pattern": {
              "fillmode": "overlay",
              "size": 10,
              "solidity": 0.2
             }
            },
            "type": "barpolar"
           }
          ],
          "carpet": [
           {
            "aaxis": {
             "endlinecolor": "#2a3f5f",
             "gridcolor": "white",
             "linecolor": "white",
             "minorgridcolor": "white",
             "startlinecolor": "#2a3f5f"
            },
            "baxis": {
             "endlinecolor": "#2a3f5f",
             "gridcolor": "white",
             "linecolor": "white",
             "minorgridcolor": "white",
             "startlinecolor": "#2a3f5f"
            },
            "type": "carpet"
           }
          ],
          "choropleth": [
           {
            "colorbar": {
             "outlinewidth": 0,
             "ticks": ""
            },
            "type": "choropleth"
           }
          ],
          "contour": [
           {
            "colorbar": {
             "outlinewidth": 0,
             "ticks": ""
            },
            "colorscale": [
             [
              0,
              "#0d0887"
             ],
             [
              0.1111111111111111,
              "#46039f"
             ],
             [
              0.2222222222222222,
              "#7201a8"
             ],
             [
              0.3333333333333333,
              "#9c179e"
             ],
             [
              0.4444444444444444,
              "#bd3786"
             ],
             [
              0.5555555555555556,
              "#d8576b"
             ],
             [
              0.6666666666666666,
              "#ed7953"
             ],
             [
              0.7777777777777778,
              "#fb9f3a"
             ],
             [
              0.8888888888888888,
              "#fdca26"
             ],
             [
              1,
              "#f0f921"
             ]
            ],
            "type": "contour"
           }
          ],
          "contourcarpet": [
           {
            "colorbar": {
             "outlinewidth": 0,
             "ticks": ""
            },
            "type": "contourcarpet"
           }
          ],
          "heatmap": [
           {
            "colorbar": {
             "outlinewidth": 0,
             "ticks": ""
            },
            "colorscale": [
             [
              0,
              "#0d0887"
             ],
             [
              0.1111111111111111,
              "#46039f"
             ],
             [
              0.2222222222222222,
              "#7201a8"
             ],
             [
              0.3333333333333333,
              "#9c179e"
             ],
             [
              0.4444444444444444,
              "#bd3786"
             ],
             [
              0.5555555555555556,
              "#d8576b"
             ],
             [
              0.6666666666666666,
              "#ed7953"
             ],
             [
              0.7777777777777778,
              "#fb9f3a"
             ],
             [
              0.8888888888888888,
              "#fdca26"
             ],
             [
              1,
              "#f0f921"
             ]
            ],
            "type": "heatmap"
           }
          ],
          "heatmapgl": [
           {
            "colorbar": {
             "outlinewidth": 0,
             "ticks": ""
            },
            "colorscale": [
             [
              0,
              "#0d0887"
             ],
             [
              0.1111111111111111,
              "#46039f"
             ],
             [
              0.2222222222222222,
              "#7201a8"
             ],
             [
              0.3333333333333333,
              "#9c179e"
             ],
             [
              0.4444444444444444,
              "#bd3786"
             ],
             [
              0.5555555555555556,
              "#d8576b"
             ],
             [
              0.6666666666666666,
              "#ed7953"
             ],
             [
              0.7777777777777778,
              "#fb9f3a"
             ],
             [
              0.8888888888888888,
              "#fdca26"
             ],
             [
              1,
              "#f0f921"
             ]
            ],
            "type": "heatmapgl"
           }
          ],
          "histogram": [
           {
            "marker": {
             "pattern": {
              "fillmode": "overlay",
              "size": 10,
              "solidity": 0.2
             }
            },
            "type": "histogram"
           }
          ],
          "histogram2d": [
           {
            "colorbar": {
             "outlinewidth": 0,
             "ticks": ""
            },
            "colorscale": [
             [
              0,
              "#0d0887"
             ],
             [
              0.1111111111111111,
              "#46039f"
             ],
             [
              0.2222222222222222,
              "#7201a8"
             ],
             [
              0.3333333333333333,
              "#9c179e"
             ],
             [
              0.4444444444444444,
              "#bd3786"
             ],
             [
              0.5555555555555556,
              "#d8576b"
             ],
             [
              0.6666666666666666,
              "#ed7953"
             ],
             [
              0.7777777777777778,
              "#fb9f3a"
             ],
             [
              0.8888888888888888,
              "#fdca26"
             ],
             [
              1,
              "#f0f921"
             ]
            ],
            "type": "histogram2d"
           }
          ],
          "histogram2dcontour": [
           {
            "colorbar": {
             "outlinewidth": 0,
             "ticks": ""
            },
            "colorscale": [
             [
              0,
              "#0d0887"
             ],
             [
              0.1111111111111111,
              "#46039f"
             ],
             [
              0.2222222222222222,
              "#7201a8"
             ],
             [
              0.3333333333333333,
              "#9c179e"
             ],
             [
              0.4444444444444444,
              "#bd3786"
             ],
             [
              0.5555555555555556,
              "#d8576b"
             ],
             [
              0.6666666666666666,
              "#ed7953"
             ],
             [
              0.7777777777777778,
              "#fb9f3a"
             ],
             [
              0.8888888888888888,
              "#fdca26"
             ],
             [
              1,
              "#f0f921"
             ]
            ],
            "type": "histogram2dcontour"
           }
          ],
          "mesh3d": [
           {
            "colorbar": {
             "outlinewidth": 0,
             "ticks": ""
            },
            "type": "mesh3d"
           }
          ],
          "parcoords": [
           {
            "line": {
             "colorbar": {
              "outlinewidth": 0,
              "ticks": ""
             }
            },
            "type": "parcoords"
           }
          ],
          "pie": [
           {
            "automargin": true,
            "type": "pie"
           }
          ],
          "scatter": [
           {
            "fillpattern": {
             "fillmode": "overlay",
             "size": 10,
             "solidity": 0.2
            },
            "type": "scatter"
           }
          ],
          "scatter3d": [
           {
            "line": {
             "colorbar": {
              "outlinewidth": 0,
              "ticks": ""
             }
            },
            "marker": {
             "colorbar": {
              "outlinewidth": 0,
              "ticks": ""
             }
            },
            "type": "scatter3d"
           }
          ],
          "scattercarpet": [
           {
            "marker": {
             "colorbar": {
              "outlinewidth": 0,
              "ticks": ""
             }
            },
            "type": "scattercarpet"
           }
          ],
          "scattergeo": [
           {
            "marker": {
             "colorbar": {
              "outlinewidth": 0,
              "ticks": ""
             }
            },
            "type": "scattergeo"
           }
          ],
          "scattergl": [
           {
            "marker": {
             "colorbar": {
              "outlinewidth": 0,
              "ticks": ""
             }
            },
            "type": "scattergl"
           }
          ],
          "scattermapbox": [
           {
            "marker": {
             "colorbar": {
              "outlinewidth": 0,
              "ticks": ""
             }
            },
            "type": "scattermapbox"
           }
          ],
          "scatterpolar": [
           {
            "marker": {
             "colorbar": {
              "outlinewidth": 0,
              "ticks": ""
             }
            },
            "type": "scatterpolar"
           }
          ],
          "scatterpolargl": [
           {
            "marker": {
             "colorbar": {
              "outlinewidth": 0,
              "ticks": ""
             }
            },
            "type": "scatterpolargl"
           }
          ],
          "scatterternary": [
           {
            "marker": {
             "colorbar": {
              "outlinewidth": 0,
              "ticks": ""
             }
            },
            "type": "scatterternary"
           }
          ],
          "surface": [
           {
            "colorbar": {
             "outlinewidth": 0,
             "ticks": ""
            },
            "colorscale": [
             [
              0,
              "#0d0887"
             ],
             [
              0.1111111111111111,
              "#46039f"
             ],
             [
              0.2222222222222222,
              "#7201a8"
             ],
             [
              0.3333333333333333,
              "#9c179e"
             ],
             [
              0.4444444444444444,
              "#bd3786"
             ],
             [
              0.5555555555555556,
              "#d8576b"
             ],
             [
              0.6666666666666666,
              "#ed7953"
             ],
             [
              0.7777777777777778,
              "#fb9f3a"
             ],
             [
              0.8888888888888888,
              "#fdca26"
             ],
             [
              1,
              "#f0f921"
             ]
            ],
            "type": "surface"
           }
          ],
          "table": [
           {
            "cells": {
             "fill": {
              "color": "#EBF0F8"
             },
             "line": {
              "color": "white"
             }
            },
            "header": {
             "fill": {
              "color": "#C8D4E3"
             },
             "line": {
              "color": "white"
             }
            },
            "type": "table"
           }
          ]
         },
         "layout": {
          "annotationdefaults": {
           "arrowcolor": "#2a3f5f",
           "arrowhead": 0,
           "arrowwidth": 1
          },
          "autotypenumbers": "strict",
          "coloraxis": {
           "colorbar": {
            "outlinewidth": 0,
            "ticks": ""
           }
          },
          "colorscale": {
           "diverging": [
            [
             0,
             "#8e0152"
            ],
            [
             0.1,
             "#c51b7d"
            ],
            [
             0.2,
             "#de77ae"
            ],
            [
             0.3,
             "#f1b6da"
            ],
            [
             0.4,
             "#fde0ef"
            ],
            [
             0.5,
             "#f7f7f7"
            ],
            [
             0.6,
             "#e6f5d0"
            ],
            [
             0.7,
             "#b8e186"
            ],
            [
             0.8,
             "#7fbc41"
            ],
            [
             0.9,
             "#4d9221"
            ],
            [
             1,
             "#276419"
            ]
           ],
           "sequential": [
            [
             0,
             "#0d0887"
            ],
            [
             0.1111111111111111,
             "#46039f"
            ],
            [
             0.2222222222222222,
             "#7201a8"
            ],
            [
             0.3333333333333333,
             "#9c179e"
            ],
            [
             0.4444444444444444,
             "#bd3786"
            ],
            [
             0.5555555555555556,
             "#d8576b"
            ],
            [
             0.6666666666666666,
             "#ed7953"
            ],
            [
             0.7777777777777778,
             "#fb9f3a"
            ],
            [
             0.8888888888888888,
             "#fdca26"
            ],
            [
             1,
             "#f0f921"
            ]
           ],
           "sequentialminus": [
            [
             0,
             "#0d0887"
            ],
            [
             0.1111111111111111,
             "#46039f"
            ],
            [
             0.2222222222222222,
             "#7201a8"
            ],
            [
             0.3333333333333333,
             "#9c179e"
            ],
            [
             0.4444444444444444,
             "#bd3786"
            ],
            [
             0.5555555555555556,
             "#d8576b"
            ],
            [
             0.6666666666666666,
             "#ed7953"
            ],
            [
             0.7777777777777778,
             "#fb9f3a"
            ],
            [
             0.8888888888888888,
             "#fdca26"
            ],
            [
             1,
             "#f0f921"
            ]
           ]
          },
          "colorway": [
           "#636efa",
           "#EF553B",
           "#00cc96",
           "#ab63fa",
           "#FFA15A",
           "#19d3f3",
           "#FF6692",
           "#B6E880",
           "#FF97FF",
           "#FECB52"
          ],
          "font": {
           "color": "#2a3f5f"
          },
          "geo": {
           "bgcolor": "white",
           "lakecolor": "white",
           "landcolor": "#E5ECF6",
           "showlakes": true,
           "showland": true,
           "subunitcolor": "white"
          },
          "hoverlabel": {
           "align": "left"
          },
          "hovermode": "closest",
          "mapbox": {
           "style": "light"
          },
          "paper_bgcolor": "white",
          "plot_bgcolor": "#E5ECF6",
          "polar": {
           "angularaxis": {
            "gridcolor": "white",
            "linecolor": "white",
            "ticks": ""
           },
           "bgcolor": "#E5ECF6",
           "radialaxis": {
            "gridcolor": "white",
            "linecolor": "white",
            "ticks": ""
           }
          },
          "scene": {
           "xaxis": {
            "backgroundcolor": "#E5ECF6",
            "gridcolor": "white",
            "gridwidth": 2,
            "linecolor": "white",
            "showbackground": true,
            "ticks": "",
            "zerolinecolor": "white"
           },
           "yaxis": {
            "backgroundcolor": "#E5ECF6",
            "gridcolor": "white",
            "gridwidth": 2,
            "linecolor": "white",
            "showbackground": true,
            "ticks": "",
            "zerolinecolor": "white"
           },
           "zaxis": {
            "backgroundcolor": "#E5ECF6",
            "gridcolor": "white",
            "gridwidth": 2,
            "linecolor": "white",
            "showbackground": true,
            "ticks": "",
            "zerolinecolor": "white"
           }
          },
          "shapedefaults": {
           "line": {
            "color": "#2a3f5f"
           }
          },
          "ternary": {
           "aaxis": {
            "gridcolor": "white",
            "linecolor": "white",
            "ticks": ""
           },
           "baxis": {
            "gridcolor": "white",
            "linecolor": "white",
            "ticks": ""
           },
           "bgcolor": "#E5ECF6",
           "caxis": {
            "gridcolor": "white",
            "linecolor": "white",
            "ticks": ""
           }
          },
          "title": {
           "x": 0.05
          },
          "xaxis": {
           "automargin": true,
           "gridcolor": "white",
           "linecolor": "white",
           "ticks": "",
           "title": {
            "standoff": 15
           },
           "zerolinecolor": "white",
           "zerolinewidth": 2
          },
          "yaxis": {
           "automargin": true,
           "gridcolor": "white",
           "linecolor": "white",
           "ticks": "",
           "title": {
            "standoff": 15
           },
           "zerolinecolor": "white",
           "zerolinewidth": 2
          }
         }
        },
        "title": {
         "text": "Predicted: right, Actual: back"
        },
        "xaxis": {
         "anchor": "y",
         "constrain": "domain",
         "domain": [
          0,
          1
         ],
         "scaleanchor": "y"
        },
        "yaxis": {
         "anchor": "x",
         "autorange": "reversed",
         "constrain": "domain",
         "domain": [
          0,
          1
         ]
        }
       }
      }
     },
     "metadata": {},
     "output_type": "display_data"
    },
    {
     "data": {
      "application/vnd.plotly.v1+json": {
       "config": {
        "plotlyServerURL": "https://plot.ly"
       },
       "data": [
        {
         "coloraxis": "coloraxis",
         "hovertemplate": "x: %{x}<br>y: %{y}<br>color: %{z}<extra></extra>",
         "name": "0",
         "type": "heatmap",
         "xaxis": "x",
         "yaxis": "y",
         "z": [
          [
           25.75,
           25.37,
           25.37,
           25.36,
           25.84,
           26,
           25.85,
           26.18,
           26.71,
           26.93,
           27.01,
           27.44,
           28.78,
           29.54,
           31.49,
           32.03,
           32.53,
           32.45,
           29.99,
           29.15,
           27.57,
           27.2,
           26.35,
           26.03,
           25.76,
           26.08,
           25.33,
           25.2,
           25.3,
           25.45,
           24.82,
           24.7
          ],
          [
           25.74,
           25.37,
           25.51,
           25.68,
           26.12,
           25.93,
           25.95,
           26.32,
           26.69,
           27.01,
           27.21,
           27.64,
           29.63,
           30.47,
           32.87,
           33.29,
           33.79,
           33.62,
           31.56,
           30.23,
           27.87,
           27.38,
           26.71,
           25.99,
           26.17,
           25.85,
           25.42,
           25.48,
           25.85,
           25.32,
           24.74,
           25.14
          ],
          [
           25.26,
           25.58,
           25.07,
           25.85,
           25.99,
           26.31,
           26.47,
           26.38,
           26.89,
           27.12,
           27.59,
           28.18,
           31.33,
           32.71,
           33.72,
           33.61,
           34.26,
           34.23,
           33.24,
           31.84,
           28.57,
           27.74,
           26.55,
           26.1,
           25.9,
           26,
           25.12,
           25.19,
           25.18,
           25.23,
           24.56,
           24.33
          ],
          [
           25.28,
           25.22,
           25.42,
           25.72,
           26.18,
           26.16,
           26.2,
           26.67,
           26.76,
           26.97,
           27.89,
           28.7,
           31.96,
           33.21,
           33.37,
           33.78,
           34.08,
           33.99,
           33.3,
           32.07,
           28.97,
           28.04,
           26.54,
           26.36,
           26.03,
           25.74,
           25.24,
           25.38,
           25.37,
           25.58,
           24.96,
           24.79
          ],
          [
           25.6,
           25.56,
           25.47,
           25.73,
           26.25,
           26.66,
           26.49,
           26.63,
           27.02,
           27.18,
           28.06,
           29.01,
           32.52,
           33.32,
           33.37,
           33.23,
           32.88,
           33.26,
           33.11,
           32.14,
           28.65,
           28.11,
           26.35,
           26.37,
           25.79,
           25.58,
           25.52,
           24.86,
           24.99,
           24.98,
           24.64,
           24.54
          ],
          [
           25.26,
           25.2,
           25.18,
           25.73,
           26.55,
           26.64,
           26.71,
           26.64,
           27.04,
           26.93,
           28.24,
           28.99,
           32.81,
           33.42,
           33.07,
           32.68,
           32.13,
           32.89,
           33.07,
           31.97,
           28.83,
           27.97,
           26.55,
           26.26,
           25.8,
           25.71,
           25.79,
           25.11,
           25.27,
           24.61,
           24.75,
           24.59
          ],
          [
           25.11,
           25.48,
           25.62,
           25.74,
           26.82,
           27.13,
           27,
           27.05,
           27.11,
           27.18,
           27.96,
           28.66,
           32.45,
           33.15,
           32.82,
           31.9,
           31.34,
           32.48,
           32.54,
           31.45,
           28.62,
           27.82,
           26.65,
           26.26,
           25.76,
           25.75,
           25.39,
           25.23,
           24.71,
           25.09,
           24.82,
           24.69
          ],
          [
           25.13,
           25.14,
           25.74,
           25.72,
           26.79,
           27.1,
           27.11,
           27.38,
           27.32,
           27.05,
           27.77,
           28.63,
           32.19,
           33.07,
           33.18,
           32.44,
           32.07,
           32.78,
           32.27,
           30.96,
           28.4,
           27.8,
           26.73,
           26.36,
           26.12,
           25.72,
           25.5,
           25.36,
           25.27,
           24.85,
           24.57,
           24.62
          ],
          [
           25.55,
           25.28,
           25.7,
           25.62,
           26.91,
           27.44,
           27.78,
           27.9,
           27.93,
           27.84,
           28.34,
           28.53,
           31.2,
           32.47,
           33.41,
           32.92,
           33.09,
           33.13,
           31.55,
           30.15,
           28.48,
           28.1,
           27.1,
           26.54,
           25.85,
           26.04,
           25.67,
           25.27,
           25.05,
           24.98,
           24.91,
           24.74
          ],
          [
           25.35,
           24.96,
           25.66,
           25.89,
           26.75,
           27.06,
           27.98,
           28.19,
           28.78,
           28.8,
           28.95,
           29.23,
           30.98,
           31.74,
           32.68,
           32.7,
           32.86,
           32.59,
           30.71,
           29.86,
           28.74,
           28.26,
           27.15,
           26.83,
           26.28,
           26.01,
           25.65,
           25.5,
           25.32,
           24.91,
           24.68,
           24.86
          ],
          [
           25.25,
           25.33,
           25.62,
           25.98,
           26.47,
           26.98,
           28,
           28.56,
           30.17,
           30.35,
           30.15,
           30.21,
           31.75,
           32.33,
           32.19,
           31.81,
           32.29,
           32.38,
           31.57,
           30.76,
           30.15,
           29.7,
           27.83,
           27.3,
           26.35,
           26.13,
           25.63,
           25.5,
           25.13,
           25.14,
           24.73,
           24.5
          ],
          [
           25.34,
           25.42,
           25.44,
           25.69,
           26.54,
           26.93,
           27.75,
           28.43,
           30.34,
           30.5,
           30.2,
           30.38,
           31.64,
           32.55,
           33.28,
           33.23,
           33.47,
           33.82,
           32.59,
           31.76,
           31.18,
           30.76,
           28.66,
           27.87,
           26.55,
           25.97,
           25.46,
           25.68,
           25.2,
           24.93,
           24.79,
           24.6
          ],
          [
           25.09,
           25.31,
           25.28,
           25.84,
           25.94,
           26.38,
           27.42,
           28.24,
           30.26,
           30.34,
           30.23,
           30.63,
           30.8,
           31.06,
           32.35,
           32.78,
           32.41,
           32.17,
           30.88,
           30.54,
           30.58,
           30.79,
           28.88,
           27.7,
           26.25,
           26.17,
           25.62,
           25.52,
           24.86,
           24.83,
           24.41,
           24.81
          ],
          [
           25.17,
           25.37,
           25.38,
           25.79,
           26.36,
           26.55,
           27.36,
           28.41,
           30.53,
           30.41,
           30.55,
           30.79,
           31.03,
           30.87,
           30.93,
           31.41,
           31.25,
           30.93,
           30.6,
           30.61,
           30.65,
           30.4,
           28.74,
           27.74,
           26.4,
           26.1,
           25.65,
           25.47,
           25.11,
           25.01,
           24.65,
           24.65
          ],
          [
           25.48,
           25.47,
           25.55,
           25.62,
           26.44,
           27.11,
           27.8,
           28.44,
           30.64,
           31.09,
           30.78,
           30.99,
           31.25,
           31.66,
           30.87,
           30.77,
           31.38,
           31.57,
           31.32,
           31.26,
           31.05,
           30.88,
           29.09,
           27.81,
           26.58,
           26.35,
           25.52,
           25.42,
           25.15,
           25.1,
           24.74,
           24.85
          ],
          [
           25.68,
           25.67,
           25.6,
           25.94,
           26.99,
           27.17,
           27.96,
           28.72,
           30.71,
           30.8,
           30.74,
           31.17,
           31.51,
           31.66,
           30.86,
           30.69,
           31.29,
           31.47,
           31.21,
           31.26,
           30.76,
           30.6,
           29.33,
           28.27,
           26.63,
           26.35,
           25.42,
           25.42,
           25.32,
           24.79,
           24.78,
           24.52
          ],
          [
           25.23,
           25.51,
           25.4,
           25.67,
           26.29,
           26.97,
           28.47,
           29.74,
           30.94,
           30.64,
           30.52,
           31.05,
           31.06,
           31.11,
           30.82,
           30.89,
           31.09,
           31.28,
           30.84,
           30.77,
           30.44,
           30.53,
           28.61,
           27.95,
           26.54,
           26.2,
           25.44,
           25.49,
           25.1,
           25.1,
           24.49,
           24.61
          ],
          [
           25.1,
           25.42,
           25.56,
           25.71,
           26.59,
           26.64,
           28.3,
           29.71,
           31.05,
           30.44,
           30.5,
           30.87,
           30.96,
           30.93,
           30.9,
           30.72,
           30.91,
           31.01,
           30.64,
           30.68,
           30.31,
           29.83,
           28.22,
           27.78,
           26.43,
           26.08,
           25.45,
           24.97,
           25.29,
           24.76,
           24.53,
           24.98
          ],
          [
           25.62,
           25.66,
           25.5,
           25.62,
           26.25,
           26.24,
           27.78,
           28.81,
           29.97,
           29.84,
           30.25,
           30.42,
           30.82,
           30.89,
           30.69,
           30.78,
           30.98,
           30.99,
           30.52,
           30.13,
           29.83,
           30.67,
           28.63,
           27.23,
           26.1,
           25.94,
           25.22,
           25.11,
           25.1,
           24.83,
           24.75,
           24.97
          ],
          [
           25.5,
           25.57,
           25.37,
           25.62,
           25.87,
           25.99,
           26.96,
           27.72,
           28.97,
           28.96,
           29.43,
           30.23,
           31.13,
           30.9,
           30.77,
           30.59,
           31.09,
           30.9,
           30.41,
           29.82,
           30.01,
           30.88,
           28.55,
           27.59,
           26.35,
           26.03,
           25.07,
           25.23,
           24.78,
           24.82,
           24.94,
           24.86
          ],
          [
           25.07,
           25.53,
           25.12,
           25.5,
           25.82,
           25.92,
           26.42,
           26.65,
           27.16,
           27.33,
           28.64,
           29.83,
           31.5,
           31.3,
           30.97,
           30.96,
           31.07,
           31.31,
           30.47,
           29.19,
           28.82,
           30.18,
           28.23,
           27.2,
           25.83,
           25.99,
           25.3,
           25.34,
           25.18,
           24.88,
           25.08,
           25.35
          ],
          [
           25.29,
           25.13,
           25.25,
           25.51,
           25.85,
           25.75,
           25.86,
           26.5,
           26.91,
           27.1,
           28.58,
           29.93,
           31.21,
           31.32,
           30.87,
           31.06,
           31.29,
           31.31,
           30.12,
           28.61,
           28.19,
           29.32,
           28.16,
           27.22,
           25.99,
           25.94,
           25.13,
           25.16,
           25.4,
           24.81,
           24.96,
           25.04
          ],
          [
           24.98,
           25.15,
           25.4,
           25.55,
           25.81,
           25.88,
           25.88,
           25.81,
           26.7,
           27.21,
           28.11,
           29.22,
           30.65,
           31.12,
           30.74,
           30.85,
           31.21,
           31.09,
           29.59,
           28.38,
           27.48,
           28.64,
           27.2,
           26.8,
           25.35,
           25.5,
           25.12,
           24.94,
           24.58,
           25.29,
           25.06,
           25.31
          ],
          [
           25.28,
           25.28,
           25.41,
           25.38,
           25.66,
           25.88,
           25.7,
           26.21,
           26.55,
           26.68,
           28.04,
           29.05,
           30.3,
           30.52,
           30.75,
           30.61,
           30.76,
           30.51,
           29.04,
           28.3,
           28.3,
           28.55,
           26.79,
           26.35,
           25.8,
           25.12,
           25.08,
           25.09,
           24.88,
           25.22,
           25.31,
           24.7
          ]
         ]
        }
       ],
       "layout": {
        "coloraxis": {
         "colorscale": [
          [
           0,
           "#0d0887"
          ],
          [
           0.1111111111111111,
           "#46039f"
          ],
          [
           0.2222222222222222,
           "#7201a8"
          ],
          [
           0.3333333333333333,
           "#9c179e"
          ],
          [
           0.4444444444444444,
           "#bd3786"
          ],
          [
           0.5555555555555556,
           "#d8576b"
          ],
          [
           0.6666666666666666,
           "#ed7953"
          ],
          [
           0.7777777777777778,
           "#fb9f3a"
          ],
          [
           0.8888888888888888,
           "#fdca26"
          ],
          [
           1,
           "#f0f921"
          ]
         ]
        },
        "margin": {
         "t": 60
        },
        "template": {
         "data": {
          "bar": [
           {
            "error_x": {
             "color": "#2a3f5f"
            },
            "error_y": {
             "color": "#2a3f5f"
            },
            "marker": {
             "line": {
              "color": "#E5ECF6",
              "width": 0.5
             },
             "pattern": {
              "fillmode": "overlay",
              "size": 10,
              "solidity": 0.2
             }
            },
            "type": "bar"
           }
          ],
          "barpolar": [
           {
            "marker": {
             "line": {
              "color": "#E5ECF6",
              "width": 0.5
             },
             "pattern": {
              "fillmode": "overlay",
              "size": 10,
              "solidity": 0.2
             }
            },
            "type": "barpolar"
           }
          ],
          "carpet": [
           {
            "aaxis": {
             "endlinecolor": "#2a3f5f",
             "gridcolor": "white",
             "linecolor": "white",
             "minorgridcolor": "white",
             "startlinecolor": "#2a3f5f"
            },
            "baxis": {
             "endlinecolor": "#2a3f5f",
             "gridcolor": "white",
             "linecolor": "white",
             "minorgridcolor": "white",
             "startlinecolor": "#2a3f5f"
            },
            "type": "carpet"
           }
          ],
          "choropleth": [
           {
            "colorbar": {
             "outlinewidth": 0,
             "ticks": ""
            },
            "type": "choropleth"
           }
          ],
          "contour": [
           {
            "colorbar": {
             "outlinewidth": 0,
             "ticks": ""
            },
            "colorscale": [
             [
              0,
              "#0d0887"
             ],
             [
              0.1111111111111111,
              "#46039f"
             ],
             [
              0.2222222222222222,
              "#7201a8"
             ],
             [
              0.3333333333333333,
              "#9c179e"
             ],
             [
              0.4444444444444444,
              "#bd3786"
             ],
             [
              0.5555555555555556,
              "#d8576b"
             ],
             [
              0.6666666666666666,
              "#ed7953"
             ],
             [
              0.7777777777777778,
              "#fb9f3a"
             ],
             [
              0.8888888888888888,
              "#fdca26"
             ],
             [
              1,
              "#f0f921"
             ]
            ],
            "type": "contour"
           }
          ],
          "contourcarpet": [
           {
            "colorbar": {
             "outlinewidth": 0,
             "ticks": ""
            },
            "type": "contourcarpet"
           }
          ],
          "heatmap": [
           {
            "colorbar": {
             "outlinewidth": 0,
             "ticks": ""
            },
            "colorscale": [
             [
              0,
              "#0d0887"
             ],
             [
              0.1111111111111111,
              "#46039f"
             ],
             [
              0.2222222222222222,
              "#7201a8"
             ],
             [
              0.3333333333333333,
              "#9c179e"
             ],
             [
              0.4444444444444444,
              "#bd3786"
             ],
             [
              0.5555555555555556,
              "#d8576b"
             ],
             [
              0.6666666666666666,
              "#ed7953"
             ],
             [
              0.7777777777777778,
              "#fb9f3a"
             ],
             [
              0.8888888888888888,
              "#fdca26"
             ],
             [
              1,
              "#f0f921"
             ]
            ],
            "type": "heatmap"
           }
          ],
          "heatmapgl": [
           {
            "colorbar": {
             "outlinewidth": 0,
             "ticks": ""
            },
            "colorscale": [
             [
              0,
              "#0d0887"
             ],
             [
              0.1111111111111111,
              "#46039f"
             ],
             [
              0.2222222222222222,
              "#7201a8"
             ],
             [
              0.3333333333333333,
              "#9c179e"
             ],
             [
              0.4444444444444444,
              "#bd3786"
             ],
             [
              0.5555555555555556,
              "#d8576b"
             ],
             [
              0.6666666666666666,
              "#ed7953"
             ],
             [
              0.7777777777777778,
              "#fb9f3a"
             ],
             [
              0.8888888888888888,
              "#fdca26"
             ],
             [
              1,
              "#f0f921"
             ]
            ],
            "type": "heatmapgl"
           }
          ],
          "histogram": [
           {
            "marker": {
             "pattern": {
              "fillmode": "overlay",
              "size": 10,
              "solidity": 0.2
             }
            },
            "type": "histogram"
           }
          ],
          "histogram2d": [
           {
            "colorbar": {
             "outlinewidth": 0,
             "ticks": ""
            },
            "colorscale": [
             [
              0,
              "#0d0887"
             ],
             [
              0.1111111111111111,
              "#46039f"
             ],
             [
              0.2222222222222222,
              "#7201a8"
             ],
             [
              0.3333333333333333,
              "#9c179e"
             ],
             [
              0.4444444444444444,
              "#bd3786"
             ],
             [
              0.5555555555555556,
              "#d8576b"
             ],
             [
              0.6666666666666666,
              "#ed7953"
             ],
             [
              0.7777777777777778,
              "#fb9f3a"
             ],
             [
              0.8888888888888888,
              "#fdca26"
             ],
             [
              1,
              "#f0f921"
             ]
            ],
            "type": "histogram2d"
           }
          ],
          "histogram2dcontour": [
           {
            "colorbar": {
             "outlinewidth": 0,
             "ticks": ""
            },
            "colorscale": [
             [
              0,
              "#0d0887"
             ],
             [
              0.1111111111111111,
              "#46039f"
             ],
             [
              0.2222222222222222,
              "#7201a8"
             ],
             [
              0.3333333333333333,
              "#9c179e"
             ],
             [
              0.4444444444444444,
              "#bd3786"
             ],
             [
              0.5555555555555556,
              "#d8576b"
             ],
             [
              0.6666666666666666,
              "#ed7953"
             ],
             [
              0.7777777777777778,
              "#fb9f3a"
             ],
             [
              0.8888888888888888,
              "#fdca26"
             ],
             [
              1,
              "#f0f921"
             ]
            ],
            "type": "histogram2dcontour"
           }
          ],
          "mesh3d": [
           {
            "colorbar": {
             "outlinewidth": 0,
             "ticks": ""
            },
            "type": "mesh3d"
           }
          ],
          "parcoords": [
           {
            "line": {
             "colorbar": {
              "outlinewidth": 0,
              "ticks": ""
             }
            },
            "type": "parcoords"
           }
          ],
          "pie": [
           {
            "automargin": true,
            "type": "pie"
           }
          ],
          "scatter": [
           {
            "fillpattern": {
             "fillmode": "overlay",
             "size": 10,
             "solidity": 0.2
            },
            "type": "scatter"
           }
          ],
          "scatter3d": [
           {
            "line": {
             "colorbar": {
              "outlinewidth": 0,
              "ticks": ""
             }
            },
            "marker": {
             "colorbar": {
              "outlinewidth": 0,
              "ticks": ""
             }
            },
            "type": "scatter3d"
           }
          ],
          "scattercarpet": [
           {
            "marker": {
             "colorbar": {
              "outlinewidth": 0,
              "ticks": ""
             }
            },
            "type": "scattercarpet"
           }
          ],
          "scattergeo": [
           {
            "marker": {
             "colorbar": {
              "outlinewidth": 0,
              "ticks": ""
             }
            },
            "type": "scattergeo"
           }
          ],
          "scattergl": [
           {
            "marker": {
             "colorbar": {
              "outlinewidth": 0,
              "ticks": ""
             }
            },
            "type": "scattergl"
           }
          ],
          "scattermapbox": [
           {
            "marker": {
             "colorbar": {
              "outlinewidth": 0,
              "ticks": ""
             }
            },
            "type": "scattermapbox"
           }
          ],
          "scatterpolar": [
           {
            "marker": {
             "colorbar": {
              "outlinewidth": 0,
              "ticks": ""
             }
            },
            "type": "scatterpolar"
           }
          ],
          "scatterpolargl": [
           {
            "marker": {
             "colorbar": {
              "outlinewidth": 0,
              "ticks": ""
             }
            },
            "type": "scatterpolargl"
           }
          ],
          "scatterternary": [
           {
            "marker": {
             "colorbar": {
              "outlinewidth": 0,
              "ticks": ""
             }
            },
            "type": "scatterternary"
           }
          ],
          "surface": [
           {
            "colorbar": {
             "outlinewidth": 0,
             "ticks": ""
            },
            "colorscale": [
             [
              0,
              "#0d0887"
             ],
             [
              0.1111111111111111,
              "#46039f"
             ],
             [
              0.2222222222222222,
              "#7201a8"
             ],
             [
              0.3333333333333333,
              "#9c179e"
             ],
             [
              0.4444444444444444,
              "#bd3786"
             ],
             [
              0.5555555555555556,
              "#d8576b"
             ],
             [
              0.6666666666666666,
              "#ed7953"
             ],
             [
              0.7777777777777778,
              "#fb9f3a"
             ],
             [
              0.8888888888888888,
              "#fdca26"
             ],
             [
              1,
              "#f0f921"
             ]
            ],
            "type": "surface"
           }
          ],
          "table": [
           {
            "cells": {
             "fill": {
              "color": "#EBF0F8"
             },
             "line": {
              "color": "white"
             }
            },
            "header": {
             "fill": {
              "color": "#C8D4E3"
             },
             "line": {
              "color": "white"
             }
            },
            "type": "table"
           }
          ]
         },
         "layout": {
          "annotationdefaults": {
           "arrowcolor": "#2a3f5f",
           "arrowhead": 0,
           "arrowwidth": 1
          },
          "autotypenumbers": "strict",
          "coloraxis": {
           "colorbar": {
            "outlinewidth": 0,
            "ticks": ""
           }
          },
          "colorscale": {
           "diverging": [
            [
             0,
             "#8e0152"
            ],
            [
             0.1,
             "#c51b7d"
            ],
            [
             0.2,
             "#de77ae"
            ],
            [
             0.3,
             "#f1b6da"
            ],
            [
             0.4,
             "#fde0ef"
            ],
            [
             0.5,
             "#f7f7f7"
            ],
            [
             0.6,
             "#e6f5d0"
            ],
            [
             0.7,
             "#b8e186"
            ],
            [
             0.8,
             "#7fbc41"
            ],
            [
             0.9,
             "#4d9221"
            ],
            [
             1,
             "#276419"
            ]
           ],
           "sequential": [
            [
             0,
             "#0d0887"
            ],
            [
             0.1111111111111111,
             "#46039f"
            ],
            [
             0.2222222222222222,
             "#7201a8"
            ],
            [
             0.3333333333333333,
             "#9c179e"
            ],
            [
             0.4444444444444444,
             "#bd3786"
            ],
            [
             0.5555555555555556,
             "#d8576b"
            ],
            [
             0.6666666666666666,
             "#ed7953"
            ],
            [
             0.7777777777777778,
             "#fb9f3a"
            ],
            [
             0.8888888888888888,
             "#fdca26"
            ],
            [
             1,
             "#f0f921"
            ]
           ],
           "sequentialminus": [
            [
             0,
             "#0d0887"
            ],
            [
             0.1111111111111111,
             "#46039f"
            ],
            [
             0.2222222222222222,
             "#7201a8"
            ],
            [
             0.3333333333333333,
             "#9c179e"
            ],
            [
             0.4444444444444444,
             "#bd3786"
            ],
            [
             0.5555555555555556,
             "#d8576b"
            ],
            [
             0.6666666666666666,
             "#ed7953"
            ],
            [
             0.7777777777777778,
             "#fb9f3a"
            ],
            [
             0.8888888888888888,
             "#fdca26"
            ],
            [
             1,
             "#f0f921"
            ]
           ]
          },
          "colorway": [
           "#636efa",
           "#EF553B",
           "#00cc96",
           "#ab63fa",
           "#FFA15A",
           "#19d3f3",
           "#FF6692",
           "#B6E880",
           "#FF97FF",
           "#FECB52"
          ],
          "font": {
           "color": "#2a3f5f"
          },
          "geo": {
           "bgcolor": "white",
           "lakecolor": "white",
           "landcolor": "#E5ECF6",
           "showlakes": true,
           "showland": true,
           "subunitcolor": "white"
          },
          "hoverlabel": {
           "align": "left"
          },
          "hovermode": "closest",
          "mapbox": {
           "style": "light"
          },
          "paper_bgcolor": "white",
          "plot_bgcolor": "#E5ECF6",
          "polar": {
           "angularaxis": {
            "gridcolor": "white",
            "linecolor": "white",
            "ticks": ""
           },
           "bgcolor": "#E5ECF6",
           "radialaxis": {
            "gridcolor": "white",
            "linecolor": "white",
            "ticks": ""
           }
          },
          "scene": {
           "xaxis": {
            "backgroundcolor": "#E5ECF6",
            "gridcolor": "white",
            "gridwidth": 2,
            "linecolor": "white",
            "showbackground": true,
            "ticks": "",
            "zerolinecolor": "white"
           },
           "yaxis": {
            "backgroundcolor": "#E5ECF6",
            "gridcolor": "white",
            "gridwidth": 2,
            "linecolor": "white",
            "showbackground": true,
            "ticks": "",
            "zerolinecolor": "white"
           },
           "zaxis": {
            "backgroundcolor": "#E5ECF6",
            "gridcolor": "white",
            "gridwidth": 2,
            "linecolor": "white",
            "showbackground": true,
            "ticks": "",
            "zerolinecolor": "white"
           }
          },
          "shapedefaults": {
           "line": {
            "color": "#2a3f5f"
           }
          },
          "ternary": {
           "aaxis": {
            "gridcolor": "white",
            "linecolor": "white",
            "ticks": ""
           },
           "baxis": {
            "gridcolor": "white",
            "linecolor": "white",
            "ticks": ""
           },
           "bgcolor": "#E5ECF6",
           "caxis": {
            "gridcolor": "white",
            "linecolor": "white",
            "ticks": ""
           }
          },
          "title": {
           "x": 0.05
          },
          "xaxis": {
           "automargin": true,
           "gridcolor": "white",
           "linecolor": "white",
           "ticks": "",
           "title": {
            "standoff": 15
           },
           "zerolinecolor": "white",
           "zerolinewidth": 2
          },
          "yaxis": {
           "automargin": true,
           "gridcolor": "white",
           "linecolor": "white",
           "ticks": "",
           "title": {
            "standoff": 15
           },
           "zerolinecolor": "white",
           "zerolinewidth": 2
          }
         }
        },
        "title": {
         "text": "Predicted: right, Actual: back"
        },
        "xaxis": {
         "anchor": "y",
         "constrain": "domain",
         "domain": [
          0,
          1
         ],
         "scaleanchor": "y"
        },
        "yaxis": {
         "anchor": "x",
         "autorange": "reversed",
         "constrain": "domain",
         "domain": [
          0,
          1
         ]
        }
       }
      }
     },
     "metadata": {},
     "output_type": "display_data"
    },
    {
     "data": {
      "application/vnd.plotly.v1+json": {
       "config": {
        "plotlyServerURL": "https://plot.ly"
       },
       "data": [
        {
         "coloraxis": "coloraxis",
         "hovertemplate": "x: %{x}<br>y: %{y}<br>color: %{z}<extra></extra>",
         "name": "0",
         "type": "heatmap",
         "xaxis": "x",
         "yaxis": "y",
         "z": [
          [
           24.93,
           24.97,
           24.52,
           24.32,
           25.3,
           24.65,
           25.12,
           24.87,
           25.41,
           25.66,
           25.36,
           25.44,
           26.06,
           26.28,
           26.62,
           26.67,
           27.09,
           27.35,
           27.32,
           27.31,
           26.68,
           26.58,
           26.02,
           25.71,
           25.19,
           25.53,
           25.15,
           25.05,
           25.06,
           24.85,
           24.47,
           23.59
          ],
          [
           24.93,
           24.54,
           24.49,
           24.83,
           25.27,
           25.22,
           25.37,
           25.3,
           25.82,
           25.61,
           25.59,
           25.67,
           26.04,
           26.46,
           26.92,
           26.84,
           27.49,
           27.62,
           27.94,
           27.83,
           27.5,
           26.63,
           25.97,
           25.8,
           25.76,
           25.29,
           25.07,
           24.97,
           25.22,
           24.9,
           24.6,
           24.45
          ],
          [
           24.61,
           24.56,
           24.54,
           24.5,
           24.82,
           25.15,
           25.31,
           25.24,
           25.87,
           25.76,
           26.01,
           25.83,
           26.51,
           26.77,
           27.47,
           27.79,
           28.73,
           29.18,
           29.57,
           29.27,
           28.59,
           27.8,
           26.64,
           25.97,
           25.56,
           25.55,
           24.7,
           24.64,
           24.33,
           24.75,
           24.62,
           23.81
          ],
          [
           24.63,
           24.74,
           24.4,
           24.85,
           25.03,
           24.86,
           25.33,
           25.66,
           26.01,
           25.96,
           25.89,
           26.18,
           27.06,
           27.29,
           27.95,
           28.79,
           29.91,
           30.14,
           30.52,
           30.57,
           29.53,
           28.31,
           26.85,
           26.46,
           26.23,
           25.27,
           24.98,
           24.66,
           25.06,
           24.55,
           24.55,
           24.23
          ],
          [
           24.39,
           24.72,
           24.29,
           24.71,
           24.95,
           25.13,
           25.47,
           25.75,
           26.24,
           26.3,
           26.32,
           26.29,
           27.52,
           27.93,
           30.25,
           31.22,
           32.57,
           32.67,
           32.98,
           32.5,
           31.17,
           29.99,
           27.14,
           26.76,
           25.92,
           25.49,
           25.06,
           25.14,
           24.29,
           24.64,
           24.17,
           24.5
          ],
          [
           24.42,
           24,
           24.62,
           24.86,
           25.14,
           24.97,
           25.47,
           25.63,
           26.04,
           26.04,
           26.63,
           26.59,
           27.82,
           28.68,
           31.47,
           32.44,
           33.31,
           33.59,
           33.41,
           33.05,
           31.88,
           29.91,
           27.55,
           26.73,
           26.04,
           25.47,
           24.92,
           24.95,
           24.9,
           24.26,
           24.47,
           24.14
          ],
          [
           24.25,
           24.63,
           24.46,
           24.31,
           25.17,
           25.51,
           25.54,
           25.82,
           26.42,
           26.39,
           26.67,
           26.8,
           28.44,
           29.75,
           32.9,
           32.74,
           33.28,
           33.35,
           33.09,
           32.93,
           31.6,
           30.5,
           27.34,
           26.77,
           25.83,
           25.84,
           25.03,
           24.9,
           24.46,
           24.88,
           24.33,
           24.4
          ],
          [
           24.6,
           24.28,
           24.59,
           24.84,
           25.16,
           25.24,
           25.44,
           25.94,
           26.43,
           26.45,
           26.87,
           26.97,
           28.41,
           29.78,
           32.73,
           33,
           33.27,
           32.76,
           32.64,
           33.04,
           32,
           29.75,
           27.3,
           26.85,
           25.94,
           25.55,
           25.14,
           25.15,
           24.73,
           24.15,
           24.44,
           24.33
          ],
          [
           24.36,
           24.27,
           24.67,
           24.61,
           25.4,
           25.73,
           25.92,
           26.38,
           27.02,
           27.15,
           27.34,
           27.64,
           28.81,
           29.79,
           32.6,
           32.53,
           32.03,
           30.39,
           30.92,
           31.87,
           30.83,
           29.57,
           27.31,
           26.88,
           26.09,
           25.85,
           25.03,
           24.91,
           24.62,
           24.56,
           24.56,
           24.07
          ],
          [
           24.33,
           24.25,
           24.38,
           25.01,
           25.38,
           25.46,
           26.03,
           26.46,
           27.4,
           27.41,
           27.69,
           28.24,
           29.22,
           30.08,
           32.37,
           32.63,
           31.48,
           29.91,
           30.6,
           31.66,
           30.98,
           29.24,
           27.36,
           27.05,
           26.41,
           25.69,
           25.27,
           25.14,
           24.9,
           24.49,
           24.34,
           24.36
          ],
          [
           24.22,
           24.62,
           24.73,
           24.58,
           25.09,
           25.52,
           26.46,
           26.95,
           28.12,
           29,
           29.96,
           30.35,
           31.19,
           31.28,
           32.51,
           32.67,
           31.8,
           31.58,
           31.85,
           32.37,
           31.32,
           30.29,
           28.21,
           27.6,
           26.57,
           26.14,
           25.6,
           25.26,
           24.68,
           24.72,
           24.36,
           24.34
          ],
          [
           24.33,
           23.94,
           24.7,
           24.93,
           25.3,
           25.35,
           26.12,
           26.92,
           28.49,
           29.05,
           30.88,
           31.35,
           32,
           31.99,
           32.72,
           32.97,
           32.51,
           32.12,
           32.29,
           32.67,
           32.08,
           31.07,
           29.42,
           28.46,
           27.1,
           26.09,
           25.2,
           25.44,
           25.05,
           24.8,
           24.6,
           24.78
          ],
          [
           24.52,
           24.45,
           24.53,
           24.96,
           25.16,
           25.61,
           25.79,
           26.33,
           29.17,
           30.39,
           31.01,
           31.02,
           31.74,
           32.08,
           32.84,
           32.54,
           31.6,
           31.53,
           31.5,
           31.92,
           32.2,
           32.43,
           31.74,
           31.02,
           27.56,
           26.76,
           25.59,
           25.4,
           24.57,
           24.56,
           24.56,
           24.13
          ],
          [
           24.16,
           24.35,
           24.64,
           25.16,
           25.48,
           25.31,
           26.16,
           26.91,
           30.12,
           30.45,
           30.82,
           31.01,
           31.57,
           31.73,
           32.35,
           32.47,
           31.6,
           31.27,
           31.32,
           31.75,
           32.29,
           32.15,
           31.54,
           31.49,
           28.5,
           26.81,
           25.52,
           25.47,
           24.83,
           24.59,
           23.98,
           24.85
          ],
          [
           24.45,
           24.62,
           24.66,
           24.74,
           25.19,
           25.77,
           27.12,
           28.27,
           30.71,
           30.86,
           30.77,
           30.54,
           31.22,
           31.36,
           31.62,
           31.94,
           31.49,
           31.44,
           31.44,
           31.67,
           32.09,
           32.12,
           31.47,
           31.07,
           28.5,
           27.41,
           25.76,
           25.31,
           24.86,
           25,
           24.56,
           24.71
          ],
          [
           24.51,
           24.02,
           24.59,
           25.06,
           25.63,
           25.57,
           27.5,
           29.16,
           30.81,
           30.77,
           30.31,
           30.54,
           31.24,
           31.36,
           31.47,
           31.96,
           31.84,
           31.51,
           31.62,
           31.86,
           32.12,
           31.95,
           31.26,
           30.98,
           28.82,
           27.21,
           25.56,
           25.33,
           24.91,
           24.55,
           24.62,
           24.58
          ],
          [
           24.53,
           24.82,
           24.66,
           24.93,
           25.28,
           26.1,
           28.78,
           29.91,
           30.36,
           30.25,
           29.91,
           30.07,
           30.08,
           30.05,
           30.98,
           31.56,
           31.77,
           31.73,
           31.2,
           31.24,
           31.69,
           31.79,
           30.71,
           30.31,
           28.37,
           27.23,
           25.87,
           25.42,
           24.86,
           25.03,
           24.52,
           24.32
          ],
          [
           24.59,
           24.72,
           24.55,
           24.83,
           25.59,
           26.01,
           29.29,
           30.22,
           30.17,
           29.65,
           29.72,
           30.08,
           29.99,
           30.22,
           30.99,
           31.33,
           30.75,
           30.76,
           30.85,
           31.08,
           31.02,
           31.12,
           29.97,
           30,
           28.45,
           27.26,
           25.52,
           25.32,
           25.23,
           24.7,
           24.58,
           24.71
          ],
          [
           25.3,
           24.99,
           25.07,
           25.18,
           25.37,
           26.03,
           28.87,
           29.97,
           30.14,
           30.01,
           30.05,
           30.13,
           29.64,
           29.64,
           29.52,
           29.33,
           29.15,
           29.16,
           29.54,
           29.35,
           29.87,
           30.33,
           29.82,
           29.85,
           28.46,
           27.36,
           25.48,
           25.12,
           24.74,
           25.01,
           24.68,
           24.55
          ],
          [
           26.62,
           25.58,
           24.97,
           25.05,
           25.4,
           25.38,
           27.54,
           29.05,
           29.61,
           29.69,
           29.56,
           30.04,
           29.76,
           29.43,
           29.03,
           28.93,
           28.95,
           28.83,
           29.14,
           29.24,
           29.77,
           30.01,
           29.7,
           29.85,
           28.3,
           26.99,
           25.22,
           25.26,
           25.13,
           24.68,
           24.71,
           24.46
          ],
          [
           25.56,
           25.62,
           24.74,
           24.96,
           24.66,
           25.34,
           25.66,
           25.65,
           26.39,
           26.8,
           28.09,
           28.96,
           29.9,
           29.6,
           29.26,
           29.47,
           29.57,
           29.61,
           29.38,
           29.48,
           29.62,
           29.32,
           28.46,
           27.96,
           26.35,
           25.97,
           25.21,
           24.8,
           24.7,
           24.8,
           24.49,
           24.32
          ],
          [
           25.05,
           24.87,
           24.91,
           24.98,
           25.15,
           25.04,
           24.99,
           25.37,
           25.55,
           25.73,
           27.25,
           28.61,
           30.24,
           29.91,
           29.89,
           30.08,
           30,
           29.79,
           29.9,
           30.14,
           29.4,
           28.45,
           27.29,
           26.61,
           25.85,
           25.22,
           25.07,
           24.96,
           24.95,
           24.37,
           24.9,
           24.6
          ],
          [
           24.82,
           24.76,
           24.93,
           24.89,
           24.79,
           24.71,
           24.87,
           24.8,
           25.55,
           26.09,
           27.36,
           28.48,
           30.6,
           30.83,
           30.55,
           30.54,
           30.22,
           30.81,
           30.59,
           30.5,
           28.3,
           27.13,
           25.79,
           25.8,
           25.42,
           25.28,
           24.79,
           25.34,
           24.98,
           25.12,
           25.02,
           24.26
          ],
          [
           24.75,
           24.47,
           24.58,
           24.72,
           24.99,
           24.53,
           24.7,
           25.06,
           25.84,
           25.82,
           27.81,
           28.56,
           30.9,
           30.74,
           30.59,
           30.57,
           30.39,
           30.24,
           30.26,
           30.04,
           27.58,
           26.88,
           25.51,
           25.63,
           25.28,
           25.41,
           25.13,
           24.81,
           25.36,
           24.2,
           24.28,
           25.24
          ]
         ]
        }
       ],
       "layout": {
        "coloraxis": {
         "colorscale": [
          [
           0,
           "#0d0887"
          ],
          [
           0.1111111111111111,
           "#46039f"
          ],
          [
           0.2222222222222222,
           "#7201a8"
          ],
          [
           0.3333333333333333,
           "#9c179e"
          ],
          [
           0.4444444444444444,
           "#bd3786"
          ],
          [
           0.5555555555555556,
           "#d8576b"
          ],
          [
           0.6666666666666666,
           "#ed7953"
          ],
          [
           0.7777777777777778,
           "#fb9f3a"
          ],
          [
           0.8888888888888888,
           "#fdca26"
          ],
          [
           1,
           "#f0f921"
          ]
         ]
        },
        "margin": {
         "t": 60
        },
        "template": {
         "data": {
          "bar": [
           {
            "error_x": {
             "color": "#2a3f5f"
            },
            "error_y": {
             "color": "#2a3f5f"
            },
            "marker": {
             "line": {
              "color": "#E5ECF6",
              "width": 0.5
             },
             "pattern": {
              "fillmode": "overlay",
              "size": 10,
              "solidity": 0.2
             }
            },
            "type": "bar"
           }
          ],
          "barpolar": [
           {
            "marker": {
             "line": {
              "color": "#E5ECF6",
              "width": 0.5
             },
             "pattern": {
              "fillmode": "overlay",
              "size": 10,
              "solidity": 0.2
             }
            },
            "type": "barpolar"
           }
          ],
          "carpet": [
           {
            "aaxis": {
             "endlinecolor": "#2a3f5f",
             "gridcolor": "white",
             "linecolor": "white",
             "minorgridcolor": "white",
             "startlinecolor": "#2a3f5f"
            },
            "baxis": {
             "endlinecolor": "#2a3f5f",
             "gridcolor": "white",
             "linecolor": "white",
             "minorgridcolor": "white",
             "startlinecolor": "#2a3f5f"
            },
            "type": "carpet"
           }
          ],
          "choropleth": [
           {
            "colorbar": {
             "outlinewidth": 0,
             "ticks": ""
            },
            "type": "choropleth"
           }
          ],
          "contour": [
           {
            "colorbar": {
             "outlinewidth": 0,
             "ticks": ""
            },
            "colorscale": [
             [
              0,
              "#0d0887"
             ],
             [
              0.1111111111111111,
              "#46039f"
             ],
             [
              0.2222222222222222,
              "#7201a8"
             ],
             [
              0.3333333333333333,
              "#9c179e"
             ],
             [
              0.4444444444444444,
              "#bd3786"
             ],
             [
              0.5555555555555556,
              "#d8576b"
             ],
             [
              0.6666666666666666,
              "#ed7953"
             ],
             [
              0.7777777777777778,
              "#fb9f3a"
             ],
             [
              0.8888888888888888,
              "#fdca26"
             ],
             [
              1,
              "#f0f921"
             ]
            ],
            "type": "contour"
           }
          ],
          "contourcarpet": [
           {
            "colorbar": {
             "outlinewidth": 0,
             "ticks": ""
            },
            "type": "contourcarpet"
           }
          ],
          "heatmap": [
           {
            "colorbar": {
             "outlinewidth": 0,
             "ticks": ""
            },
            "colorscale": [
             [
              0,
              "#0d0887"
             ],
             [
              0.1111111111111111,
              "#46039f"
             ],
             [
              0.2222222222222222,
              "#7201a8"
             ],
             [
              0.3333333333333333,
              "#9c179e"
             ],
             [
              0.4444444444444444,
              "#bd3786"
             ],
             [
              0.5555555555555556,
              "#d8576b"
             ],
             [
              0.6666666666666666,
              "#ed7953"
             ],
             [
              0.7777777777777778,
              "#fb9f3a"
             ],
             [
              0.8888888888888888,
              "#fdca26"
             ],
             [
              1,
              "#f0f921"
             ]
            ],
            "type": "heatmap"
           }
          ],
          "heatmapgl": [
           {
            "colorbar": {
             "outlinewidth": 0,
             "ticks": ""
            },
            "colorscale": [
             [
              0,
              "#0d0887"
             ],
             [
              0.1111111111111111,
              "#46039f"
             ],
             [
              0.2222222222222222,
              "#7201a8"
             ],
             [
              0.3333333333333333,
              "#9c179e"
             ],
             [
              0.4444444444444444,
              "#bd3786"
             ],
             [
              0.5555555555555556,
              "#d8576b"
             ],
             [
              0.6666666666666666,
              "#ed7953"
             ],
             [
              0.7777777777777778,
              "#fb9f3a"
             ],
             [
              0.8888888888888888,
              "#fdca26"
             ],
             [
              1,
              "#f0f921"
             ]
            ],
            "type": "heatmapgl"
           }
          ],
          "histogram": [
           {
            "marker": {
             "pattern": {
              "fillmode": "overlay",
              "size": 10,
              "solidity": 0.2
             }
            },
            "type": "histogram"
           }
          ],
          "histogram2d": [
           {
            "colorbar": {
             "outlinewidth": 0,
             "ticks": ""
            },
            "colorscale": [
             [
              0,
              "#0d0887"
             ],
             [
              0.1111111111111111,
              "#46039f"
             ],
             [
              0.2222222222222222,
              "#7201a8"
             ],
             [
              0.3333333333333333,
              "#9c179e"
             ],
             [
              0.4444444444444444,
              "#bd3786"
             ],
             [
              0.5555555555555556,
              "#d8576b"
             ],
             [
              0.6666666666666666,
              "#ed7953"
             ],
             [
              0.7777777777777778,
              "#fb9f3a"
             ],
             [
              0.8888888888888888,
              "#fdca26"
             ],
             [
              1,
              "#f0f921"
             ]
            ],
            "type": "histogram2d"
           }
          ],
          "histogram2dcontour": [
           {
            "colorbar": {
             "outlinewidth": 0,
             "ticks": ""
            },
            "colorscale": [
             [
              0,
              "#0d0887"
             ],
             [
              0.1111111111111111,
              "#46039f"
             ],
             [
              0.2222222222222222,
              "#7201a8"
             ],
             [
              0.3333333333333333,
              "#9c179e"
             ],
             [
              0.4444444444444444,
              "#bd3786"
             ],
             [
              0.5555555555555556,
              "#d8576b"
             ],
             [
              0.6666666666666666,
              "#ed7953"
             ],
             [
              0.7777777777777778,
              "#fb9f3a"
             ],
             [
              0.8888888888888888,
              "#fdca26"
             ],
             [
              1,
              "#f0f921"
             ]
            ],
            "type": "histogram2dcontour"
           }
          ],
          "mesh3d": [
           {
            "colorbar": {
             "outlinewidth": 0,
             "ticks": ""
            },
            "type": "mesh3d"
           }
          ],
          "parcoords": [
           {
            "line": {
             "colorbar": {
              "outlinewidth": 0,
              "ticks": ""
             }
            },
            "type": "parcoords"
           }
          ],
          "pie": [
           {
            "automargin": true,
            "type": "pie"
           }
          ],
          "scatter": [
           {
            "fillpattern": {
             "fillmode": "overlay",
             "size": 10,
             "solidity": 0.2
            },
            "type": "scatter"
           }
          ],
          "scatter3d": [
           {
            "line": {
             "colorbar": {
              "outlinewidth": 0,
              "ticks": ""
             }
            },
            "marker": {
             "colorbar": {
              "outlinewidth": 0,
              "ticks": ""
             }
            },
            "type": "scatter3d"
           }
          ],
          "scattercarpet": [
           {
            "marker": {
             "colorbar": {
              "outlinewidth": 0,
              "ticks": ""
             }
            },
            "type": "scattercarpet"
           }
          ],
          "scattergeo": [
           {
            "marker": {
             "colorbar": {
              "outlinewidth": 0,
              "ticks": ""
             }
            },
            "type": "scattergeo"
           }
          ],
          "scattergl": [
           {
            "marker": {
             "colorbar": {
              "outlinewidth": 0,
              "ticks": ""
             }
            },
            "type": "scattergl"
           }
          ],
          "scattermapbox": [
           {
            "marker": {
             "colorbar": {
              "outlinewidth": 0,
              "ticks": ""
             }
            },
            "type": "scattermapbox"
           }
          ],
          "scatterpolar": [
           {
            "marker": {
             "colorbar": {
              "outlinewidth": 0,
              "ticks": ""
             }
            },
            "type": "scatterpolar"
           }
          ],
          "scatterpolargl": [
           {
            "marker": {
             "colorbar": {
              "outlinewidth": 0,
              "ticks": ""
             }
            },
            "type": "scatterpolargl"
           }
          ],
          "scatterternary": [
           {
            "marker": {
             "colorbar": {
              "outlinewidth": 0,
              "ticks": ""
             }
            },
            "type": "scatterternary"
           }
          ],
          "surface": [
           {
            "colorbar": {
             "outlinewidth": 0,
             "ticks": ""
            },
            "colorscale": [
             [
              0,
              "#0d0887"
             ],
             [
              0.1111111111111111,
              "#46039f"
             ],
             [
              0.2222222222222222,
              "#7201a8"
             ],
             [
              0.3333333333333333,
              "#9c179e"
             ],
             [
              0.4444444444444444,
              "#bd3786"
             ],
             [
              0.5555555555555556,
              "#d8576b"
             ],
             [
              0.6666666666666666,
              "#ed7953"
             ],
             [
              0.7777777777777778,
              "#fb9f3a"
             ],
             [
              0.8888888888888888,
              "#fdca26"
             ],
             [
              1,
              "#f0f921"
             ]
            ],
            "type": "surface"
           }
          ],
          "table": [
           {
            "cells": {
             "fill": {
              "color": "#EBF0F8"
             },
             "line": {
              "color": "white"
             }
            },
            "header": {
             "fill": {
              "color": "#C8D4E3"
             },
             "line": {
              "color": "white"
             }
            },
            "type": "table"
           }
          ]
         },
         "layout": {
          "annotationdefaults": {
           "arrowcolor": "#2a3f5f",
           "arrowhead": 0,
           "arrowwidth": 1
          },
          "autotypenumbers": "strict",
          "coloraxis": {
           "colorbar": {
            "outlinewidth": 0,
            "ticks": ""
           }
          },
          "colorscale": {
           "diverging": [
            [
             0,
             "#8e0152"
            ],
            [
             0.1,
             "#c51b7d"
            ],
            [
             0.2,
             "#de77ae"
            ],
            [
             0.3,
             "#f1b6da"
            ],
            [
             0.4,
             "#fde0ef"
            ],
            [
             0.5,
             "#f7f7f7"
            ],
            [
             0.6,
             "#e6f5d0"
            ],
            [
             0.7,
             "#b8e186"
            ],
            [
             0.8,
             "#7fbc41"
            ],
            [
             0.9,
             "#4d9221"
            ],
            [
             1,
             "#276419"
            ]
           ],
           "sequential": [
            [
             0,
             "#0d0887"
            ],
            [
             0.1111111111111111,
             "#46039f"
            ],
            [
             0.2222222222222222,
             "#7201a8"
            ],
            [
             0.3333333333333333,
             "#9c179e"
            ],
            [
             0.4444444444444444,
             "#bd3786"
            ],
            [
             0.5555555555555556,
             "#d8576b"
            ],
            [
             0.6666666666666666,
             "#ed7953"
            ],
            [
             0.7777777777777778,
             "#fb9f3a"
            ],
            [
             0.8888888888888888,
             "#fdca26"
            ],
            [
             1,
             "#f0f921"
            ]
           ],
           "sequentialminus": [
            [
             0,
             "#0d0887"
            ],
            [
             0.1111111111111111,
             "#46039f"
            ],
            [
             0.2222222222222222,
             "#7201a8"
            ],
            [
             0.3333333333333333,
             "#9c179e"
            ],
            [
             0.4444444444444444,
             "#bd3786"
            ],
            [
             0.5555555555555556,
             "#d8576b"
            ],
            [
             0.6666666666666666,
             "#ed7953"
            ],
            [
             0.7777777777777778,
             "#fb9f3a"
            ],
            [
             0.8888888888888888,
             "#fdca26"
            ],
            [
             1,
             "#f0f921"
            ]
           ]
          },
          "colorway": [
           "#636efa",
           "#EF553B",
           "#00cc96",
           "#ab63fa",
           "#FFA15A",
           "#19d3f3",
           "#FF6692",
           "#B6E880",
           "#FF97FF",
           "#FECB52"
          ],
          "font": {
           "color": "#2a3f5f"
          },
          "geo": {
           "bgcolor": "white",
           "lakecolor": "white",
           "landcolor": "#E5ECF6",
           "showlakes": true,
           "showland": true,
           "subunitcolor": "white"
          },
          "hoverlabel": {
           "align": "left"
          },
          "hovermode": "closest",
          "mapbox": {
           "style": "light"
          },
          "paper_bgcolor": "white",
          "plot_bgcolor": "#E5ECF6",
          "polar": {
           "angularaxis": {
            "gridcolor": "white",
            "linecolor": "white",
            "ticks": ""
           },
           "bgcolor": "#E5ECF6",
           "radialaxis": {
            "gridcolor": "white",
            "linecolor": "white",
            "ticks": ""
           }
          },
          "scene": {
           "xaxis": {
            "backgroundcolor": "#E5ECF6",
            "gridcolor": "white",
            "gridwidth": 2,
            "linecolor": "white",
            "showbackground": true,
            "ticks": "",
            "zerolinecolor": "white"
           },
           "yaxis": {
            "backgroundcolor": "#E5ECF6",
            "gridcolor": "white",
            "gridwidth": 2,
            "linecolor": "white",
            "showbackground": true,
            "ticks": "",
            "zerolinecolor": "white"
           },
           "zaxis": {
            "backgroundcolor": "#E5ECF6",
            "gridcolor": "white",
            "gridwidth": 2,
            "linecolor": "white",
            "showbackground": true,
            "ticks": "",
            "zerolinecolor": "white"
           }
          },
          "shapedefaults": {
           "line": {
            "color": "#2a3f5f"
           }
          },
          "ternary": {
           "aaxis": {
            "gridcolor": "white",
            "linecolor": "white",
            "ticks": ""
           },
           "baxis": {
            "gridcolor": "white",
            "linecolor": "white",
            "ticks": ""
           },
           "bgcolor": "#E5ECF6",
           "caxis": {
            "gridcolor": "white",
            "linecolor": "white",
            "ticks": ""
           }
          },
          "title": {
           "x": 0.05
          },
          "xaxis": {
           "automargin": true,
           "gridcolor": "white",
           "linecolor": "white",
           "ticks": "",
           "title": {
            "standoff": 15
           },
           "zerolinecolor": "white",
           "zerolinewidth": 2
          },
          "yaxis": {
           "automargin": true,
           "gridcolor": "white",
           "linecolor": "white",
           "ticks": "",
           "title": {
            "standoff": 15
           },
           "zerolinecolor": "white",
           "zerolinewidth": 2
          }
         }
        },
        "title": {
         "text": "Predicted: right, Actual: back"
        },
        "xaxis": {
         "anchor": "y",
         "constrain": "domain",
         "domain": [
          0,
          1
         ],
         "scaleanchor": "y"
        },
        "yaxis": {
         "anchor": "x",
         "autorange": "reversed",
         "constrain": "domain",
         "domain": [
          0,
          1
         ]
        }
       }
      }
     },
     "metadata": {},
     "output_type": "display_data"
    },
    {
     "data": {
      "application/vnd.plotly.v1+json": {
       "config": {
        "plotlyServerURL": "https://plot.ly"
       },
       "data": [
        {
         "coloraxis": "coloraxis",
         "hovertemplate": "x: %{x}<br>y: %{y}<br>color: %{z}<extra></extra>",
         "name": "0",
         "type": "heatmap",
         "xaxis": "x",
         "yaxis": "y",
         "z": [
          [
           25.72,
           25.61,
           25.48,
           25.2,
           25.83,
           25.92,
           26.24,
           26.32,
           27.61,
           28.17,
           28.9,
           29.23,
           30.68,
           30.97,
           31.65,
           32.14,
           32.69,
           33.07,
           30.35,
           29.38,
           27.24,
           26.99,
           26.16,
           26.1,
           25.74,
           25.4,
           24.89,
           25.22,
           24.99,
           24.94,
           24.31,
           24.94
          ],
          [
           25.48,
           25.03,
           25.14,
           25.2,
           26,
           25.71,
           26.53,
           26.64,
           27.89,
           28.38,
           29.23,
           29.54,
           30.94,
           31.33,
           32.32,
           32.44,
           33.45,
           33.47,
           31.29,
           29.77,
           27.74,
           27.21,
           26.04,
           25.93,
           26.05,
           25.52,
           25.39,
           25,
           25.44,
           24.97,
           25.29,
           24.87
          ],
          [
           25.44,
           25.26,
           25.19,
           25.42,
           25.88,
           26.01,
           26.37,
           27,
           28.41,
           28.92,
           29.51,
           30.34,
           31.41,
           31.76,
           31.97,
           32.8,
           33.51,
           33.24,
           31.86,
           30.59,
           27.94,
           27.39,
           26.48,
           26.24,
           25.84,
           25.77,
           25.09,
           24.98,
           24.78,
           24.63,
           24.44,
           24.57
          ],
          [
           25.3,
           25.32,
           25.28,
           25.47,
           26.14,
           26.04,
           26.68,
           27.44,
           28.78,
           28.87,
           29.82,
           30.08,
           31.57,
           31.48,
           32.6,
           33.11,
           33.3,
           33.04,
           32.7,
           31.19,
           28.19,
           27.39,
           26.64,
           26.28,
           26.02,
           25.69,
           25.26,
           24.89,
           25.21,
           25.04,
           25.01,
           24.72
          ],
          [
           24.85,
           25.28,
           24.86,
           25.21,
           25.89,
           26.41,
           26.82,
           27.5,
           28.72,
           29,
           29.59,
           30.15,
           31.54,
           31.84,
           33.35,
           33.58,
           33.08,
           33,
           32.35,
           31.48,
           28.57,
           27.66,
           26.46,
           26.2,
           26.03,
           25.64,
           25.13,
           25.29,
           24.68,
           24.91,
           24.33,
           24.27
          ],
          [
           25.27,
           25.1,
           25.08,
           25.52,
           25.97,
           26,
           27.2,
           27.5,
           28.97,
           28.97,
           29.67,
           30.04,
           31.9,
           31.89,
           33.38,
           33.49,
           33.12,
           32.75,
           32.27,
           31.9,
           28.5,
           27.77,
           26.36,
           26.44,
           26.08,
           25.54,
           25.33,
           25.24,
           25,
           24.55,
           24.85,
           24.57
          ],
          [
           25.09,
           25.19,
           25.34,
           25.56,
           26.17,
           26.68,
           27.44,
           27.88,
           28.94,
           29.03,
           29.81,
           30.9,
           33.03,
           33.48,
           33.53,
           33.78,
           33.19,
           32.67,
           32.02,
           31.47,
           28.09,
           27.64,
           26.67,
           26.35,
           25.86,
           25.84,
           25.16,
           24.93,
           24.82,
           24.83,
           24.25,
           24.24
          ],
          [
           25.15,
           24.85,
           25.5,
           25.53,
           26.3,
           26.66,
           28.04,
           28.55,
           28.85,
           28.89,
           30.02,
           31.33,
           33.68,
           33.77,
           34.18,
           34.04,
           33.4,
           32.88,
           32.42,
           31.34,
           28.31,
           27.35,
           26.58,
           26.13,
           26.14,
           25.32,
           25.58,
           25.06,
           24.61,
           24.58,
           24.56,
           24.34
          ],
          [
           25.11,
           25.37,
           25.27,
           25.54,
           26.11,
           26.85,
           28.32,
           28.8,
           29.08,
           29.3,
           30.48,
           32.03,
           34.18,
           34.34,
           34.2,
           34.3,
           33.45,
           32.89,
           31.31,
           30.08,
           28.07,
           27.67,
           26.51,
           26.75,
           26.17,
           25.64,
           25.27,
           25.19,
           24.94,
           24.74,
           24.65,
           24.59
          ],
          [
           25.08,
           24.9,
           25.11,
           25.68,
           26.09,
           26.82,
           28.12,
           28.45,
           29.44,
           29.09,
           30.56,
           31.54,
           34.04,
           34.36,
           34.47,
           34.23,
           32.82,
           31.82,
           29.68,
           29.26,
           28.16,
           27.73,
           26.99,
           26.71,
           25.94,
           25.61,
           25.55,
           25.28,
           25.08,
           24.81,
           24.62,
           24.33
          ],
          [
           25.06,
           25.36,
           25.23,
           25.69,
           25.96,
           26.38,
           27.15,
           27.85,
           29.1,
           29.61,
           30.08,
           30.29,
           31.51,
           32.11,
           33.09,
           32.74,
           31.43,
           30.68,
           28.58,
           28.4,
           28.15,
           28,
           27.31,
           26.84,
           26.15,
           25.8,
           25.42,
           25.48,
           24.84,
           25.07,
           24.55,
           24.75
          ],
          [
           24.99,
           24.98,
           25.2,
           25.37,
           25.79,
           25.96,
           26.91,
           27.29,
           28.99,
           29.29,
           30.05,
           30.18,
           30.38,
           30.46,
           31.57,
           31.67,
           31.4,
           30.9,
           28.71,
           28.34,
           28.5,
           28.3,
           27.56,
           27.19,
           26.48,
           26.08,
           25.64,
           25.49,
           25.34,
           25.29,
           24.77,
           24.47
          ],
          [
           24.89,
           25.03,
           24.98,
           25.68,
           25.59,
           26,
           26.32,
           27.02,
           28.42,
           29.37,
           30.14,
           30.46,
           30.47,
           30.5,
           29.59,
           29.77,
           30.42,
           30.84,
           30.28,
           29.18,
           28.67,
           29.16,
           29.34,
           29.36,
           27.39,
           26.83,
           25.66,
           25.53,
           25.25,
           25.2,
           24.85,
           25.05
          ],
          [
           24.97,
           25.05,
           25.1,
           25.2,
           25.78,
           26.13,
           26.67,
           26.94,
           29.08,
           29.51,
           30.45,
           30.58,
           30.62,
           30.55,
           29.7,
           29.39,
           29.38,
           29.72,
           30.52,
           30.16,
           28.91,
           29.09,
           29.9,
           30.27,
           28.32,
           27.21,
           25.81,
           25.83,
           25.51,
           25.21,
           25.09,
           24.65
          ],
          [
           24.78,
           25.12,
           25.12,
           25.41,
           25.55,
           26.33,
           26.87,
           27.83,
           29.39,
           30.31,
           30.4,
           30.42,
           29.89,
           30.13,
           29.64,
           29.41,
           28.9,
           28.84,
           29.48,
           30.06,
           29.44,
           29.63,
           29.76,
           30.05,
           28.93,
           27.58,
           25.76,
           25.5,
           25.54,
           25.25,
           24.84,
           24.69
          ],
          [
           24.77,
           24.79,
           25.02,
           25.28,
           25.96,
           25.98,
           26.8,
           27.64,
           29.41,
           29.95,
           30.52,
           30.28,
           30.03,
           29.64,
           29.43,
           29.41,
           29.03,
           28.75,
           28.87,
           29.37,
           29.29,
           29.48,
           29.79,
           29.88,
           28.54,
           27.43,
           25.78,
           25.31,
           25.1,
           25.2,
           25.21,
           24.83
          ],
          [
           24.86,
           25.1,
           24.89,
           25.33,
           25.78,
           26.04,
           26.76,
           27.5,
           28.96,
           29.8,
           30.66,
           30.22,
           29.58,
           29.64,
           28.88,
           29,
           28.84,
           28.62,
           28.14,
           28.57,
           29.29,
           29.5,
           29.8,
           29.35,
           27.72,
           27.02,
           25.73,
           25.34,
           25.04,
           25.03,
           24.49,
           25.44
          ],
          [
           24.86,
           24.96,
           25.01,
           25.02,
           25.66,
           25.89,
           26.86,
           27.28,
           28.71,
           29.14,
           30.24,
           30.26,
           30.08,
           29.66,
           29.08,
           28.9,
           29.05,
           29,
           28.32,
           28.2,
           29.12,
           29.23,
           29.3,
           29.25,
           27.6,
           26.87,
           25.72,
           25.17,
           25.03,
           24.94,
           24.86,
           24.8
          ],
          [
           24.75,
           25.2,
           24.92,
           25.31,
           25.6,
           26.01,
           25.99,
           26.69,
           27.59,
           28.04,
           29.49,
           29.9,
           30.38,
           30.24,
           29.62,
           29.42,
           29.67,
           30.13,
           29.31,
           28.84,
           29.25,
           29.52,
           29.86,
           29.71,
           27.85,
           26.8,
           25.35,
           25.36,
           25.05,
           25.07,
           24.74,
           24.91
          ],
          [
           24.91,
           25.07,
           24.91,
           24.91,
           25.56,
           25.55,
           26.18,
           26.41,
           27.24,
           27.46,
           29.22,
           29.72,
           30.43,
           30.46,
           30.12,
           29.9,
           29.89,
           30.15,
           29.65,
           29.22,
           29.35,
           29.42,
           29.77,
           29.83,
           28.09,
           26.96,
           25.45,
           25.09,
           25.03,
           24.65,
           24.89,
           24.43
          ],
          [
           24.89,
           25.07,
           24.8,
           24.94,
           25.29,
           25.75,
           25.94,
           26.18,
           26.78,
           27.26,
           27.76,
           28.81,
           30.17,
           30.15,
           29.78,
           30.24,
           29.87,
           30.09,
           29.73,
           30.05,
           30.36,
           30.58,
           30.22,
           30.57,
           27.8,
           26.58,
           25.27,
           25.58,
           24.92,
           24.74,
           24.31,
           24.91
          ],
          [
           25.23,
           24.93,
           25.2,
           25.16,
           25.56,
           25.5,
           25.83,
           26.16,
           26.94,
           26.81,
           27.98,
           28.67,
           29.9,
           29.74,
           29.84,
           29.82,
           29.88,
           29.64,
           29.75,
           30.07,
           31.11,
           30.58,
           30.77,
           30.36,
           27.68,
           26.46,
           25.52,
           25.15,
           25.27,
           24.76,
           24.6,
           25.26
          ],
          [
           24.42,
           24.74,
           24.76,
           25.23,
           25.27,
           25.4,
           25.39,
           25.84,
           26.54,
           27.07,
           28.23,
           28.69,
           29.66,
           29.62,
           28.61,
           29.2,
           29.34,
           29.61,
           29.44,
           30.03,
           30.62,
           31,
           29.99,
           28.92,
           26.52,
           25.88,
           25.17,
           25.28,
           25.03,
           25.07,
           25.02,
           25.04
          ],
          [
           25.61,
           25.37,
           25.06,
           25.12,
           25.21,
           25.48,
           26.03,
           25.99,
           26.46,
           26.87,
           28.49,
           28.78,
           29.44,
           28.96,
           28.48,
           28.41,
           29,
           29.24,
           29.8,
           29.65,
           30.79,
           30.37,
           29.05,
           28.16,
           26.45,
           25.75,
           25.42,
           24.97,
           25.45,
           24.85,
           25.52,
           24.9
          ]
         ]
        }
       ],
       "layout": {
        "coloraxis": {
         "colorscale": [
          [
           0,
           "#0d0887"
          ],
          [
           0.1111111111111111,
           "#46039f"
          ],
          [
           0.2222222222222222,
           "#7201a8"
          ],
          [
           0.3333333333333333,
           "#9c179e"
          ],
          [
           0.4444444444444444,
           "#bd3786"
          ],
          [
           0.5555555555555556,
           "#d8576b"
          ],
          [
           0.6666666666666666,
           "#ed7953"
          ],
          [
           0.7777777777777778,
           "#fb9f3a"
          ],
          [
           0.8888888888888888,
           "#fdca26"
          ],
          [
           1,
           "#f0f921"
          ]
         ]
        },
        "margin": {
         "t": 60
        },
        "template": {
         "data": {
          "bar": [
           {
            "error_x": {
             "color": "#2a3f5f"
            },
            "error_y": {
             "color": "#2a3f5f"
            },
            "marker": {
             "line": {
              "color": "#E5ECF6",
              "width": 0.5
             },
             "pattern": {
              "fillmode": "overlay",
              "size": 10,
              "solidity": 0.2
             }
            },
            "type": "bar"
           }
          ],
          "barpolar": [
           {
            "marker": {
             "line": {
              "color": "#E5ECF6",
              "width": 0.5
             },
             "pattern": {
              "fillmode": "overlay",
              "size": 10,
              "solidity": 0.2
             }
            },
            "type": "barpolar"
           }
          ],
          "carpet": [
           {
            "aaxis": {
             "endlinecolor": "#2a3f5f",
             "gridcolor": "white",
             "linecolor": "white",
             "minorgridcolor": "white",
             "startlinecolor": "#2a3f5f"
            },
            "baxis": {
             "endlinecolor": "#2a3f5f",
             "gridcolor": "white",
             "linecolor": "white",
             "minorgridcolor": "white",
             "startlinecolor": "#2a3f5f"
            },
            "type": "carpet"
           }
          ],
          "choropleth": [
           {
            "colorbar": {
             "outlinewidth": 0,
             "ticks": ""
            },
            "type": "choropleth"
           }
          ],
          "contour": [
           {
            "colorbar": {
             "outlinewidth": 0,
             "ticks": ""
            },
            "colorscale": [
             [
              0,
              "#0d0887"
             ],
             [
              0.1111111111111111,
              "#46039f"
             ],
             [
              0.2222222222222222,
              "#7201a8"
             ],
             [
              0.3333333333333333,
              "#9c179e"
             ],
             [
              0.4444444444444444,
              "#bd3786"
             ],
             [
              0.5555555555555556,
              "#d8576b"
             ],
             [
              0.6666666666666666,
              "#ed7953"
             ],
             [
              0.7777777777777778,
              "#fb9f3a"
             ],
             [
              0.8888888888888888,
              "#fdca26"
             ],
             [
              1,
              "#f0f921"
             ]
            ],
            "type": "contour"
           }
          ],
          "contourcarpet": [
           {
            "colorbar": {
             "outlinewidth": 0,
             "ticks": ""
            },
            "type": "contourcarpet"
           }
          ],
          "heatmap": [
           {
            "colorbar": {
             "outlinewidth": 0,
             "ticks": ""
            },
            "colorscale": [
             [
              0,
              "#0d0887"
             ],
             [
              0.1111111111111111,
              "#46039f"
             ],
             [
              0.2222222222222222,
              "#7201a8"
             ],
             [
              0.3333333333333333,
              "#9c179e"
             ],
             [
              0.4444444444444444,
              "#bd3786"
             ],
             [
              0.5555555555555556,
              "#d8576b"
             ],
             [
              0.6666666666666666,
              "#ed7953"
             ],
             [
              0.7777777777777778,
              "#fb9f3a"
             ],
             [
              0.8888888888888888,
              "#fdca26"
             ],
             [
              1,
              "#f0f921"
             ]
            ],
            "type": "heatmap"
           }
          ],
          "heatmapgl": [
           {
            "colorbar": {
             "outlinewidth": 0,
             "ticks": ""
            },
            "colorscale": [
             [
              0,
              "#0d0887"
             ],
             [
              0.1111111111111111,
              "#46039f"
             ],
             [
              0.2222222222222222,
              "#7201a8"
             ],
             [
              0.3333333333333333,
              "#9c179e"
             ],
             [
              0.4444444444444444,
              "#bd3786"
             ],
             [
              0.5555555555555556,
              "#d8576b"
             ],
             [
              0.6666666666666666,
              "#ed7953"
             ],
             [
              0.7777777777777778,
              "#fb9f3a"
             ],
             [
              0.8888888888888888,
              "#fdca26"
             ],
             [
              1,
              "#f0f921"
             ]
            ],
            "type": "heatmapgl"
           }
          ],
          "histogram": [
           {
            "marker": {
             "pattern": {
              "fillmode": "overlay",
              "size": 10,
              "solidity": 0.2
             }
            },
            "type": "histogram"
           }
          ],
          "histogram2d": [
           {
            "colorbar": {
             "outlinewidth": 0,
             "ticks": ""
            },
            "colorscale": [
             [
              0,
              "#0d0887"
             ],
             [
              0.1111111111111111,
              "#46039f"
             ],
             [
              0.2222222222222222,
              "#7201a8"
             ],
             [
              0.3333333333333333,
              "#9c179e"
             ],
             [
              0.4444444444444444,
              "#bd3786"
             ],
             [
              0.5555555555555556,
              "#d8576b"
             ],
             [
              0.6666666666666666,
              "#ed7953"
             ],
             [
              0.7777777777777778,
              "#fb9f3a"
             ],
             [
              0.8888888888888888,
              "#fdca26"
             ],
             [
              1,
              "#f0f921"
             ]
            ],
            "type": "histogram2d"
           }
          ],
          "histogram2dcontour": [
           {
            "colorbar": {
             "outlinewidth": 0,
             "ticks": ""
            },
            "colorscale": [
             [
              0,
              "#0d0887"
             ],
             [
              0.1111111111111111,
              "#46039f"
             ],
             [
              0.2222222222222222,
              "#7201a8"
             ],
             [
              0.3333333333333333,
              "#9c179e"
             ],
             [
              0.4444444444444444,
              "#bd3786"
             ],
             [
              0.5555555555555556,
              "#d8576b"
             ],
             [
              0.6666666666666666,
              "#ed7953"
             ],
             [
              0.7777777777777778,
              "#fb9f3a"
             ],
             [
              0.8888888888888888,
              "#fdca26"
             ],
             [
              1,
              "#f0f921"
             ]
            ],
            "type": "histogram2dcontour"
           }
          ],
          "mesh3d": [
           {
            "colorbar": {
             "outlinewidth": 0,
             "ticks": ""
            },
            "type": "mesh3d"
           }
          ],
          "parcoords": [
           {
            "line": {
             "colorbar": {
              "outlinewidth": 0,
              "ticks": ""
             }
            },
            "type": "parcoords"
           }
          ],
          "pie": [
           {
            "automargin": true,
            "type": "pie"
           }
          ],
          "scatter": [
           {
            "fillpattern": {
             "fillmode": "overlay",
             "size": 10,
             "solidity": 0.2
            },
            "type": "scatter"
           }
          ],
          "scatter3d": [
           {
            "line": {
             "colorbar": {
              "outlinewidth": 0,
              "ticks": ""
             }
            },
            "marker": {
             "colorbar": {
              "outlinewidth": 0,
              "ticks": ""
             }
            },
            "type": "scatter3d"
           }
          ],
          "scattercarpet": [
           {
            "marker": {
             "colorbar": {
              "outlinewidth": 0,
              "ticks": ""
             }
            },
            "type": "scattercarpet"
           }
          ],
          "scattergeo": [
           {
            "marker": {
             "colorbar": {
              "outlinewidth": 0,
              "ticks": ""
             }
            },
            "type": "scattergeo"
           }
          ],
          "scattergl": [
           {
            "marker": {
             "colorbar": {
              "outlinewidth": 0,
              "ticks": ""
             }
            },
            "type": "scattergl"
           }
          ],
          "scattermapbox": [
           {
            "marker": {
             "colorbar": {
              "outlinewidth": 0,
              "ticks": ""
             }
            },
            "type": "scattermapbox"
           }
          ],
          "scatterpolar": [
           {
            "marker": {
             "colorbar": {
              "outlinewidth": 0,
              "ticks": ""
             }
            },
            "type": "scatterpolar"
           }
          ],
          "scatterpolargl": [
           {
            "marker": {
             "colorbar": {
              "outlinewidth": 0,
              "ticks": ""
             }
            },
            "type": "scatterpolargl"
           }
          ],
          "scatterternary": [
           {
            "marker": {
             "colorbar": {
              "outlinewidth": 0,
              "ticks": ""
             }
            },
            "type": "scatterternary"
           }
          ],
          "surface": [
           {
            "colorbar": {
             "outlinewidth": 0,
             "ticks": ""
            },
            "colorscale": [
             [
              0,
              "#0d0887"
             ],
             [
              0.1111111111111111,
              "#46039f"
             ],
             [
              0.2222222222222222,
              "#7201a8"
             ],
             [
              0.3333333333333333,
              "#9c179e"
             ],
             [
              0.4444444444444444,
              "#bd3786"
             ],
             [
              0.5555555555555556,
              "#d8576b"
             ],
             [
              0.6666666666666666,
              "#ed7953"
             ],
             [
              0.7777777777777778,
              "#fb9f3a"
             ],
             [
              0.8888888888888888,
              "#fdca26"
             ],
             [
              1,
              "#f0f921"
             ]
            ],
            "type": "surface"
           }
          ],
          "table": [
           {
            "cells": {
             "fill": {
              "color": "#EBF0F8"
             },
             "line": {
              "color": "white"
             }
            },
            "header": {
             "fill": {
              "color": "#C8D4E3"
             },
             "line": {
              "color": "white"
             }
            },
            "type": "table"
           }
          ]
         },
         "layout": {
          "annotationdefaults": {
           "arrowcolor": "#2a3f5f",
           "arrowhead": 0,
           "arrowwidth": 1
          },
          "autotypenumbers": "strict",
          "coloraxis": {
           "colorbar": {
            "outlinewidth": 0,
            "ticks": ""
           }
          },
          "colorscale": {
           "diverging": [
            [
             0,
             "#8e0152"
            ],
            [
             0.1,
             "#c51b7d"
            ],
            [
             0.2,
             "#de77ae"
            ],
            [
             0.3,
             "#f1b6da"
            ],
            [
             0.4,
             "#fde0ef"
            ],
            [
             0.5,
             "#f7f7f7"
            ],
            [
             0.6,
             "#e6f5d0"
            ],
            [
             0.7,
             "#b8e186"
            ],
            [
             0.8,
             "#7fbc41"
            ],
            [
             0.9,
             "#4d9221"
            ],
            [
             1,
             "#276419"
            ]
           ],
           "sequential": [
            [
             0,
             "#0d0887"
            ],
            [
             0.1111111111111111,
             "#46039f"
            ],
            [
             0.2222222222222222,
             "#7201a8"
            ],
            [
             0.3333333333333333,
             "#9c179e"
            ],
            [
             0.4444444444444444,
             "#bd3786"
            ],
            [
             0.5555555555555556,
             "#d8576b"
            ],
            [
             0.6666666666666666,
             "#ed7953"
            ],
            [
             0.7777777777777778,
             "#fb9f3a"
            ],
            [
             0.8888888888888888,
             "#fdca26"
            ],
            [
             1,
             "#f0f921"
            ]
           ],
           "sequentialminus": [
            [
             0,
             "#0d0887"
            ],
            [
             0.1111111111111111,
             "#46039f"
            ],
            [
             0.2222222222222222,
             "#7201a8"
            ],
            [
             0.3333333333333333,
             "#9c179e"
            ],
            [
             0.4444444444444444,
             "#bd3786"
            ],
            [
             0.5555555555555556,
             "#d8576b"
            ],
            [
             0.6666666666666666,
             "#ed7953"
            ],
            [
             0.7777777777777778,
             "#fb9f3a"
            ],
            [
             0.8888888888888888,
             "#fdca26"
            ],
            [
             1,
             "#f0f921"
            ]
           ]
          },
          "colorway": [
           "#636efa",
           "#EF553B",
           "#00cc96",
           "#ab63fa",
           "#FFA15A",
           "#19d3f3",
           "#FF6692",
           "#B6E880",
           "#FF97FF",
           "#FECB52"
          ],
          "font": {
           "color": "#2a3f5f"
          },
          "geo": {
           "bgcolor": "white",
           "lakecolor": "white",
           "landcolor": "#E5ECF6",
           "showlakes": true,
           "showland": true,
           "subunitcolor": "white"
          },
          "hoverlabel": {
           "align": "left"
          },
          "hovermode": "closest",
          "mapbox": {
           "style": "light"
          },
          "paper_bgcolor": "white",
          "plot_bgcolor": "#E5ECF6",
          "polar": {
           "angularaxis": {
            "gridcolor": "white",
            "linecolor": "white",
            "ticks": ""
           },
           "bgcolor": "#E5ECF6",
           "radialaxis": {
            "gridcolor": "white",
            "linecolor": "white",
            "ticks": ""
           }
          },
          "scene": {
           "xaxis": {
            "backgroundcolor": "#E5ECF6",
            "gridcolor": "white",
            "gridwidth": 2,
            "linecolor": "white",
            "showbackground": true,
            "ticks": "",
            "zerolinecolor": "white"
           },
           "yaxis": {
            "backgroundcolor": "#E5ECF6",
            "gridcolor": "white",
            "gridwidth": 2,
            "linecolor": "white",
            "showbackground": true,
            "ticks": "",
            "zerolinecolor": "white"
           },
           "zaxis": {
            "backgroundcolor": "#E5ECF6",
            "gridcolor": "white",
            "gridwidth": 2,
            "linecolor": "white",
            "showbackground": true,
            "ticks": "",
            "zerolinecolor": "white"
           }
          },
          "shapedefaults": {
           "line": {
            "color": "#2a3f5f"
           }
          },
          "ternary": {
           "aaxis": {
            "gridcolor": "white",
            "linecolor": "white",
            "ticks": ""
           },
           "baxis": {
            "gridcolor": "white",
            "linecolor": "white",
            "ticks": ""
           },
           "bgcolor": "#E5ECF6",
           "caxis": {
            "gridcolor": "white",
            "linecolor": "white",
            "ticks": ""
           }
          },
          "title": {
           "x": 0.05
          },
          "xaxis": {
           "automargin": true,
           "gridcolor": "white",
           "linecolor": "white",
           "ticks": "",
           "title": {
            "standoff": 15
           },
           "zerolinecolor": "white",
           "zerolinewidth": 2
          },
          "yaxis": {
           "automargin": true,
           "gridcolor": "white",
           "linecolor": "white",
           "ticks": "",
           "title": {
            "standoff": 15
           },
           "zerolinecolor": "white",
           "zerolinewidth": 2
          }
         }
        },
        "title": {
         "text": "Predicted: back, Actual: right"
        },
        "xaxis": {
         "anchor": "y",
         "constrain": "domain",
         "domain": [
          0,
          1
         ],
         "scaleanchor": "y"
        },
        "yaxis": {
         "anchor": "x",
         "autorange": "reversed",
         "constrain": "domain",
         "domain": [
          0,
          1
         ]
        }
       }
      }
     },
     "metadata": {},
     "output_type": "display_data"
    },
    {
     "data": {
      "application/vnd.plotly.v1+json": {
       "config": {
        "plotlyServerURL": "https://plot.ly"
       },
       "data": [
        {
         "coloraxis": "coloraxis",
         "hovertemplate": "x: %{x}<br>y: %{y}<br>color: %{z}<extra></extra>",
         "name": "0",
         "type": "heatmap",
         "xaxis": "x",
         "yaxis": "y",
         "z": [
          [
           25.27,
           25.12,
           25.09,
           24.9,
           25.37,
           24.9,
           25.24,
           25.43,
           25.97,
           26.74,
           28.05,
           29.05,
           32.37,
           33.13,
           33.53,
           33.48,
           33.44,
           33.27,
           32.21,
           31.2,
           28.01,
           27.53,
           26.3,
           25.86,
           25.14,
           25.31,
           25.03,
           25.09,
           24.83,
           24.55,
           24.7,
           24.21
          ],
          [
           24.64,
           25.11,
           24.7,
           25.05,
           25.02,
           25.16,
           25.5,
           25.86,
           26.51,
           26.55,
           28.7,
           30.37,
           33.09,
           33.16,
           33.31,
           33.61,
           33.69,
           33.51,
           33.02,
           32.53,
           29.41,
           27.94,
           26.52,
           26.22,
           25.42,
           25.39,
           25.3,
           25.19,
           24.62,
           24.65,
           24.88,
           24.66
          ],
          [
           24.79,
           24.94,
           25.1,
           25.07,
           25.38,
           24.99,
           25.48,
           25.67,
           26.8,
           27.27,
           30.37,
           31.65,
           33.31,
           32.59,
           32.67,
           33.27,
           33.21,
           32.98,
           33.1,
           32.76,
           30.04,
           28.7,
           26.46,
           26.15,
           25.29,
           25.13,
           24.8,
           24.42,
           24.53,
           24.41,
           24.31,
           24.4
          ],
          [
           24.82,
           24.94,
           24.97,
           25.25,
           25.15,
           25.28,
           25.37,
           25.96,
           26.68,
           27.34,
           30.5,
           32.28,
           32.86,
           32.05,
           32.64,
           33.44,
           32.76,
           32.53,
           32.87,
           32.74,
           30.4,
           28.85,
           26.45,
           26.28,
           25.44,
           25.14,
           25.24,
           24.61,
           24.92,
           24.41,
           24.91,
           24.56
          ],
          [
           24.78,
           24.77,
           25.01,
           24.98,
           25.23,
           25.55,
           25.9,
           26.06,
           27.13,
           28.06,
           30.59,
           31.73,
           33.6,
           32.98,
           33.01,
           32.89,
           32.82,
           32.64,
           32.57,
           32.18,
           29.76,
           28.41,
           26.57,
           26.27,
           25.33,
           25.26,
           24.92,
           24.69,
           24.04,
           24.36,
           24.55,
           24.47
          ],
          [
           25.16,
           24.9,
           24.88,
           25.41,
           25.42,
           25.26,
           25.9,
           26.42,
           27.48,
           27.9,
           30.52,
           31.66,
           33.68,
           33.54,
           32.91,
           32.97,
           32.91,
           32.91,
           32.08,
           32,
           29.71,
           28.37,
           26.33,
           26.03,
           25.6,
           25.12,
           24.66,
           24.79,
           24.66,
           24.31,
           24.11,
           24.51
          ],
          [
           24.98,
           25.03,
           25.16,
           25.15,
           25.6,
           25.94,
           26.88,
           27.59,
           29.04,
           29.57,
           31.73,
           32.42,
           33.44,
           33.51,
           33.34,
           33.19,
           32.76,
           32.58,
           32.19,
           31.93,
           29.25,
           27.98,
           26.3,
           25.81,
           25.18,
           24.94,
           24.79,
           24.51,
           24.4,
           24.16,
           24.35,
           24.23
          ],
          [
           24.84,
           25.16,
           25.29,
           25.4,
           25.97,
           26.16,
           27.99,
           28.66,
           30.12,
           30.69,
           32.21,
           32.9,
           33.62,
           33.42,
           33.52,
           33.44,
           33.11,
           32.77,
           32.37,
           32.14,
           28.83,
           28.04,
           26.39,
           25.9,
           25.43,
           25.14,
           24.66,
           24.9,
           24.36,
           24.23,
           24.29,
           24.34
          ],
          [
           25.09,
           25.3,
           25.64,
           25.7,
           26.81,
           28.29,
           29.86,
           30.26,
           30.43,
           30.89,
           31.96,
           32.37,
           33.34,
           33.56,
           33.79,
           33.64,
           33.23,
           32.7,
           31.98,
           31.1,
           28.78,
           27.95,
           26.54,
           26.1,
           25.28,
           25.13,
           24.83,
           24.42,
           24.29,
           24.38,
           24.11,
           24.11
          ],
          [
           25.06,
           24.96,
           25.61,
           25.96,
           27.51,
           28.94,
           30.14,
           30.32,
           30.49,
           30.55,
           31.12,
           31.96,
           33.11,
           33.23,
           33.47,
           33.49,
           32.84,
           32.4,
           31.57,
           31.07,
           29.22,
           28.38,
           26.81,
           26.58,
           25.72,
           25.09,
           24.7,
           24.65,
           24.27,
           24.3,
           24.06,
           24.39
          ],
          [
           25.09,
           25.33,
           25.68,
           26.17,
           28.04,
           29.56,
           30.37,
           30.12,
           29.91,
           30.1,
           30.41,
           30.72,
           31.05,
           31.22,
           31.83,
           31.7,
           31.18,
           31.2,
           31.04,
           30.58,
           28.97,
           28.42,
           27.18,
           26.65,
           25.67,
           25.35,
           24.68,
           24.66,
           24.25,
           24.4,
           24.43,
           24.22
          ],
          [
           25.2,
           24.96,
           25.79,
           26.13,
           28.36,
           29.51,
           30.35,
           30.29,
           29.8,
           29.78,
           30.02,
           30.36,
           30.61,
           30.35,
           30.9,
           31.2,
           30.74,
           30.84,
           30.57,
           30.36,
           28.76,
           27.7,
           26.55,
           26.21,
           25.55,
           25.29,
           24.76,
           24.57,
           24.61,
           24.47,
           24.33,
           24.31
          ],
          [
           24.93,
           25.16,
           25.62,
           26.16,
           28.05,
           29.32,
           30.35,
           30.41,
           29.81,
           29.53,
           29.34,
           29.6,
           29.93,
           30.12,
           30.6,
           30.4,
           30,
           29.93,
           30.01,
           29.93,
           27.94,
           26.93,
           25.55,
           25.23,
           24.9,
           24.8,
           24.66,
           24.44,
           24.11,
           24.24,
           24.45,
           24.01
          ],
          [
           24.88,
           24.91,
           25.6,
           26.1,
           28.03,
           29.17,
           30.23,
           30.28,
           29.7,
           29.4,
           29.4,
           29.65,
           29.92,
           30.25,
           30.49,
           30.39,
           29.99,
           29.82,
           29.74,
           30.17,
           28,
           26.68,
           25.4,
           25.25,
           24.83,
           24.72,
           24.58,
           24.62,
           24.37,
           24.11,
           24.2,
           24.01
          ],
          [
           24.86,
           24.86,
           25.35,
           25.69,
           27.78,
           28.97,
           30.05,
           30.42,
           30,
           29.72,
           29.88,
           29.94,
           30.2,
           30.29,
           30.26,
           29.84,
           29.75,
           29.87,
           30.28,
           30.03,
           27.7,
           26.56,
           25.47,
           25.17,
           24.75,
           24.86,
           24.56,
           24.57,
           24.26,
           24.49,
           24.11,
           24.4
          ],
          [
           25.07,
           24.89,
           25.42,
           25.88,
           27.51,
           28.46,
           29.93,
           30.3,
           30.08,
           29.88,
           30.04,
           30.02,
           30.2,
           29.93,
           30.08,
           29.65,
           29.74,
           29.83,
           30.25,
           29.93,
           27.47,
           26.59,
           25.39,
           25.29,
           25.03,
           24.84,
           24.46,
           24.3,
           24.58,
           24.02,
           24.16,
           24.42
          ],
          [
           24.76,
           25.06,
           25.5,
           25.63,
           27.08,
           28.34,
           30.18,
           30.24,
           30.5,
           30.2,
           29.88,
           29.96,
           29.97,
           30.05,
           29.76,
           29.5,
           29.76,
           30.49,
           30.49,
           29.32,
           27.61,
           27.22,
           25.51,
           25.36,
           24.88,
           24.79,
           24.58,
           24.36,
           24.17,
           24.5,
           24.38,
           24.34
          ],
          [
           24.98,
           24.95,
           25.39,
           25.67,
           27.16,
           28.03,
           30.48,
           30.75,
           30.91,
           30.69,
           29.97,
           30.24,
           30.33,
           30.21,
           29.93,
           29.65,
           30.48,
           31.2,
           30.29,
           29.21,
           27.96,
           27.15,
           25.52,
           25.24,
           24.76,
           24.64,
           24.47,
           24.37,
           24.37,
           24.46,
           24.78,
           24.52
          ],
          [
           24.81,
           25.04,
           25.33,
           25.6,
           26.18,
           27.23,
           30.56,
           30.96,
           31.41,
           31.17,
           30.29,
           30.08,
           30.08,
           30.27,
           30.53,
           30.44,
           31.67,
           32.17,
           29.98,
           28.72,
           27.3,
           26.73,
           25.49,
           25.16,
           24.75,
           24.72,
           25.33,
           25.39,
           24.8,
           24.55,
           24.67,
           24.72
          ],
          [
           25.05,
           25.11,
           25.38,
           25.16,
           25.96,
           26.6,
           30.21,
           30.74,
           31.32,
           31.39,
           30.5,
           30.28,
           30.6,
           30.56,
           31,
           30.91,
           31.9,
           31.83,
           29.08,
           28.16,
           26.57,
           26.07,
           25.13,
           25.12,
           24.74,
           25.04,
           25.48,
           25.22,
           25.01,
           24.88,
           24.69,
           25.02
          ],
          [
           24.99,
           25.08,
           25.14,
           25.36,
           25.22,
           25.75,
           28.91,
           30.35,
           31.7,
           31.65,
           31.45,
           31.43,
           31.78,
           31.59,
           31.64,
           31.82,
           31.54,
           31.28,
           28.22,
           27.15,
           25.74,
           25.55,
           25.05,
           24.85,
           24.54,
           24.84,
           25,
           24.89,
           24.54,
           24.62,
           24.62,
           24.64
          ],
          [
           24.64,
           24.67,
           25.14,
           25.37,
           25.55,
           26.03,
           28.33,
           30.22,
           31.88,
           31.93,
           31.93,
           31.91,
           31.94,
           31.94,
           31.67,
           31.95,
           31.69,
           30.97,
           27.72,
           26.72,
           25.39,
           25.11,
           24.9,
           24.92,
           24.69,
           24.76,
           24.84,
           24.54,
           24.21,
           24.74,
           24.5,
           24.57
          ],
          [
           24.51,
           24.7,
           25.12,
           25.1,
           25.02,
           25.43,
           27.29,
           28.96,
           30.69,
           31.29,
           31.44,
           31.5,
           31.37,
           31.6,
           31.31,
           31.64,
           30.3,
           29.39,
           26.75,
           26.35,
           25.06,
           24.89,
           24.65,
           24.67,
           24.26,
           24.42,
           24.49,
           24.31,
           24.33,
           24.42,
           24.92,
           23.96
          ],
          [
           25.07,
           24.59,
           25.33,
           25.28,
           25.38,
           25.25,
           27.04,
           28.34,
           30.17,
           30.13,
           30.49,
           30.82,
           30.71,
           30.67,
           30.77,
           31.1,
           29.49,
           28.26,
           26.36,
           25.82,
           25.27,
           24.94,
           24.61,
           25.02,
           24.54,
           24.33,
           24.63,
           24.81,
           24.64,
           24.52,
           24.43,
           25.29
          ]
         ]
        }
       ],
       "layout": {
        "coloraxis": {
         "colorscale": [
          [
           0,
           "#0d0887"
          ],
          [
           0.1111111111111111,
           "#46039f"
          ],
          [
           0.2222222222222222,
           "#7201a8"
          ],
          [
           0.3333333333333333,
           "#9c179e"
          ],
          [
           0.4444444444444444,
           "#bd3786"
          ],
          [
           0.5555555555555556,
           "#d8576b"
          ],
          [
           0.6666666666666666,
           "#ed7953"
          ],
          [
           0.7777777777777778,
           "#fb9f3a"
          ],
          [
           0.8888888888888888,
           "#fdca26"
          ],
          [
           1,
           "#f0f921"
          ]
         ]
        },
        "margin": {
         "t": 60
        },
        "template": {
         "data": {
          "bar": [
           {
            "error_x": {
             "color": "#2a3f5f"
            },
            "error_y": {
             "color": "#2a3f5f"
            },
            "marker": {
             "line": {
              "color": "#E5ECF6",
              "width": 0.5
             },
             "pattern": {
              "fillmode": "overlay",
              "size": 10,
              "solidity": 0.2
             }
            },
            "type": "bar"
           }
          ],
          "barpolar": [
           {
            "marker": {
             "line": {
              "color": "#E5ECF6",
              "width": 0.5
             },
             "pattern": {
              "fillmode": "overlay",
              "size": 10,
              "solidity": 0.2
             }
            },
            "type": "barpolar"
           }
          ],
          "carpet": [
           {
            "aaxis": {
             "endlinecolor": "#2a3f5f",
             "gridcolor": "white",
             "linecolor": "white",
             "minorgridcolor": "white",
             "startlinecolor": "#2a3f5f"
            },
            "baxis": {
             "endlinecolor": "#2a3f5f",
             "gridcolor": "white",
             "linecolor": "white",
             "minorgridcolor": "white",
             "startlinecolor": "#2a3f5f"
            },
            "type": "carpet"
           }
          ],
          "choropleth": [
           {
            "colorbar": {
             "outlinewidth": 0,
             "ticks": ""
            },
            "type": "choropleth"
           }
          ],
          "contour": [
           {
            "colorbar": {
             "outlinewidth": 0,
             "ticks": ""
            },
            "colorscale": [
             [
              0,
              "#0d0887"
             ],
             [
              0.1111111111111111,
              "#46039f"
             ],
             [
              0.2222222222222222,
              "#7201a8"
             ],
             [
              0.3333333333333333,
              "#9c179e"
             ],
             [
              0.4444444444444444,
              "#bd3786"
             ],
             [
              0.5555555555555556,
              "#d8576b"
             ],
             [
              0.6666666666666666,
              "#ed7953"
             ],
             [
              0.7777777777777778,
              "#fb9f3a"
             ],
             [
              0.8888888888888888,
              "#fdca26"
             ],
             [
              1,
              "#f0f921"
             ]
            ],
            "type": "contour"
           }
          ],
          "contourcarpet": [
           {
            "colorbar": {
             "outlinewidth": 0,
             "ticks": ""
            },
            "type": "contourcarpet"
           }
          ],
          "heatmap": [
           {
            "colorbar": {
             "outlinewidth": 0,
             "ticks": ""
            },
            "colorscale": [
             [
              0,
              "#0d0887"
             ],
             [
              0.1111111111111111,
              "#46039f"
             ],
             [
              0.2222222222222222,
              "#7201a8"
             ],
             [
              0.3333333333333333,
              "#9c179e"
             ],
             [
              0.4444444444444444,
              "#bd3786"
             ],
             [
              0.5555555555555556,
              "#d8576b"
             ],
             [
              0.6666666666666666,
              "#ed7953"
             ],
             [
              0.7777777777777778,
              "#fb9f3a"
             ],
             [
              0.8888888888888888,
              "#fdca26"
             ],
             [
              1,
              "#f0f921"
             ]
            ],
            "type": "heatmap"
           }
          ],
          "heatmapgl": [
           {
            "colorbar": {
             "outlinewidth": 0,
             "ticks": ""
            },
            "colorscale": [
             [
              0,
              "#0d0887"
             ],
             [
              0.1111111111111111,
              "#46039f"
             ],
             [
              0.2222222222222222,
              "#7201a8"
             ],
             [
              0.3333333333333333,
              "#9c179e"
             ],
             [
              0.4444444444444444,
              "#bd3786"
             ],
             [
              0.5555555555555556,
              "#d8576b"
             ],
             [
              0.6666666666666666,
              "#ed7953"
             ],
             [
              0.7777777777777778,
              "#fb9f3a"
             ],
             [
              0.8888888888888888,
              "#fdca26"
             ],
             [
              1,
              "#f0f921"
             ]
            ],
            "type": "heatmapgl"
           }
          ],
          "histogram": [
           {
            "marker": {
             "pattern": {
              "fillmode": "overlay",
              "size": 10,
              "solidity": 0.2
             }
            },
            "type": "histogram"
           }
          ],
          "histogram2d": [
           {
            "colorbar": {
             "outlinewidth": 0,
             "ticks": ""
            },
            "colorscale": [
             [
              0,
              "#0d0887"
             ],
             [
              0.1111111111111111,
              "#46039f"
             ],
             [
              0.2222222222222222,
              "#7201a8"
             ],
             [
              0.3333333333333333,
              "#9c179e"
             ],
             [
              0.4444444444444444,
              "#bd3786"
             ],
             [
              0.5555555555555556,
              "#d8576b"
             ],
             [
              0.6666666666666666,
              "#ed7953"
             ],
             [
              0.7777777777777778,
              "#fb9f3a"
             ],
             [
              0.8888888888888888,
              "#fdca26"
             ],
             [
              1,
              "#f0f921"
             ]
            ],
            "type": "histogram2d"
           }
          ],
          "histogram2dcontour": [
           {
            "colorbar": {
             "outlinewidth": 0,
             "ticks": ""
            },
            "colorscale": [
             [
              0,
              "#0d0887"
             ],
             [
              0.1111111111111111,
              "#46039f"
             ],
             [
              0.2222222222222222,
              "#7201a8"
             ],
             [
              0.3333333333333333,
              "#9c179e"
             ],
             [
              0.4444444444444444,
              "#bd3786"
             ],
             [
              0.5555555555555556,
              "#d8576b"
             ],
             [
              0.6666666666666666,
              "#ed7953"
             ],
             [
              0.7777777777777778,
              "#fb9f3a"
             ],
             [
              0.8888888888888888,
              "#fdca26"
             ],
             [
              1,
              "#f0f921"
             ]
            ],
            "type": "histogram2dcontour"
           }
          ],
          "mesh3d": [
           {
            "colorbar": {
             "outlinewidth": 0,
             "ticks": ""
            },
            "type": "mesh3d"
           }
          ],
          "parcoords": [
           {
            "line": {
             "colorbar": {
              "outlinewidth": 0,
              "ticks": ""
             }
            },
            "type": "parcoords"
           }
          ],
          "pie": [
           {
            "automargin": true,
            "type": "pie"
           }
          ],
          "scatter": [
           {
            "fillpattern": {
             "fillmode": "overlay",
             "size": 10,
             "solidity": 0.2
            },
            "type": "scatter"
           }
          ],
          "scatter3d": [
           {
            "line": {
             "colorbar": {
              "outlinewidth": 0,
              "ticks": ""
             }
            },
            "marker": {
             "colorbar": {
              "outlinewidth": 0,
              "ticks": ""
             }
            },
            "type": "scatter3d"
           }
          ],
          "scattercarpet": [
           {
            "marker": {
             "colorbar": {
              "outlinewidth": 0,
              "ticks": ""
             }
            },
            "type": "scattercarpet"
           }
          ],
          "scattergeo": [
           {
            "marker": {
             "colorbar": {
              "outlinewidth": 0,
              "ticks": ""
             }
            },
            "type": "scattergeo"
           }
          ],
          "scattergl": [
           {
            "marker": {
             "colorbar": {
              "outlinewidth": 0,
              "ticks": ""
             }
            },
            "type": "scattergl"
           }
          ],
          "scattermapbox": [
           {
            "marker": {
             "colorbar": {
              "outlinewidth": 0,
              "ticks": ""
             }
            },
            "type": "scattermapbox"
           }
          ],
          "scatterpolar": [
           {
            "marker": {
             "colorbar": {
              "outlinewidth": 0,
              "ticks": ""
             }
            },
            "type": "scatterpolar"
           }
          ],
          "scatterpolargl": [
           {
            "marker": {
             "colorbar": {
              "outlinewidth": 0,
              "ticks": ""
             }
            },
            "type": "scatterpolargl"
           }
          ],
          "scatterternary": [
           {
            "marker": {
             "colorbar": {
              "outlinewidth": 0,
              "ticks": ""
             }
            },
            "type": "scatterternary"
           }
          ],
          "surface": [
           {
            "colorbar": {
             "outlinewidth": 0,
             "ticks": ""
            },
            "colorscale": [
             [
              0,
              "#0d0887"
             ],
             [
              0.1111111111111111,
              "#46039f"
             ],
             [
              0.2222222222222222,
              "#7201a8"
             ],
             [
              0.3333333333333333,
              "#9c179e"
             ],
             [
              0.4444444444444444,
              "#bd3786"
             ],
             [
              0.5555555555555556,
              "#d8576b"
             ],
             [
              0.6666666666666666,
              "#ed7953"
             ],
             [
              0.7777777777777778,
              "#fb9f3a"
             ],
             [
              0.8888888888888888,
              "#fdca26"
             ],
             [
              1,
              "#f0f921"
             ]
            ],
            "type": "surface"
           }
          ],
          "table": [
           {
            "cells": {
             "fill": {
              "color": "#EBF0F8"
             },
             "line": {
              "color": "white"
             }
            },
            "header": {
             "fill": {
              "color": "#C8D4E3"
             },
             "line": {
              "color": "white"
             }
            },
            "type": "table"
           }
          ]
         },
         "layout": {
          "annotationdefaults": {
           "arrowcolor": "#2a3f5f",
           "arrowhead": 0,
           "arrowwidth": 1
          },
          "autotypenumbers": "strict",
          "coloraxis": {
           "colorbar": {
            "outlinewidth": 0,
            "ticks": ""
           }
          },
          "colorscale": {
           "diverging": [
            [
             0,
             "#8e0152"
            ],
            [
             0.1,
             "#c51b7d"
            ],
            [
             0.2,
             "#de77ae"
            ],
            [
             0.3,
             "#f1b6da"
            ],
            [
             0.4,
             "#fde0ef"
            ],
            [
             0.5,
             "#f7f7f7"
            ],
            [
             0.6,
             "#e6f5d0"
            ],
            [
             0.7,
             "#b8e186"
            ],
            [
             0.8,
             "#7fbc41"
            ],
            [
             0.9,
             "#4d9221"
            ],
            [
             1,
             "#276419"
            ]
           ],
           "sequential": [
            [
             0,
             "#0d0887"
            ],
            [
             0.1111111111111111,
             "#46039f"
            ],
            [
             0.2222222222222222,
             "#7201a8"
            ],
            [
             0.3333333333333333,
             "#9c179e"
            ],
            [
             0.4444444444444444,
             "#bd3786"
            ],
            [
             0.5555555555555556,
             "#d8576b"
            ],
            [
             0.6666666666666666,
             "#ed7953"
            ],
            [
             0.7777777777777778,
             "#fb9f3a"
            ],
            [
             0.8888888888888888,
             "#fdca26"
            ],
            [
             1,
             "#f0f921"
            ]
           ],
           "sequentialminus": [
            [
             0,
             "#0d0887"
            ],
            [
             0.1111111111111111,
             "#46039f"
            ],
            [
             0.2222222222222222,
             "#7201a8"
            ],
            [
             0.3333333333333333,
             "#9c179e"
            ],
            [
             0.4444444444444444,
             "#bd3786"
            ],
            [
             0.5555555555555556,
             "#d8576b"
            ],
            [
             0.6666666666666666,
             "#ed7953"
            ],
            [
             0.7777777777777778,
             "#fb9f3a"
            ],
            [
             0.8888888888888888,
             "#fdca26"
            ],
            [
             1,
             "#f0f921"
            ]
           ]
          },
          "colorway": [
           "#636efa",
           "#EF553B",
           "#00cc96",
           "#ab63fa",
           "#FFA15A",
           "#19d3f3",
           "#FF6692",
           "#B6E880",
           "#FF97FF",
           "#FECB52"
          ],
          "font": {
           "color": "#2a3f5f"
          },
          "geo": {
           "bgcolor": "white",
           "lakecolor": "white",
           "landcolor": "#E5ECF6",
           "showlakes": true,
           "showland": true,
           "subunitcolor": "white"
          },
          "hoverlabel": {
           "align": "left"
          },
          "hovermode": "closest",
          "mapbox": {
           "style": "light"
          },
          "paper_bgcolor": "white",
          "plot_bgcolor": "#E5ECF6",
          "polar": {
           "angularaxis": {
            "gridcolor": "white",
            "linecolor": "white",
            "ticks": ""
           },
           "bgcolor": "#E5ECF6",
           "radialaxis": {
            "gridcolor": "white",
            "linecolor": "white",
            "ticks": ""
           }
          },
          "scene": {
           "xaxis": {
            "backgroundcolor": "#E5ECF6",
            "gridcolor": "white",
            "gridwidth": 2,
            "linecolor": "white",
            "showbackground": true,
            "ticks": "",
            "zerolinecolor": "white"
           },
           "yaxis": {
            "backgroundcolor": "#E5ECF6",
            "gridcolor": "white",
            "gridwidth": 2,
            "linecolor": "white",
            "showbackground": true,
            "ticks": "",
            "zerolinecolor": "white"
           },
           "zaxis": {
            "backgroundcolor": "#E5ECF6",
            "gridcolor": "white",
            "gridwidth": 2,
            "linecolor": "white",
            "showbackground": true,
            "ticks": "",
            "zerolinecolor": "white"
           }
          },
          "shapedefaults": {
           "line": {
            "color": "#2a3f5f"
           }
          },
          "ternary": {
           "aaxis": {
            "gridcolor": "white",
            "linecolor": "white",
            "ticks": ""
           },
           "baxis": {
            "gridcolor": "white",
            "linecolor": "white",
            "ticks": ""
           },
           "bgcolor": "#E5ECF6",
           "caxis": {
            "gridcolor": "white",
            "linecolor": "white",
            "ticks": ""
           }
          },
          "title": {
           "x": 0.05
          },
          "xaxis": {
           "automargin": true,
           "gridcolor": "white",
           "linecolor": "white",
           "ticks": "",
           "title": {
            "standoff": 15
           },
           "zerolinecolor": "white",
           "zerolinewidth": 2
          },
          "yaxis": {
           "automargin": true,
           "gridcolor": "white",
           "linecolor": "white",
           "ticks": "",
           "title": {
            "standoff": 15
           },
           "zerolinecolor": "white",
           "zerolinewidth": 2
          }
         }
        },
        "title": {
         "text": "Predicted: back, Actual: right"
        },
        "xaxis": {
         "anchor": "y",
         "constrain": "domain",
         "domain": [
          0,
          1
         ],
         "scaleanchor": "y"
        },
        "yaxis": {
         "anchor": "x",
         "autorange": "reversed",
         "constrain": "domain",
         "domain": [
          0,
          1
         ]
        }
       }
      }
     },
     "metadata": {},
     "output_type": "display_data"
    }
   ],
   "source": [
    "values = {\n",
    "    0: 'back',\n",
    "    1: 'left',\n",
    "    2: 'right',\n",
    "}\n",
    "\n",
    "# Get the X inputs that were misclassified\n",
    "misclassified = X_test[y_test_max != preds]\n",
    "# Get the y inputs that were misclassified\n",
    "real_labels = y_test_max[y_test_max != preds]\n",
    "pred_labels = preds[y_test_max != preds]\n",
    "# Plot the misclassified inputs\n",
    "for i in range(len(misclassified)):\n",
    "    fig = px.imshow(\n",
    "        img = misclassified[i, :, :, 0]\n",
    "    )\n",
    "    fig.update_layout(\n",
    "        title=f'Predicted: {values[pred_labels[i]]}, '\n",
    "        f'Actual: {values[real_labels[i]]}'\n",
    "    )\n",
    "    fig.show()"
   ]
  },
  {
   "cell_type": "markdown",
   "metadata": {},
   "source": [
    "---\n",
    "### Predicting for whole data\n",
    "---"
   ]
  },
  {
   "cell_type": "code",
   "execution_count": 43,
   "metadata": {},
   "outputs": [],
   "source": [
    "X = np.concatenate([X_train, X_test])\n",
    "y = np.concatenate([y_train, y_test])\n",
    "X_total = tf.convert_to_tensor(X)\n",
    "y_total = tf.convert_to_tensor(y)"
   ]
  },
  {
   "cell_type": "code",
   "execution_count": 44,
   "metadata": {},
   "outputs": [
    {
     "name": "stdout",
     "output_type": "stream",
     "text": [
      "6/6 [==============================] - 0s 5ms/step\n"
     ]
    }
   ],
   "source": [
    "y_pred = model.predict(X_total)\n",
    "y_pred_max = np.argmax(y_pred, axis=1)\n",
    "y_total_max = np.argmax(y_total, axis=1)"
   ]
  },
  {
   "cell_type": "code",
   "execution_count": 45,
   "metadata": {},
   "outputs": [
    {
     "data": {
      "application/vnd.plotly.v1+json": {
       "config": {
        "plotlyServerURL": "https://plot.ly"
       },
       "data": [
        {
         "coloraxis": "coloraxis",
         "hovertemplate": "x: %{x}<br>y: %{y}<br>color: %{z}<extra></extra>",
         "name": "0",
         "type": "heatmap",
         "x": [
          "back",
          "left",
          "right"
         ],
         "xaxis": "x",
         "y": [
          "back",
          "left",
          "right"
         ],
         "yaxis": "y",
         "z": [
          [
           38,
           9,
           16
          ],
          [
           1,
           58,
           4
          ],
          [
           9,
           3,
           51
          ]
         ]
        }
       ],
       "layout": {
        "coloraxis": {
         "colorscale": [
          [
           0,
           "rgb(247,251,255)"
          ],
          [
           0.125,
           "rgb(222,235,247)"
          ],
          [
           0.25,
           "rgb(198,219,239)"
          ],
          [
           0.375,
           "rgb(158,202,225)"
          ],
          [
           0.5,
           "rgb(107,174,214)"
          ],
          [
           0.625,
           "rgb(66,146,198)"
          ],
          [
           0.75,
           "rgb(33,113,181)"
          ],
          [
           0.875,
           "rgb(8,81,156)"
          ],
          [
           1,
           "rgb(8,48,107)"
          ]
         ]
        },
        "margin": {
         "t": 60
        },
        "template": {
         "data": {
          "bar": [
           {
            "error_x": {
             "color": "#2a3f5f"
            },
            "error_y": {
             "color": "#2a3f5f"
            },
            "marker": {
             "line": {
              "color": "#E5ECF6",
              "width": 0.5
             },
             "pattern": {
              "fillmode": "overlay",
              "size": 10,
              "solidity": 0.2
             }
            },
            "type": "bar"
           }
          ],
          "barpolar": [
           {
            "marker": {
             "line": {
              "color": "#E5ECF6",
              "width": 0.5
             },
             "pattern": {
              "fillmode": "overlay",
              "size": 10,
              "solidity": 0.2
             }
            },
            "type": "barpolar"
           }
          ],
          "carpet": [
           {
            "aaxis": {
             "endlinecolor": "#2a3f5f",
             "gridcolor": "white",
             "linecolor": "white",
             "minorgridcolor": "white",
             "startlinecolor": "#2a3f5f"
            },
            "baxis": {
             "endlinecolor": "#2a3f5f",
             "gridcolor": "white",
             "linecolor": "white",
             "minorgridcolor": "white",
             "startlinecolor": "#2a3f5f"
            },
            "type": "carpet"
           }
          ],
          "choropleth": [
           {
            "colorbar": {
             "outlinewidth": 0,
             "ticks": ""
            },
            "type": "choropleth"
           }
          ],
          "contour": [
           {
            "colorbar": {
             "outlinewidth": 0,
             "ticks": ""
            },
            "colorscale": [
             [
              0,
              "#0d0887"
             ],
             [
              0.1111111111111111,
              "#46039f"
             ],
             [
              0.2222222222222222,
              "#7201a8"
             ],
             [
              0.3333333333333333,
              "#9c179e"
             ],
             [
              0.4444444444444444,
              "#bd3786"
             ],
             [
              0.5555555555555556,
              "#d8576b"
             ],
             [
              0.6666666666666666,
              "#ed7953"
             ],
             [
              0.7777777777777778,
              "#fb9f3a"
             ],
             [
              0.8888888888888888,
              "#fdca26"
             ],
             [
              1,
              "#f0f921"
             ]
            ],
            "type": "contour"
           }
          ],
          "contourcarpet": [
           {
            "colorbar": {
             "outlinewidth": 0,
             "ticks": ""
            },
            "type": "contourcarpet"
           }
          ],
          "heatmap": [
           {
            "colorbar": {
             "outlinewidth": 0,
             "ticks": ""
            },
            "colorscale": [
             [
              0,
              "#0d0887"
             ],
             [
              0.1111111111111111,
              "#46039f"
             ],
             [
              0.2222222222222222,
              "#7201a8"
             ],
             [
              0.3333333333333333,
              "#9c179e"
             ],
             [
              0.4444444444444444,
              "#bd3786"
             ],
             [
              0.5555555555555556,
              "#d8576b"
             ],
             [
              0.6666666666666666,
              "#ed7953"
             ],
             [
              0.7777777777777778,
              "#fb9f3a"
             ],
             [
              0.8888888888888888,
              "#fdca26"
             ],
             [
              1,
              "#f0f921"
             ]
            ],
            "type": "heatmap"
           }
          ],
          "heatmapgl": [
           {
            "colorbar": {
             "outlinewidth": 0,
             "ticks": ""
            },
            "colorscale": [
             [
              0,
              "#0d0887"
             ],
             [
              0.1111111111111111,
              "#46039f"
             ],
             [
              0.2222222222222222,
              "#7201a8"
             ],
             [
              0.3333333333333333,
              "#9c179e"
             ],
             [
              0.4444444444444444,
              "#bd3786"
             ],
             [
              0.5555555555555556,
              "#d8576b"
             ],
             [
              0.6666666666666666,
              "#ed7953"
             ],
             [
              0.7777777777777778,
              "#fb9f3a"
             ],
             [
              0.8888888888888888,
              "#fdca26"
             ],
             [
              1,
              "#f0f921"
             ]
            ],
            "type": "heatmapgl"
           }
          ],
          "histogram": [
           {
            "marker": {
             "pattern": {
              "fillmode": "overlay",
              "size": 10,
              "solidity": 0.2
             }
            },
            "type": "histogram"
           }
          ],
          "histogram2d": [
           {
            "colorbar": {
             "outlinewidth": 0,
             "ticks": ""
            },
            "colorscale": [
             [
              0,
              "#0d0887"
             ],
             [
              0.1111111111111111,
              "#46039f"
             ],
             [
              0.2222222222222222,
              "#7201a8"
             ],
             [
              0.3333333333333333,
              "#9c179e"
             ],
             [
              0.4444444444444444,
              "#bd3786"
             ],
             [
              0.5555555555555556,
              "#d8576b"
             ],
             [
              0.6666666666666666,
              "#ed7953"
             ],
             [
              0.7777777777777778,
              "#fb9f3a"
             ],
             [
              0.8888888888888888,
              "#fdca26"
             ],
             [
              1,
              "#f0f921"
             ]
            ],
            "type": "histogram2d"
           }
          ],
          "histogram2dcontour": [
           {
            "colorbar": {
             "outlinewidth": 0,
             "ticks": ""
            },
            "colorscale": [
             [
              0,
              "#0d0887"
             ],
             [
              0.1111111111111111,
              "#46039f"
             ],
             [
              0.2222222222222222,
              "#7201a8"
             ],
             [
              0.3333333333333333,
              "#9c179e"
             ],
             [
              0.4444444444444444,
              "#bd3786"
             ],
             [
              0.5555555555555556,
              "#d8576b"
             ],
             [
              0.6666666666666666,
              "#ed7953"
             ],
             [
              0.7777777777777778,
              "#fb9f3a"
             ],
             [
              0.8888888888888888,
              "#fdca26"
             ],
             [
              1,
              "#f0f921"
             ]
            ],
            "type": "histogram2dcontour"
           }
          ],
          "mesh3d": [
           {
            "colorbar": {
             "outlinewidth": 0,
             "ticks": ""
            },
            "type": "mesh3d"
           }
          ],
          "parcoords": [
           {
            "line": {
             "colorbar": {
              "outlinewidth": 0,
              "ticks": ""
             }
            },
            "type": "parcoords"
           }
          ],
          "pie": [
           {
            "automargin": true,
            "type": "pie"
           }
          ],
          "scatter": [
           {
            "fillpattern": {
             "fillmode": "overlay",
             "size": 10,
             "solidity": 0.2
            },
            "type": "scatter"
           }
          ],
          "scatter3d": [
           {
            "line": {
             "colorbar": {
              "outlinewidth": 0,
              "ticks": ""
             }
            },
            "marker": {
             "colorbar": {
              "outlinewidth": 0,
              "ticks": ""
             }
            },
            "type": "scatter3d"
           }
          ],
          "scattercarpet": [
           {
            "marker": {
             "colorbar": {
              "outlinewidth": 0,
              "ticks": ""
             }
            },
            "type": "scattercarpet"
           }
          ],
          "scattergeo": [
           {
            "marker": {
             "colorbar": {
              "outlinewidth": 0,
              "ticks": ""
             }
            },
            "type": "scattergeo"
           }
          ],
          "scattergl": [
           {
            "marker": {
             "colorbar": {
              "outlinewidth": 0,
              "ticks": ""
             }
            },
            "type": "scattergl"
           }
          ],
          "scattermapbox": [
           {
            "marker": {
             "colorbar": {
              "outlinewidth": 0,
              "ticks": ""
             }
            },
            "type": "scattermapbox"
           }
          ],
          "scatterpolar": [
           {
            "marker": {
             "colorbar": {
              "outlinewidth": 0,
              "ticks": ""
             }
            },
            "type": "scatterpolar"
           }
          ],
          "scatterpolargl": [
           {
            "marker": {
             "colorbar": {
              "outlinewidth": 0,
              "ticks": ""
             }
            },
            "type": "scatterpolargl"
           }
          ],
          "scatterternary": [
           {
            "marker": {
             "colorbar": {
              "outlinewidth": 0,
              "ticks": ""
             }
            },
            "type": "scatterternary"
           }
          ],
          "surface": [
           {
            "colorbar": {
             "outlinewidth": 0,
             "ticks": ""
            },
            "colorscale": [
             [
              0,
              "#0d0887"
             ],
             [
              0.1111111111111111,
              "#46039f"
             ],
             [
              0.2222222222222222,
              "#7201a8"
             ],
             [
              0.3333333333333333,
              "#9c179e"
             ],
             [
              0.4444444444444444,
              "#bd3786"
             ],
             [
              0.5555555555555556,
              "#d8576b"
             ],
             [
              0.6666666666666666,
              "#ed7953"
             ],
             [
              0.7777777777777778,
              "#fb9f3a"
             ],
             [
              0.8888888888888888,
              "#fdca26"
             ],
             [
              1,
              "#f0f921"
             ]
            ],
            "type": "surface"
           }
          ],
          "table": [
           {
            "cells": {
             "fill": {
              "color": "#EBF0F8"
             },
             "line": {
              "color": "white"
             }
            },
            "header": {
             "fill": {
              "color": "#C8D4E3"
             },
             "line": {
              "color": "white"
             }
            },
            "type": "table"
           }
          ]
         },
         "layout": {
          "annotationdefaults": {
           "arrowcolor": "#2a3f5f",
           "arrowhead": 0,
           "arrowwidth": 1
          },
          "autotypenumbers": "strict",
          "coloraxis": {
           "colorbar": {
            "outlinewidth": 0,
            "ticks": ""
           }
          },
          "colorscale": {
           "diverging": [
            [
             0,
             "#8e0152"
            ],
            [
             0.1,
             "#c51b7d"
            ],
            [
             0.2,
             "#de77ae"
            ],
            [
             0.3,
             "#f1b6da"
            ],
            [
             0.4,
             "#fde0ef"
            ],
            [
             0.5,
             "#f7f7f7"
            ],
            [
             0.6,
             "#e6f5d0"
            ],
            [
             0.7,
             "#b8e186"
            ],
            [
             0.8,
             "#7fbc41"
            ],
            [
             0.9,
             "#4d9221"
            ],
            [
             1,
             "#276419"
            ]
           ],
           "sequential": [
            [
             0,
             "#0d0887"
            ],
            [
             0.1111111111111111,
             "#46039f"
            ],
            [
             0.2222222222222222,
             "#7201a8"
            ],
            [
             0.3333333333333333,
             "#9c179e"
            ],
            [
             0.4444444444444444,
             "#bd3786"
            ],
            [
             0.5555555555555556,
             "#d8576b"
            ],
            [
             0.6666666666666666,
             "#ed7953"
            ],
            [
             0.7777777777777778,
             "#fb9f3a"
            ],
            [
             0.8888888888888888,
             "#fdca26"
            ],
            [
             1,
             "#f0f921"
            ]
           ],
           "sequentialminus": [
            [
             0,
             "#0d0887"
            ],
            [
             0.1111111111111111,
             "#46039f"
            ],
            [
             0.2222222222222222,
             "#7201a8"
            ],
            [
             0.3333333333333333,
             "#9c179e"
            ],
            [
             0.4444444444444444,
             "#bd3786"
            ],
            [
             0.5555555555555556,
             "#d8576b"
            ],
            [
             0.6666666666666666,
             "#ed7953"
            ],
            [
             0.7777777777777778,
             "#fb9f3a"
            ],
            [
             0.8888888888888888,
             "#fdca26"
            ],
            [
             1,
             "#f0f921"
            ]
           ]
          },
          "colorway": [
           "#636efa",
           "#EF553B",
           "#00cc96",
           "#ab63fa",
           "#FFA15A",
           "#19d3f3",
           "#FF6692",
           "#B6E880",
           "#FF97FF",
           "#FECB52"
          ],
          "font": {
           "color": "#2a3f5f"
          },
          "geo": {
           "bgcolor": "white",
           "lakecolor": "white",
           "landcolor": "#E5ECF6",
           "showlakes": true,
           "showland": true,
           "subunitcolor": "white"
          },
          "hoverlabel": {
           "align": "left"
          },
          "hovermode": "closest",
          "mapbox": {
           "style": "light"
          },
          "paper_bgcolor": "white",
          "plot_bgcolor": "#E5ECF6",
          "polar": {
           "angularaxis": {
            "gridcolor": "white",
            "linecolor": "white",
            "ticks": ""
           },
           "bgcolor": "#E5ECF6",
           "radialaxis": {
            "gridcolor": "white",
            "linecolor": "white",
            "ticks": ""
           }
          },
          "scene": {
           "xaxis": {
            "backgroundcolor": "#E5ECF6",
            "gridcolor": "white",
            "gridwidth": 2,
            "linecolor": "white",
            "showbackground": true,
            "ticks": "",
            "zerolinecolor": "white"
           },
           "yaxis": {
            "backgroundcolor": "#E5ECF6",
            "gridcolor": "white",
            "gridwidth": 2,
            "linecolor": "white",
            "showbackground": true,
            "ticks": "",
            "zerolinecolor": "white"
           },
           "zaxis": {
            "backgroundcolor": "#E5ECF6",
            "gridcolor": "white",
            "gridwidth": 2,
            "linecolor": "white",
            "showbackground": true,
            "ticks": "",
            "zerolinecolor": "white"
           }
          },
          "shapedefaults": {
           "line": {
            "color": "#2a3f5f"
           }
          },
          "ternary": {
           "aaxis": {
            "gridcolor": "white",
            "linecolor": "white",
            "ticks": ""
           },
           "baxis": {
            "gridcolor": "white",
            "linecolor": "white",
            "ticks": ""
           },
           "bgcolor": "#E5ECF6",
           "caxis": {
            "gridcolor": "white",
            "linecolor": "white",
            "ticks": ""
           }
          },
          "title": {
           "x": 0.05
          },
          "xaxis": {
           "automargin": true,
           "gridcolor": "white",
           "linecolor": "white",
           "ticks": "",
           "title": {
            "standoff": 15
           },
           "zerolinecolor": "white",
           "zerolinewidth": 2
          },
          "yaxis": {
           "automargin": true,
           "gridcolor": "white",
           "linecolor": "white",
           "ticks": "",
           "title": {
            "standoff": 15
           },
           "zerolinecolor": "white",
           "zerolinewidth": 2
          }
         }
        },
        "title": {
         "text": "Confusion Matrix for CNN"
        },
        "xaxis": {
         "anchor": "y",
         "constrain": "domain",
         "domain": [
          0,
          1
         ],
         "scaleanchor": "y",
         "title": {
          "text": "Predicted"
         }
        },
        "yaxis": {
         "anchor": "x",
         "autorange": "reversed",
         "constrain": "domain",
         "domain": [
          0,
          1
         ],
         "title": {
          "text": "Actual"
         }
        }
       }
      }
     },
     "metadata": {},
     "output_type": "display_data"
    }
   ],
   "source": [
    "# Create a confusion matrix\n",
    "confusion_matrix = tf.math.confusion_matrix(labels=y_total_max, predictions=y_pred_max).numpy()\n",
    "# Create a dataframe from the confusion matrix\n",
    "confusion_matrix = pd.DataFrame(confusion_matrix, index=['back', 'left', 'right'], columns=['back', 'left', 'right'])\n",
    "# Plot the confusion matrix\n",
    "fig = px.imshow(confusion_matrix, color_continuous_scale='Blues')\n",
    "fig.update_layout(\n",
    "    title='Confusion Matrix for CNN',\n",
    "    xaxis_title='Predicted',\n",
    "    yaxis_title='Actual',\n",
    ")"
   ]
  },
  {
   "cell_type": "code",
   "execution_count": 46,
   "metadata": {},
   "outputs": [
    {
     "name": "stdout",
     "output_type": "stream",
     "text": [
      "Accuracy: 0.7777777777777778\n"
     ]
    }
   ],
   "source": [
    "print(f'Accuracy: {np.sum(y_pred_max == y_total_max) / len(y_total_max)}')"
   ]
  },
  {
   "cell_type": "code",
   "execution_count": null,
   "metadata": {},
   "outputs": [],
   "source": [
    "model.save_weights('./cross-validation/best_model')\n",
    "model.save('./posture_classifier_cv.keras')"
   ]
  }
 ],
 "metadata": {
  "kernelspec": {
   "display_name": "Python 3",
   "language": "python",
   "name": "python3"
  },
  "language_info": {
   "codemirror_mode": {
    "name": "ipython",
    "version": 3
   },
   "file_extension": ".py",
   "mimetype": "text/x-python",
   "name": "python",
   "nbconvert_exporter": "python",
   "pygments_lexer": "ipython3",
   "version": "3.11.1"
  }
 },
 "nbformat": 4,
 "nbformat_minor": 2
}
