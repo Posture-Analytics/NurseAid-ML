{
 "cells": [
  {
   "cell_type": "code",
   "execution_count": 30,
   "metadata": {},
   "outputs": [],
   "source": [
    "import json\n",
    "import cv2\n",
    "import keras_tuner as kt\n",
    "import numpy as np\n",
    "import pandas as pd\n",
    "import plotly.express as px\n",
    "import tensorflow as tf\n",
    "from sklearn.model_selection import KFold\n",
    "from sklearn.model_selection import train_test_split\n",
    "from tensorflow import keras\n",
    "from tensorflow.keras import layers\n",
    "\n",
    "from keras.models import Sequential\n",
    "from keras.layers import Flatten, Dense\n",
    "from keras.applications import VGG16\n",
    "from tensorflow.keras.applications.vgg16 import VGG16\n",
    "from tensorflow.keras.applications.vgg16 import preprocess_input"
   ]
  },
  {
   "cell_type": "markdown",
   "metadata": {},
   "source": [
    "---\n",
    "### Data Reading\n",
    "---"
   ]
  },
  {
   "cell_type": "code",
   "execution_count": 15,
   "metadata": {},
   "outputs": [],
   "source": [
    "data = np.load('../data/training_data.npz', allow_pickle=True)\n",
    "\n",
    "train_set = data['train_set']\n",
    "test_set = data['test_set']\n",
    "val_set = data['val_set']"
   ]
  },
  {
   "cell_type": "code",
   "execution_count": 16,
   "metadata": {},
   "outputs": [],
   "source": [
    "def resize_image(image, target_size):\n",
    "    # Convert the image to 3 channels if it's not\n",
    "    if len(image.shape) == 2:\n",
    "        image = np.stack((image,)*3, axis=-1)\n",
    "    # Resize the image\n",
    "    resized_image = cv2.resize(image, target_size)\n",
    "    return resized_image"
   ]
  },
  {
   "cell_type": "code",
   "execution_count": 17,
   "metadata": {},
   "outputs": [],
   "source": [
    "def create_dataframe(set):\n",
    "    df_ = pd.DataFrame([], columns=['x', 'y'])\t\n",
    "    for i in range(len(set)):\n",
    "        df_ = pd.concat([df_, pd.DataFrame(\n",
    "            {'reading': [resize_image(set[i]['x'], (32, 32))],\n",
    "            'posture': set[i]['y']}\n",
    "        )])\n",
    "    return df_"
   ]
  },
  {
   "cell_type": "code",
   "execution_count": 18,
   "metadata": {},
   "outputs": [
    {
     "name": "stdout",
     "output_type": "stream",
     "text": [
      "(108, 4) (54, 4) (27, 4)\n"
     ]
    }
   ],
   "source": [
    "df_train = create_dataframe(train_set)\n",
    "df_test = create_dataframe(test_set)\n",
    "df_val = create_dataframe(val_set)\n",
    "\n",
    "print(df_train.shape, df_test.shape, df_val.shape)"
   ]
  },
  {
   "cell_type": "code",
   "execution_count": 19,
   "metadata": {},
   "outputs": [],
   "source": [
    "X_train = df_train['reading']\n",
    "y_train = df_train['posture']\n",
    "X_val = df_val['reading']\n",
    "y_val = df_val['posture']\n",
    "X_test = df_test['reading']\n",
    "y_test = df_test['posture']\n",
    "# One-hot encode the labels\n",
    "y_train = pd.get_dummies(y_train).values\n",
    "y_val = pd.get_dummies(y_val).values\n",
    "y_test = pd.get_dummies(y_test).values"
   ]
  },
  {
   "cell_type": "code",
   "execution_count": 20,
   "metadata": {},
   "outputs": [],
   "source": [
    "X_train = np.array([np.array(x) for x in X_train])\n",
    "# X_train = np.expand_dims(X_train, -1)\n",
    "X_val = np.array([np.array(x) for x in X_val])\n",
    "# X_val = np.expand_dims(X_val, -1)\n",
    "X_test = np.array([np.array(x) for x in X_test])\n",
    "# X_test = np.expand_dims(X_test, -1)\n",
    "y_train = np.array([np.array(x) for x in y_train])\n",
    "y_test = np.array([np.array(x) for x in y_test])\n",
    "y_val = np.array([np.array(x) for x in y_val])\n",
    "# Convert the data to tensors\n",
    "X_train = tf.convert_to_tensor(X_train)\n",
    "X_val = tf.convert_to_tensor(X_val)\n",
    "X_test = tf.convert_to_tensor(X_test)\n",
    "y_train = tf.convert_to_tensor(y_train)\n",
    "y_val = tf.convert_to_tensor(y_val)\n",
    "y_test = tf.convert_to_tensor(y_test)"
   ]
  },
  {
   "cell_type": "markdown",
   "metadata": {},
   "source": [
    "---\n",
    "### Model Definition\n",
    "---"
   ]
  },
  {
   "cell_type": "code",
   "execution_count": 37,
   "metadata": {},
   "outputs": [],
   "source": [
    "base_model = VGG16(\n",
    "    include_top=False,\n",
    "    weights='imagenet',\n",
    "    input_shape=(32, 32, 3)\n",
    ")\n",
    "\n",
    "model = Sequential()\n",
    "model.add(base_model)\n",
    "model.add(Flatten())\n",
    "model.add(Dense(512, activation='relu'))\n",
    "model.add(Dense(3, activation='softmax'))\n",
    "\n",
    "base_model.trainable = False"
   ]
  },
  {
   "cell_type": "code",
   "execution_count": 38,
   "metadata": {},
   "outputs": [],
   "source": [
    "early_stopping = keras.callbacks.EarlyStopping(\n",
    "    patience=20,\n",
    "    min_delta=0.001,\n",
    "    restore_best_weights=True,\n",
    ")\n",
    "reduce_lr = keras.callbacks.ReduceLROnPlateau(\n",
    "    patience=5\n",
    ")"
   ]
  },
  {
   "cell_type": "code",
   "execution_count": 39,
   "metadata": {},
   "outputs": [],
   "source": [
    "model.compile(\n",
    "    optimizer=keras.optimizers.Adam(1e-3),\n",
    "    loss=\"categorical_crossentropy\",\n",
    "    metrics=[\"accuracy\"],\n",
    ")"
   ]
  },
  {
   "cell_type": "markdown",
   "metadata": {},
   "source": [
    "---\n",
    "### Model Training\n",
    "---"
   ]
  },
  {
   "cell_type": "code",
   "execution_count": 40,
   "metadata": {},
   "outputs": [
    {
     "name": "stdout",
     "output_type": "stream",
     "text": [
      "Epoch 1/100\n",
      "4/4 [==============================] - 2s 328ms/step - loss: 1.6482 - accuracy: 0.3426 - val_loss: 2.5882 - val_accuracy: 0.4074 - lr: 0.0010\n",
      "Epoch 2/100\n",
      "4/4 [==============================] - 1s 211ms/step - loss: 0.9395 - accuracy: 0.6389 - val_loss: 1.6874 - val_accuracy: 0.5926 - lr: 0.0010\n",
      "Epoch 3/100\n",
      "4/4 [==============================] - 1s 228ms/step - loss: 0.6333 - accuracy: 0.7500 - val_loss: 1.9319 - val_accuracy: 0.4444 - lr: 0.0010\n",
      "Epoch 4/100\n",
      "4/4 [==============================] - 1s 239ms/step - loss: 0.4426 - accuracy: 0.8333 - val_loss: 2.0978 - val_accuracy: 0.7407 - lr: 0.0010\n",
      "Epoch 5/100\n",
      "4/4 [==============================] - 1s 204ms/step - loss: 0.4047 - accuracy: 0.7963 - val_loss: 2.1068 - val_accuracy: 0.4815 - lr: 0.0010\n",
      "Epoch 6/100\n",
      "4/4 [==============================] - 1s 201ms/step - loss: 0.3202 - accuracy: 0.8889 - val_loss: 2.0643 - val_accuracy: 0.3704 - lr: 0.0010\n",
      "Epoch 7/100\n",
      "4/4 [==============================] - 1s 202ms/step - loss: 0.2369 - accuracy: 0.9167 - val_loss: 1.8651 - val_accuracy: 0.6667 - lr: 0.0010\n",
      "Epoch 8/100\n",
      "4/4 [==============================] - 1s 219ms/step - loss: 0.2265 - accuracy: 0.9259 - val_loss: 1.8785 - val_accuracy: 0.7037 - lr: 1.0000e-04\n",
      "Epoch 9/100\n",
      "4/4 [==============================] - 1s 211ms/step - loss: 0.2005 - accuracy: 0.9352 - val_loss: 1.8957 - val_accuracy: 0.5556 - lr: 1.0000e-04\n",
      "Epoch 10/100\n",
      "4/4 [==============================] - 1s 282ms/step - loss: 0.1720 - accuracy: 0.9815 - val_loss: 1.9447 - val_accuracy: 0.4815 - lr: 1.0000e-04\n",
      "Epoch 11/100\n",
      "4/4 [==============================] - 1s 194ms/step - loss: 0.1698 - accuracy: 0.9444 - val_loss: 1.9928 - val_accuracy: 0.4815 - lr: 1.0000e-04\n",
      "Epoch 12/100\n",
      "4/4 [==============================] - 1s 196ms/step - loss: 0.1718 - accuracy: 0.9444 - val_loss: 1.9989 - val_accuracy: 0.4815 - lr: 1.0000e-04\n",
      "Epoch 13/100\n",
      "4/4 [==============================] - 1s 215ms/step - loss: 0.1677 - accuracy: 0.9444 - val_loss: 1.9951 - val_accuracy: 0.4815 - lr: 1.0000e-05\n",
      "Epoch 14/100\n",
      "4/4 [==============================] - 1s 348ms/step - loss: 0.1666 - accuracy: 0.9444 - val_loss: 1.9880 - val_accuracy: 0.4815 - lr: 1.0000e-05\n",
      "Epoch 15/100\n",
      "4/4 [==============================] - 1s 234ms/step - loss: 0.1648 - accuracy: 0.9444 - val_loss: 1.9829 - val_accuracy: 0.4815 - lr: 1.0000e-05\n",
      "Epoch 16/100\n",
      "4/4 [==============================] - 1s 268ms/step - loss: 0.1633 - accuracy: 0.9444 - val_loss: 1.9760 - val_accuracy: 0.4815 - lr: 1.0000e-05\n",
      "Epoch 17/100\n",
      "4/4 [==============================] - 1s 341ms/step - loss: 0.1617 - accuracy: 0.9444 - val_loss: 1.9700 - val_accuracy: 0.4815 - lr: 1.0000e-05\n",
      "Epoch 18/100\n",
      "4/4 [==============================] - 1s 254ms/step - loss: 0.1609 - accuracy: 0.9444 - val_loss: 1.9694 - val_accuracy: 0.4815 - lr: 1.0000e-06\n",
      "Epoch 19/100\n",
      "4/4 [==============================] - 1s 243ms/step - loss: 0.1608 - accuracy: 0.9444 - val_loss: 1.9688 - val_accuracy: 0.4815 - lr: 1.0000e-06\n",
      "Epoch 20/100\n",
      "4/4 [==============================] - 1s 223ms/step - loss: 0.1607 - accuracy: 0.9444 - val_loss: 1.9680 - val_accuracy: 0.4815 - lr: 1.0000e-06\n",
      "Epoch 21/100\n",
      "4/4 [==============================] - 1s 282ms/step - loss: 0.1606 - accuracy: 0.9444 - val_loss: 1.9676 - val_accuracy: 0.4815 - lr: 1.0000e-06\n",
      "Epoch 22/100\n",
      "4/4 [==============================] - 1s 224ms/step - loss: 0.1605 - accuracy: 0.9444 - val_loss: 1.9673 - val_accuracy: 0.4815 - lr: 1.0000e-06\n"
     ]
    }
   ],
   "source": [
    "hist = model.fit(\n",
    "    X_train, y_train, validation_data=(X_val, y_val), batch_size=32, epochs=100, callbacks=[early_stopping, reduce_lr]\n",
    ")"
   ]
  },
  {
   "cell_type": "code",
   "execution_count": 41,
   "metadata": {},
   "outputs": [
    {
     "data": {
      "image/png": "[encoded data removed]"
     },
     "metadata": {},
     "output_type": "display_data"
    }
   ],
   "source": [
    "fig = px.line(\n",
    "    hist.history, y=['loss', 'val_loss'],\n",
    "    labels={'index': 'epoch', 'value': 'loss'}, \n",
    "    title='Training History'\n",
    ")\n",
    "fig.show('png')"
   ]
  },
  {
   "cell_type": "code",
   "execution_count": 42,
   "metadata": {},
   "outputs": [
    {
     "name": "stdout",
     "output_type": "stream",
     "text": [
      "2/2 [==============================] - 1s 155ms/step - loss: 1.3778 - accuracy: 0.5370\n"
     ]
    },
    {
     "data": {
      "text/plain": [
       "[1.377803087234497, 0.5370370149612427]"
      ]
     },
     "execution_count": 42,
     "metadata": {},
     "output_type": "execute_result"
    }
   ],
   "source": [
    "model.evaluate(X_test, y_test)"
   ]
  },
  {
   "cell_type": "code",
   "execution_count": 44,
   "metadata": {},
   "outputs": [
    {
     "name": "stdout",
     "output_type": "stream",
     "text": [
      "2/2 [==============================] - 0s 121ms/step\n"
     ]
    },
    {
     "data": {
      "text/plain": [
       "1    25\n",
       "0    17\n",
       "2    12\n",
       "dtype: int64"
      ]
     },
     "execution_count": 44,
     "metadata": {},
     "output_type": "execute_result"
    }
   ],
   "source": [
    "y_pred = model.predict(X_test)\n",
    "pd.Series(y_pred.argmax(axis=1)).value_counts()"
   ]
  },
  {
   "cell_type": "code",
   "execution_count": 46,
   "metadata": {},
   "outputs": [],
   "source": [
    "model.save('vgg16_no_da.keras')"
   ]
  }
 ],
 "metadata": {
  "kernelspec": {
   "display_name": "Python 3",
   "language": "python",
   "name": "python3"
  },
  "language_info": {
   "codemirror_mode": {
    "name": "ipython",
    "version": 3
   },
   "file_extension": ".py",
   "mimetype": "text/x-python",
   "name": "python",
   "nbconvert_exporter": "python",
   "pygments_lexer": "ipython3",
   "version": "3.11.1"
  }
 },
 "nbformat": 4,
 "nbformat_minor": 2
}
