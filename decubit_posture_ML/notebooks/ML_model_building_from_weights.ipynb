{
 "cells": [
  {
   "cell_type": "code",
   "execution_count": 1,
   "metadata": {},
   "outputs": [
    {
     "name": "stdout",
     "output_type": "stream",
     "text": [
      "Using TensorFlow backend\n",
      "WARNING:tensorflow:From c:\\Users\\lagua\\AppData\\Local\\Programs\\Python\\Python311\\Lib\\site-packages\\keras\\src\\losses.py:2976: The name tf.losses.sparse_softmax_cross_entropy is deprecated. Please use tf.compat.v1.losses.sparse_softmax_cross_entropy instead.\n",
      "\n"
     ]
    }
   ],
   "source": [
    "import json\n",
    "import keras_tuner as kt\n",
    "import numpy as np\n",
    "import pandas as pd\n",
    "import plotly.express as px\n",
    "import tensorflow as tf\n",
    "from sklearn.model_selection import KFold\n",
    "from sklearn.model_selection import train_test_split\n",
    "from tensorflow import keras\n",
    "from tensorflow.keras import layers"
   ]
  },
  {
   "cell_type": "code",
   "execution_count": 2,
   "metadata": {},
   "outputs": [],
   "source": [
    "data = np.load('../data/training_data.npz', allow_pickle=True)\n",
    "\n",
    "train_set = data['train_set']\n",
    "test_set = data['test_set']\n",
    "val_set = data['val_set']\n",
    "def create_dataframe(set):\n",
    "    df_ = pd.DataFrame([], columns=['x', 'y'])\t\n",
    "    for i in range(len(set)):\n",
    "        df_ = pd.concat([df_, pd.DataFrame(\n",
    "            {'reading': [set[i]['x']],\n",
    "            'posture': set[i]['y']}\n",
    "        )])\n",
    "    return df_\n",
    "df_train = create_dataframe(train_set)\n",
    "df_test = create_dataframe(test_set)\n",
    "df_val = create_dataframe(val_set)\n",
    "X_train = df_train['reading']\n",
    "y_train = df_train['posture']\n",
    "X_val = df_val['reading']\n",
    "y_val = df_val['posture']\n",
    "X_test = df_test['reading']\n",
    "y_test = df_test['posture']\n",
    "# One-hot encode the labels\n",
    "y_train = pd.get_dummies(y_train).values\n",
    "y_val = pd.get_dummies(y_val).values\n",
    "y_test = pd.get_dummies(y_test).values\n",
    "X_train = np.array([np.array(x) for x in X_train])\n",
    "X_train = np.expand_dims(X_train, -1)\n",
    "X_val = np.array([np.array(x) for x in X_val])\n",
    "X_val = np.expand_dims(X_val, -1)\n",
    "X_test = np.array([np.array(x) for x in X_test])\n",
    "X_test = np.expand_dims(X_test, -1)\n",
    "y_train = np.array([np.array(x) for x in y_train])\n",
    "y_test = np.array([np.array(x) for x in y_test])\n",
    "y_val = np.array([np.array(x) for x in y_val])\n",
    "# Convert the data to tensors\n",
    "X_train = tf.convert_to_tensor(X_train)\n",
    "X_val = tf.convert_to_tensor(X_val)\n",
    "X_test = tf.convert_to_tensor(X_test)\n",
    "y_train = tf.convert_to_tensor(y_train)\n",
    "y_val = tf.convert_to_tensor(y_val)\n",
    "y_test = tf.convert_to_tensor(y_test)"
   ]
  },
  {
   "cell_type": "code",
   "execution_count": 3,
   "metadata": {},
   "outputs": [],
   "source": [
    "def model_builder(hp):\n",
    "    hp_channels_1 = hp.Int('channels_1', min_value=4, max_value=16, step=4)\n",
    "    hp_channels_2 = hp.Int('channels_2', min_value=4, max_value=8, step=4)\n",
    "    hp_dense_1 = hp.Int('dense_1', min_value=16, max_value=64, step=16)\n",
    "    hp_dense_2 = hp.Int('dense_2', min_value=16, max_value=32, step=16)\n",
    "    model = keras.Sequential(\n",
    "        [\n",
    "            layers.Conv2D(hp_channels_1, kernel_size=(3, 3), activation='relu', padding='same', input_shape=X_train.shape[1:]),\n",
    "            layers.MaxPooling2D(pool_size=(2, 2)),\n",
    "            layers.Conv2D(hp_channels_2, kernel_size=(3, 3), activation='relu', padding='same'),\n",
    "            layers.MaxPooling2D(pool_size=(2, 2)),\n",
    "            layers.Flatten(),  # Flatten the output of the CNN\n",
    "            layers.Dense(hp_dense_1, activation='relu'),\n",
    "            layers.Dense(hp_dense_2, activation='relu'),\n",
    "            layers.Dense(3, activation='softmax'),\n",
    "        ]\n",
    "    )\n",
    "    model.compile(\n",
    "        loss='categorical_crossentropy',\n",
    "        optimizer='adam',\n",
    "        metrics=['accuracy'],\n",
    "    )\n",
    "    return model"
   ]
  },
  {
   "cell_type": "code",
   "execution_count": 4,
   "metadata": {},
   "outputs": [
    {
     "name": "stdout",
     "output_type": "stream",
     "text": [
      "WARNING:tensorflow:From c:\\Users\\lagua\\AppData\\Local\\Programs\\Python\\Python311\\Lib\\site-packages\\keras\\src\\backend.py:873: The name tf.get_default_graph is deprecated. Please use tf.compat.v1.get_default_graph instead.\n",
      "\n",
      "WARNING:tensorflow:From c:\\Users\\lagua\\AppData\\Local\\Programs\\Python\\Python311\\Lib\\site-packages\\keras\\src\\layers\\pooling\\max_pooling2d.py:161: The name tf.nn.max_pool is deprecated. Please use tf.nn.max_pool2d instead.\n",
      "\n",
      "WARNING:tensorflow:From c:\\Users\\lagua\\AppData\\Local\\Programs\\Python\\Python311\\Lib\\site-packages\\keras\\src\\optimizers\\__init__.py:309: The name tf.train.Optimizer is deprecated. Please use tf.compat.v1.train.Optimizer instead.\n",
      "\n"
     ]
    }
   ],
   "source": [
    "# Hyperparameters:\n",
    "# channels_1: 4\n",
    "# channels_2: 8\n",
    "# dense_1: 64\n",
    "# dense_2: 32\n",
    "\n",
    "hp = kt.HyperParameters()\n",
    "hp.values = {\n",
    "    'channels_1': 4,\n",
    "    'channels_2': 8,\n",
    "    'dense_1': 64,\n",
    "    'dense_2': 32,\n",
    "}\n",
    "model = model_builder(hp)"
   ]
  },
  {
   "cell_type": "code",
   "execution_count": 5,
   "metadata": {},
   "outputs": [],
   "source": [
    "model.load_weights('best_cmodel_no_DA_weights.keras')\n",
    "model.save('best_cmodel_no_DA_windows.keras')"
   ]
  }
 ],
 "metadata": {
  "kernelspec": {
   "display_name": ".venv",
   "language": "python",
   "name": "python3"
  },
  "language_info": {
   "codemirror_mode": {
    "name": "ipython",
    "version": 3
   },
   "file_extension": ".py",
   "mimetype": "text/x-python",
   "name": "python",
   "nbconvert_exporter": "python",
   "pygments_lexer": "ipython3",
   "version": "3.11.1"
  }
 },
 "nbformat": 4,
 "nbformat_minor": 2
}
