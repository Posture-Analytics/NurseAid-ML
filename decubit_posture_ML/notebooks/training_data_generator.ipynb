{
 "cells": [
  {
   "cell_type": "code",
   "execution_count": 41,
   "metadata": {},
   "outputs": [],
   "source": [
    "import numpy as np\n",
    "import pandas as pd"
   ]
  },
  {
   "cell_type": "code",
   "execution_count": 42,
   "metadata": {},
   "outputs": [
    {
     "name": "stdout",
     "output_type": "stream",
     "text": [
      "Train set size: 108\n",
      "Test set size: 54\n",
      "Validation set size: 27\n"
     ]
    }
   ],
   "source": [
    "data = np.load('../data/training_data.npz', allow_pickle=True)\n",
    "\n",
    "train_set = data['train_set']\n",
    "test_set = data['test_set']\n",
    "val_set = data['val_set']\n",
    "\n",
    "train_set_size = len(train_set)\n",
    "test_set_size = len(test_set)\n",
    "val_set_size = len(val_set)\n",
    "\n",
    "print(f\"Train set size: {train_set_size}\")\n",
    "print(f\"Test set size: {test_set_size}\")\n",
    "print(f\"Validation set size: {val_set_size}\")"
   ]
  },
  {
   "cell_type": "code",
   "execution_count": 43,
   "metadata": {},
   "outputs": [
    {
     "name": "stdout",
     "output_type": "stream",
     "text": [
      "Total size: 189\n"
     ]
    }
   ],
   "source": [
    "total_x = []\n",
    "total_y = []\n",
    "\n",
    "sets = [train_set, test_set, val_set]\n",
    "for s in sets:\n",
    "    for sample in s:\n",
    "        total_x.append(sample['x'])\n",
    "        total_y.append(sample['y'])\n",
    "\n",
    "print(f\"Total size: {len(total_x)}\")"
   ]
  },
  {
   "cell_type": "code",
   "execution_count": 44,
   "metadata": {},
   "outputs": [],
   "source": [
    "# Resample the data to get new training, test and validation sets\n",
    "new_train_set = []\n",
    "new_test_set = []\n",
    "new_val_set = []\n",
    "\n",
    "# Shuffle the data\n",
    "shuffled_indices = np.random.permutation(len(total_x))\n",
    "\n",
    "for i in range(train_set_size):\n",
    "    new_train_set.append({'x': total_x[shuffled_indices[i]], 'y': total_y[shuffled_indices[i]]})\n",
    "for i in range(train_set_size, train_set_size + test_set_size):\n",
    "    new_test_set.append({'x': total_x[shuffled_indices[i]], 'y': total_y[shuffled_indices[i]]})\n",
    "for i in range(train_set_size + test_set_size, train_set_size + test_set_size + val_set_size):\n",
    "    new_val_set.append({'x': total_x[shuffled_indices[i]], 'y': total_y[shuffled_indices[i]]})"
   ]
  },
  {
   "cell_type": "code",
   "execution_count": 45,
   "metadata": {},
   "outputs": [],
   "source": [
    "# build the new data\n",
    "new_data = {\n",
    "    'train_set': new_train_set,\n",
    "    'test_set': new_test_set,\n",
    "    'val_set': new_val_set\n",
    "}\n",
    "\n",
    "np.savez('../data/training_data_new.npz', **new_data)"
   ]
  }
 ],
 "metadata": {
  "kernelspec": {
   "display_name": ".venv",
   "language": "python",
   "name": "python3"
  },
  "language_info": {
   "codemirror_mode": {
    "name": "ipython",
    "version": 3
   },
   "file_extension": ".py",
   "mimetype": "text/x-python",
   "name": "python",
   "nbconvert_exporter": "python",
   "pygments_lexer": "ipython3",
   "version": "3.11.7"
  }
 },
 "nbformat": 4,
 "nbformat_minor": 2
}
