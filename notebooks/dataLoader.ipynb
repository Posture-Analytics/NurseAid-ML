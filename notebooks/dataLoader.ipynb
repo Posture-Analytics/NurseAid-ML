{
 "cells": [
  {
   "cell_type": "code",
   "execution_count": 38,
   "metadata": {},
   "outputs": [],
   "source": [
    "import numpy as np\n",
    "import seaborn\n",
    "import matplotlib.pyplot as plt"
   ]
  },
  {
   "cell_type": "code",
   "execution_count": 39,
   "metadata": {},
   "outputs": [
    {
     "data": {
      "text/plain": [
       "32"
      ]
     },
     "execution_count": 39,
     "metadata": {},
     "output_type": "execute_result"
    }
   ],
   "source": [
    "# read data from json file\n",
    "\n",
    "import json\n",
    "\n",
    "data = json.load(open('training_data/training_data_2024_04_26.json'))\n",
    "\n",
    "len(data.keys())"
   ]
  },
  {
   "cell_type": "code",
   "execution_count": 40,
   "metadata": {},
   "outputs": [],
   "source": [
    "data_old = json.load(open('training_data/training_data.json'))\n",
    "\n",
    "keys_old = list(data_old.keys())"
   ]
  },
  {
   "cell_type": "code",
   "execution_count": 41,
   "metadata": {},
   "outputs": [
    {
     "data": {
      "text/plain": [
       "11"
      ]
     },
     "execution_count": 41,
     "metadata": {},
     "output_type": "execute_result"
    }
   ],
   "source": [
    "keys = list(data.keys())\n",
    "\n",
    "keys_new = [key for key in keys if key not in keys_old]\n",
    "\n",
    "len(keys_new)"
   ]
  },
  {
   "cell_type": "code",
   "execution_count": 42,
   "metadata": {},
   "outputs": [],
   "source": [
    "# create training set and test set\n",
    "\n",
    "train_set = []\n",
    "posture_list = ['back','left','right']\n",
    "\n",
    "posture_list_id = {'back':0,'left':1,'right':2}\n",
    "\n",
    "for user in keys_old:\n",
    "    for posture in posture_list:\n",
    "        for i in range(3):\n",
    "            train_set.append({'x':np.array(data[user][posture][i]), 'y':np.array(posture_list_id[posture])})\n",
    "\n",
    "test_set = []\n",
    "\n",
    "for user in keys_new:\n",
    "    for posture in posture_list:\n",
    "        for i in range(3):\n",
    "            test_set.append({'x':np.array(data[user][posture][i]), 'y':np.array(posture_list_id[posture])})"
   ]
  },
  {
   "cell_type": "code",
   "execution_count": 43,
   "metadata": {},
   "outputs": [],
   "source": [
    "train_set2 = [{'x':x['x'].reshape(-1), 'y':x['y']} for x in train_set]\n",
    "test_set2 = [{'x':x['x'].reshape(-1), 'y':x['y']} for x in test_set]"
   ]
  },
  {
   "cell_type": "code",
   "execution_count": 44,
   "metadata": {},
   "outputs": [
    {
     "data": {
      "text/plain": [
       "99"
      ]
     },
     "execution_count": 44,
     "metadata": {},
     "output_type": "execute_result"
    }
   ],
   "source": [
    "len(test_set2)"
   ]
  },
  {
   "cell_type": "code",
   "execution_count": 45,
   "metadata": {},
   "outputs": [
    {
     "name": "stdout",
     "output_type": "stream",
     "text": [
      "Accuracy of lightgbm classifier on test set: 0.78\n"
     ]
    }
   ],
   "source": [
    "# lightgbm without data augmentation\n",
    "\n",
    "# old data training set, new data test set\n",
    "\n",
    "import lightgbm as lgb\n",
    "\n",
    "model = lgb.LGBMClassifier(objective='multiclass')\n",
    "model.fit([x['x'] for x in train_set2], [x['y'] for x in train_set2])\n",
    "y_pred = model.predict([x['x'] for x in test_set2], [x['y'] for x in test_set2])\n",
    "\n",
    "print('Accuracy of lightgbm classifier on test set: {:.2f}'.format(model.score([x['x'] for x in test_set2], [x['y'] for x in test_set2])))"
   ]
  },
  {
   "cell_type": "code",
   "execution_count": 46,
   "metadata": {},
   "outputs": [
    {
     "name": "stdout",
     "output_type": "stream",
     "text": [
      "1983\n"
     ]
    }
   ],
   "source": [
    "# load the data\n",
    "\n",
    "data = np.load('training_data/training_data_arg2.npz', allow_pickle=True)\n",
    "\n",
    "train_set = data['train_set']\n",
    "test_set = data['test_set']\n",
    "val_set = data['val_set']\n",
    "\n",
    "train_set = [{'x':x['x'].reshape(-1), 'y':x['y']} for x in train_set]\n",
    "val_set = [{'x':x['x'].reshape(-1), 'y':x['y']} for x in val_set]\n",
    "test_set = [{'x':x['x'].reshape(-1), 'y':x['y']} for x in test_set]\n",
    "\n",
    "train_set2 = train_set + val_set\n",
    "\n",
    "print(len(train_set2))"
   ]
  },
  {
   "cell_type": "code",
   "execution_count": 47,
   "metadata": {},
   "outputs": [
    {
     "name": "stdout",
     "output_type": "stream",
     "text": [
      "Accuracy of lightgbm classifier on test set: 0.39\n"
     ]
    }
   ],
   "source": [
    "# lightgbm\n",
    "\n",
    "import lightgbm as lgb\n",
    "\n",
    "model = lgb.LGBMClassifier(objective='multiclass')\n",
    "model.fit([x['x'] for x in train_set2], [x['y'] for x in train_set2])\n",
    "y_pred = model.predict([x['x'] for x in test_set2], [x['y'] for x in test_set2])\n",
    "\n",
    "print('Accuracy of lightgbm classifier on test set: {:.2f}'.format(model.score([x['x'] for x in test_set2], [x['y'] for x in test_set2])))"
   ]
  },
  {
   "cell_type": "code",
   "execution_count": 48,
   "metadata": {},
   "outputs": [
    {
     "data": {
      "text/plain": [
       "32"
      ]
     },
     "execution_count": 48,
     "metadata": {},
     "output_type": "execute_result"
    }
   ],
   "source": [
    " # read data from json file\n",
    "\n",
    "import json\n",
    "\n",
    "data = json.load(open('training_data/training_data_2024_04_26.json'))\n",
    "\n",
    "len(data.keys())"
   ]
  },
  {
   "cell_type": "code",
   "execution_count": 49,
   "metadata": {},
   "outputs": [
    {
     "name": "stdout",
     "output_type": "stream",
     "text": [
      "test_users:  ['EtAUg' 'EJBUw' '0ZAVg' 'EtFVg' '0RCVw' 'ERHUw' '0NDUg' 'EVCVg' 'UJKXA']\n",
      "val_users:  ['ENEVQ' 'ktEVA' 'ENCVw' 'URAUw' 'kdDVQ']\n",
      "train_users:  ['EVDUQ', 'EtEUA', '0BLVw', 'UtGVw', 'EtKUA', 'kJBUQ', 'EJKVg', '0REVg', 'UFHVw', 'EBHUg', 'UdAUA', 'EBCXQ', 'EtCVg', '0NHVg', 'URGXA', 'URDXQ', 'UBHVg', 'UJEUQ']\n"
     ]
    }
   ],
   "source": [
    "# select 6 random user for test set and rest for training set\n",
    "\n",
    "np.random.seed(0)\n",
    "\n",
    "test_users = np.random.choice(list(data.keys()), 9, replace=False)\n",
    "\n",
    "# select 3 random user for validation set and rest for training set\n",
    "\n",
    "val_users = np.random.choice([user for user in data.keys() if user not in test_users], 5, replace=False)\n",
    "\n",
    "train_users = [user for user in data.keys() if user not in test_users]\n",
    "\n",
    "train_users = [user for user in train_users if user not in val_users]\n",
    "\n",
    "print('test_users: ', test_users)\n",
    "print('val_users: ', val_users)\n",
    "print('train_users: ', train_users)"
   ]
  },
  {
   "cell_type": "code",
   "execution_count": 50,
   "metadata": {},
   "outputs": [],
   "source": [
    "# create training set and test set\n",
    "\n",
    "train_set = []\n",
    "posture_list = ['back','left','right']\n",
    "\n",
    "posture_list_id = {'back':0,'left':1,'right':2}\n",
    "\n",
    "for user in train_users:\n",
    "    for posture in posture_list:\n",
    "        for i in range(3):\n",
    "            train_set.append({'x':np.array(data[user][posture][i]), 'y':np.array(posture_list_id[posture])})\n",
    "\n",
    "test_set = []\n",
    "\n",
    "for user in test_users:\n",
    "    for posture in posture_list:\n",
    "        for i in range(3):\n",
    "            test_set.append({'x':np.array(data[user][posture][i]), 'y':np.array(posture_list_id[posture])})\n",
    "\n",
    "val_set = []\n",
    "\n",
    "for user in val_users:\n",
    "    for posture in posture_list:\n",
    "        for i in range(3):\n",
    "            val_set.append({'x':np.array(data[user][posture][i]), 'y':np.array(posture_list_id[posture])})"
   ]
  },
  {
   "cell_type": "code",
   "execution_count": 51,
   "metadata": {},
   "outputs": [],
   "source": [
    "import numpy as np\n",
    "\n",
    "train_set_arg = []\n",
    "\n",
    "range_shift = 7\n",
    "plot = True\n",
    "j = 1\n",
    "\n",
    "for n in range(-range_shift,range_shift+1):\n",
    "    for i in train_set:\n",
    "        img = i['x']\n",
    "        min_id = np.argmin(np.mean(img, axis=0))  # Encontre a coluna com a menor temperatura média\n",
    "        # converta os valores menores que a mediana dessa coluna para o valor da mediana\n",
    "        img[:, min_id] = np.where(img[:, min_id] < np.median(img[:, min_id]), np.median(img[:, min_id]), img[:, min_id])\n",
    "        min_id = np.argmin(np.mean(img, axis=0))\n",
    "        shifted = np.roll(img, n, axis=1)  # Mova a imagem horizontalmente\n",
    "        if n > 0:\n",
    "            shifted[:, :n] = img[:, min_id:min_id+1]    # \n",
    "            shifted[:, :n] = shifted[:, :n] + np.random.normal(0, 0.25, shifted[:, :n].shape)\n",
    "        else:\n",
    "            shifted[:, n:] = img[:, min_id:min_id+1]  \n",
    "            shifted[:, n:] = shifted[:, n:] + np.random.normal(0,0.25, shifted[:, n:].shape)\n",
    "        # verifica se as três primeiras colunas tem temperatura maior que a mediana se sim, não adiciona a imagem\n",
    "        if np.all(shifted[:, :4] > np.median(shifted)):\n",
    "            continue\n",
    "        # # verifica se as três últimas colunas tem temperatura maior que a mediana se sim, não adiciona a imagem\n",
    "        if np.all(shifted[:, -4:] > np.median(shifted)):\n",
    "            continue\n",
    "        train_set_arg.append({'x': shifted, 'y': i['y']})  # Adicione a imagem modificada ao conjunto de teste\n",
    "\n",
    "train_set = train_set_arg.copy()\n",
    "\n",
    "val_set_arg = []\n",
    "\n",
    "for n in range(-range_shift,range_shift+1):\n",
    "    for i in val_set:\n",
    "        img = i['x']\n",
    "        min_id = np.argmin(np.mean(img, axis=0))  # Encontre a coluna com a menor temperatura média\n",
    "        # converta os valores menores que a mediana dessa coluna para o valor da mediana\n",
    "        img[:, min_id] = np.where(img[:, min_id] < np.median(img[:, min_id]), np.median(img[:, min_id]), img[:, min_id])\n",
    "        min_id = np.argmin(np.mean(img, axis=0))\n",
    "        shifted = np.roll(img, n, axis=1)  # Mova a imagem horizontalmente\n",
    "        if n > 0:\n",
    "            shifted[:, :n] = img[:, min_id:min_id+1]    # \n",
    "            shifted[:, :n] = shifted[:, :n] + np.random.normal(0, 0.25, shifted[:, :n].shape)\n",
    "        else:\n",
    "            shifted[:, n:] = img[:, min_id:min_id+1]  \n",
    "            shifted[:, n:] = shifted[:, n:] + np.random.normal(0,0.25, shifted[:, n:].shape)\n",
    "\n",
    "        # verifica se as três primeiras colunas tem temperatura maior que a mediana se sim, não adiciona a imagem\n",
    "        if np.all(shifted[:, :4] > np.median(shifted)):\n",
    "            continue\n",
    "        # verifica se as três últimas colunas tem temperatura maior que a mediana se sim, não adiciona a imagem\n",
    "        if np.all(shifted[:, -4:] > np.median(shifted)):\n",
    "            continue\n",
    "\n",
    "        val_set_arg.append({'x': shifted, 'y': i['y']})  # Adicione a imagem modificada ao conjunto de teste\n",
    "\n",
    "val_set = val_set_arg.copy()"
   ]
  },
  {
   "cell_type": "code",
   "execution_count": 52,
   "metadata": {},
   "outputs": [],
   "source": [
    "np.savez('training_data/training_data_arg3.npz', train_set=train_set_arg, test_set=test_set, val_set=val_set_arg)"
   ]
  },
  {
   "cell_type": "code",
   "execution_count": null,
   "metadata": {},
   "outputs": [],
   "source": []
  }
 ],
 "metadata": {
  "kernelspec": {
   "display_name": "Python 3",
   "language": "python",
   "name": "python3"
  },
  "language_info": {
   "codemirror_mode": {
    "name": "ipython",
    "version": 3
   },
   "file_extension": ".py",
   "mimetype": "text/x-python",
   "name": "python",
   "nbconvert_exporter": "python",
   "pygments_lexer": "ipython3",
   "version": "3.11.1"
  }
 },
 "nbformat": 4,
 "nbformat_minor": 2
}
