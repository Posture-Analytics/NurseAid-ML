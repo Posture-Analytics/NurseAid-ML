{
 "cells": [
  {
   "cell_type": "code",
   "execution_count": 1,
   "metadata": {},
   "outputs": [],
   "source": [
    "import json\n",
    "import numpy as np\n",
    "from collections import OrderedDict\n",
    "import pandas as pd\n",
    "import plotly.express as px\n",
    "import tensorflow as tf\n",
    "from tensorflow.keras import layers\n",
    "from sklearn.model_selection import train_test_split\n",
    "from sklearn.preprocessing import LabelEncoder\n",
    "from sklearn.metrics import confusion_matrix\n",
    "import base64_thermal_decoder as decoder"
   ]
  },
  {
   "cell_type": "markdown",
   "metadata": {},
   "source": [
    "### Reading and combining the data"
   ]
  },
  {
   "cell_type": "code",
   "execution_count": 2,
   "metadata": {},
   "outputs": [],
   "source": [
    "# Load samples from json file\n",
    "with open('samples.json', 'r') as f:\n",
    "    samples = json.load(f)\n",
    "# Decode base64 strings\n",
    "decoded_samples = OrderedDict()\n",
    "for timestamp, encoded_string in samples.items():\n",
    "    values = decoder.decode_base64(encoded_string, 0, 100.0)\n",
    "    decoded_samples[timestamp] = np.array(values, dtype=np.float32).reshape(24, 32, 1)\n",
    "# Load labels from json file\n",
    "with open('labels.json', 'r') as f:\n",
    "    labels = json.load(f)\n",
    "# Set sample labels\n",
    "labeled_samples = {}\n",
    "actual_label_idx = 0\n",
    "actual_label_start = labels[actual_label_idx][0]\n",
    "actual_label_end = labels[actual_label_idx][1]\n",
    "actual_label_name = labels[actual_label_idx][2]\n",
    "for timestamp, _ in decoded_samples.items():\n",
    "    if actual_label_start <= int(timestamp) <= actual_label_end:\n",
    "        labeled_samples[timestamp] = {\n",
    "            'data': decoded_samples[timestamp],\n",
    "            'label': actual_label_name\n",
    "        }\n",
    "    else:\n",
    "        labeled_samples[timestamp] = {\n",
    "            'data': decoded_samples[timestamp],\n",
    "            'label': None\n",
    "        }\n",
    "        if int(timestamp) > actual_label_end:\n",
    "            # Go to next label until the end of the labels\n",
    "            if actual_label_idx < len(labels) - 1:\n",
    "                actual_label_idx += 1\n",
    "                actual_label_start = labels[actual_label_idx][0]\n",
    "                actual_label_end = labels[actual_label_idx][1]\n",
    "                actual_label_name = labels[actual_label_idx][2]"
   ]
  },
  {
   "cell_type": "code",
   "execution_count": 3,
   "metadata": {},
   "outputs": [
    {
     "data": {
      "text/html": [
       "<div>\n",
       "<style scoped>\n",
       "    .dataframe tbody tr th:only-of-type {\n",
       "        vertical-align: middle;\n",
       "    }\n",
       "\n",
       "    .dataframe tbody tr th {\n",
       "        vertical-align: top;\n",
       "    }\n",
       "\n",
       "    .dataframe thead th {\n",
       "        text-align: right;\n",
       "    }\n",
       "</style>\n",
       "<table border=\"1\" class=\"dataframe\">\n",
       "  <thead>\n",
       "    <tr style=\"text-align: right;\">\n",
       "      <th></th>\n",
       "      <th>data</th>\n",
       "      <th>label</th>\n",
       "    </tr>\n",
       "  </thead>\n",
       "  <tbody>\n",
       "    <tr>\n",
       "      <th>1703022685733</th>\n",
       "      <td>[[[19.12], [20.41], [22.69], [23.46], [23.85],...</td>\n",
       "      <td>None</td>\n",
       "    </tr>\n",
       "    <tr>\n",
       "      <th>1703022687761</th>\n",
       "      <td>[[[18.78], [20.62], [22.89], [23.88], [23.51],...</td>\n",
       "      <td>None</td>\n",
       "    </tr>\n",
       "    <tr>\n",
       "      <th>1703022689790</th>\n",
       "      <td>[[[18.97], [21.24], [22.84], [23.64], [24.06],...</td>\n",
       "      <td>None</td>\n",
       "    </tr>\n",
       "    <tr>\n",
       "      <th>1703022691819</th>\n",
       "      <td>[[[19.19], [20.9], [23.04], [23.51], [24.08], ...</td>\n",
       "      <td>None</td>\n",
       "    </tr>\n",
       "    <tr>\n",
       "      <th>1703022693849</th>\n",
       "      <td>[[[19.26], [20.65], [23.35], [23.9], [23.78], ...</td>\n",
       "      <td>None</td>\n",
       "    </tr>\n",
       "  </tbody>\n",
       "</table>\n",
       "</div>"
      ],
      "text/plain": [
       "                                                            data label\n",
       "1703022685733  [[[19.12], [20.41], [22.69], [23.46], [23.85],...  None\n",
       "1703022687761  [[[18.78], [20.62], [22.89], [23.88], [23.51],...  None\n",
       "1703022689790  [[[18.97], [21.24], [22.84], [23.64], [24.06],...  None\n",
       "1703022691819  [[[19.19], [20.9], [23.04], [23.51], [24.08], ...  None\n",
       "1703022693849  [[[19.26], [20.65], [23.35], [23.9], [23.78], ...  None"
      ]
     },
     "execution_count": 3,
     "metadata": {},
     "output_type": "execute_result"
    }
   ],
   "source": [
    "df = pd.DataFrame.from_dict(labeled_samples, orient='index')\n",
    "df.head()"
   ]
  },
  {
   "cell_type": "code",
   "execution_count": 4,
   "metadata": {},
   "outputs": [
    {
     "data": {
      "text/plain": [
       "DD     119\n",
       "DLD     39\n",
       "DLE     36\n",
       "Name: label, dtype: int64"
      ]
     },
     "execution_count": 4,
     "metadata": {},
     "output_type": "execute_result"
    }
   ],
   "source": [
    "df['label'].value_counts()"
   ]
  },
  {
   "cell_type": "markdown",
   "metadata": {},
   "source": [
    "### Preparing the data"
   ]
  },
  {
   "cell_type": "code",
   "execution_count": 5,
   "metadata": {},
   "outputs": [],
   "source": [
    "df.dropna(inplace=True)\n",
    "X = np.array(df['data'])\n",
    "y = np.array(df['label'])\n",
    "\n",
    "X_train, X_test, y_train, y_test = train_test_split(X, y, test_size=0.4)"
   ]
  },
  {
   "cell_type": "code",
   "execution_count": 6,
   "metadata": {},
   "outputs": [
    {
     "name": "stdout",
     "output_type": "stream",
     "text": [
      "y_train:  {'DD': 70, 'DLD': 24, 'DLE': 22}\n",
      "y_test:  {'DD': 49, 'DLD': 15, 'DLE': 14}\n"
     ]
    }
   ],
   "source": [
    "unique, counts = np.unique(y_train, return_counts=True)\n",
    "print('y_train: ', dict(zip(unique, counts)))\n",
    "unique, counts = np.unique(y_test, return_counts=True)\n",
    "print('y_test: ', dict(zip(unique, counts)))"
   ]
  },
  {
   "cell_type": "code",
   "execution_count": 7,
   "metadata": {},
   "outputs": [
    {
     "name": "stdout",
     "output_type": "stream",
     "text": [
      "y_train:  {0: 70, 1: 24, 2: 22}\n",
      "y_test:  {0: 49, 1: 15, 2: 14}\n"
     ]
    }
   ],
   "source": [
    "y_train = LabelEncoder().fit_transform(y_train)\n",
    "y_test = LabelEncoder().fit_transform(y_test)\n",
    "\n",
    "unique, counts = np.unique(y_train, return_counts=True)\n",
    "print('y_train: ', dict(zip(unique, counts)))\n",
    "unique, counts = np.unique(y_test, return_counts=True)\n",
    "print('y_test: ', dict(zip(unique, counts)))\n",
    "\n",
    "X_train = np.array([x.reshape(24, 32) for x in X_train])\n",
    "X_test = np.array([x.reshape(24, 32) for x in X_test])"
   ]
  },
  {
   "cell_type": "code",
   "execution_count": 8,
   "metadata": {},
   "outputs": [],
   "source": [
    "# Convert to tensors\n",
    "X_train = tf.convert_to_tensor(X_train)\n",
    "X_test = tf.convert_to_tensor(X_test)\n",
    "y_train = tf.convert_to_tensor(y_train)\n",
    "y_test = tf.convert_to_tensor(y_test)"
   ]
  },
  {
   "cell_type": "markdown",
   "metadata": {},
   "source": [
    "### Defining the model"
   ]
  },
  {
   "cell_type": "code",
   "execution_count": 9,
   "metadata": {},
   "outputs": [
    {
     "name": "stdout",
     "output_type": "stream",
     "text": [
      "Model: \"sequential\"\n",
      "_________________________________________________________________\n",
      " Layer (type)                Output Shape              Param #   \n",
      "=================================================================\n",
      " reshape (Reshape)           (None, 24, 32, 1)         0         \n",
      "                                                                 \n",
      " conv2d (Conv2D)             (None, 22, 30, 32)        320       \n",
      "                                                                 \n",
      " max_pooling2d (MaxPooling2D  (None, 11, 15, 32)       0         \n",
      " )                                                               \n",
      "                                                                 \n",
      " conv2d_1 (Conv2D)           (None, 9, 13, 64)         18496     \n",
      "                                                                 \n",
      " max_pooling2d_1 (MaxPooling  (None, 4, 6, 64)         0         \n",
      " 2D)                                                             \n",
      "                                                                 \n",
      " conv2d_2 (Conv2D)           (None, 2, 4, 128)         73856     \n",
      "                                                                 \n",
      " max_pooling2d_2 (MaxPooling  (None, 1, 2, 128)        0         \n",
      " 2D)                                                             \n",
      "                                                                 \n",
      " flatten (Flatten)           (None, 256)               0         \n",
      "                                                                 \n",
      " dense (Dense)               (None, 128)               32896     \n",
      "                                                                 \n",
      " dense_1 (Dense)             (None, 3)                 387       \n",
      "                                                                 \n",
      "=================================================================\n",
      "Total params: 125,955\n",
      "Trainable params: 125,955\n",
      "Non-trainable params: 0\n",
      "_________________________________________________________________\n"
     ]
    }
   ],
   "source": [
    "model = tf.keras.Sequential(\n",
    "    [\n",
    "        layers.InputLayer(input_shape=(24, 32)),\n",
    "        layers.Reshape(target_shape=(24, 32, 1)),\n",
    "        layers.Conv2D(32, 3, activation='relu'),\n",
    "        layers.MaxPooling2D(),\n",
    "        layers.Conv2D(64, 3, activation='relu'),\n",
    "        layers.MaxPooling2D(),\n",
    "        layers.Conv2D(128, 3, activation='relu'),\n",
    "        layers.MaxPooling2D(),\n",
    "        layers.Flatten(),\n",
    "        layers.Dense(128, activation='relu'),\n",
    "        layers.Dense(3, activation='softmax')\n",
    "    ]\n",
    ")\n",
    "model.compile(\n",
    "    optimizer='adam',\n",
    "    loss='sparse_categorical_crossentropy',\n",
    "    metrics=['accuracy']\n",
    ")\n",
    "model.summary()"
   ]
  },
  {
   "cell_type": "code",
   "execution_count": 10,
   "metadata": {},
   "outputs": [],
   "source": [
    "early_stopping = tf.keras.callbacks.EarlyStopping(\n",
    "    monitor='val_loss',\n",
    "    patience=2,\n",
    "    mode='min',\n",
    "    restore_best_weights=True\n",
    ")"
   ]
  },
  {
   "cell_type": "markdown",
   "metadata": {},
   "source": [
    "### Training the model"
   ]
  },
  {
   "cell_type": "code",
   "execution_count": 11,
   "metadata": {},
   "outputs": [
    {
     "name": "stdout",
     "output_type": "stream",
     "text": [
      "Epoch 1/100\n",
      "4/4 [==============================] - 2s 176ms/step - loss: 1.4060 - accuracy: 0.5690 - val_loss: 1.2072 - val_accuracy: 0.1923\n",
      "Epoch 2/100\n",
      "4/4 [==============================] - 0s 43ms/step - loss: 1.2132 - accuracy: 0.4310 - val_loss: 0.9289 - val_accuracy: 0.6282\n",
      "Epoch 3/100\n",
      "4/4 [==============================] - 0s 32ms/step - loss: 1.0230 - accuracy: 0.6466 - val_loss: 0.9098 - val_accuracy: 0.6282\n",
      "Epoch 4/100\n",
      "4/4 [==============================] - 0s 31ms/step - loss: 0.9357 - accuracy: 0.6034 - val_loss: 0.9173 - val_accuracy: 0.6282\n",
      "Epoch 5/100\n",
      "4/4 [==============================] - 0s 31ms/step - loss: 0.9499 - accuracy: 0.6034 - val_loss: 0.8837 - val_accuracy: 0.6282\n",
      "Epoch 6/100\n",
      "4/4 [==============================] - 0s 31ms/step - loss: 0.9491 - accuracy: 0.6034 - val_loss: 0.8916 - val_accuracy: 0.6282\n",
      "Epoch 7/100\n",
      "4/4 [==============================] - 0s 33ms/step - loss: 0.9493 - accuracy: 0.6034 - val_loss: 0.8812 - val_accuracy: 0.6282\n",
      "Epoch 8/100\n",
      "4/4 [==============================] - 0s 32ms/step - loss: 0.8997 - accuracy: 0.6034 - val_loss: 0.8692 - val_accuracy: 0.6282\n",
      "Epoch 9/100\n",
      "4/4 [==============================] - 0s 34ms/step - loss: 0.8979 - accuracy: 0.6034 - val_loss: 0.8531 - val_accuracy: 0.6282\n",
      "Epoch 10/100\n",
      "4/4 [==============================] - 0s 32ms/step - loss: 0.8756 - accuracy: 0.6034 - val_loss: 0.8475 - val_accuracy: 0.6282\n",
      "Epoch 11/100\n",
      "4/4 [==============================] - 0s 45ms/step - loss: 0.8713 - accuracy: 0.6034 - val_loss: 0.8273 - val_accuracy: 0.6282\n",
      "Epoch 12/100\n",
      "4/4 [==============================] - 0s 42ms/step - loss: 0.8664 - accuracy: 0.6034 - val_loss: 0.8115 - val_accuracy: 0.6282\n",
      "Epoch 13/100\n",
      "4/4 [==============================] - 0s 43ms/step - loss: 0.8419 - accuracy: 0.6034 - val_loss: 0.7897 - val_accuracy: 0.6282\n",
      "Epoch 14/100\n",
      "4/4 [==============================] - 0s 39ms/step - loss: 0.8403 - accuracy: 0.6034 - val_loss: 0.7869 - val_accuracy: 0.6282\n",
      "Epoch 15/100\n",
      "4/4 [==============================] - 0s 38ms/step - loss: 0.8173 - accuracy: 0.6034 - val_loss: 0.7602 - val_accuracy: 0.6282\n",
      "Epoch 16/100\n",
      "4/4 [==============================] - 0s 36ms/step - loss: 0.7727 - accuracy: 0.6034 - val_loss: 0.7643 - val_accuracy: 0.6282\n",
      "Epoch 17/100\n",
      "4/4 [==============================] - 0s 41ms/step - loss: 0.7643 - accuracy: 0.6293 - val_loss: 0.7163 - val_accuracy: 0.6282\n",
      "Epoch 18/100\n",
      "4/4 [==============================] - 0s 46ms/step - loss: 0.7635 - accuracy: 0.6034 - val_loss: 0.6871 - val_accuracy: 0.6282\n",
      "Epoch 19/100\n",
      "4/4 [==============================] - 0s 78ms/step - loss: 0.7063 - accuracy: 0.6897 - val_loss: 0.6629 - val_accuracy: 0.7051\n",
      "Epoch 20/100\n",
      "4/4 [==============================] - 0s 44ms/step - loss: 0.6820 - accuracy: 0.6466 - val_loss: 0.6216 - val_accuracy: 0.7949\n",
      "Epoch 21/100\n",
      "4/4 [==============================] - 0s 40ms/step - loss: 0.6396 - accuracy: 0.8103 - val_loss: 0.5598 - val_accuracy: 0.6923\n",
      "Epoch 22/100\n",
      "4/4 [==============================] - 0s 41ms/step - loss: 0.5815 - accuracy: 0.6724 - val_loss: 0.5049 - val_accuracy: 0.9487\n",
      "Epoch 23/100\n",
      "4/4 [==============================] - 0s 42ms/step - loss: 0.5110 - accuracy: 0.9138 - val_loss: 0.4612 - val_accuracy: 0.9615\n",
      "Epoch 24/100\n",
      "4/4 [==============================] - 0s 38ms/step - loss: 0.4602 - accuracy: 0.9310 - val_loss: 0.4502 - val_accuracy: 0.8333\n",
      "Epoch 25/100\n",
      "4/4 [==============================] - 0s 37ms/step - loss: 0.4290 - accuracy: 0.8966 - val_loss: 0.3464 - val_accuracy: 0.9615\n",
      "Epoch 26/100\n",
      "4/4 [==============================] - 0s 36ms/step - loss: 0.3692 - accuracy: 0.9397 - val_loss: 0.2924 - val_accuracy: 0.9744\n",
      "Epoch 27/100\n",
      "4/4 [==============================] - 0s 38ms/step - loss: 0.3094 - accuracy: 0.9569 - val_loss: 0.2529 - val_accuracy: 0.9744\n",
      "Epoch 28/100\n",
      "4/4 [==============================] - 0s 37ms/step - loss: 0.2593 - accuracy: 0.9569 - val_loss: 0.2018 - val_accuracy: 0.9744\n",
      "Epoch 29/100\n",
      "4/4 [==============================] - 0s 37ms/step - loss: 0.2403 - accuracy: 0.9655 - val_loss: 0.2065 - val_accuracy: 0.9615\n",
      "Epoch 30/100\n",
      "4/4 [==============================] - 0s 38ms/step - loss: 0.2381 - accuracy: 0.9483 - val_loss: 0.2004 - val_accuracy: 0.9872\n",
      "Epoch 31/100\n",
      "4/4 [==============================] - 0s 38ms/step - loss: 0.1843 - accuracy: 0.9828 - val_loss: 0.1473 - val_accuracy: 0.9744\n",
      "Epoch 32/100\n",
      "4/4 [==============================] - 0s 38ms/step - loss: 0.1676 - accuracy: 0.9655 - val_loss: 0.1038 - val_accuracy: 0.9872\n",
      "Epoch 33/100\n",
      "4/4 [==============================] - 0s 37ms/step - loss: 0.1272 - accuracy: 0.9741 - val_loss: 0.0934 - val_accuracy: 0.9744\n",
      "Epoch 34/100\n",
      "4/4 [==============================] - 0s 36ms/step - loss: 0.1267 - accuracy: 0.9655 - val_loss: 0.0852 - val_accuracy: 0.9872\n",
      "Epoch 35/100\n",
      "4/4 [==============================] - 0s 38ms/step - loss: 0.1395 - accuracy: 0.9655 - val_loss: 0.0763 - val_accuracy: 0.9744\n",
      "Epoch 36/100\n",
      "4/4 [==============================] - 0s 63ms/step - loss: 0.1082 - accuracy: 0.9655 - val_loss: 0.0762 - val_accuracy: 0.9744\n",
      "Epoch 37/100\n",
      "4/4 [==============================] - 0s 42ms/step - loss: 0.0840 - accuracy: 0.9828 - val_loss: 0.0648 - val_accuracy: 0.9872\n",
      "Epoch 38/100\n",
      "4/4 [==============================] - 0s 38ms/step - loss: 0.0793 - accuracy: 0.9828 - val_loss: 0.0622 - val_accuracy: 0.9872\n",
      "Epoch 39/100\n",
      "4/4 [==============================] - 0s 39ms/step - loss: 0.0735 - accuracy: 0.9828 - val_loss: 0.0572 - val_accuracy: 0.9872\n",
      "Epoch 40/100\n",
      "4/4 [==============================] - 0s 37ms/step - loss: 0.0766 - accuracy: 0.9914 - val_loss: 0.0464 - val_accuracy: 0.9872\n",
      "Epoch 41/100\n",
      "4/4 [==============================] - 0s 38ms/step - loss: 0.0605 - accuracy: 0.9828 - val_loss: 0.0448 - val_accuracy: 0.9872\n",
      "Epoch 42/100\n",
      "4/4 [==============================] - 0s 38ms/step - loss: 0.0546 - accuracy: 0.9914 - val_loss: 0.0413 - val_accuracy: 0.9872\n",
      "Epoch 43/100\n",
      "4/4 [==============================] - 0s 40ms/step - loss: 0.0579 - accuracy: 0.9914 - val_loss: 0.0348 - val_accuracy: 0.9872\n",
      "Epoch 44/100\n",
      "4/4 [==============================] - 0s 39ms/step - loss: 0.0429 - accuracy: 1.0000 - val_loss: 0.0316 - val_accuracy: 1.0000\n",
      "Epoch 45/100\n",
      "4/4 [==============================] - 0s 39ms/step - loss: 0.0453 - accuracy: 0.9914 - val_loss: 0.0293 - val_accuracy: 0.9872\n",
      "Epoch 46/100\n",
      "4/4 [==============================] - 0s 42ms/step - loss: 0.0419 - accuracy: 0.9914 - val_loss: 0.0275 - val_accuracy: 0.9872\n",
      "Epoch 47/100\n",
      "4/4 [==============================] - 0s 39ms/step - loss: 0.0376 - accuracy: 0.9914 - val_loss: 0.0234 - val_accuracy: 1.0000\n",
      "Epoch 48/100\n",
      "4/4 [==============================] - 0s 36ms/step - loss: 0.0341 - accuracy: 0.9914 - val_loss: 0.0295 - val_accuracy: 0.9872\n",
      "Epoch 49/100\n",
      "4/4 [==============================] - 0s 37ms/step - loss: 0.0336 - accuracy: 0.9914 - val_loss: 0.0198 - val_accuracy: 1.0000\n",
      "Epoch 50/100\n",
      "4/4 [==============================] - 0s 36ms/step - loss: 0.0299 - accuracy: 0.9914 - val_loss: 0.0178 - val_accuracy: 1.0000\n",
      "Epoch 51/100\n",
      "4/4 [==============================] - 0s 38ms/step - loss: 0.0286 - accuracy: 1.0000 - val_loss: 0.0190 - val_accuracy: 1.0000\n",
      "Epoch 52/100\n",
      "4/4 [==============================] - 0s 51ms/step - loss: 0.0254 - accuracy: 1.0000 - val_loss: 0.0159 - val_accuracy: 1.0000\n",
      "Epoch 53/100\n",
      "4/4 [==============================] - 0s 37ms/step - loss: 0.0252 - accuracy: 1.0000 - val_loss: 0.0155 - val_accuracy: 1.0000\n",
      "Epoch 54/100\n",
      "4/4 [==============================] - 0s 37ms/step - loss: 0.0225 - accuracy: 1.0000 - val_loss: 0.0164 - val_accuracy: 1.0000\n",
      "Epoch 55/100\n",
      "4/4 [==============================] - 0s 37ms/step - loss: 0.0234 - accuracy: 1.0000 - val_loss: 0.0147 - val_accuracy: 1.0000\n",
      "Epoch 56/100\n",
      "4/4 [==============================] - 0s 40ms/step - loss: 0.0230 - accuracy: 0.9914 - val_loss: 0.0123 - val_accuracy: 1.0000\n",
      "Epoch 57/100\n",
      "4/4 [==============================] - 0s 35ms/step - loss: 0.0175 - accuracy: 1.0000 - val_loss: 0.0182 - val_accuracy: 1.0000\n",
      "Epoch 58/100\n",
      "4/4 [==============================] - 0s 43ms/step - loss: 0.0246 - accuracy: 0.9914 - val_loss: 0.0148 - val_accuracy: 1.0000\n"
     ]
    }
   ],
   "source": [
    "history = model.fit(\n",
    "    X_train,\n",
    "    y_train,\n",
    "    validation_data=(X_test, y_test),\n",
    "    epochs=100,\n",
    "    callbacks=[early_stopping]\n",
    ")"
   ]
  },
  {
   "cell_type": "code",
   "execution_count": 12,
   "metadata": {},
   "outputs": [
    {
     "data": {
      "application/vnd.plotly.v1+json": {
       "config": {
        "plotlyServerURL": "https://plot.ly"
       },
       "data": [
        {
         "hovertemplate": "variable=loss<br>epoch=%{x}<br>loss=%{y}<extra></extra>",
         "legendgroup": "loss",
         "line": {
          "color": "#636efa",
          "dash": "solid"
         },
         "marker": {
          "symbol": "circle"
         },
         "mode": "lines",
         "name": "loss",
         "orientation": "v",
         "showlegend": true,
         "type": "scatter",
         "x": [
          0,
          1,
          2,
          3,
          4,
          5,
          6,
          7,
          8,
          9,
          10,
          11,
          12,
          13,
          14,
          15,
          16,
          17,
          18,
          19,
          20,
          21,
          22,
          23,
          24,
          25,
          26,
          27,
          28,
          29,
          30,
          31,
          32,
          33,
          34,
          35,
          36,
          37,
          38,
          39,
          40,
          41,
          42,
          43,
          44,
          45,
          46,
          47,
          48,
          49,
          50,
          51,
          52,
          53,
          54,
          55,
          56,
          57
         ],
         "xaxis": "x",
         "y": [
          1.406035304069519,
          1.2132128477096558,
          1.0230473279953003,
          0.9356955289840698,
          0.949893057346344,
          0.9491469264030457,
          0.9492870569229126,
          0.8997243642807007,
          0.8978633284568787,
          0.875622034072876,
          0.8712615370750427,
          0.866407036781311,
          0.8419381976127625,
          0.8403365015983582,
          0.8173038959503174,
          0.7727223634719849,
          0.7642626166343689,
          0.7635468244552612,
          0.706290066242218,
          0.6819695234298706,
          0.6396380662918091,
          0.5815452337265015,
          0.5109895467758179,
          0.4602130055427551,
          0.4289751350879669,
          0.3692389130592346,
          0.30941933393478394,
          0.25931158661842346,
          0.2403365969657898,
          0.23806558549404144,
          0.1843435913324356,
          0.1675672084093094,
          0.12721319496631622,
          0.1267404854297638,
          0.13952961564064026,
          0.10819372534751892,
          0.08400146663188934,
          0.07932186126708984,
          0.07348606735467911,
          0.07661546766757965,
          0.060525309294462204,
          0.05455506965517998,
          0.057927455753088,
          0.04288334771990776,
          0.045320432633161545,
          0.04191313683986664,
          0.037598639726638794,
          0.034112874418497086,
          0.03357952460646629,
          0.029863199219107628,
          0.028644120320677757,
          0.02537996880710125,
          0.02520217001438141,
          0.022456180304288864,
          0.02340555563569069,
          0.02301921881735325,
          0.017527582123875618,
          0.02462737262248993
         ],
         "yaxis": "y"
        },
        {
         "hovertemplate": "variable=val_loss<br>epoch=%{x}<br>loss=%{y}<extra></extra>",
         "legendgroup": "val_loss",
         "line": {
          "color": "#EF553B",
          "dash": "solid"
         },
         "marker": {
          "symbol": "circle"
         },
         "mode": "lines",
         "name": "val_loss",
         "orientation": "v",
         "showlegend": true,
         "type": "scatter",
         "x": [
          0,
          1,
          2,
          3,
          4,
          5,
          6,
          7,
          8,
          9,
          10,
          11,
          12,
          13,
          14,
          15,
          16,
          17,
          18,
          19,
          20,
          21,
          22,
          23,
          24,
          25,
          26,
          27,
          28,
          29,
          30,
          31,
          32,
          33,
          34,
          35,
          36,
          37,
          38,
          39,
          40,
          41,
          42,
          43,
          44,
          45,
          46,
          47,
          48,
          49,
          50,
          51,
          52,
          53,
          54,
          55,
          56,
          57
         ],
         "xaxis": "x",
         "y": [
          1.2071939706802368,
          0.928934633731842,
          0.909795880317688,
          0.9172616600990295,
          0.8836904764175415,
          0.8915911912918091,
          0.8811856508255005,
          0.8692175149917603,
          0.8531045913696289,
          0.8474897742271423,
          0.8273332118988037,
          0.8115162253379822,
          0.7897056937217712,
          0.7869212031364441,
          0.7602455019950867,
          0.7643486261367798,
          0.716320276260376,
          0.6870513558387756,
          0.6628743410110474,
          0.621565580368042,
          0.5598163604736328,
          0.5049113631248474,
          0.46124696731567383,
          0.45015549659729004,
          0.34644815325737,
          0.29238998889923096,
          0.25294557213783264,
          0.20177151262760162,
          0.20654599368572235,
          0.20037327706813812,
          0.1473332941532135,
          0.10377689450979233,
          0.09344787150621414,
          0.08519024401903152,
          0.0763431116938591,
          0.07619241625070572,
          0.06484096497297287,
          0.0621790774166584,
          0.057170819491147995,
          0.046399395912885666,
          0.044752009212970734,
          0.041318852454423904,
          0.03481048345565796,
          0.03159107267856598,
          0.029330845922231674,
          0.027504954487085342,
          0.023447487503290176,
          0.029476094990968704,
          0.019793067127466202,
          0.01776828244328499,
          0.018999751657247543,
          0.015881149098277092,
          0.015522110275924206,
          0.01638408564031124,
          0.014676041901111603,
          0.01227364968508482,
          0.01822657324373722,
          0.014765281230211258
         ],
         "yaxis": "y"
        }
       ],
       "layout": {
        "legend": {
         "title": {
          "text": "variable"
         },
         "tracegroupgap": 0
        },
        "template": {
         "data": {
          "bar": [
           {
            "error_x": {
             "color": "#2a3f5f"
            },
            "error_y": {
             "color": "#2a3f5f"
            },
            "marker": {
             "line": {
              "color": "#E5ECF6",
              "width": 0.5
             },
             "pattern": {
              "fillmode": "overlay",
              "size": 10,
              "solidity": 0.2
             }
            },
            "type": "bar"
           }
          ],
          "barpolar": [
           {
            "marker": {
             "line": {
              "color": "#E5ECF6",
              "width": 0.5
             },
             "pattern": {
              "fillmode": "overlay",
              "size": 10,
              "solidity": 0.2
             }
            },
            "type": "barpolar"
           }
          ],
          "carpet": [
           {
            "aaxis": {
             "endlinecolor": "#2a3f5f",
             "gridcolor": "white",
             "linecolor": "white",
             "minorgridcolor": "white",
             "startlinecolor": "#2a3f5f"
            },
            "baxis": {
             "endlinecolor": "#2a3f5f",
             "gridcolor": "white",
             "linecolor": "white",
             "minorgridcolor": "white",
             "startlinecolor": "#2a3f5f"
            },
            "type": "carpet"
           }
          ],
          "choropleth": [
           {
            "colorbar": {
             "outlinewidth": 0,
             "ticks": ""
            },
            "type": "choropleth"
           }
          ],
          "contour": [
           {
            "colorbar": {
             "outlinewidth": 0,
             "ticks": ""
            },
            "colorscale": [
             [
              0,
              "#0d0887"
             ],
             [
              0.1111111111111111,
              "#46039f"
             ],
             [
              0.2222222222222222,
              "#7201a8"
             ],
             [
              0.3333333333333333,
              "#9c179e"
             ],
             [
              0.4444444444444444,
              "#bd3786"
             ],
             [
              0.5555555555555556,
              "#d8576b"
             ],
             [
              0.6666666666666666,
              "#ed7953"
             ],
             [
              0.7777777777777778,
              "#fb9f3a"
             ],
             [
              0.8888888888888888,
              "#fdca26"
             ],
             [
              1,
              "#f0f921"
             ]
            ],
            "type": "contour"
           }
          ],
          "contourcarpet": [
           {
            "colorbar": {
             "outlinewidth": 0,
             "ticks": ""
            },
            "type": "contourcarpet"
           }
          ],
          "heatmap": [
           {
            "colorbar": {
             "outlinewidth": 0,
             "ticks": ""
            },
            "colorscale": [
             [
              0,
              "#0d0887"
             ],
             [
              0.1111111111111111,
              "#46039f"
             ],
             [
              0.2222222222222222,
              "#7201a8"
             ],
             [
              0.3333333333333333,
              "#9c179e"
             ],
             [
              0.4444444444444444,
              "#bd3786"
             ],
             [
              0.5555555555555556,
              "#d8576b"
             ],
             [
              0.6666666666666666,
              "#ed7953"
             ],
             [
              0.7777777777777778,
              "#fb9f3a"
             ],
             [
              0.8888888888888888,
              "#fdca26"
             ],
             [
              1,
              "#f0f921"
             ]
            ],
            "type": "heatmap"
           }
          ],
          "heatmapgl": [
           {
            "colorbar": {
             "outlinewidth": 0,
             "ticks": ""
            },
            "colorscale": [
             [
              0,
              "#0d0887"
             ],
             [
              0.1111111111111111,
              "#46039f"
             ],
             [
              0.2222222222222222,
              "#7201a8"
             ],
             [
              0.3333333333333333,
              "#9c179e"
             ],
             [
              0.4444444444444444,
              "#bd3786"
             ],
             [
              0.5555555555555556,
              "#d8576b"
             ],
             [
              0.6666666666666666,
              "#ed7953"
             ],
             [
              0.7777777777777778,
              "#fb9f3a"
             ],
             [
              0.8888888888888888,
              "#fdca26"
             ],
             [
              1,
              "#f0f921"
             ]
            ],
            "type": "heatmapgl"
           }
          ],
          "histogram": [
           {
            "marker": {
             "pattern": {
              "fillmode": "overlay",
              "size": 10,
              "solidity": 0.2
             }
            },
            "type": "histogram"
           }
          ],
          "histogram2d": [
           {
            "colorbar": {
             "outlinewidth": 0,
             "ticks": ""
            },
            "colorscale": [
             [
              0,
              "#0d0887"
             ],
             [
              0.1111111111111111,
              "#46039f"
             ],
             [
              0.2222222222222222,
              "#7201a8"
             ],
             [
              0.3333333333333333,
              "#9c179e"
             ],
             [
              0.4444444444444444,
              "#bd3786"
             ],
             [
              0.5555555555555556,
              "#d8576b"
             ],
             [
              0.6666666666666666,
              "#ed7953"
             ],
             [
              0.7777777777777778,
              "#fb9f3a"
             ],
             [
              0.8888888888888888,
              "#fdca26"
             ],
             [
              1,
              "#f0f921"
             ]
            ],
            "type": "histogram2d"
           }
          ],
          "histogram2dcontour": [
           {
            "colorbar": {
             "outlinewidth": 0,
             "ticks": ""
            },
            "colorscale": [
             [
              0,
              "#0d0887"
             ],
             [
              0.1111111111111111,
              "#46039f"
             ],
             [
              0.2222222222222222,
              "#7201a8"
             ],
             [
              0.3333333333333333,
              "#9c179e"
             ],
             [
              0.4444444444444444,
              "#bd3786"
             ],
             [
              0.5555555555555556,
              "#d8576b"
             ],
             [
              0.6666666666666666,
              "#ed7953"
             ],
             [
              0.7777777777777778,
              "#fb9f3a"
             ],
             [
              0.8888888888888888,
              "#fdca26"
             ],
             [
              1,
              "#f0f921"
             ]
            ],
            "type": "histogram2dcontour"
           }
          ],
          "mesh3d": [
           {
            "colorbar": {
             "outlinewidth": 0,
             "ticks": ""
            },
            "type": "mesh3d"
           }
          ],
          "parcoords": [
           {
            "line": {
             "colorbar": {
              "outlinewidth": 0,
              "ticks": ""
             }
            },
            "type": "parcoords"
           }
          ],
          "pie": [
           {
            "automargin": true,
            "type": "pie"
           }
          ],
          "scatter": [
           {
            "fillpattern": {
             "fillmode": "overlay",
             "size": 10,
             "solidity": 0.2
            },
            "type": "scatter"
           }
          ],
          "scatter3d": [
           {
            "line": {
             "colorbar": {
              "outlinewidth": 0,
              "ticks": ""
             }
            },
            "marker": {
             "colorbar": {
              "outlinewidth": 0,
              "ticks": ""
             }
            },
            "type": "scatter3d"
           }
          ],
          "scattercarpet": [
           {
            "marker": {
             "colorbar": {
              "outlinewidth": 0,
              "ticks": ""
             }
            },
            "type": "scattercarpet"
           }
          ],
          "scattergeo": [
           {
            "marker": {
             "colorbar": {
              "outlinewidth": 0,
              "ticks": ""
             }
            },
            "type": "scattergeo"
           }
          ],
          "scattergl": [
           {
            "marker": {
             "colorbar": {
              "outlinewidth": 0,
              "ticks": ""
             }
            },
            "type": "scattergl"
           }
          ],
          "scattermapbox": [
           {
            "marker": {
             "colorbar": {
              "outlinewidth": 0,
              "ticks": ""
             }
            },
            "type": "scattermapbox"
           }
          ],
          "scatterpolar": [
           {
            "marker": {
             "colorbar": {
              "outlinewidth": 0,
              "ticks": ""
             }
            },
            "type": "scatterpolar"
           }
          ],
          "scatterpolargl": [
           {
            "marker": {
             "colorbar": {
              "outlinewidth": 0,
              "ticks": ""
             }
            },
            "type": "scatterpolargl"
           }
          ],
          "scatterternary": [
           {
            "marker": {
             "colorbar": {
              "outlinewidth": 0,
              "ticks": ""
             }
            },
            "type": "scatterternary"
           }
          ],
          "surface": [
           {
            "colorbar": {
             "outlinewidth": 0,
             "ticks": ""
            },
            "colorscale": [
             [
              0,
              "#0d0887"
             ],
             [
              0.1111111111111111,
              "#46039f"
             ],
             [
              0.2222222222222222,
              "#7201a8"
             ],
             [
              0.3333333333333333,
              "#9c179e"
             ],
             [
              0.4444444444444444,
              "#bd3786"
             ],
             [
              0.5555555555555556,
              "#d8576b"
             ],
             [
              0.6666666666666666,
              "#ed7953"
             ],
             [
              0.7777777777777778,
              "#fb9f3a"
             ],
             [
              0.8888888888888888,
              "#fdca26"
             ],
             [
              1,
              "#f0f921"
             ]
            ],
            "type": "surface"
           }
          ],
          "table": [
           {
            "cells": {
             "fill": {
              "color": "#EBF0F8"
             },
             "line": {
              "color": "white"
             }
            },
            "header": {
             "fill": {
              "color": "#C8D4E3"
             },
             "line": {
              "color": "white"
             }
            },
            "type": "table"
           }
          ]
         },
         "layout": {
          "annotationdefaults": {
           "arrowcolor": "#2a3f5f",
           "arrowhead": 0,
           "arrowwidth": 1
          },
          "autotypenumbers": "strict",
          "coloraxis": {
           "colorbar": {
            "outlinewidth": 0,
            "ticks": ""
           }
          },
          "colorscale": {
           "diverging": [
            [
             0,
             "#8e0152"
            ],
            [
             0.1,
             "#c51b7d"
            ],
            [
             0.2,
             "#de77ae"
            ],
            [
             0.3,
             "#f1b6da"
            ],
            [
             0.4,
             "#fde0ef"
            ],
            [
             0.5,
             "#f7f7f7"
            ],
            [
             0.6,
             "#e6f5d0"
            ],
            [
             0.7,
             "#b8e186"
            ],
            [
             0.8,
             "#7fbc41"
            ],
            [
             0.9,
             "#4d9221"
            ],
            [
             1,
             "#276419"
            ]
           ],
           "sequential": [
            [
             0,
             "#0d0887"
            ],
            [
             0.1111111111111111,
             "#46039f"
            ],
            [
             0.2222222222222222,
             "#7201a8"
            ],
            [
             0.3333333333333333,
             "#9c179e"
            ],
            [
             0.4444444444444444,
             "#bd3786"
            ],
            [
             0.5555555555555556,
             "#d8576b"
            ],
            [
             0.6666666666666666,
             "#ed7953"
            ],
            [
             0.7777777777777778,
             "#fb9f3a"
            ],
            [
             0.8888888888888888,
             "#fdca26"
            ],
            [
             1,
             "#f0f921"
            ]
           ],
           "sequentialminus": [
            [
             0,
             "#0d0887"
            ],
            [
             0.1111111111111111,
             "#46039f"
            ],
            [
             0.2222222222222222,
             "#7201a8"
            ],
            [
             0.3333333333333333,
             "#9c179e"
            ],
            [
             0.4444444444444444,
             "#bd3786"
            ],
            [
             0.5555555555555556,
             "#d8576b"
            ],
            [
             0.6666666666666666,
             "#ed7953"
            ],
            [
             0.7777777777777778,
             "#fb9f3a"
            ],
            [
             0.8888888888888888,
             "#fdca26"
            ],
            [
             1,
             "#f0f921"
            ]
           ]
          },
          "colorway": [
           "#636efa",
           "#EF553B",
           "#00cc96",
           "#ab63fa",
           "#FFA15A",
           "#19d3f3",
           "#FF6692",
           "#B6E880",
           "#FF97FF",
           "#FECB52"
          ],
          "font": {
           "color": "#2a3f5f"
          },
          "geo": {
           "bgcolor": "white",
           "lakecolor": "white",
           "landcolor": "#E5ECF6",
           "showlakes": true,
           "showland": true,
           "subunitcolor": "white"
          },
          "hoverlabel": {
           "align": "left"
          },
          "hovermode": "closest",
          "mapbox": {
           "style": "light"
          },
          "paper_bgcolor": "white",
          "plot_bgcolor": "#E5ECF6",
          "polar": {
           "angularaxis": {
            "gridcolor": "white",
            "linecolor": "white",
            "ticks": ""
           },
           "bgcolor": "#E5ECF6",
           "radialaxis": {
            "gridcolor": "white",
            "linecolor": "white",
            "ticks": ""
           }
          },
          "scene": {
           "xaxis": {
            "backgroundcolor": "#E5ECF6",
            "gridcolor": "white",
            "gridwidth": 2,
            "linecolor": "white",
            "showbackground": true,
            "ticks": "",
            "zerolinecolor": "white"
           },
           "yaxis": {
            "backgroundcolor": "#E5ECF6",
            "gridcolor": "white",
            "gridwidth": 2,
            "linecolor": "white",
            "showbackground": true,
            "ticks": "",
            "zerolinecolor": "white"
           },
           "zaxis": {
            "backgroundcolor": "#E5ECF6",
            "gridcolor": "white",
            "gridwidth": 2,
            "linecolor": "white",
            "showbackground": true,
            "ticks": "",
            "zerolinecolor": "white"
           }
          },
          "shapedefaults": {
           "line": {
            "color": "#2a3f5f"
           }
          },
          "ternary": {
           "aaxis": {
            "gridcolor": "white",
            "linecolor": "white",
            "ticks": ""
           },
           "baxis": {
            "gridcolor": "white",
            "linecolor": "white",
            "ticks": ""
           },
           "bgcolor": "#E5ECF6",
           "caxis": {
            "gridcolor": "white",
            "linecolor": "white",
            "ticks": ""
           }
          },
          "title": {
           "x": 0.05
          },
          "xaxis": {
           "automargin": true,
           "gridcolor": "white",
           "linecolor": "white",
           "ticks": "",
           "title": {
            "standoff": 15
           },
           "zerolinecolor": "white",
           "zerolinewidth": 2
          },
          "yaxis": {
           "automargin": true,
           "gridcolor": "white",
           "linecolor": "white",
           "ticks": "",
           "title": {
            "standoff": 15
           },
           "zerolinecolor": "white",
           "zerolinewidth": 2
          }
         }
        },
        "title": {
         "text": "Training and validation loss"
        },
        "xaxis": {
         "anchor": "y",
         "domain": [
          0,
          1
         ],
         "title": {
          "text": "epoch"
         }
        },
        "yaxis": {
         "anchor": "x",
         "domain": [
          0,
          1
         ],
         "title": {
          "text": "loss"
         }
        }
       }
      }
     },
     "metadata": {},
     "output_type": "display_data"
    }
   ],
   "source": [
    "px.line(\n",
    "    history.history,\n",
    "    y=['loss', 'val_loss'],\n",
    "    labels={'index': 'epoch', 'value': 'loss'},\n",
    "    title='Training and validation loss'\n",
    ")"
   ]
  },
  {
   "cell_type": "code",
   "execution_count": 13,
   "metadata": {},
   "outputs": [
    {
     "data": {
      "application/vnd.plotly.v1+json": {
       "config": {
        "plotlyServerURL": "https://plot.ly"
       },
       "data": [
        {
         "hovertemplate": "variable=accuracy<br>epoch=%{x}<br>accuracy=%{y}<extra></extra>",
         "legendgroup": "accuracy",
         "line": {
          "color": "#636efa",
          "dash": "solid"
         },
         "marker": {
          "symbol": "circle"
         },
         "mode": "lines",
         "name": "accuracy",
         "orientation": "v",
         "showlegend": true,
         "type": "scatter",
         "x": [
          0,
          1,
          2,
          3,
          4,
          5,
          6,
          7,
          8,
          9,
          10,
          11,
          12,
          13,
          14,
          15,
          16,
          17,
          18,
          19,
          20,
          21,
          22,
          23,
          24,
          25,
          26,
          27,
          28,
          29,
          30,
          31,
          32,
          33,
          34,
          35,
          36,
          37,
          38,
          39,
          40,
          41,
          42,
          43,
          44,
          45,
          46,
          47,
          48,
          49,
          50,
          51,
          52,
          53,
          54,
          55,
          56,
          57
         ],
         "xaxis": "x",
         "y": [
          0.568965494632721,
          0.43103447556495667,
          0.6465517282485962,
          0.6034482717514038,
          0.6034482717514038,
          0.6034482717514038,
          0.6034482717514038,
          0.6034482717514038,
          0.6034482717514038,
          0.6034482717514038,
          0.6034482717514038,
          0.6034482717514038,
          0.6034482717514038,
          0.6034482717514038,
          0.6034482717514038,
          0.6034482717514038,
          0.6293103694915771,
          0.6034482717514038,
          0.6896551847457886,
          0.6465517282485962,
          0.8103448152542114,
          0.6724137663841248,
          0.9137930870056152,
          0.931034505367279,
          0.8965517282485962,
          0.9396551847457886,
          0.9568965435028076,
          0.9568965435028076,
          0.9655172228813171,
          0.9482758641242981,
          0.982758641242981,
          0.9655172228813171,
          0.9741379022598267,
          0.9655172228813171,
          0.9655172228813171,
          0.9655172228813171,
          0.982758641242981,
          0.982758641242981,
          0.982758641242981,
          0.9913793206214905,
          0.982758641242981,
          0.9913793206214905,
          0.9913793206214905,
          1,
          0.9913793206214905,
          0.9913793206214905,
          0.9913793206214905,
          0.9913793206214905,
          0.9913793206214905,
          0.9913793206214905,
          1,
          1,
          1,
          1,
          1,
          0.9913793206214905,
          1,
          0.9913793206214905
         ],
         "yaxis": "y"
        },
        {
         "hovertemplate": "variable=val_accuracy<br>epoch=%{x}<br>accuracy=%{y}<extra></extra>",
         "legendgroup": "val_accuracy",
         "line": {
          "color": "#EF553B",
          "dash": "solid"
         },
         "marker": {
          "symbol": "circle"
         },
         "mode": "lines",
         "name": "val_accuracy",
         "orientation": "v",
         "showlegend": true,
         "type": "scatter",
         "x": [
          0,
          1,
          2,
          3,
          4,
          5,
          6,
          7,
          8,
          9,
          10,
          11,
          12,
          13,
          14,
          15,
          16,
          17,
          18,
          19,
          20,
          21,
          22,
          23,
          24,
          25,
          26,
          27,
          28,
          29,
          30,
          31,
          32,
          33,
          34,
          35,
          36,
          37,
          38,
          39,
          40,
          41,
          42,
          43,
          44,
          45,
          46,
          47,
          48,
          49,
          50,
          51,
          52,
          53,
          54,
          55,
          56,
          57
         ],
         "xaxis": "x",
         "y": [
          0.19230769574642181,
          0.6282051205635071,
          0.6282051205635071,
          0.6282051205635071,
          0.6282051205635071,
          0.6282051205635071,
          0.6282051205635071,
          0.6282051205635071,
          0.6282051205635071,
          0.6282051205635071,
          0.6282051205635071,
          0.6282051205635071,
          0.6282051205635071,
          0.6282051205635071,
          0.6282051205635071,
          0.6282051205635071,
          0.6282051205635071,
          0.6282051205635071,
          0.7051281929016113,
          0.7948718070983887,
          0.692307710647583,
          0.9487179517745972,
          0.9615384340286255,
          0.8333333134651184,
          0.9615384340286255,
          0.9743589758872986,
          0.9743589758872986,
          0.9743589758872986,
          0.9615384340286255,
          0.9871794581413269,
          0.9743589758872986,
          0.9871794581413269,
          0.9743589758872986,
          0.9871794581413269,
          0.9743589758872986,
          0.9743589758872986,
          0.9871794581413269,
          0.9871794581413269,
          0.9871794581413269,
          0.9871794581413269,
          0.9871794581413269,
          0.9871794581413269,
          0.9871794581413269,
          1,
          0.9871794581413269,
          0.9871794581413269,
          1,
          0.9871794581413269,
          1,
          1,
          1,
          1,
          1,
          1,
          1,
          1,
          1,
          1
         ],
         "yaxis": "y"
        }
       ],
       "layout": {
        "legend": {
         "title": {
          "text": "variable"
         },
         "tracegroupgap": 0
        },
        "template": {
         "data": {
          "bar": [
           {
            "error_x": {
             "color": "#2a3f5f"
            },
            "error_y": {
             "color": "#2a3f5f"
            },
            "marker": {
             "line": {
              "color": "#E5ECF6",
              "width": 0.5
             },
             "pattern": {
              "fillmode": "overlay",
              "size": 10,
              "solidity": 0.2
             }
            },
            "type": "bar"
           }
          ],
          "barpolar": [
           {
            "marker": {
             "line": {
              "color": "#E5ECF6",
              "width": 0.5
             },
             "pattern": {
              "fillmode": "overlay",
              "size": 10,
              "solidity": 0.2
             }
            },
            "type": "barpolar"
           }
          ],
          "carpet": [
           {
            "aaxis": {
             "endlinecolor": "#2a3f5f",
             "gridcolor": "white",
             "linecolor": "white",
             "minorgridcolor": "white",
             "startlinecolor": "#2a3f5f"
            },
            "baxis": {
             "endlinecolor": "#2a3f5f",
             "gridcolor": "white",
             "linecolor": "white",
             "minorgridcolor": "white",
             "startlinecolor": "#2a3f5f"
            },
            "type": "carpet"
           }
          ],
          "choropleth": [
           {
            "colorbar": {
             "outlinewidth": 0,
             "ticks": ""
            },
            "type": "choropleth"
           }
          ],
          "contour": [
           {
            "colorbar": {
             "outlinewidth": 0,
             "ticks": ""
            },
            "colorscale": [
             [
              0,
              "#0d0887"
             ],
             [
              0.1111111111111111,
              "#46039f"
             ],
             [
              0.2222222222222222,
              "#7201a8"
             ],
             [
              0.3333333333333333,
              "#9c179e"
             ],
             [
              0.4444444444444444,
              "#bd3786"
             ],
             [
              0.5555555555555556,
              "#d8576b"
             ],
             [
              0.6666666666666666,
              "#ed7953"
             ],
             [
              0.7777777777777778,
              "#fb9f3a"
             ],
             [
              0.8888888888888888,
              "#fdca26"
             ],
             [
              1,
              "#f0f921"
             ]
            ],
            "type": "contour"
           }
          ],
          "contourcarpet": [
           {
            "colorbar": {
             "outlinewidth": 0,
             "ticks": ""
            },
            "type": "contourcarpet"
           }
          ],
          "heatmap": [
           {
            "colorbar": {
             "outlinewidth": 0,
             "ticks": ""
            },
            "colorscale": [
             [
              0,
              "#0d0887"
             ],
             [
              0.1111111111111111,
              "#46039f"
             ],
             [
              0.2222222222222222,
              "#7201a8"
             ],
             [
              0.3333333333333333,
              "#9c179e"
             ],
             [
              0.4444444444444444,
              "#bd3786"
             ],
             [
              0.5555555555555556,
              "#d8576b"
             ],
             [
              0.6666666666666666,
              "#ed7953"
             ],
             [
              0.7777777777777778,
              "#fb9f3a"
             ],
             [
              0.8888888888888888,
              "#fdca26"
             ],
             [
              1,
              "#f0f921"
             ]
            ],
            "type": "heatmap"
           }
          ],
          "heatmapgl": [
           {
            "colorbar": {
             "outlinewidth": 0,
             "ticks": ""
            },
            "colorscale": [
             [
              0,
              "#0d0887"
             ],
             [
              0.1111111111111111,
              "#46039f"
             ],
             [
              0.2222222222222222,
              "#7201a8"
             ],
             [
              0.3333333333333333,
              "#9c179e"
             ],
             [
              0.4444444444444444,
              "#bd3786"
             ],
             [
              0.5555555555555556,
              "#d8576b"
             ],
             [
              0.6666666666666666,
              "#ed7953"
             ],
             [
              0.7777777777777778,
              "#fb9f3a"
             ],
             [
              0.8888888888888888,
              "#fdca26"
             ],
             [
              1,
              "#f0f921"
             ]
            ],
            "type": "heatmapgl"
           }
          ],
          "histogram": [
           {
            "marker": {
             "pattern": {
              "fillmode": "overlay",
              "size": 10,
              "solidity": 0.2
             }
            },
            "type": "histogram"
           }
          ],
          "histogram2d": [
           {
            "colorbar": {
             "outlinewidth": 0,
             "ticks": ""
            },
            "colorscale": [
             [
              0,
              "#0d0887"
             ],
             [
              0.1111111111111111,
              "#46039f"
             ],
             [
              0.2222222222222222,
              "#7201a8"
             ],
             [
              0.3333333333333333,
              "#9c179e"
             ],
             [
              0.4444444444444444,
              "#bd3786"
             ],
             [
              0.5555555555555556,
              "#d8576b"
             ],
             [
              0.6666666666666666,
              "#ed7953"
             ],
             [
              0.7777777777777778,
              "#fb9f3a"
             ],
             [
              0.8888888888888888,
              "#fdca26"
             ],
             [
              1,
              "#f0f921"
             ]
            ],
            "type": "histogram2d"
           }
          ],
          "histogram2dcontour": [
           {
            "colorbar": {
             "outlinewidth": 0,
             "ticks": ""
            },
            "colorscale": [
             [
              0,
              "#0d0887"
             ],
             [
              0.1111111111111111,
              "#46039f"
             ],
             [
              0.2222222222222222,
              "#7201a8"
             ],
             [
              0.3333333333333333,
              "#9c179e"
             ],
             [
              0.4444444444444444,
              "#bd3786"
             ],
             [
              0.5555555555555556,
              "#d8576b"
             ],
             [
              0.6666666666666666,
              "#ed7953"
             ],
             [
              0.7777777777777778,
              "#fb9f3a"
             ],
             [
              0.8888888888888888,
              "#fdca26"
             ],
             [
              1,
              "#f0f921"
             ]
            ],
            "type": "histogram2dcontour"
           }
          ],
          "mesh3d": [
           {
            "colorbar": {
             "outlinewidth": 0,
             "ticks": ""
            },
            "type": "mesh3d"
           }
          ],
          "parcoords": [
           {
            "line": {
             "colorbar": {
              "outlinewidth": 0,
              "ticks": ""
             }
            },
            "type": "parcoords"
           }
          ],
          "pie": [
           {
            "automargin": true,
            "type": "pie"
           }
          ],
          "scatter": [
           {
            "fillpattern": {
             "fillmode": "overlay",
             "size": 10,
             "solidity": 0.2
            },
            "type": "scatter"
           }
          ],
          "scatter3d": [
           {
            "line": {
             "colorbar": {
              "outlinewidth": 0,
              "ticks": ""
             }
            },
            "marker": {
             "colorbar": {
              "outlinewidth": 0,
              "ticks": ""
             }
            },
            "type": "scatter3d"
           }
          ],
          "scattercarpet": [
           {
            "marker": {
             "colorbar": {
              "outlinewidth": 0,
              "ticks": ""
             }
            },
            "type": "scattercarpet"
           }
          ],
          "scattergeo": [
           {
            "marker": {
             "colorbar": {
              "outlinewidth": 0,
              "ticks": ""
             }
            },
            "type": "scattergeo"
           }
          ],
          "scattergl": [
           {
            "marker": {
             "colorbar": {
              "outlinewidth": 0,
              "ticks": ""
             }
            },
            "type": "scattergl"
           }
          ],
          "scattermapbox": [
           {
            "marker": {
             "colorbar": {
              "outlinewidth": 0,
              "ticks": ""
             }
            },
            "type": "scattermapbox"
           }
          ],
          "scatterpolar": [
           {
            "marker": {
             "colorbar": {
              "outlinewidth": 0,
              "ticks": ""
             }
            },
            "type": "scatterpolar"
           }
          ],
          "scatterpolargl": [
           {
            "marker": {
             "colorbar": {
              "outlinewidth": 0,
              "ticks": ""
             }
            },
            "type": "scatterpolargl"
           }
          ],
          "scatterternary": [
           {
            "marker": {
             "colorbar": {
              "outlinewidth": 0,
              "ticks": ""
             }
            },
            "type": "scatterternary"
           }
          ],
          "surface": [
           {
            "colorbar": {
             "outlinewidth": 0,
             "ticks": ""
            },
            "colorscale": [
             [
              0,
              "#0d0887"
             ],
             [
              0.1111111111111111,
              "#46039f"
             ],
             [
              0.2222222222222222,
              "#7201a8"
             ],
             [
              0.3333333333333333,
              "#9c179e"
             ],
             [
              0.4444444444444444,
              "#bd3786"
             ],
             [
              0.5555555555555556,
              "#d8576b"
             ],
             [
              0.6666666666666666,
              "#ed7953"
             ],
             [
              0.7777777777777778,
              "#fb9f3a"
             ],
             [
              0.8888888888888888,
              "#fdca26"
             ],
             [
              1,
              "#f0f921"
             ]
            ],
            "type": "surface"
           }
          ],
          "table": [
           {
            "cells": {
             "fill": {
              "color": "#EBF0F8"
             },
             "line": {
              "color": "white"
             }
            },
            "header": {
             "fill": {
              "color": "#C8D4E3"
             },
             "line": {
              "color": "white"
             }
            },
            "type": "table"
           }
          ]
         },
         "layout": {
          "annotationdefaults": {
           "arrowcolor": "#2a3f5f",
           "arrowhead": 0,
           "arrowwidth": 1
          },
          "autotypenumbers": "strict",
          "coloraxis": {
           "colorbar": {
            "outlinewidth": 0,
            "ticks": ""
           }
          },
          "colorscale": {
           "diverging": [
            [
             0,
             "#8e0152"
            ],
            [
             0.1,
             "#c51b7d"
            ],
            [
             0.2,
             "#de77ae"
            ],
            [
             0.3,
             "#f1b6da"
            ],
            [
             0.4,
             "#fde0ef"
            ],
            [
             0.5,
             "#f7f7f7"
            ],
            [
             0.6,
             "#e6f5d0"
            ],
            [
             0.7,
             "#b8e186"
            ],
            [
             0.8,
             "#7fbc41"
            ],
            [
             0.9,
             "#4d9221"
            ],
            [
             1,
             "#276419"
            ]
           ],
           "sequential": [
            [
             0,
             "#0d0887"
            ],
            [
             0.1111111111111111,
             "#46039f"
            ],
            [
             0.2222222222222222,
             "#7201a8"
            ],
            [
             0.3333333333333333,
             "#9c179e"
            ],
            [
             0.4444444444444444,
             "#bd3786"
            ],
            [
             0.5555555555555556,
             "#d8576b"
            ],
            [
             0.6666666666666666,
             "#ed7953"
            ],
            [
             0.7777777777777778,
             "#fb9f3a"
            ],
            [
             0.8888888888888888,
             "#fdca26"
            ],
            [
             1,
             "#f0f921"
            ]
           ],
           "sequentialminus": [
            [
             0,
             "#0d0887"
            ],
            [
             0.1111111111111111,
             "#46039f"
            ],
            [
             0.2222222222222222,
             "#7201a8"
            ],
            [
             0.3333333333333333,
             "#9c179e"
            ],
            [
             0.4444444444444444,
             "#bd3786"
            ],
            [
             0.5555555555555556,
             "#d8576b"
            ],
            [
             0.6666666666666666,
             "#ed7953"
            ],
            [
             0.7777777777777778,
             "#fb9f3a"
            ],
            [
             0.8888888888888888,
             "#fdca26"
            ],
            [
             1,
             "#f0f921"
            ]
           ]
          },
          "colorway": [
           "#636efa",
           "#EF553B",
           "#00cc96",
           "#ab63fa",
           "#FFA15A",
           "#19d3f3",
           "#FF6692",
           "#B6E880",
           "#FF97FF",
           "#FECB52"
          ],
          "font": {
           "color": "#2a3f5f"
          },
          "geo": {
           "bgcolor": "white",
           "lakecolor": "white",
           "landcolor": "#E5ECF6",
           "showlakes": true,
           "showland": true,
           "subunitcolor": "white"
          },
          "hoverlabel": {
           "align": "left"
          },
          "hovermode": "closest",
          "mapbox": {
           "style": "light"
          },
          "paper_bgcolor": "white",
          "plot_bgcolor": "#E5ECF6",
          "polar": {
           "angularaxis": {
            "gridcolor": "white",
            "linecolor": "white",
            "ticks": ""
           },
           "bgcolor": "#E5ECF6",
           "radialaxis": {
            "gridcolor": "white",
            "linecolor": "white",
            "ticks": ""
           }
          },
          "scene": {
           "xaxis": {
            "backgroundcolor": "#E5ECF6",
            "gridcolor": "white",
            "gridwidth": 2,
            "linecolor": "white",
            "showbackground": true,
            "ticks": "",
            "zerolinecolor": "white"
           },
           "yaxis": {
            "backgroundcolor": "#E5ECF6",
            "gridcolor": "white",
            "gridwidth": 2,
            "linecolor": "white",
            "showbackground": true,
            "ticks": "",
            "zerolinecolor": "white"
           },
           "zaxis": {
            "backgroundcolor": "#E5ECF6",
            "gridcolor": "white",
            "gridwidth": 2,
            "linecolor": "white",
            "showbackground": true,
            "ticks": "",
            "zerolinecolor": "white"
           }
          },
          "shapedefaults": {
           "line": {
            "color": "#2a3f5f"
           }
          },
          "ternary": {
           "aaxis": {
            "gridcolor": "white",
            "linecolor": "white",
            "ticks": ""
           },
           "baxis": {
            "gridcolor": "white",
            "linecolor": "white",
            "ticks": ""
           },
           "bgcolor": "#E5ECF6",
           "caxis": {
            "gridcolor": "white",
            "linecolor": "white",
            "ticks": ""
           }
          },
          "title": {
           "x": 0.05
          },
          "xaxis": {
           "automargin": true,
           "gridcolor": "white",
           "linecolor": "white",
           "ticks": "",
           "title": {
            "standoff": 15
           },
           "zerolinecolor": "white",
           "zerolinewidth": 2
          },
          "yaxis": {
           "automargin": true,
           "gridcolor": "white",
           "linecolor": "white",
           "ticks": "",
           "title": {
            "standoff": 15
           },
           "zerolinecolor": "white",
           "zerolinewidth": 2
          }
         }
        },
        "title": {
         "text": "Training and validation accuracy"
        },
        "xaxis": {
         "anchor": "y",
         "domain": [
          0,
          1
         ],
         "title": {
          "text": "epoch"
         }
        },
        "yaxis": {
         "anchor": "x",
         "domain": [
          0,
          1
         ],
         "title": {
          "text": "accuracy"
         }
        }
       }
      }
     },
     "metadata": {},
     "output_type": "display_data"
    }
   ],
   "source": [
    "px.line(\n",
    "    history.history,\n",
    "    y=['accuracy', 'val_accuracy'],\n",
    "    labels={'index': 'epoch', 'value': 'accuracy'},\n",
    "    title='Training and validation accuracy'\n",
    ")"
   ]
  },
  {
   "cell_type": "code",
   "execution_count": null,
   "metadata": {},
   "outputs": [],
   "source": []
  }
 ],
 "metadata": {
  "kernelspec": {
   "display_name": "Python 3",
   "language": "python",
   "name": "python3"
  },
  "language_info": {
   "codemirror_mode": {
    "name": "ipython",
    "version": 3
   },
   "file_extension": ".py",
   "mimetype": "text/x-python",
   "name": "python",
   "nbconvert_exporter": "python",
   "pygments_lexer": "ipython3",
   "version": "3.11.1"
  }
 },
 "nbformat": 4,
 "nbformat_minor": 2
}
